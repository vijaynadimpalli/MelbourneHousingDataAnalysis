{
  "nbformat": 4,
  "nbformat_minor": 0,
  "metadata": {
    "colab": {
      "name": "MelbourneDataAnalysisNEW.ipynb",
      "provenance": [],
      "collapsed_sections": [],
      "mount_file_id": "1NBt8yxApe3xymkWaAMzZL6ueRiyn53K6",
      "authorship_tag": "ABX9TyOZue3AzxY8XmZQPjJgjfTm",
      "include_colab_link": true
    },
    "kernelspec": {
      "name": "python3",
      "display_name": "Python 3"
    }
  },
  "cells": [
    {
      "cell_type": "markdown",
      "metadata": {
        "id": "view-in-github",
        "colab_type": "text"
      },
      "source": [
        "<a href=\"https://colab.research.google.com/github/vijaynadimpalli/MelbourneHousingDataAnalysis/blob/main/MelbourneDataAnalysisNEW.ipynb\" target=\"_parent\"><img src=\"https://colab.research.google.com/assets/colab-badge.svg\" alt=\"Open In Colab\"/></a>"
      ]
    },
    {
      "cell_type": "code",
      "metadata": {
        "id": "wXdOkoleOkE4"
      },
      "source": [
        "import pandas as pd\n",
        "import numpy as np\n",
        "import matplotlib.pyplot as plt\n",
        "import seaborn as sns\n",
        "import zipfile\n",
        "from tensorflow import keras\n",
        "%matplotlib inline"
      ],
      "execution_count": null,
      "outputs": []
    },
    {
      "cell_type": "code",
      "metadata": {
        "id": "luXYJslLOt28"
      },
      "source": [
        "# from google.colab import drive\n",
        "# drive.mount('/content/drive')"
      ],
      "execution_count": null,
      "outputs": []
    },
    {
      "cell_type": "code",
      "metadata": {
        "id": "ofg7BQBMOz54"
      },
      "source": [
        "zip = zipfile.ZipFile('/content/drive/My Drive/NEW_DATASCIENCE_PROJECTS/Udemy Data Science & ML/TensorFlow_FILES.zip')\n",
        "zip.extractall()\n",
        "df = pd.read_csv('/content/TensorFlow_FILES/DATA/melb_data.csv')\n",
        "pd.set_option('display.max_columns',500)"
      ],
      "execution_count": null,
      "outputs": []
    },
    {
      "cell_type": "code",
      "metadata": {
        "id": "nxkeDnlYO08B",
        "outputId": "73d33c07-d84e-4090-c9c2-5c3f95b29f30",
        "colab": {
          "base_uri": "https://localhost:8080/"
        }
      },
      "source": [
        "df.info()"
      ],
      "execution_count": null,
      "outputs": [
        {
          "output_type": "stream",
          "text": [
            "<class 'pandas.core.frame.DataFrame'>\n",
            "RangeIndex: 13580 entries, 0 to 13579\n",
            "Data columns (total 21 columns):\n",
            " #   Column         Non-Null Count  Dtype  \n",
            "---  ------         --------------  -----  \n",
            " 0   Suburb         13580 non-null  object \n",
            " 1   Address        13580 non-null  object \n",
            " 2   Rooms          13580 non-null  int64  \n",
            " 3   Type           13580 non-null  object \n",
            " 4   Price          13580 non-null  float64\n",
            " 5   Method         13580 non-null  object \n",
            " 6   SellerG        13580 non-null  object \n",
            " 7   Date           13580 non-null  object \n",
            " 8   Distance       13580 non-null  float64\n",
            " 9   Postcode       13580 non-null  float64\n",
            " 10  Bedroom2       13580 non-null  float64\n",
            " 11  Bathroom       13580 non-null  float64\n",
            " 12  Car            13518 non-null  float64\n",
            " 13  Landsize       13580 non-null  float64\n",
            " 14  BuildingArea   7130 non-null   float64\n",
            " 15  YearBuilt      8205 non-null   float64\n",
            " 16  CouncilArea    12211 non-null  object \n",
            " 17  Lattitude      13580 non-null  float64\n",
            " 18  Longtitude     13580 non-null  float64\n",
            " 19  Regionname     13580 non-null  object \n",
            " 20  Propertycount  13580 non-null  float64\n",
            "dtypes: float64(12), int64(1), object(8)\n",
            "memory usage: 2.2+ MB\n"
          ],
          "name": "stdout"
        }
      ]
    },
    {
      "cell_type": "code",
      "metadata": {
        "id": "RYVLQfWjf9sL",
        "outputId": "d77aafd5-0736-4adf-e4cd-4808bb919e5b",
        "colab": {
          "base_uri": "https://localhost:8080/"
        }
      },
      "source": [
        "df.isna().sum()"
      ],
      "execution_count": null,
      "outputs": [
        {
          "output_type": "execute_result",
          "data": {
            "text/plain": [
              "Suburb              0\n",
              "Address             0\n",
              "Rooms               0\n",
              "Type                0\n",
              "Price               0\n",
              "Method              0\n",
              "SellerG             0\n",
              "Date                0\n",
              "Distance            0\n",
              "Postcode            0\n",
              "Bedroom2            0\n",
              "Bathroom            0\n",
              "Car                62\n",
              "Landsize            0\n",
              "BuildingArea     6450\n",
              "YearBuilt        5375\n",
              "CouncilArea      1369\n",
              "Lattitude           0\n",
              "Longtitude          0\n",
              "Regionname          0\n",
              "Propertycount       0\n",
              "dtype: int64"
            ]
          },
          "metadata": {
            "tags": []
          },
          "execution_count": 7
        }
      ]
    },
    {
      "cell_type": "code",
      "metadata": {
        "id": "YB_6AjOSbroc"
      },
      "source": [
        "df.drop(['Suburb','Address','CouncilArea','SellerG'],axis=1,inplace=True)"
      ],
      "execution_count": null,
      "outputs": []
    },
    {
      "cell_type": "code",
      "metadata": {
        "id": "ryUEPai_egQZ"
      },
      "source": [
        "df['Price'] = df['Price'].apply(np.log)"
      ],
      "execution_count": null,
      "outputs": []
    },
    {
      "cell_type": "code",
      "metadata": {
        "id": "6bwhxYLdchQj",
        "outputId": "7ad4ce06-1527-496f-bc02-e0a27a5bbdc7",
        "colab": {
          "base_uri": "https://localhost:8080/",
          "height": 458
        }
      },
      "source": [
        "#Figuring out percentiles on the price dist\n",
        "plt.figure(figsize=(10,6))\n",
        "ax = sns.distplot(df['Price'],bins=70)\n",
        "percentile_95 = df['Price'].sort_values().reset_index(drop=True).iloc[int(df['Price'].shape[0]*0.95)]\n",
        "percentile_99 = df['Price'].sort_values().reset_index(drop=True).iloc[int(df['Price'].shape[0]*0.99)]\n",
        "percentile_01 = df['Price'].sort_values().reset_index(drop=True).iloc[int(df['Price'].shape[0]*0.01)]\n",
        "\n",
        "sns.scatterplot(ax=ax,x=[percentile_95,percentile_99],y=[0,0],s=1000, color=\".1\", marker=\"|\")\n",
        "ax.text(percentile_95,0,s=\"0.95\",fontsize=10)\n",
        "ax.text(percentile_99,0,s=\"0.99\",fontsize=10)\n",
        "ax.text(percentile_01,0,s=\"0.01\",fontsize=10)"
      ],
      "execution_count": null,
      "outputs": [
        {
          "output_type": "stream",
          "text": [
            "/usr/local/lib/python3.6/dist-packages/seaborn/distributions.py:2551: FutureWarning: `distplot` is a deprecated function and will be removed in a future version. Please adapt your code to use either `displot` (a figure-level function with similar flexibility) or `histplot` (an axes-level function for histograms).\n",
            "  warnings.warn(msg, FutureWarning)\n"
          ],
          "name": "stderr"
        },
        {
          "output_type": "execute_result",
          "data": {
            "text/plain": [
              "Text(12.611537753638338, 0, '0.01')"
            ]
          },
          "metadata": {
            "tags": []
          },
          "execution_count": 10
        },
        {
          "output_type": "display_data",
          "data": {
            "image/png": "[encoded data removed]",
            "text/plain": [
              "<Figure size 720x432 with 1 Axes>"
            ]
          },
          "metadata": {
            "tags": [],
            "needs_background": "light"
          }
        }
      ]
    },
    {
      "cell_type": "code",
      "metadata": {
        "id": "c5etMnl_esst"
      },
      "source": [
        "# #removing the top 1% of data\n",
        "# df.sort_values(by='Price',inplace=True)\n",
        "# df.reset_index(drop=True,inplace=True)\n",
        "# df = df[(df['Price']>percentile_01) & (df['Price']<=percentile_99)]\n",
        "# df.reset_index(drop=True,inplace=True)\n",
        "# df"
      ],
      "execution_count": null,
      "outputs": []
    },
    {
      "cell_type": "code",
      "metadata": {
        "id": "DzapXex-cku7"
      },
      "source": [
        "#look into converting data to logarithmic.....\n",
        "\n",
        "#this dataset is very different to the one in kaggle\n",
        "\n",
        "#maybe first do the steps on this and add the other data later"
      ],
      "execution_count": null,
      "outputs": []
    },
    {
      "cell_type": "code",
      "metadata": {
        "id": "YQbxWPBZjE1F",
        "outputId": "56beee91-992e-49f4-c72a-1f4885a233f5",
        "colab": {
          "base_uri": "https://localhost:8080/"
        }
      },
      "source": [
        "df['Car'].value_counts()"
      ],
      "execution_count": null,
      "outputs": [
        {
          "output_type": "execute_result",
          "data": {
            "text/plain": [
              "2.0     5591\n",
              "1.0     5509\n",
              "0.0     1026\n",
              "3.0      748\n",
              "4.0      506\n",
              "5.0       63\n",
              "6.0       54\n",
              "8.0        9\n",
              "7.0        8\n",
              "10.0       3\n",
              "9.0        1\n",
              "Name: Car, dtype: int64"
            ]
          },
          "metadata": {
            "tags": []
          },
          "execution_count": 13
        }
      ]
    },
    {
      "cell_type": "code",
      "metadata": {
        "id": "5jsNa6cXjFp6",
        "outputId": "1961cec9-459d-44ad-b38a-8997ecf2b859",
        "colab": {
          "base_uri": "https://localhost:8080/",
          "height": 452
        }
      },
      "source": [
        "df.corr()"
      ],
      "execution_count": null,
      "outputs": [
        {
          "output_type": "execute_result",
          "data": {
            "text/html": [
              "<div>\n",
              "<style scoped>\n",
              "    .dataframe tbody tr th:only-of-type {\n",
              "        vertical-align: middle;\n",
              "    }\n",
              "\n",
              "    .dataframe tbody tr th {\n",
              "        vertical-align: top;\n",
              "    }\n",
              "\n",
              "    .dataframe thead th {\n",
              "        text-align: right;\n",
              "    }\n",
              "</style>\n",
              "<table border=\"1\" class=\"dataframe\">\n",
              "  <thead>\n",
              "    <tr style=\"text-align: right;\">\n",
              "      <th></th>\n",
              "      <th>Rooms</th>\n",
              "      <th>Price</th>\n",
              "      <th>Distance</th>\n",
              "      <th>Postcode</th>\n",
              "      <th>Bedroom2</th>\n",
              "      <th>Bathroom</th>\n",
              "      <th>Car</th>\n",
              "      <th>Landsize</th>\n",
              "      <th>BuildingArea</th>\n",
              "      <th>YearBuilt</th>\n",
              "      <th>Lattitude</th>\n",
              "      <th>Longtitude</th>\n",
              "      <th>Propertycount</th>\n",
              "    </tr>\n",
              "  </thead>\n",
              "  <tbody>\n",
              "    <tr>\n",
              "      <th>Rooms</th>\n",
              "      <td>1.000000</td>\n",
              "      <td>0.559824</td>\n",
              "      <td>0.294203</td>\n",
              "      <td>0.055303</td>\n",
              "      <td>0.944190</td>\n",
              "      <td>0.592934</td>\n",
              "      <td>0.408483</td>\n",
              "      <td>0.025678</td>\n",
              "      <td>0.124127</td>\n",
              "      <td>-0.065413</td>\n",
              "      <td>0.015948</td>\n",
              "      <td>0.100771</td>\n",
              "      <td>-0.081530</td>\n",
              "    </tr>\n",
              "    <tr>\n",
              "      <th>Price</th>\n",
              "      <td>0.559824</td>\n",
              "      <td>1.000000</td>\n",
              "      <td>-0.153938</td>\n",
              "      <td>0.092621</td>\n",
              "      <td>0.536716</td>\n",
              "      <td>0.455706</td>\n",
              "      <td>0.256591</td>\n",
              "      <td>0.033582</td>\n",
              "      <td>0.096447</td>\n",
              "      <td>-0.361881</td>\n",
              "      <td>-0.224606</td>\n",
              "      <td>0.240917</td>\n",
              "      <td>-0.063999</td>\n",
              "    </tr>\n",
              "    <tr>\n",
              "      <th>Distance</th>\n",
              "      <td>0.294203</td>\n",
              "      <td>-0.153938</td>\n",
              "      <td>1.000000</td>\n",
              "      <td>0.431514</td>\n",
              "      <td>0.295927</td>\n",
              "      <td>0.127155</td>\n",
              "      <td>0.262994</td>\n",
              "      <td>0.025004</td>\n",
              "      <td>0.099481</td>\n",
              "      <td>0.246379</td>\n",
              "      <td>-0.130723</td>\n",
              "      <td>0.239425</td>\n",
              "      <td>-0.054910</td>\n",
              "    </tr>\n",
              "    <tr>\n",
              "      <th>Postcode</th>\n",
              "      <td>0.055303</td>\n",
              "      <td>0.092621</td>\n",
              "      <td>0.431514</td>\n",
              "      <td>1.000000</td>\n",
              "      <td>0.060584</td>\n",
              "      <td>0.113664</td>\n",
              "      <td>0.050289</td>\n",
              "      <td>0.024558</td>\n",
              "      <td>0.055475</td>\n",
              "      <td>0.032863</td>\n",
              "      <td>-0.406104</td>\n",
              "      <td>0.445357</td>\n",
              "      <td>0.062304</td>\n",
              "    </tr>\n",
              "    <tr>\n",
              "      <th>Bedroom2</th>\n",
              "      <td>0.944190</td>\n",
              "      <td>0.536716</td>\n",
              "      <td>0.295927</td>\n",
              "      <td>0.060584</td>\n",
              "      <td>1.000000</td>\n",
              "      <td>0.584685</td>\n",
              "      <td>0.405325</td>\n",
              "      <td>0.025646</td>\n",
              "      <td>0.122319</td>\n",
              "      <td>-0.053319</td>\n",
              "      <td>0.015925</td>\n",
              "      <td>0.102238</td>\n",
              "      <td>-0.081350</td>\n",
              "    </tr>\n",
              "    <tr>\n",
              "      <th>Bathroom</th>\n",
              "      <td>0.592934</td>\n",
              "      <td>0.455706</td>\n",
              "      <td>0.127155</td>\n",
              "      <td>0.113664</td>\n",
              "      <td>0.584685</td>\n",
              "      <td>1.000000</td>\n",
              "      <td>0.322246</td>\n",
              "      <td>0.037130</td>\n",
              "      <td>0.111933</td>\n",
              "      <td>0.152702</td>\n",
              "      <td>-0.070594</td>\n",
              "      <td>0.118971</td>\n",
              "      <td>-0.052201</td>\n",
              "    </tr>\n",
              "    <tr>\n",
              "      <th>Car</th>\n",
              "      <td>0.408483</td>\n",
              "      <td>0.256591</td>\n",
              "      <td>0.262994</td>\n",
              "      <td>0.050289</td>\n",
              "      <td>0.405325</td>\n",
              "      <td>0.322246</td>\n",
              "      <td>1.000000</td>\n",
              "      <td>0.026770</td>\n",
              "      <td>0.096101</td>\n",
              "      <td>0.104515</td>\n",
              "      <td>-0.001963</td>\n",
              "      <td>0.063395</td>\n",
              "      <td>-0.024295</td>\n",
              "    </tr>\n",
              "    <tr>\n",
              "      <th>Landsize</th>\n",
              "      <td>0.025678</td>\n",
              "      <td>0.033582</td>\n",
              "      <td>0.025004</td>\n",
              "      <td>0.024558</td>\n",
              "      <td>0.025646</td>\n",
              "      <td>0.037130</td>\n",
              "      <td>0.026770</td>\n",
              "      <td>1.000000</td>\n",
              "      <td>0.500485</td>\n",
              "      <td>0.036451</td>\n",
              "      <td>0.009695</td>\n",
              "      <td>0.010833</td>\n",
              "      <td>-0.006854</td>\n",
              "    </tr>\n",
              "    <tr>\n",
              "      <th>BuildingArea</th>\n",
              "      <td>0.124127</td>\n",
              "      <td>0.096447</td>\n",
              "      <td>0.099481</td>\n",
              "      <td>0.055475</td>\n",
              "      <td>0.122319</td>\n",
              "      <td>0.111933</td>\n",
              "      <td>0.096101</td>\n",
              "      <td>0.500485</td>\n",
              "      <td>1.000000</td>\n",
              "      <td>0.019665</td>\n",
              "      <td>0.043420</td>\n",
              "      <td>-0.023810</td>\n",
              "      <td>-0.028840</td>\n",
              "    </tr>\n",
              "    <tr>\n",
              "      <th>YearBuilt</th>\n",
              "      <td>-0.065413</td>\n",
              "      <td>-0.361881</td>\n",
              "      <td>0.246379</td>\n",
              "      <td>0.032863</td>\n",
              "      <td>-0.053319</td>\n",
              "      <td>0.152702</td>\n",
              "      <td>0.104515</td>\n",
              "      <td>0.036451</td>\n",
              "      <td>0.019665</td>\n",
              "      <td>1.000000</td>\n",
              "      <td>0.060445</td>\n",
              "      <td>-0.003470</td>\n",
              "      <td>0.006361</td>\n",
              "    </tr>\n",
              "    <tr>\n",
              "      <th>Lattitude</th>\n",
              "      <td>0.015948</td>\n",
              "      <td>-0.224606</td>\n",
              "      <td>-0.130723</td>\n",
              "      <td>-0.406104</td>\n",
              "      <td>0.015925</td>\n",
              "      <td>-0.070594</td>\n",
              "      <td>-0.001963</td>\n",
              "      <td>0.009695</td>\n",
              "      <td>0.043420</td>\n",
              "      <td>0.060445</td>\n",
              "      <td>1.000000</td>\n",
              "      <td>-0.357634</td>\n",
              "      <td>0.047086</td>\n",
              "    </tr>\n",
              "    <tr>\n",
              "      <th>Longtitude</th>\n",
              "      <td>0.100771</td>\n",
              "      <td>0.240917</td>\n",
              "      <td>0.239425</td>\n",
              "      <td>0.445357</td>\n",
              "      <td>0.102238</td>\n",
              "      <td>0.118971</td>\n",
              "      <td>0.063395</td>\n",
              "      <td>0.010833</td>\n",
              "      <td>-0.023810</td>\n",
              "      <td>-0.003470</td>\n",
              "      <td>-0.357634</td>\n",
              "      <td>1.000000</td>\n",
              "      <td>0.065988</td>\n",
              "    </tr>\n",
              "    <tr>\n",
              "      <th>Propertycount</th>\n",
              "      <td>-0.081530</td>\n",
              "      <td>-0.063999</td>\n",
              "      <td>-0.054910</td>\n",
              "      <td>0.062304</td>\n",
              "      <td>-0.081350</td>\n",
              "      <td>-0.052201</td>\n",
              "      <td>-0.024295</td>\n",
              "      <td>-0.006854</td>\n",
              "      <td>-0.028840</td>\n",
              "      <td>0.006361</td>\n",
              "      <td>0.047086</td>\n",
              "      <td>0.065988</td>\n",
              "      <td>1.000000</td>\n",
              "    </tr>\n",
              "  </tbody>\n",
              "</table>\n",
              "</div>"
            ],
            "text/plain": [
              "                  Rooms     Price  Distance  Postcode  Bedroom2  Bathroom  \\\n",
              "Rooms          1.000000  0.559824  0.294203  0.055303  0.944190  0.592934   \n",
              "Price          0.559824  1.000000 -0.153938  0.092621  0.536716  0.455706   \n",
              "Distance       0.294203 -0.153938  1.000000  0.431514  0.295927  0.127155   \n",
              "Postcode       0.055303  0.092621  0.431514  1.000000  0.060584  0.113664   \n",
              "Bedroom2       0.944190  0.536716  0.295927  0.060584  1.000000  0.584685   \n",
              "Bathroom       0.592934  0.455706  0.127155  0.113664  0.584685  1.000000   \n",
              "Car            0.408483  0.256591  0.262994  0.050289  0.405325  0.322246   \n",
              "Landsize       0.025678  0.033582  0.025004  0.024558  0.025646  0.037130   \n",
              "BuildingArea   0.124127  0.096447  0.099481  0.055475  0.122319  0.111933   \n",
              "YearBuilt     -0.065413 -0.361881  0.246379  0.032863 -0.053319  0.152702   \n",
              "Lattitude      0.015948 -0.224606 -0.130723 -0.406104  0.015925 -0.070594   \n",
              "Longtitude     0.100771  0.240917  0.239425  0.445357  0.102238  0.118971   \n",
              "Propertycount -0.081530 -0.063999 -0.054910  0.062304 -0.081350 -0.052201   \n",
              "\n",
              "                    Car  Landsize  BuildingArea  YearBuilt  Lattitude  \\\n",
              "Rooms          0.408483  0.025678      0.124127  -0.065413   0.015948   \n",
              "Price          0.256591  0.033582      0.096447  -0.361881  -0.224606   \n",
              "Distance       0.262994  0.025004      0.099481   0.246379  -0.130723   \n",
              "Postcode       0.050289  0.024558      0.055475   0.032863  -0.406104   \n",
              "Bedroom2       0.405325  0.025646      0.122319  -0.053319   0.015925   \n",
              "Bathroom       0.322246  0.037130      0.111933   0.152702  -0.070594   \n",
              "Car            1.000000  0.026770      0.096101   0.104515  -0.001963   \n",
              "Landsize       0.026770  1.000000      0.500485   0.036451   0.009695   \n",
              "BuildingArea   0.096101  0.500485      1.000000   0.019665   0.043420   \n",
              "YearBuilt      0.104515  0.036451      0.019665   1.000000   0.060445   \n",
              "Lattitude     -0.001963  0.009695      0.043420   0.060445   1.000000   \n",
              "Longtitude     0.063395  0.010833     -0.023810  -0.003470  -0.357634   \n",
              "Propertycount -0.024295 -0.006854     -0.028840   0.006361   0.047086   \n",
              "\n",
              "               Longtitude  Propertycount  \n",
              "Rooms            0.100771      -0.081530  \n",
              "Price            0.240917      -0.063999  \n",
              "Distance         0.239425      -0.054910  \n",
              "Postcode         0.445357       0.062304  \n",
              "Bedroom2         0.102238      -0.081350  \n",
              "Bathroom         0.118971      -0.052201  \n",
              "Car              0.063395      -0.024295  \n",
              "Landsize         0.010833      -0.006854  \n",
              "BuildingArea    -0.023810      -0.028840  \n",
              "YearBuilt       -0.003470       0.006361  \n",
              "Lattitude       -0.357634       0.047086  \n",
              "Longtitude       1.000000       0.065988  \n",
              "Propertycount    0.065988       1.000000  "
            ]
          },
          "metadata": {
            "tags": []
          },
          "execution_count": 14
        }
      ]
    },
    {
      "cell_type": "code",
      "metadata": {
        "id": "gkc7Vk4MjSR3",
        "outputId": "24850cd2-8200-459e-f637-3ed0b4c50a85",
        "colab": {
          "base_uri": "https://localhost:8080/",
          "height": 350
        }
      },
      "source": [
        "sns.boxplot(df['Car'],df['Rooms'])"
      ],
      "execution_count": null,
      "outputs": [
        {
          "output_type": "stream",
          "text": [
            "/usr/local/lib/python3.6/dist-packages/seaborn/_decorators.py:43: FutureWarning: Pass the following variables as keyword args: x, y. From version 0.12, the only valid positional argument will be `data`, and passing other arguments without an explicit keyword will result in an error or misinterpretation.\n",
            "  FutureWarning\n"
          ],
          "name": "stderr"
        },
        {
          "output_type": "execute_result",
          "data": {
            "text/plain": [
              "<matplotlib.axes._subplots.AxesSubplot at 0x7f3b2afe45c0>"
            ]
          },
          "metadata": {
            "tags": []
          },
          "execution_count": 15
        },
        {
          "output_type": "display_data",
          "data": {
            "image/png": "[encoded data removed]",
            "text/plain": [
              "<Figure size 432x288 with 1 Axes>"
            ]
          },
          "metadata": {
            "tags": [],
            "needs_background": "light"
          }
        }
      ]
    },
    {
      "cell_type": "code",
      "metadata": {
        "id": "X10pW2XWjd2J"
      },
      "source": [
        "#we can try grouping prices to high low ,etc to find mean and fill"
      ],
      "execution_count": null,
      "outputs": []
    },
    {
      "cell_type": "code",
      "metadata": {
        "id": "Aftm_rxCmzna",
        "outputId": "1bfcbc33-31c4-43aa-fbd1-433d1298dc12",
        "colab": {
          "base_uri": "https://localhost:8080/"
        }
      },
      "source": [
        "df.isna().sum()"
      ],
      "execution_count": null,
      "outputs": [
        {
          "output_type": "execute_result",
          "data": {
            "text/plain": [
              "Rooms               0\n",
              "Type                0\n",
              "Price               0\n",
              "Method              0\n",
              "Date                0\n",
              "Distance            0\n",
              "Postcode            0\n",
              "Bedroom2            0\n",
              "Bathroom            0\n",
              "Car                62\n",
              "Landsize            0\n",
              "BuildingArea     6450\n",
              "YearBuilt        5375\n",
              "Lattitude           0\n",
              "Longtitude          0\n",
              "Regionname          0\n",
              "Propertycount       0\n",
              "dtype: int64"
            ]
          },
          "metadata": {
            "tags": []
          },
          "execution_count": 17
        }
      ]
    },
    {
      "cell_type": "code",
      "metadata": {
        "id": "7n6Ab7IRm74W"
      },
      "source": [
        "df.drop(df[df['Car'].isna()==True].index,inplace=True)\n",
        "df.reset_index(drop=True,inplace=True)"
      ],
      "execution_count": null,
      "outputs": []
    },
    {
      "cell_type": "code",
      "metadata": {
        "id": "qEF9tkPg6nLJ",
        "outputId": "885e1980-3771-45e4-85ed-4468c137c7f6",
        "colab": {
          "base_uri": "https://localhost:8080/",
          "height": 350
        }
      },
      "source": [
        "sns.scatterplot(df['BuildingArea'],df['Landsize'])"
      ],
      "execution_count": null,
      "outputs": [
        {
          "output_type": "stream",
          "text": [
            "/usr/local/lib/python3.6/dist-packages/seaborn/_decorators.py:43: FutureWarning: Pass the following variables as keyword args: x, y. From version 0.12, the only valid positional argument will be `data`, and passing other arguments without an explicit keyword will result in an error or misinterpretation.\n",
            "  FutureWarning\n"
          ],
          "name": "stderr"
        },
        {
          "output_type": "execute_result",
          "data": {
            "text/plain": [
              "<matplotlib.axes._subplots.AxesSubplot at 0x7f3b26c23eb8>"
            ]
          },
          "metadata": {
            "tags": []
          },
          "execution_count": 19
        },
        {
          "output_type": "display_data",
          "data": {
            "image/png": "[encoded data removed]",
            "text/plain": [
              "<Figure size 432x288 with 1 Axes>"
            ]
          },
          "metadata": {
            "tags": [],
            "needs_background": "light"
          }
        }
      ]
    },
    {
      "cell_type": "code",
      "metadata": {
        "id": "5E4AiauipIyj"
      },
      "source": [
        "df.drop(df[df['BuildingArea']>1000].index,inplace=True)"
      ],
      "execution_count": null,
      "outputs": []
    },
    {
      "cell_type": "code",
      "metadata": {
        "id": "ZGwoSVtMptmi",
        "outputId": "97fa50dd-8aeb-457f-f79e-4fa367350415",
        "colab": {
          "base_uri": "https://localhost:8080/",
          "height": 350
        }
      },
      "source": [
        "sns.distplot(df['BuildingArea'])"
      ],
      "execution_count": null,
      "outputs": [
        {
          "output_type": "stream",
          "text": [
            "/usr/local/lib/python3.6/dist-packages/seaborn/distributions.py:2551: FutureWarning: `distplot` is a deprecated function and will be removed in a future version. Please adapt your code to use either `displot` (a figure-level function with similar flexibility) or `histplot` (an axes-level function for histograms).\n",
            "  warnings.warn(msg, FutureWarning)\n"
          ],
          "name": "stderr"
        },
        {
          "output_type": "execute_result",
          "data": {
            "text/plain": [
              "<matplotlib.axes._subplots.AxesSubplot at 0x7f3b26bfcc18>"
            ]
          },
          "metadata": {
            "tags": []
          },
          "execution_count": 21
        },
        {
          "output_type": "display_data",
          "data": {
            "image/png": "[encoded data removed]",
            "text/plain": [
              "<Figure size 432x288 with 1 Axes>"
            ]
          },
          "metadata": {
            "tags": [],
            "needs_background": "light"
          }
        }
      ]
    },
    {
      "cell_type": "code",
      "metadata": {
        "id": "LIj5DcvlqnOl",
        "outputId": "7b020b3c-e9a9-40da-80a2-cccc36c5a20b",
        "colab": {
          "base_uri": "https://localhost:8080/"
        }
      },
      "source": [
        "df['BuildingArea'].isna().sum()"
      ],
      "execution_count": null,
      "outputs": [
        {
          "output_type": "execute_result",
          "data": {
            "text/plain": [
              "6417"
            ]
          },
          "metadata": {
            "tags": []
          },
          "execution_count": 22
        }
      ]
    },
    {
      "cell_type": "code",
      "metadata": {
        "id": "D76PvR51rVyS"
      },
      "source": [
        "df.drop(df[df['Landsize']>10000].index,inplace=True)"
      ],
      "execution_count": null,
      "outputs": []
    },
    {
      "cell_type": "code",
      "metadata": {
        "id": "2-ZpHDfsqrwF",
        "outputId": "59b85676-4ee0-4ed8-c911-6e0acd47bba8",
        "colab": {
          "base_uri": "https://localhost:8080/",
          "height": 350
        }
      },
      "source": [
        "sns.scatterplot(df['BuildingArea'],df['Price'])"
      ],
      "execution_count": null,
      "outputs": [
        {
          "output_type": "stream",
          "text": [
            "/usr/local/lib/python3.6/dist-packages/seaborn/_decorators.py:43: FutureWarning: Pass the following variables as keyword args: x, y. From version 0.12, the only valid positional argument will be `data`, and passing other arguments without an explicit keyword will result in an error or misinterpretation.\n",
            "  FutureWarning\n"
          ],
          "name": "stderr"
        },
        {
          "output_type": "execute_result",
          "data": {
            "text/plain": [
              "<matplotlib.axes._subplots.AxesSubplot at 0x7f3b26a9b320>"
            ]
          },
          "metadata": {
            "tags": []
          },
          "execution_count": 24
        },
        {
          "output_type": "display_data",
          "data": {
            "image/png": "[encoded data removed]",
            "text/plain": [
              "<Figure size 432x288 with 1 Axes>"
            ]
          },
          "metadata": {
            "tags": [],
            "needs_background": "light"
          }
        }
      ]
    },
    {
      "cell_type": "code",
      "metadata": {
        "id": "JBzIxtfKrimx",
        "outputId": "597ce11f-ac82-4e11-a0b7-9908e45a6b85",
        "colab": {
          "base_uri": "https://localhost:8080/",
          "height": 304
        }
      },
      "source": [
        "df[df['BuildingArea'].isna()==True].describe()"
      ],
      "execution_count": null,
      "outputs": [
        {
          "output_type": "execute_result",
          "data": {
            "text/html": [
              "<div>\n",
              "<style scoped>\n",
              "    .dataframe tbody tr th:only-of-type {\n",
              "        vertical-align: middle;\n",
              "    }\n",
              "\n",
              "    .dataframe tbody tr th {\n",
              "        vertical-align: top;\n",
              "    }\n",
              "\n",
              "    .dataframe thead th {\n",
              "        text-align: right;\n",
              "    }\n",
              "</style>\n",
              "<table border=\"1\" class=\"dataframe\">\n",
              "  <thead>\n",
              "    <tr style=\"text-align: right;\">\n",
              "      <th></th>\n",
              "      <th>Rooms</th>\n",
              "      <th>Price</th>\n",
              "      <th>Distance</th>\n",
              "      <th>Postcode</th>\n",
              "      <th>Bedroom2</th>\n",
              "      <th>Bathroom</th>\n",
              "      <th>Car</th>\n",
              "      <th>Landsize</th>\n",
              "      <th>BuildingArea</th>\n",
              "      <th>YearBuilt</th>\n",
              "      <th>Lattitude</th>\n",
              "      <th>Longtitude</th>\n",
              "      <th>Propertycount</th>\n",
              "    </tr>\n",
              "  </thead>\n",
              "  <tbody>\n",
              "    <tr>\n",
              "      <th>count</th>\n",
              "      <td>6401.000000</td>\n",
              "      <td>6401.000000</td>\n",
              "      <td>6401.000000</td>\n",
              "      <td>6401.000000</td>\n",
              "      <td>6401.000000</td>\n",
              "      <td>6401.000000</td>\n",
              "      <td>6401.000000</td>\n",
              "      <td>6401.000000</td>\n",
              "      <td>0.0</td>\n",
              "      <td>1337.000000</td>\n",
              "      <td>6401.000000</td>\n",
              "      <td>6401.000000</td>\n",
              "      <td>6401.000000</td>\n",
              "    </tr>\n",
              "    <tr>\n",
              "      <th>mean</th>\n",
              "      <td>2.896579</td>\n",
              "      <td>13.751232</td>\n",
              "      <td>10.144009</td>\n",
              "      <td>3105.910483</td>\n",
              "      <td>2.877050</td>\n",
              "      <td>1.461490</td>\n",
              "      <td>1.608186</td>\n",
              "      <td>496.559913</td>\n",
              "      <td>NaN</td>\n",
              "      <td>1967.060583</td>\n",
              "      <td>-37.810559</td>\n",
              "      <td>144.999205</td>\n",
              "      <td>7478.964693</td>\n",
              "    </tr>\n",
              "    <tr>\n",
              "      <th>std</th>\n",
              "      <td>0.937545</td>\n",
              "      <td>0.510129</td>\n",
              "      <td>5.646793</td>\n",
              "      <td>88.525782</td>\n",
              "      <td>0.959674</td>\n",
              "      <td>0.651532</td>\n",
              "      <td>0.982132</td>\n",
              "      <td>538.995243</td>\n",
              "      <td>NaN</td>\n",
              "      <td>33.962798</td>\n",
              "      <td>0.078349</td>\n",
              "      <td>0.102138</td>\n",
              "      <td>4412.754035</td>\n",
              "    </tr>\n",
              "    <tr>\n",
              "      <th>min</th>\n",
              "      <td>1.000000</td>\n",
              "      <td>11.350407</td>\n",
              "      <td>0.000000</td>\n",
              "      <td>3000.000000</td>\n",
              "      <td>0.000000</td>\n",
              "      <td>0.000000</td>\n",
              "      <td>0.000000</td>\n",
              "      <td>0.000000</td>\n",
              "      <td>NaN</td>\n",
              "      <td>1850.000000</td>\n",
              "      <td>-38.182550</td>\n",
              "      <td>144.431810</td>\n",
              "      <td>249.000000</td>\n",
              "    </tr>\n",
              "    <tr>\n",
              "      <th>25%</th>\n",
              "      <td>2.000000</td>\n",
              "      <td>13.407542</td>\n",
              "      <td>6.200000</td>\n",
              "      <td>3046.000000</td>\n",
              "      <td>2.000000</td>\n",
              "      <td>1.000000</td>\n",
              "      <td>1.000000</td>\n",
              "      <td>192.000000</td>\n",
              "      <td>NaN</td>\n",
              "      <td>1950.000000</td>\n",
              "      <td>-37.857100</td>\n",
              "      <td>144.934980</td>\n",
              "      <td>4380.000000</td>\n",
              "    </tr>\n",
              "    <tr>\n",
              "      <th>50%</th>\n",
              "      <td>3.000000</td>\n",
              "      <td>13.726679</td>\n",
              "      <td>9.400000</td>\n",
              "      <td>3087.000000</td>\n",
              "      <td>3.000000</td>\n",
              "      <td>1.000000</td>\n",
              "      <td>2.000000</td>\n",
              "      <td>478.000000</td>\n",
              "      <td>NaN</td>\n",
              "      <td>1970.000000</td>\n",
              "      <td>-37.802200</td>\n",
              "      <td>145.004200</td>\n",
              "      <td>6567.000000</td>\n",
              "    </tr>\n",
              "    <tr>\n",
              "      <th>75%</th>\n",
              "      <td>3.000000</td>\n",
              "      <td>14.096923</td>\n",
              "      <td>13.000000</td>\n",
              "      <td>3148.000000</td>\n",
              "      <td>3.000000</td>\n",
              "      <td>2.000000</td>\n",
              "      <td>2.000000</td>\n",
              "      <td>662.000000</td>\n",
              "      <td>NaN</td>\n",
              "      <td>1997.000000</td>\n",
              "      <td>-37.755470</td>\n",
              "      <td>145.060900</td>\n",
              "      <td>10331.000000</td>\n",
              "    </tr>\n",
              "    <tr>\n",
              "      <th>max</th>\n",
              "      <td>10.000000</td>\n",
              "      <td>15.573368</td>\n",
              "      <td>47.300000</td>\n",
              "      <td>3977.000000</td>\n",
              "      <td>20.000000</td>\n",
              "      <td>8.000000</td>\n",
              "      <td>10.000000</td>\n",
              "      <td>8680.000000</td>\n",
              "      <td>NaN</td>\n",
              "      <td>2017.000000</td>\n",
              "      <td>-37.500870</td>\n",
              "      <td>145.453760</td>\n",
              "      <td>21650.000000</td>\n",
              "    </tr>\n",
              "  </tbody>\n",
              "</table>\n",
              "</div>"
            ],
            "text/plain": [
              "             Rooms        Price     Distance     Postcode     Bedroom2  \\\n",
              "count  6401.000000  6401.000000  6401.000000  6401.000000  6401.000000   \n",
              "mean      2.896579    13.751232    10.144009  3105.910483     2.877050   \n",
              "std       0.937545     0.510129     5.646793    88.525782     0.959674   \n",
              "min       1.000000    11.350407     0.000000  3000.000000     0.000000   \n",
              "25%       2.000000    13.407542     6.200000  3046.000000     2.000000   \n",
              "50%       3.000000    13.726679     9.400000  3087.000000     3.000000   \n",
              "75%       3.000000    14.096923    13.000000  3148.000000     3.000000   \n",
              "max      10.000000    15.573368    47.300000  3977.000000    20.000000   \n",
              "\n",
              "          Bathroom          Car     Landsize  BuildingArea    YearBuilt  \\\n",
              "count  6401.000000  6401.000000  6401.000000           0.0  1337.000000   \n",
              "mean      1.461490     1.608186   496.559913           NaN  1967.060583   \n",
              "std       0.651532     0.982132   538.995243           NaN    33.962798   \n",
              "min       0.000000     0.000000     0.000000           NaN  1850.000000   \n",
              "25%       1.000000     1.000000   192.000000           NaN  1950.000000   \n",
              "50%       1.000000     2.000000   478.000000           NaN  1970.000000   \n",
              "75%       2.000000     2.000000   662.000000           NaN  1997.000000   \n",
              "max       8.000000    10.000000  8680.000000           NaN  2017.000000   \n",
              "\n",
              "         Lattitude   Longtitude  Propertycount  \n",
              "count  6401.000000  6401.000000    6401.000000  \n",
              "mean    -37.810559   144.999205    7478.964693  \n",
              "std       0.078349     0.102138    4412.754035  \n",
              "min     -38.182550   144.431810     249.000000  \n",
              "25%     -37.857100   144.934980    4380.000000  \n",
              "50%     -37.802200   145.004200    6567.000000  \n",
              "75%     -37.755470   145.060900   10331.000000  \n",
              "max     -37.500870   145.453760   21650.000000  "
            ]
          },
          "metadata": {
            "tags": []
          },
          "execution_count": 25
        }
      ]
    },
    {
      "cell_type": "code",
      "metadata": {
        "id": "PPSdhLhKshYx",
        "outputId": "bcb7a121-4e71-4842-c432-2fe3baa74b2d",
        "colab": {
          "base_uri": "https://localhost:8080/",
          "height": 304
        }
      },
      "source": [
        "df[df['BuildingArea'].isna()==False].describe()"
      ],
      "execution_count": null,
      "outputs": [
        {
          "output_type": "execute_result",
          "data": {
            "text/html": [
              "<div>\n",
              "<style scoped>\n",
              "    .dataframe tbody tr th:only-of-type {\n",
              "        vertical-align: middle;\n",
              "    }\n",
              "\n",
              "    .dataframe tbody tr th {\n",
              "        vertical-align: top;\n",
              "    }\n",
              "\n",
              "    .dataframe thead th {\n",
              "        text-align: right;\n",
              "    }\n",
              "</style>\n",
              "<table border=\"1\" class=\"dataframe\">\n",
              "  <thead>\n",
              "    <tr style=\"text-align: right;\">\n",
              "      <th></th>\n",
              "      <th>Rooms</th>\n",
              "      <th>Price</th>\n",
              "      <th>Distance</th>\n",
              "      <th>Postcode</th>\n",
              "      <th>Bedroom2</th>\n",
              "      <th>Bathroom</th>\n",
              "      <th>Car</th>\n",
              "      <th>Landsize</th>\n",
              "      <th>BuildingArea</th>\n",
              "      <th>YearBuilt</th>\n",
              "      <th>Lattitude</th>\n",
              "      <th>Longtitude</th>\n",
              "      <th>Propertycount</th>\n",
              "    </tr>\n",
              "  </thead>\n",
              "  <tbody>\n",
              "    <tr>\n",
              "      <th>count</th>\n",
              "      <td>7084.000000</td>\n",
              "      <td>7084.000000</td>\n",
              "      <td>7084.000000</td>\n",
              "      <td>7084.000000</td>\n",
              "      <td>7084.000000</td>\n",
              "      <td>7084.000000</td>\n",
              "      <td>7084.000000</td>\n",
              "      <td>7084.000000</td>\n",
              "      <td>7084.000000</td>\n",
              "      <td>6817.000000</td>\n",
              "      <td>7084.000000</td>\n",
              "      <td>7084.000000</td>\n",
              "      <td>7084.000000</td>\n",
              "    </tr>\n",
              "    <tr>\n",
              "      <th>mean</th>\n",
              "      <td>2.979673</td>\n",
              "      <td>13.738099</td>\n",
              "      <td>10.166728</td>\n",
              "      <td>3104.279644</td>\n",
              "      <td>2.952851</td>\n",
              "      <td>1.600932</td>\n",
              "      <td>1.611237</td>\n",
              "      <td>460.201581</td>\n",
              "      <td>143.516635</td>\n",
              "      <td>1964.433035</td>\n",
              "      <td>-37.808090</td>\n",
              "      <td>144.991856</td>\n",
              "      <td>7431.536138</td>\n",
              "    </tr>\n",
              "    <tr>\n",
              "      <th>std</th>\n",
              "      <td>0.971068</td>\n",
              "      <td>0.541904</td>\n",
              "      <td>5.991446</td>\n",
              "      <td>91.834151</td>\n",
              "      <td>0.971589</td>\n",
              "      <td>0.720883</td>\n",
              "      <td>0.944555</td>\n",
              "      <td>555.190277</td>\n",
              "      <td>83.166690</td>\n",
              "      <td>37.685437</td>\n",
              "      <td>0.080133</td>\n",
              "      <td>0.105124</td>\n",
              "      <td>4346.768563</td>\n",
              "    </tr>\n",
              "    <tr>\n",
              "      <th>min</th>\n",
              "      <td>1.000000</td>\n",
              "      <td>11.782953</td>\n",
              "      <td>0.000000</td>\n",
              "      <td>3000.000000</td>\n",
              "      <td>0.000000</td>\n",
              "      <td>1.000000</td>\n",
              "      <td>0.000000</td>\n",
              "      <td>0.000000</td>\n",
              "      <td>0.000000</td>\n",
              "      <td>1196.000000</td>\n",
              "      <td>-38.164920</td>\n",
              "      <td>144.542370</td>\n",
              "      <td>389.000000</td>\n",
              "    </tr>\n",
              "    <tr>\n",
              "      <th>25%</th>\n",
              "      <td>2.000000</td>\n",
              "      <td>13.353475</td>\n",
              "      <td>6.100000</td>\n",
              "      <td>3044.000000</td>\n",
              "      <td>2.000000</td>\n",
              "      <td>1.000000</td>\n",
              "      <td>1.000000</td>\n",
              "      <td>165.000000</td>\n",
              "      <td>93.000000</td>\n",
              "      <td>1940.000000</td>\n",
              "      <td>-37.856962</td>\n",
              "      <td>144.925360</td>\n",
              "      <td>4385.000000</td>\n",
              "    </tr>\n",
              "    <tr>\n",
              "      <th>50%</th>\n",
              "      <td>3.000000</td>\n",
              "      <td>13.699538</td>\n",
              "      <td>9.200000</td>\n",
              "      <td>3083.000000</td>\n",
              "      <td>3.000000</td>\n",
              "      <td>1.000000</td>\n",
              "      <td>2.000000</td>\n",
              "      <td>400.500000</td>\n",
              "      <td>126.000000</td>\n",
              "      <td>1970.000000</td>\n",
              "      <td>-37.802300</td>\n",
              "      <td>144.997050</td>\n",
              "      <td>6567.000000</td>\n",
              "    </tr>\n",
              "    <tr>\n",
              "      <th>75%</th>\n",
              "      <td>4.000000</td>\n",
              "      <td>14.100877</td>\n",
              "      <td>13.000000</td>\n",
              "      <td>3148.000000</td>\n",
              "      <td>4.000000</td>\n",
              "      <td>2.000000</td>\n",
              "      <td>2.000000</td>\n",
              "      <td>638.000000</td>\n",
              "      <td>174.000000</td>\n",
              "      <td>2000.000000</td>\n",
              "      <td>-37.756600</td>\n",
              "      <td>145.056325</td>\n",
              "      <td>10175.000000</td>\n",
              "    </tr>\n",
              "    <tr>\n",
              "      <th>max</th>\n",
              "      <td>8.000000</td>\n",
              "      <td>16.012735</td>\n",
              "      <td>47.400000</td>\n",
              "      <td>3977.000000</td>\n",
              "      <td>9.000000</td>\n",
              "      <td>8.000000</td>\n",
              "      <td>10.000000</td>\n",
              "      <td>9838.000000</td>\n",
              "      <td>934.000000</td>\n",
              "      <td>2018.000000</td>\n",
              "      <td>-37.408530</td>\n",
              "      <td>145.526350</td>\n",
              "      <td>21650.000000</td>\n",
              "    </tr>\n",
              "  </tbody>\n",
              "</table>\n",
              "</div>"
            ],
            "text/plain": [
              "             Rooms        Price     Distance     Postcode     Bedroom2  \\\n",
              "count  7084.000000  7084.000000  7084.000000  7084.000000  7084.000000   \n",
              "mean      2.979673    13.738099    10.166728  3104.279644     2.952851   \n",
              "std       0.971068     0.541904     5.991446    91.834151     0.971589   \n",
              "min       1.000000    11.782953     0.000000  3000.000000     0.000000   \n",
              "25%       2.000000    13.353475     6.100000  3044.000000     2.000000   \n",
              "50%       3.000000    13.699538     9.200000  3083.000000     3.000000   \n",
              "75%       4.000000    14.100877    13.000000  3148.000000     4.000000   \n",
              "max       8.000000    16.012735    47.400000  3977.000000     9.000000   \n",
              "\n",
              "          Bathroom          Car     Landsize  BuildingArea    YearBuilt  \\\n",
              "count  7084.000000  7084.000000  7084.000000   7084.000000  6817.000000   \n",
              "mean      1.600932     1.611237   460.201581    143.516635  1964.433035   \n",
              "std       0.720883     0.944555   555.190277     83.166690    37.685437   \n",
              "min       1.000000     0.000000     0.000000      0.000000  1196.000000   \n",
              "25%       1.000000     1.000000   165.000000     93.000000  1940.000000   \n",
              "50%       1.000000     2.000000   400.500000    126.000000  1970.000000   \n",
              "75%       2.000000     2.000000   638.000000    174.000000  2000.000000   \n",
              "max       8.000000    10.000000  9838.000000    934.000000  2018.000000   \n",
              "\n",
              "         Lattitude   Longtitude  Propertycount  \n",
              "count  7084.000000  7084.000000    7084.000000  \n",
              "mean    -37.808090   144.991856    7431.536138  \n",
              "std       0.080133     0.105124    4346.768563  \n",
              "min     -38.164920   144.542370     389.000000  \n",
              "25%     -37.856962   144.925360    4385.000000  \n",
              "50%     -37.802300   144.997050    6567.000000  \n",
              "75%     -37.756600   145.056325   10175.000000  \n",
              "max     -37.408530   145.526350   21650.000000  "
            ]
          },
          "metadata": {
            "tags": []
          },
          "execution_count": 26
        }
      ]
    },
    {
      "cell_type": "code",
      "metadata": {
        "id": "M2197uwHw29G",
        "outputId": "01ae4fd8-80eb-4c7f-949a-78975ddafe03",
        "colab": {
          "base_uri": "https://localhost:8080/",
          "height": 452
        }
      },
      "source": [
        "#removing the edge cases of builing area changed corr completely....\n",
        "df.corr()"
      ],
      "execution_count": null,
      "outputs": [
        {
          "output_type": "execute_result",
          "data": {
            "text/html": [
              "<div>\n",
              "<style scoped>\n",
              "    .dataframe tbody tr th:only-of-type {\n",
              "        vertical-align: middle;\n",
              "    }\n",
              "\n",
              "    .dataframe tbody tr th {\n",
              "        vertical-align: top;\n",
              "    }\n",
              "\n",
              "    .dataframe thead th {\n",
              "        text-align: right;\n",
              "    }\n",
              "</style>\n",
              "<table border=\"1\" class=\"dataframe\">\n",
              "  <thead>\n",
              "    <tr style=\"text-align: right;\">\n",
              "      <th></th>\n",
              "      <th>Rooms</th>\n",
              "      <th>Price</th>\n",
              "      <th>Distance</th>\n",
              "      <th>Postcode</th>\n",
              "      <th>Bedroom2</th>\n",
              "      <th>Bathroom</th>\n",
              "      <th>Car</th>\n",
              "      <th>Landsize</th>\n",
              "      <th>BuildingArea</th>\n",
              "      <th>YearBuilt</th>\n",
              "      <th>Lattitude</th>\n",
              "      <th>Longtitude</th>\n",
              "      <th>Propertycount</th>\n",
              "    </tr>\n",
              "  </thead>\n",
              "  <tbody>\n",
              "    <tr>\n",
              "      <th>Rooms</th>\n",
              "      <td>1.000000</td>\n",
              "      <td>0.561346</td>\n",
              "      <td>0.292305</td>\n",
              "      <td>0.054287</td>\n",
              "      <td>0.944068</td>\n",
              "      <td>0.593880</td>\n",
              "      <td>0.407937</td>\n",
              "      <td>0.192713</td>\n",
              "      <td>0.638030</td>\n",
              "      <td>-0.065595</td>\n",
              "      <td>0.014625</td>\n",
              "      <td>0.101248</td>\n",
              "      <td>-0.080316</td>\n",
              "    </tr>\n",
              "    <tr>\n",
              "      <th>Price</th>\n",
              "      <td>0.561346</td>\n",
              "      <td>1.000000</td>\n",
              "      <td>-0.153354</td>\n",
              "      <td>0.092144</td>\n",
              "      <td>0.538148</td>\n",
              "      <td>0.457097</td>\n",
              "      <td>0.256232</td>\n",
              "      <td>0.131636</td>\n",
              "      <td>0.561718</td>\n",
              "      <td>-0.358695</td>\n",
              "      <td>-0.224728</td>\n",
              "      <td>0.241987</td>\n",
              "      <td>-0.063235</td>\n",
              "    </tr>\n",
              "    <tr>\n",
              "      <th>Distance</th>\n",
              "      <td>0.292305</td>\n",
              "      <td>-0.153354</td>\n",
              "      <td>1.000000</td>\n",
              "      <td>0.429296</td>\n",
              "      <td>0.293996</td>\n",
              "      <td>0.125379</td>\n",
              "      <td>0.261471</td>\n",
              "      <td>0.157529</td>\n",
              "      <td>0.183256</td>\n",
              "      <td>0.243981</td>\n",
              "      <td>-0.139593</td>\n",
              "      <td>0.244226</td>\n",
              "      <td>-0.052710</td>\n",
              "    </tr>\n",
              "    <tr>\n",
              "      <th>Postcode</th>\n",
              "      <td>0.054287</td>\n",
              "      <td>0.092144</td>\n",
              "      <td>0.429296</td>\n",
              "      <td>1.000000</td>\n",
              "      <td>0.059483</td>\n",
              "      <td>0.112622</td>\n",
              "      <td>0.047999</td>\n",
              "      <td>0.044556</td>\n",
              "      <td>0.088242</td>\n",
              "      <td>0.034419</td>\n",
              "      <td>-0.412514</td>\n",
              "      <td>0.449086</td>\n",
              "      <td>0.064614</td>\n",
              "    </tr>\n",
              "    <tr>\n",
              "      <th>Bedroom2</th>\n",
              "      <td>0.944068</td>\n",
              "      <td>0.538148</td>\n",
              "      <td>0.293996</td>\n",
              "      <td>0.059483</td>\n",
              "      <td>1.000000</td>\n",
              "      <td>0.585600</td>\n",
              "      <td>0.404632</td>\n",
              "      <td>0.188868</td>\n",
              "      <td>0.623707</td>\n",
              "      <td>-0.053746</td>\n",
              "      <td>0.014658</td>\n",
              "      <td>0.102788</td>\n",
              "      <td>-0.079984</td>\n",
              "    </tr>\n",
              "    <tr>\n",
              "      <th>Bathroom</th>\n",
              "      <td>0.593880</td>\n",
              "      <td>0.457097</td>\n",
              "      <td>0.125379</td>\n",
              "      <td>0.112622</td>\n",
              "      <td>0.585600</td>\n",
              "      <td>1.000000</td>\n",
              "      <td>0.322163</td>\n",
              "      <td>0.112665</td>\n",
              "      <td>0.583765</td>\n",
              "      <td>0.151606</td>\n",
              "      <td>-0.072318</td>\n",
              "      <td>0.120236</td>\n",
              "      <td>-0.051337</td>\n",
              "    </tr>\n",
              "    <tr>\n",
              "      <th>Car</th>\n",
              "      <td>0.407937</td>\n",
              "      <td>0.256232</td>\n",
              "      <td>0.261471</td>\n",
              "      <td>0.047999</td>\n",
              "      <td>0.404632</td>\n",
              "      <td>0.322163</td>\n",
              "      <td>1.000000</td>\n",
              "      <td>0.186540</td>\n",
              "      <td>0.354840</td>\n",
              "      <td>0.105097</td>\n",
              "      <td>-0.003629</td>\n",
              "      <td>0.064546</td>\n",
              "      <td>-0.023573</td>\n",
              "    </tr>\n",
              "    <tr>\n",
              "      <th>Landsize</th>\n",
              "      <td>0.192713</td>\n",
              "      <td>0.131636</td>\n",
              "      <td>0.157529</td>\n",
              "      <td>0.044556</td>\n",
              "      <td>0.188868</td>\n",
              "      <td>0.112665</td>\n",
              "      <td>0.186540</td>\n",
              "      <td>1.000000</td>\n",
              "      <td>0.173747</td>\n",
              "      <td>0.019512</td>\n",
              "      <td>0.001798</td>\n",
              "      <td>0.080676</td>\n",
              "      <td>-0.018759</td>\n",
              "    </tr>\n",
              "    <tr>\n",
              "      <th>BuildingArea</th>\n",
              "      <td>0.638030</td>\n",
              "      <td>0.561718</td>\n",
              "      <td>0.183256</td>\n",
              "      <td>0.088242</td>\n",
              "      <td>0.623707</td>\n",
              "      <td>0.583765</td>\n",
              "      <td>0.354840</td>\n",
              "      <td>0.173747</td>\n",
              "      <td>1.000000</td>\n",
              "      <td>0.032412</td>\n",
              "      <td>-0.052318</td>\n",
              "      <td>0.117703</td>\n",
              "      <td>-0.068971</td>\n",
              "    </tr>\n",
              "    <tr>\n",
              "      <th>YearBuilt</th>\n",
              "      <td>-0.065595</td>\n",
              "      <td>-0.358695</td>\n",
              "      <td>0.243981</td>\n",
              "      <td>0.034419</td>\n",
              "      <td>-0.053746</td>\n",
              "      <td>0.151606</td>\n",
              "      <td>0.105097</td>\n",
              "      <td>0.019512</td>\n",
              "      <td>0.032412</td>\n",
              "      <td>1.000000</td>\n",
              "      <td>0.059571</td>\n",
              "      <td>-0.003664</td>\n",
              "      <td>0.004962</td>\n",
              "    </tr>\n",
              "    <tr>\n",
              "      <th>Lattitude</th>\n",
              "      <td>0.014625</td>\n",
              "      <td>-0.224728</td>\n",
              "      <td>-0.139593</td>\n",
              "      <td>-0.412514</td>\n",
              "      <td>0.014658</td>\n",
              "      <td>-0.072318</td>\n",
              "      <td>-0.003629</td>\n",
              "      <td>0.001798</td>\n",
              "      <td>-0.052318</td>\n",
              "      <td>0.059571</td>\n",
              "      <td>1.000000</td>\n",
              "      <td>-0.355809</td>\n",
              "      <td>0.048481</td>\n",
              "    </tr>\n",
              "    <tr>\n",
              "      <th>Longtitude</th>\n",
              "      <td>0.101248</td>\n",
              "      <td>0.241987</td>\n",
              "      <td>0.244226</td>\n",
              "      <td>0.449086</td>\n",
              "      <td>0.102788</td>\n",
              "      <td>0.120236</td>\n",
              "      <td>0.064546</td>\n",
              "      <td>0.080676</td>\n",
              "      <td>0.117703</td>\n",
              "      <td>-0.003664</td>\n",
              "      <td>-0.355809</td>\n",
              "      <td>1.000000</td>\n",
              "      <td>0.066523</td>\n",
              "    </tr>\n",
              "    <tr>\n",
              "      <th>Propertycount</th>\n",
              "      <td>-0.080316</td>\n",
              "      <td>-0.063235</td>\n",
              "      <td>-0.052710</td>\n",
              "      <td>0.064614</td>\n",
              "      <td>-0.079984</td>\n",
              "      <td>-0.051337</td>\n",
              "      <td>-0.023573</td>\n",
              "      <td>-0.018759</td>\n",
              "      <td>-0.068971</td>\n",
              "      <td>0.004962</td>\n",
              "      <td>0.048481</td>\n",
              "      <td>0.066523</td>\n",
              "      <td>1.000000</td>\n",
              "    </tr>\n",
              "  </tbody>\n",
              "</table>\n",
              "</div>"
            ],
            "text/plain": [
              "                  Rooms     Price  Distance  Postcode  Bedroom2  Bathroom  \\\n",
              "Rooms          1.000000  0.561346  0.292305  0.054287  0.944068  0.593880   \n",
              "Price          0.561346  1.000000 -0.153354  0.092144  0.538148  0.457097   \n",
              "Distance       0.292305 -0.153354  1.000000  0.429296  0.293996  0.125379   \n",
              "Postcode       0.054287  0.092144  0.429296  1.000000  0.059483  0.112622   \n",
              "Bedroom2       0.944068  0.538148  0.293996  0.059483  1.000000  0.585600   \n",
              "Bathroom       0.593880  0.457097  0.125379  0.112622  0.585600  1.000000   \n",
              "Car            0.407937  0.256232  0.261471  0.047999  0.404632  0.322163   \n",
              "Landsize       0.192713  0.131636  0.157529  0.044556  0.188868  0.112665   \n",
              "BuildingArea   0.638030  0.561718  0.183256  0.088242  0.623707  0.583765   \n",
              "YearBuilt     -0.065595 -0.358695  0.243981  0.034419 -0.053746  0.151606   \n",
              "Lattitude      0.014625 -0.224728 -0.139593 -0.412514  0.014658 -0.072318   \n",
              "Longtitude     0.101248  0.241987  0.244226  0.449086  0.102788  0.120236   \n",
              "Propertycount -0.080316 -0.063235 -0.052710  0.064614 -0.079984 -0.051337   \n",
              "\n",
              "                    Car  Landsize  BuildingArea  YearBuilt  Lattitude  \\\n",
              "Rooms          0.407937  0.192713      0.638030  -0.065595   0.014625   \n",
              "Price          0.256232  0.131636      0.561718  -0.358695  -0.224728   \n",
              "Distance       0.261471  0.157529      0.183256   0.243981  -0.139593   \n",
              "Postcode       0.047999  0.044556      0.088242   0.034419  -0.412514   \n",
              "Bedroom2       0.404632  0.188868      0.623707  -0.053746   0.014658   \n",
              "Bathroom       0.322163  0.112665      0.583765   0.151606  -0.072318   \n",
              "Car            1.000000  0.186540      0.354840   0.105097  -0.003629   \n",
              "Landsize       0.186540  1.000000      0.173747   0.019512   0.001798   \n",
              "BuildingArea   0.354840  0.173747      1.000000   0.032412  -0.052318   \n",
              "YearBuilt      0.105097  0.019512      0.032412   1.000000   0.059571   \n",
              "Lattitude     -0.003629  0.001798     -0.052318   0.059571   1.000000   \n",
              "Longtitude     0.064546  0.080676      0.117703  -0.003664  -0.355809   \n",
              "Propertycount -0.023573 -0.018759     -0.068971   0.004962   0.048481   \n",
              "\n",
              "               Longtitude  Propertycount  \n",
              "Rooms            0.101248      -0.080316  \n",
              "Price            0.241987      -0.063235  \n",
              "Distance         0.244226      -0.052710  \n",
              "Postcode         0.449086       0.064614  \n",
              "Bedroom2         0.102788      -0.079984  \n",
              "Bathroom         0.120236      -0.051337  \n",
              "Car              0.064546      -0.023573  \n",
              "Landsize         0.080676      -0.018759  \n",
              "BuildingArea     0.117703      -0.068971  \n",
              "YearBuilt       -0.003664       0.004962  \n",
              "Lattitude       -0.355809       0.048481  \n",
              "Longtitude       1.000000       0.066523  \n",
              "Propertycount    0.066523       1.000000  "
            ]
          },
          "metadata": {
            "tags": []
          },
          "execution_count": 27
        }
      ]
    },
    {
      "cell_type": "code",
      "metadata": {
        "id": "fnvZP9u5xXwn",
        "outputId": "05a91fc9-79b4-4509-f4fa-dc4949b4c6d5",
        "colab": {
          "base_uri": "https://localhost:8080/",
          "height": 350
        }
      },
      "source": [
        "sns.violinplot(df['Rooms'],df['BuildingArea'])\n",
        "#So, as rooms increases building area increases...."
      ],
      "execution_count": null,
      "outputs": [
        {
          "output_type": "stream",
          "text": [
            "/usr/local/lib/python3.6/dist-packages/seaborn/_decorators.py:43: FutureWarning: Pass the following variables as keyword args: x, y. From version 0.12, the only valid positional argument will be `data`, and passing other arguments without an explicit keyword will result in an error or misinterpretation.\n",
            "  FutureWarning\n"
          ],
          "name": "stderr"
        },
        {
          "output_type": "execute_result",
          "data": {
            "text/plain": [
              "<matplotlib.axes._subplots.AxesSubplot at 0x7f3b26a74240>"
            ]
          },
          "metadata": {
            "tags": []
          },
          "execution_count": 28
        },
        {
          "output_type": "display_data",
          "data": {
            "image/png": "[encoded data removed]",
            "text/plain": [
              "<Figure size 432x288 with 1 Axes>"
            ]
          },
          "metadata": {
            "tags": [],
            "needs_background": "light"
          }
        }
      ]
    },
    {
      "cell_type": "code",
      "metadata": {
        "id": "6ghEV2-qx3WC"
      },
      "source": [
        "mean_rooms = df.groupby(by='Rooms')['BuildingArea'].mean()\n"
      ],
      "execution_count": null,
      "outputs": []
    },
    {
      "cell_type": "markdown",
      "metadata": {
        "id": "n4li8Q_b7a58"
      },
      "source": [
        "#So to analyse building area firstly we tried to plot it... removed edge cases...weak corr with landsize ... removec edge cases there...\n",
        "#then looked at maybe any reason for missing data i.e missingness...\n",
        "#then looked at corr plots again and voila.. good relationship with rooms"
      ]
    },
    {
      "cell_type": "code",
      "metadata": {
        "id": "_5tx_RcryQ5K"
      },
      "source": [
        "df['BuildingArea'] = df.apply(lambda x:mean_rooms[x['Rooms']] if np.isnan(x['BuildingArea']) else x['BuildingArea'],axis=1)"
      ],
      "execution_count": null,
      "outputs": []
    },
    {
      "cell_type": "code",
      "metadata": {
        "id": "fhnJDcFx1TnS"
      },
      "source": [
        "df.drop(df[df['BuildingArea'].isna()].index,inplace=True)"
      ],
      "execution_count": null,
      "outputs": []
    },
    {
      "cell_type": "code",
      "metadata": {
        "id": "Rq6M8jLx4fvL"
      },
      "source": [
        "df.drop(df[df['YearBuilt']<1850].index,inplace=True)"
      ],
      "execution_count": null,
      "outputs": []
    },
    {
      "cell_type": "code",
      "metadata": {
        "id": "ocsd5SDh411m",
        "outputId": "76d53cfc-b518-4ddd-86ef-e325c1a372c8",
        "colab": {
          "base_uri": "https://localhost:8080/"
        }
      },
      "source": [
        "df.corr()['YearBuilt']"
      ],
      "execution_count": null,
      "outputs": [
        {
          "output_type": "execute_result",
          "data": {
            "text/plain": [
              "Rooms           -0.068957\n",
              "Price           -0.367615\n",
              "Distance         0.252083\n",
              "Postcode         0.036504\n",
              "Bedroom2        -0.056667\n",
              "Bathroom         0.153171\n",
              "Car              0.114497\n",
              "Landsize         0.023724\n",
              "BuildingArea     0.009988\n",
              "YearBuilt        1.000000\n",
              "Lattitude        0.059189\n",
              "Longtitude      -0.000646\n",
              "Propertycount    0.008256\n",
              "Name: YearBuilt, dtype: float64"
            ]
          },
          "metadata": {
            "tags": []
          },
          "execution_count": 33
        }
      ]
    },
    {
      "cell_type": "code",
      "metadata": {
        "id": "NGHJs9eV54ei",
        "outputId": "74742575-4e74-4d11-bd50-a30df2be2fe4",
        "colab": {
          "base_uri": "https://localhost:8080/"
        }
      },
      "source": [
        "df.isna().sum()"
      ],
      "execution_count": null,
      "outputs": [
        {
          "output_type": "execute_result",
          "data": {
            "text/plain": [
              "Rooms               0\n",
              "Type                0\n",
              "Price               0\n",
              "Method              0\n",
              "Date                0\n",
              "Distance            0\n",
              "Postcode            0\n",
              "Bedroom2            0\n",
              "Bathroom            0\n",
              "Car                 0\n",
              "Landsize            0\n",
              "BuildingArea        0\n",
              "YearBuilt        5331\n",
              "Lattitude           0\n",
              "Longtitude          0\n",
              "Regionname          0\n",
              "Propertycount       0\n",
              "dtype: int64"
            ]
          },
          "metadata": {
            "tags": []
          },
          "execution_count": 34
        }
      ]
    },
    {
      "cell_type": "code",
      "metadata": {
        "id": "8t_1Bbzd6XY3",
        "outputId": "74dc628e-e558-405d-9722-a6e406e115c2",
        "colab": {
          "base_uri": "https://localhost:8080/",
          "height": 350
        }
      },
      "source": [
        "sns.distplot(df['YearBuilt'])"
      ],
      "execution_count": null,
      "outputs": [
        {
          "output_type": "stream",
          "text": [
            "/usr/local/lib/python3.6/dist-packages/seaborn/distributions.py:2551: FutureWarning: `distplot` is a deprecated function and will be removed in a future version. Please adapt your code to use either `displot` (a figure-level function with similar flexibility) or `histplot` (an axes-level function for histograms).\n",
            "  warnings.warn(msg, FutureWarning)\n"
          ],
          "name": "stderr"
        },
        {
          "output_type": "execute_result",
          "data": {
            "text/plain": [
              "<matplotlib.axes._subplots.AxesSubplot at 0x7f3b26a14f28>"
            ]
          },
          "metadata": {
            "tags": []
          },
          "execution_count": 35
        },
        {
          "output_type": "display_data",
          "data": {
            "image/png": "[encoded data removed]",
            "text/plain": [
              "<Figure size 432x288 with 1 Axes>"
            ]
          },
          "metadata": {
            "tags": [],
            "needs_background": "light"
          }
        }
      ]
    },
    {
      "cell_type": "markdown",
      "metadata": {
        "id": "lCP1WEURiRaj"
      },
      "source": [
        "So, dist is pretty meaningless and no real correlation from corr, now look at missingness of data and plot some relations with other features... maybe we can get something useful....\n",
        "\n",
        "http://www.stat.columbia.edu/~gelman/arm/missing.pdf\n",
        "\n",
        "Important link about the missingness of data and how to clean missing data...."
      ]
    },
    {
      "cell_type": "code",
      "metadata": {
        "id": "UrL8vKOagsu-",
        "outputId": "1778021b-ecc2-4aab-dec3-3cab9671c17b",
        "colab": {
          "base_uri": "https://localhost:8080/",
          "height": 350
        }
      },
      "source": [
        "sns.violinplot(df['Type'],df['YearBuilt'])"
      ],
      "execution_count": null,
      "outputs": [
        {
          "output_type": "stream",
          "text": [
            "/usr/local/lib/python3.6/dist-packages/seaborn/_decorators.py:43: FutureWarning: Pass the following variables as keyword args: x, y. From version 0.12, the only valid positional argument will be `data`, and passing other arguments without an explicit keyword will result in an error or misinterpretation.\n",
            "  FutureWarning\n"
          ],
          "name": "stderr"
        },
        {
          "output_type": "execute_result",
          "data": {
            "text/plain": [
              "<matplotlib.axes._subplots.AxesSubplot at 0x7f3b2ad102b0>"
            ]
          },
          "metadata": {
            "tags": []
          },
          "execution_count": 36
        },
        {
          "output_type": "display_data",
          "data": {
            "image/png": "[encoded data removed]",
            "text/plain": [
              "<Figure size 432x288 with 1 Axes>"
            ]
          },
          "metadata": {
            "tags": [],
            "needs_background": "light"
          }
        }
      ]
    },
    {
      "cell_type": "markdown",
      "metadata": {
        "id": "BtVAnNIZjBM-"
      },
      "source": [
        "intersting that t's are pretty recent..."
      ]
    },
    {
      "cell_type": "code",
      "metadata": {
        "id": "SGMmhUGghO2S",
        "outputId": "7f220127-ae4e-45be-ec9b-7d70e141cde3",
        "colab": {
          "base_uri": "https://localhost:8080/"
        }
      },
      "source": [
        "df[df['YearBuilt'].isna()==False]['Type'].value_counts()"
      ],
      "execution_count": null,
      "outputs": [
        {
          "output_type": "execute_result",
          "data": {
            "text/plain": [
              "h    5371\n",
              "u    2019\n",
              "t     761\n",
              "Name: Type, dtype: int64"
            ]
          },
          "metadata": {
            "tags": []
          },
          "execution_count": 37
        }
      ]
    },
    {
      "cell_type": "code",
      "metadata": {
        "id": "pCjQYxCeivCa",
        "outputId": "9f23013f-0764-4af7-9314-4181946230ca",
        "colab": {
          "base_uri": "https://localhost:8080/"
        }
      },
      "source": [
        "df[df['YearBuilt'].isna()]['Type'].value_counts()"
      ],
      "execution_count": null,
      "outputs": [
        {
          "output_type": "execute_result",
          "data": {
            "text/plain": [
              "h    4002\n",
              "u     979\n",
              "t     350\n",
              "Name: Type, dtype: int64"
            ]
          },
          "metadata": {
            "tags": []
          },
          "execution_count": 38
        }
      ]
    },
    {
      "cell_type": "code",
      "metadata": {
        "id": "tUklExZKi3ju"
      },
      "source": [
        "#okay so i guess classify price and take median and give it to year built..."
      ],
      "execution_count": null,
      "outputs": []
    },
    {
      "cell_type": "code",
      "metadata": {
        "id": "TW1Q51fVkDzv"
      },
      "source": [
        "stdp = np.mean(df['Price']) + np.std(df['Price'])\n",
        "stdm = np.mean(df['Price']) - np.std(df['Price'])\n",
        "df['PriceClass'] = df.apply(lambda x: 'u' if x['Price'] > stdp else ('d' if x['Price'] < stdm else 'm'),axis=1)"
      ],
      "execution_count": null,
      "outputs": []
    },
    {
      "cell_type": "code",
      "metadata": {
        "id": "h6rbTk9Ek3dc",
        "outputId": "25f0cb05-b19b-4ec8-b923-a52b550c128b",
        "colab": {
          "base_uri": "https://localhost:8080/"
        }
      },
      "source": [
        "priceclass_median = df.groupby(by='PriceClass')['YearBuilt'].median()\n",
        "priceclass_median['u']"
      ],
      "execution_count": null,
      "outputs": [
        {
          "output_type": "execute_result",
          "data": {
            "text/plain": [
              "1935.0"
            ]
          },
          "metadata": {
            "tags": []
          },
          "execution_count": 41
        }
      ]
    },
    {
      "cell_type": "code",
      "metadata": {
        "id": "9AHRFuhFl0Tm"
      },
      "source": [
        "df['YearBuilt'] = df.apply(lambda x: priceclass_median[x['PriceClass']] if np.isnan(x['YearBuilt'])  else x['YearBuilt'],axis = 1)"
      ],
      "execution_count": null,
      "outputs": []
    },
    {
      "cell_type": "markdown",
      "metadata": {
        "id": "hCjflawGoBzV"
      },
      "source": [
        "So divided the price into classes and used the median of that class to fill year built values....."
      ]
    },
    {
      "cell_type": "code",
      "metadata": {
        "id": "5G58OpqDnqwD",
        "outputId": "99937dfd-d1a4-4402-cfde-760a7f50092b",
        "colab": {
          "base_uri": "https://localhost:8080/"
        }
      },
      "source": [
        "df.info()"
      ],
      "execution_count": null,
      "outputs": [
        {
          "output_type": "stream",
          "text": [
            "<class 'pandas.core.frame.DataFrame'>\n",
            "Int64Index: 13482 entries, 0 to 13517\n",
            "Data columns (total 18 columns):\n",
            " #   Column         Non-Null Count  Dtype  \n",
            "---  ------         --------------  -----  \n",
            " 0   Rooms          13482 non-null  int64  \n",
            " 1   Type           13482 non-null  object \n",
            " 2   Price          13482 non-null  float64\n",
            " 3   Method         13482 non-null  object \n",
            " 4   Date           13482 non-null  object \n",
            " 5   Distance       13482 non-null  float64\n",
            " 6   Postcode       13482 non-null  float64\n",
            " 7   Bedroom2       13482 non-null  float64\n",
            " 8   Bathroom       13482 non-null  float64\n",
            " 9   Car            13482 non-null  float64\n",
            " 10  Landsize       13482 non-null  float64\n",
            " 11  BuildingArea   13482 non-null  float64\n",
            " 12  YearBuilt      13482 non-null  float64\n",
            " 13  Lattitude      13482 non-null  float64\n",
            " 14  Longtitude     13482 non-null  float64\n",
            " 15  Regionname     13482 non-null  object \n",
            " 16  Propertycount  13482 non-null  float64\n",
            " 17  PriceClass     13482 non-null  object \n",
            "dtypes: float64(12), int64(1), object(5)\n",
            "memory usage: 2.6+ MB\n"
          ],
          "name": "stdout"
        }
      ]
    },
    {
      "cell_type": "code",
      "metadata": {
        "id": "jayOlsDMoMjJ",
        "outputId": "acb35e46-daca-4159-fca7-6aefbfa7d8ed",
        "colab": {
          "base_uri": "https://localhost:8080/",
          "height": 452
        }
      },
      "source": [
        "df.corr()"
      ],
      "execution_count": null,
      "outputs": [
        {
          "output_type": "execute_result",
          "data": {
            "text/html": [
              "<div>\n",
              "<style scoped>\n",
              "    .dataframe tbody tr th:only-of-type {\n",
              "        vertical-align: middle;\n",
              "    }\n",
              "\n",
              "    .dataframe tbody tr th {\n",
              "        vertical-align: top;\n",
              "    }\n",
              "\n",
              "    .dataframe thead th {\n",
              "        text-align: right;\n",
              "    }\n",
              "</style>\n",
              "<table border=\"1\" class=\"dataframe\">\n",
              "  <thead>\n",
              "    <tr style=\"text-align: right;\">\n",
              "      <th></th>\n",
              "      <th>Rooms</th>\n",
              "      <th>Price</th>\n",
              "      <th>Distance</th>\n",
              "      <th>Postcode</th>\n",
              "      <th>Bedroom2</th>\n",
              "      <th>Bathroom</th>\n",
              "      <th>Car</th>\n",
              "      <th>Landsize</th>\n",
              "      <th>BuildingArea</th>\n",
              "      <th>YearBuilt</th>\n",
              "      <th>Lattitude</th>\n",
              "      <th>Longtitude</th>\n",
              "      <th>Propertycount</th>\n",
              "    </tr>\n",
              "  </thead>\n",
              "  <tbody>\n",
              "    <tr>\n",
              "      <th>Rooms</th>\n",
              "      <td>1.000000</td>\n",
              "      <td>0.562532</td>\n",
              "      <td>0.292645</td>\n",
              "      <td>0.054500</td>\n",
              "      <td>0.943839</td>\n",
              "      <td>0.594016</td>\n",
              "      <td>0.408600</td>\n",
              "      <td>0.193736</td>\n",
              "      <td>0.742618</td>\n",
              "      <td>-0.112117</td>\n",
              "      <td>0.013985</td>\n",
              "      <td>0.101141</td>\n",
              "      <td>-0.080885</td>\n",
              "    </tr>\n",
              "    <tr>\n",
              "      <th>Price</th>\n",
              "      <td>0.562532</td>\n",
              "      <td>1.000000</td>\n",
              "      <td>-0.153412</td>\n",
              "      <td>0.092123</td>\n",
              "      <td>0.539267</td>\n",
              "      <td>0.457226</td>\n",
              "      <td>0.256204</td>\n",
              "      <td>0.131764</td>\n",
              "      <td>0.536901</td>\n",
              "      <td>-0.406760</td>\n",
              "      <td>-0.224714</td>\n",
              "      <td>0.241964</td>\n",
              "      <td>-0.063295</td>\n",
              "    </tr>\n",
              "    <tr>\n",
              "      <th>Distance</th>\n",
              "      <td>0.292645</td>\n",
              "      <td>-0.153412</td>\n",
              "      <td>1.000000</td>\n",
              "      <td>0.429282</td>\n",
              "      <td>0.294333</td>\n",
              "      <td>0.125321</td>\n",
              "      <td>0.261357</td>\n",
              "      <td>0.158116</td>\n",
              "      <td>0.213341</td>\n",
              "      <td>0.215532</td>\n",
              "      <td>-0.139604</td>\n",
              "      <td>0.244180</td>\n",
              "      <td>-0.052877</td>\n",
              "    </tr>\n",
              "    <tr>\n",
              "      <th>Postcode</th>\n",
              "      <td>0.054500</td>\n",
              "      <td>0.092123</td>\n",
              "      <td>0.429282</td>\n",
              "      <td>1.000000</td>\n",
              "      <td>0.059705</td>\n",
              "      <td>0.112689</td>\n",
              "      <td>0.047909</td>\n",
              "      <td>0.044704</td>\n",
              "      <td>0.069720</td>\n",
              "      <td>0.008337</td>\n",
              "      <td>-0.412502</td>\n",
              "      <td>0.449088</td>\n",
              "      <td>0.064563</td>\n",
              "    </tr>\n",
              "    <tr>\n",
              "      <th>Bedroom2</th>\n",
              "      <td>0.943839</td>\n",
              "      <td>0.539267</td>\n",
              "      <td>0.294333</td>\n",
              "      <td>0.059705</td>\n",
              "      <td>1.000000</td>\n",
              "      <td>0.585711</td>\n",
              "      <td>0.405274</td>\n",
              "      <td>0.189861</td>\n",
              "      <td>0.709958</td>\n",
              "      <td>-0.100374</td>\n",
              "      <td>0.014023</td>\n",
              "      <td>0.102682</td>\n",
              "      <td>-0.080548</td>\n",
              "    </tr>\n",
              "    <tr>\n",
              "      <th>Bathroom</th>\n",
              "      <td>0.594016</td>\n",
              "      <td>0.457226</td>\n",
              "      <td>0.125321</td>\n",
              "      <td>0.112689</td>\n",
              "      <td>0.585711</td>\n",
              "      <td>1.000000</td>\n",
              "      <td>0.322354</td>\n",
              "      <td>0.113105</td>\n",
              "      <td>0.574391</td>\n",
              "      <td>0.059703</td>\n",
              "      <td>-0.072572</td>\n",
              "      <td>0.120245</td>\n",
              "      <td>-0.051411</td>\n",
              "    </tr>\n",
              "    <tr>\n",
              "      <th>Car</th>\n",
              "      <td>0.408600</td>\n",
              "      <td>0.256204</td>\n",
              "      <td>0.261357</td>\n",
              "      <td>0.047909</td>\n",
              "      <td>0.405274</td>\n",
              "      <td>0.322354</td>\n",
              "      <td>1.000000</td>\n",
              "      <td>0.186829</td>\n",
              "      <td>0.355043</td>\n",
              "      <td>0.051549</td>\n",
              "      <td>-0.003528</td>\n",
              "      <td>0.064321</td>\n",
              "      <td>-0.023880</td>\n",
              "    </tr>\n",
              "    <tr>\n",
              "      <th>Landsize</th>\n",
              "      <td>0.193736</td>\n",
              "      <td>0.131764</td>\n",
              "      <td>0.158116</td>\n",
              "      <td>0.044704</td>\n",
              "      <td>0.189861</td>\n",
              "      <td>0.113105</td>\n",
              "      <td>0.186829</td>\n",
              "      <td>1.000000</td>\n",
              "      <td>0.175035</td>\n",
              "      <td>0.001532</td>\n",
              "      <td>0.001840</td>\n",
              "      <td>0.080733</td>\n",
              "      <td>-0.018605</td>\n",
              "    </tr>\n",
              "    <tr>\n",
              "      <th>BuildingArea</th>\n",
              "      <td>0.742618</td>\n",
              "      <td>0.536901</td>\n",
              "      <td>0.213341</td>\n",
              "      <td>0.069720</td>\n",
              "      <td>0.709958</td>\n",
              "      <td>0.574391</td>\n",
              "      <td>0.355043</td>\n",
              "      <td>0.175035</td>\n",
              "      <td>1.000000</td>\n",
              "      <td>-0.039582</td>\n",
              "      <td>-0.028554</td>\n",
              "      <td>0.113148</td>\n",
              "      <td>-0.064207</td>\n",
              "    </tr>\n",
              "    <tr>\n",
              "      <th>YearBuilt</th>\n",
              "      <td>-0.112117</td>\n",
              "      <td>-0.406760</td>\n",
              "      <td>0.215532</td>\n",
              "      <td>0.008337</td>\n",
              "      <td>-0.100374</td>\n",
              "      <td>0.059703</td>\n",
              "      <td>0.051549</td>\n",
              "      <td>0.001532</td>\n",
              "      <td>-0.039582</td>\n",
              "      <td>1.000000</td>\n",
              "      <td>0.073854</td>\n",
              "      <td>-0.028491</td>\n",
              "      <td>0.009429</td>\n",
              "    </tr>\n",
              "    <tr>\n",
              "      <th>Lattitude</th>\n",
              "      <td>0.013985</td>\n",
              "      <td>-0.224714</td>\n",
              "      <td>-0.139604</td>\n",
              "      <td>-0.412502</td>\n",
              "      <td>0.014023</td>\n",
              "      <td>-0.072572</td>\n",
              "      <td>-0.003528</td>\n",
              "      <td>0.001840</td>\n",
              "      <td>-0.028554</td>\n",
              "      <td>0.073854</td>\n",
              "      <td>1.000000</td>\n",
              "      <td>-0.355845</td>\n",
              "      <td>0.048510</td>\n",
              "    </tr>\n",
              "    <tr>\n",
              "      <th>Longtitude</th>\n",
              "      <td>0.101141</td>\n",
              "      <td>0.241964</td>\n",
              "      <td>0.244180</td>\n",
              "      <td>0.449088</td>\n",
              "      <td>0.102682</td>\n",
              "      <td>0.120245</td>\n",
              "      <td>0.064321</td>\n",
              "      <td>0.080733</td>\n",
              "      <td>0.113148</td>\n",
              "      <td>-0.028491</td>\n",
              "      <td>-0.355845</td>\n",
              "      <td>1.000000</td>\n",
              "      <td>0.066381</td>\n",
              "    </tr>\n",
              "    <tr>\n",
              "      <th>Propertycount</th>\n",
              "      <td>-0.080885</td>\n",
              "      <td>-0.063295</td>\n",
              "      <td>-0.052877</td>\n",
              "      <td>0.064563</td>\n",
              "      <td>-0.080548</td>\n",
              "      <td>-0.051411</td>\n",
              "      <td>-0.023880</td>\n",
              "      <td>-0.018605</td>\n",
              "      <td>-0.064207</td>\n",
              "      <td>0.009429</td>\n",
              "      <td>0.048510</td>\n",
              "      <td>0.066381</td>\n",
              "      <td>1.000000</td>\n",
              "    </tr>\n",
              "  </tbody>\n",
              "</table>\n",
              "</div>"
            ],
            "text/plain": [
              "                  Rooms     Price  Distance  Postcode  Bedroom2  Bathroom  \\\n",
              "Rooms          1.000000  0.562532  0.292645  0.054500  0.943839  0.594016   \n",
              "Price          0.562532  1.000000 -0.153412  0.092123  0.539267  0.457226   \n",
              "Distance       0.292645 -0.153412  1.000000  0.429282  0.294333  0.125321   \n",
              "Postcode       0.054500  0.092123  0.429282  1.000000  0.059705  0.112689   \n",
              "Bedroom2       0.943839  0.539267  0.294333  0.059705  1.000000  0.585711   \n",
              "Bathroom       0.594016  0.457226  0.125321  0.112689  0.585711  1.000000   \n",
              "Car            0.408600  0.256204  0.261357  0.047909  0.405274  0.322354   \n",
              "Landsize       0.193736  0.131764  0.158116  0.044704  0.189861  0.113105   \n",
              "BuildingArea   0.742618  0.536901  0.213341  0.069720  0.709958  0.574391   \n",
              "YearBuilt     -0.112117 -0.406760  0.215532  0.008337 -0.100374  0.059703   \n",
              "Lattitude      0.013985 -0.224714 -0.139604 -0.412502  0.014023 -0.072572   \n",
              "Longtitude     0.101141  0.241964  0.244180  0.449088  0.102682  0.120245   \n",
              "Propertycount -0.080885 -0.063295 -0.052877  0.064563 -0.080548 -0.051411   \n",
              "\n",
              "                    Car  Landsize  BuildingArea  YearBuilt  Lattitude  \\\n",
              "Rooms          0.408600  0.193736      0.742618  -0.112117   0.013985   \n",
              "Price          0.256204  0.131764      0.536901  -0.406760  -0.224714   \n",
              "Distance       0.261357  0.158116      0.213341   0.215532  -0.139604   \n",
              "Postcode       0.047909  0.044704      0.069720   0.008337  -0.412502   \n",
              "Bedroom2       0.405274  0.189861      0.709958  -0.100374   0.014023   \n",
              "Bathroom       0.322354  0.113105      0.574391   0.059703  -0.072572   \n",
              "Car            1.000000  0.186829      0.355043   0.051549  -0.003528   \n",
              "Landsize       0.186829  1.000000      0.175035   0.001532   0.001840   \n",
              "BuildingArea   0.355043  0.175035      1.000000  -0.039582  -0.028554   \n",
              "YearBuilt      0.051549  0.001532     -0.039582   1.000000   0.073854   \n",
              "Lattitude     -0.003528  0.001840     -0.028554   0.073854   1.000000   \n",
              "Longtitude     0.064321  0.080733      0.113148  -0.028491  -0.355845   \n",
              "Propertycount -0.023880 -0.018605     -0.064207   0.009429   0.048510   \n",
              "\n",
              "               Longtitude  Propertycount  \n",
              "Rooms            0.101141      -0.080885  \n",
              "Price            0.241964      -0.063295  \n",
              "Distance         0.244180      -0.052877  \n",
              "Postcode         0.449088       0.064563  \n",
              "Bedroom2         0.102682      -0.080548  \n",
              "Bathroom         0.120245      -0.051411  \n",
              "Car              0.064321      -0.023880  \n",
              "Landsize         0.080733      -0.018605  \n",
              "BuildingArea     0.113148      -0.064207  \n",
              "YearBuilt       -0.028491       0.009429  \n",
              "Lattitude       -0.355845       0.048510  \n",
              "Longtitude       1.000000       0.066381  \n",
              "Propertycount    0.066381       1.000000  "
            ]
          },
          "metadata": {
            "tags": []
          },
          "execution_count": 44
        }
      ]
    },
    {
      "cell_type": "code",
      "metadata": {
        "id": "SpOl7pHtoXNS"
      },
      "source": [
        "df.drop(['Postcode','PriceClass'],axis=1,inplace=True)"
      ],
      "execution_count": null,
      "outputs": []
    },
    {
      "cell_type": "code",
      "metadata": {
        "id": "dmLnIzlWonEj"
      },
      "source": [
        "df = pd.concat([df,pd.get_dummies(df['Type'],drop_first=True),pd.get_dummies(df['Method'],drop_first=True),\n",
        "                pd.get_dummies(df['Regionname'],drop_first=True)],axis=1)"
      ],
      "execution_count": null,
      "outputs": []
    },
    {
      "cell_type": "code",
      "metadata": {
        "id": "qy-r85tzo8VG"
      },
      "source": [
        "df.drop(['Type','Method','Regionname'],axis=1,inplace=True)"
      ],
      "execution_count": null,
      "outputs": []
    },
    {
      "cell_type": "code",
      "metadata": {
        "id": "OZ0AYwjJptT4",
        "outputId": "8e89704a-d4f1-4f9e-f63b-834e9f033fb0",
        "colab": {
          "base_uri": "https://localhost:8080/"
        }
      },
      "source": [
        "df.info()"
      ],
      "execution_count": null,
      "outputs": [
        {
          "output_type": "stream",
          "text": [
            "<class 'pandas.core.frame.DataFrame'>\n",
            "Int64Index: 13482 entries, 0 to 13517\n",
            "Data columns (total 26 columns):\n",
            " #   Column                      Non-Null Count  Dtype  \n",
            "---  ------                      --------------  -----  \n",
            " 0   Rooms                       13482 non-null  int64  \n",
            " 1   Price                       13482 non-null  float64\n",
            " 2   Date                        13482 non-null  object \n",
            " 3   Distance                    13482 non-null  float64\n",
            " 4   Bedroom2                    13482 non-null  float64\n",
            " 5   Bathroom                    13482 non-null  float64\n",
            " 6   Car                         13482 non-null  float64\n",
            " 7   Landsize                    13482 non-null  float64\n",
            " 8   BuildingArea                13482 non-null  float64\n",
            " 9   YearBuilt                   13482 non-null  float64\n",
            " 10  Lattitude                   13482 non-null  float64\n",
            " 11  Longtitude                  13482 non-null  float64\n",
            " 12  Propertycount               13482 non-null  float64\n",
            " 13  t                           13482 non-null  uint8  \n",
            " 14  u                           13482 non-null  uint8  \n",
            " 15  S                           13482 non-null  uint8  \n",
            " 16  SA                          13482 non-null  uint8  \n",
            " 17  SP                          13482 non-null  uint8  \n",
            " 18  VB                          13482 non-null  uint8  \n",
            " 19  Eastern Victoria            13482 non-null  uint8  \n",
            " 20  Northern Metropolitan       13482 non-null  uint8  \n",
            " 21  Northern Victoria           13482 non-null  uint8  \n",
            " 22  South-Eastern Metropolitan  13482 non-null  uint8  \n",
            " 23  Southern Metropolitan       13482 non-null  uint8  \n",
            " 24  Western Metropolitan        13482 non-null  uint8  \n",
            " 25  Western Victoria            13482 non-null  uint8  \n",
            "dtypes: float64(11), int64(1), object(1), uint8(13)\n",
            "memory usage: 2.2+ MB\n"
          ],
          "name": "stdout"
        }
      ]
    },
    {
      "cell_type": "code",
      "metadata": {
        "id": "_fFdN1B0p5FQ",
        "outputId": "f9c1890a-3db5-46d8-a5f1-855120ccc30c",
        "colab": {
          "base_uri": "https://localhost:8080/",
          "height": 249
        }
      },
      "source": [
        "df.head()"
      ],
      "execution_count": null,
      "outputs": [
        {
          "output_type": "execute_result",
          "data": {
            "text/html": [
              "<div>\n",
              "<style scoped>\n",
              "    .dataframe tbody tr th:only-of-type {\n",
              "        vertical-align: middle;\n",
              "    }\n",
              "\n",
              "    .dataframe tbody tr th {\n",
              "        vertical-align: top;\n",
              "    }\n",
              "\n",
              "    .dataframe thead th {\n",
              "        text-align: right;\n",
              "    }\n",
              "</style>\n",
              "<table border=\"1\" class=\"dataframe\">\n",
              "  <thead>\n",
              "    <tr style=\"text-align: right;\">\n",
              "      <th></th>\n",
              "      <th>Rooms</th>\n",
              "      <th>Price</th>\n",
              "      <th>Date</th>\n",
              "      <th>Distance</th>\n",
              "      <th>Bedroom2</th>\n",
              "      <th>Bathroom</th>\n",
              "      <th>Car</th>\n",
              "      <th>Landsize</th>\n",
              "      <th>BuildingArea</th>\n",
              "      <th>YearBuilt</th>\n",
              "      <th>Lattitude</th>\n",
              "      <th>Longtitude</th>\n",
              "      <th>Propertycount</th>\n",
              "      <th>t</th>\n",
              "      <th>u</th>\n",
              "      <th>S</th>\n",
              "      <th>SA</th>\n",
              "      <th>SP</th>\n",
              "      <th>VB</th>\n",
              "      <th>Eastern Victoria</th>\n",
              "      <th>Northern Metropolitan</th>\n",
              "      <th>Northern Victoria</th>\n",
              "      <th>South-Eastern Metropolitan</th>\n",
              "      <th>Southern Metropolitan</th>\n",
              "      <th>Western Metropolitan</th>\n",
              "      <th>Western Victoria</th>\n",
              "    </tr>\n",
              "  </thead>\n",
              "  <tbody>\n",
              "    <tr>\n",
              "      <th>0</th>\n",
              "      <td>2</td>\n",
              "      <td>14.207553</td>\n",
              "      <td>3/12/2016</td>\n",
              "      <td>2.5</td>\n",
              "      <td>2.0</td>\n",
              "      <td>1.0</td>\n",
              "      <td>1.0</td>\n",
              "      <td>202.0</td>\n",
              "      <td>89.628209</td>\n",
              "      <td>1970.0</td>\n",
              "      <td>-37.7996</td>\n",
              "      <td>144.9984</td>\n",
              "      <td>4019.0</td>\n",
              "      <td>0</td>\n",
              "      <td>0</td>\n",
              "      <td>1</td>\n",
              "      <td>0</td>\n",
              "      <td>0</td>\n",
              "      <td>0</td>\n",
              "      <td>0</td>\n",
              "      <td>1</td>\n",
              "      <td>0</td>\n",
              "      <td>0</td>\n",
              "      <td>0</td>\n",
              "      <td>0</td>\n",
              "      <td>0</td>\n",
              "    </tr>\n",
              "    <tr>\n",
              "      <th>1</th>\n",
              "      <td>2</td>\n",
              "      <td>13.849912</td>\n",
              "      <td>4/02/2016</td>\n",
              "      <td>2.5</td>\n",
              "      <td>2.0</td>\n",
              "      <td>1.0</td>\n",
              "      <td>0.0</td>\n",
              "      <td>156.0</td>\n",
              "      <td>79.000000</td>\n",
              "      <td>1900.0</td>\n",
              "      <td>-37.8079</td>\n",
              "      <td>144.9934</td>\n",
              "      <td>4019.0</td>\n",
              "      <td>0</td>\n",
              "      <td>0</td>\n",
              "      <td>1</td>\n",
              "      <td>0</td>\n",
              "      <td>0</td>\n",
              "      <td>0</td>\n",
              "      <td>0</td>\n",
              "      <td>1</td>\n",
              "      <td>0</td>\n",
              "      <td>0</td>\n",
              "      <td>0</td>\n",
              "      <td>0</td>\n",
              "      <td>0</td>\n",
              "    </tr>\n",
              "    <tr>\n",
              "      <th>2</th>\n",
              "      <td>3</td>\n",
              "      <td>14.197366</td>\n",
              "      <td>4/03/2017</td>\n",
              "      <td>2.5</td>\n",
              "      <td>3.0</td>\n",
              "      <td>2.0</td>\n",
              "      <td>0.0</td>\n",
              "      <td>134.0</td>\n",
              "      <td>150.000000</td>\n",
              "      <td>1900.0</td>\n",
              "      <td>-37.8093</td>\n",
              "      <td>144.9944</td>\n",
              "      <td>4019.0</td>\n",
              "      <td>0</td>\n",
              "      <td>0</td>\n",
              "      <td>0</td>\n",
              "      <td>0</td>\n",
              "      <td>1</td>\n",
              "      <td>0</td>\n",
              "      <td>0</td>\n",
              "      <td>1</td>\n",
              "      <td>0</td>\n",
              "      <td>0</td>\n",
              "      <td>0</td>\n",
              "      <td>0</td>\n",
              "      <td>0</td>\n",
              "    </tr>\n",
              "    <tr>\n",
              "      <th>3</th>\n",
              "      <td>3</td>\n",
              "      <td>13.652992</td>\n",
              "      <td>4/03/2017</td>\n",
              "      <td>2.5</td>\n",
              "      <td>3.0</td>\n",
              "      <td>2.0</td>\n",
              "      <td>1.0</td>\n",
              "      <td>94.0</td>\n",
              "      <td>138.917240</td>\n",
              "      <td>1970.0</td>\n",
              "      <td>-37.7969</td>\n",
              "      <td>144.9969</td>\n",
              "      <td>4019.0</td>\n",
              "      <td>0</td>\n",
              "      <td>0</td>\n",
              "      <td>0</td>\n",
              "      <td>0</td>\n",
              "      <td>0</td>\n",
              "      <td>0</td>\n",
              "      <td>0</td>\n",
              "      <td>1</td>\n",
              "      <td>0</td>\n",
              "      <td>0</td>\n",
              "      <td>0</td>\n",
              "      <td>0</td>\n",
              "      <td>0</td>\n",
              "    </tr>\n",
              "    <tr>\n",
              "      <th>4</th>\n",
              "      <td>4</td>\n",
              "      <td>14.285514</td>\n",
              "      <td>4/06/2016</td>\n",
              "      <td>2.5</td>\n",
              "      <td>3.0</td>\n",
              "      <td>1.0</td>\n",
              "      <td>2.0</td>\n",
              "      <td>120.0</td>\n",
              "      <td>142.000000</td>\n",
              "      <td>2014.0</td>\n",
              "      <td>-37.8072</td>\n",
              "      <td>144.9941</td>\n",
              "      <td>4019.0</td>\n",
              "      <td>0</td>\n",
              "      <td>0</td>\n",
              "      <td>0</td>\n",
              "      <td>0</td>\n",
              "      <td>0</td>\n",
              "      <td>1</td>\n",
              "      <td>0</td>\n",
              "      <td>1</td>\n",
              "      <td>0</td>\n",
              "      <td>0</td>\n",
              "      <td>0</td>\n",
              "      <td>0</td>\n",
              "      <td>0</td>\n",
              "    </tr>\n",
              "  </tbody>\n",
              "</table>\n",
              "</div>"
            ],
            "text/plain": [
              "   Rooms      Price       Date  Distance  Bedroom2  Bathroom  Car  Landsize  \\\n",
              "0      2  14.207553  3/12/2016       2.5       2.0       1.0  1.0     202.0   \n",
              "1      2  13.849912  4/02/2016       2.5       2.0       1.0  0.0     156.0   \n",
              "2      3  14.197366  4/03/2017       2.5       3.0       2.0  0.0     134.0   \n",
              "3      3  13.652992  4/03/2017       2.5       3.0       2.0  1.0      94.0   \n",
              "4      4  14.285514  4/06/2016       2.5       3.0       1.0  2.0     120.0   \n",
              "\n",
              "   BuildingArea  YearBuilt  Lattitude  Longtitude  Propertycount  t  u  S  SA  \\\n",
              "0     89.628209     1970.0   -37.7996    144.9984         4019.0  0  0  1   0   \n",
              "1     79.000000     1900.0   -37.8079    144.9934         4019.0  0  0  1   0   \n",
              "2    150.000000     1900.0   -37.8093    144.9944         4019.0  0  0  0   0   \n",
              "3    138.917240     1970.0   -37.7969    144.9969         4019.0  0  0  0   0   \n",
              "4    142.000000     2014.0   -37.8072    144.9941         4019.0  0  0  0   0   \n",
              "\n",
              "   SP  VB  Eastern Victoria  Northern Metropolitan  Northern Victoria  \\\n",
              "0   0   0                 0                      1                  0   \n",
              "1   0   0                 0                      1                  0   \n",
              "2   1   0                 0                      1                  0   \n",
              "3   0   0                 0                      1                  0   \n",
              "4   0   1                 0                      1                  0   \n",
              "\n",
              "   South-Eastern Metropolitan  Southern Metropolitan  Western Metropolitan  \\\n",
              "0                           0                      0                     0   \n",
              "1                           0                      0                     0   \n",
              "2                           0                      0                     0   \n",
              "3                           0                      0                     0   \n",
              "4                           0                      0                     0   \n",
              "\n",
              "   Western Victoria  \n",
              "0                 0  \n",
              "1                 0  \n",
              "2                 0  \n",
              "3                 0  \n",
              "4                 0  "
            ]
          },
          "metadata": {
            "tags": []
          },
          "execution_count": 49
        }
      ]
    },
    {
      "cell_type": "code",
      "metadata": {
        "id": "1_V-cPpVp-WU"
      },
      "source": [
        "df['MonthSold'] = pd.to_datetime(df['Date']).apply(lambda x:x.month)\n",
        "df['YearSold'] = pd.to_datetime(df['Date']).apply(lambda x:x.year)\n",
        "df.drop(['Date'],axis=1,inplace=True)"
      ],
      "execution_count": null,
      "outputs": []
    },
    {
      "cell_type": "code",
      "metadata": {
        "id": "vyMXKYvBqRlA",
        "outputId": "727bf496-548a-48c9-aa27-9b526ff4531a",
        "colab": {
          "base_uri": "https://localhost:8080/",
          "height": 296
        }
      },
      "source": [
        "df.groupby(by='MonthSold')['Price'].mean().plot()"
      ],
      "execution_count": null,
      "outputs": [
        {
          "output_type": "execute_result",
          "data": {
            "text/plain": [
              "<matplotlib.axes._subplots.AxesSubplot at 0x7f3b5ad9b978>"
            ]
          },
          "metadata": {
            "tags": []
          },
          "execution_count": 51
        },
        {
          "output_type": "display_data",
          "data": {
            "image/png": "[encoded data removed]",
            "text/plain": [
              "<Figure size 432x288 with 1 Axes>"
            ]
          },
          "metadata": {
            "tags": [],
            "needs_background": "light"
          }
        }
      ]
    },
    {
      "cell_type": "code",
      "metadata": {
        "id": "hLO1wlp-rEOA",
        "outputId": "8f0a621f-2853-4a3a-c455-f5bcc714108e",
        "colab": {
          "base_uri": "https://localhost:8080/"
        }
      },
      "source": [
        "df.info()"
      ],
      "execution_count": null,
      "outputs": [
        {
          "output_type": "stream",
          "text": [
            "<class 'pandas.core.frame.DataFrame'>\n",
            "Int64Index: 13482 entries, 0 to 13517\n",
            "Data columns (total 27 columns):\n",
            " #   Column                      Non-Null Count  Dtype  \n",
            "---  ------                      --------------  -----  \n",
            " 0   Rooms                       13482 non-null  int64  \n",
            " 1   Price                       13482 non-null  float64\n",
            " 2   Distance                    13482 non-null  float64\n",
            " 3   Bedroom2                    13482 non-null  float64\n",
            " 4   Bathroom                    13482 non-null  float64\n",
            " 5   Car                         13482 non-null  float64\n",
            " 6   Landsize                    13482 non-null  float64\n",
            " 7   BuildingArea                13482 non-null  float64\n",
            " 8   YearBuilt                   13482 non-null  float64\n",
            " 9   Lattitude                   13482 non-null  float64\n",
            " 10  Longtitude                  13482 non-null  float64\n",
            " 11  Propertycount               13482 non-null  float64\n",
            " 12  t                           13482 non-null  uint8  \n",
            " 13  u                           13482 non-null  uint8  \n",
            " 14  S                           13482 non-null  uint8  \n",
            " 15  SA                          13482 non-null  uint8  \n",
            " 16  SP                          13482 non-null  uint8  \n",
            " 17  VB                          13482 non-null  uint8  \n",
            " 18  Eastern Victoria            13482 non-null  uint8  \n",
            " 19  Northern Metropolitan       13482 non-null  uint8  \n",
            " 20  Northern Victoria           13482 non-null  uint8  \n",
            " 21  South-Eastern Metropolitan  13482 non-null  uint8  \n",
            " 22  Southern Metropolitan       13482 non-null  uint8  \n",
            " 23  Western Metropolitan        13482 non-null  uint8  \n",
            " 24  Western Victoria            13482 non-null  uint8  \n",
            " 25  MonthSold                   13482 non-null  int64  \n",
            " 26  YearSold                    13482 non-null  int64  \n",
            "dtypes: float64(11), int64(3), uint8(13)\n",
            "memory usage: 2.3 MB\n"
          ],
          "name": "stdout"
        }
      ]
    },
    {
      "cell_type": "code",
      "metadata": {
        "id": "_rVaH2iP4Ue6"
      },
      "source": [
        "#Starting modelling part\n",
        "\n",
        "from sklearn.model_selection import train_test_split\n",
        "from sklearn.preprocessing import MinMaxScaler"
      ],
      "execution_count": null,
      "outputs": []
    },
    {
      "cell_type": "code",
      "metadata": {
        "id": "88dMfyhC5Pft"
      },
      "source": [
        "y = df['Price'].values\n",
        "X = df.drop('Price',axis=1).values"
      ],
      "execution_count": null,
      "outputs": []
    },
    {
      "cell_type": "code",
      "metadata": {
        "id": "TZCe2g5b5ajM"
      },
      "source": [
        "y=np.expand_dims(y,axis=1)"
      ],
      "execution_count": null,
      "outputs": []
    },
    {
      "cell_type": "code",
      "metadata": {
        "id": "nDW8m9Er6Dj5",
        "outputId": "cf1e20fc-3e56-4483-8472-2fc3b04eea9c",
        "colab": {
          "base_uri": "https://localhost:8080/"
        }
      },
      "source": [
        "print(X.shape)\n",
        "print(y.shape)"
      ],
      "execution_count": null,
      "outputs": [
        {
          "output_type": "stream",
          "text": [
            "(13482, 26)\n",
            "(13482, 1)\n"
          ],
          "name": "stdout"
        }
      ]
    },
    {
      "cell_type": "code",
      "metadata": {
        "id": "-Sdl7bwr5Hr3"
      },
      "source": [
        "X_train, X_test, y_train, y_test = train_test_split(X, y, test_size=0.2,shuffle=True, random_state=101)"
      ],
      "execution_count": null,
      "outputs": []
    },
    {
      "cell_type": "code",
      "metadata": {
        "id": "TT48TUdi6Nev",
        "outputId": "cea03f3f-ce63-450d-9afd-88f905bf3b0c",
        "colab": {
          "base_uri": "https://localhost:8080/"
        }
      },
      "source": [
        "print(X_test.shape)\n",
        "print(X_train.shape)"
      ],
      "execution_count": null,
      "outputs": [
        {
          "output_type": "stream",
          "text": [
            "(2697, 26)\n",
            "(10785, 26)\n"
          ],
          "name": "stdout"
        }
      ]
    },
    {
      "cell_type": "code",
      "metadata": {
        "id": "BIUd3LM_6Ry6"
      },
      "source": [
        "scaler = MinMaxScaler()\n",
        "X_train = scaler.fit_transform(X_train)"
      ],
      "execution_count": null,
      "outputs": []
    },
    {
      "cell_type": "code",
      "metadata": {
        "id": "Z1gCy1pr6brx"
      },
      "source": [
        "X_test = scaler.transform(X_test)"
      ],
      "execution_count": null,
      "outputs": []
    },
    {
      "cell_type": "code",
      "metadata": {
        "id": "8MX2QX0l6g1B"
      },
      "source": [
        "from tensorflow.keras.models import Sequential\n",
        "from tensorflow.keras.layers import Dropout,Dense\n",
        "\n",
        "from tensorflow.keras.callbacks import EarlyStopping\n",
        "from sklearn.metrics import mean_squared_error\n",
        "from sklearn.metrics import mean_absolute_error\n",
        "from sklearn.metrics import explained_variance_score\n",
        "from sklearn.metrics import r2_score"
      ],
      "execution_count": null,
      "outputs": []
    },
    {
      "cell_type": "code",
      "metadata": {
        "id": "sf9WtEwlr7AA",
        "outputId": "0b8b07ec-4e27-45dd-8199-9aeec60209c0",
        "colab": {
          "base_uri": "https://localhost:8080/"
        }
      },
      "source": [
        "from sklearn.ensemble import GradientBoostingRegressor\n",
        "\n",
        "GBRT = GradientBoostingRegressor(max_depth=2, n_estimators=120)\n",
        "GBRT.fit(X_train, y_train)\n",
        "\n",
        "errors = [mean_squared_error(y_test, y_pred)\n",
        "         for y_pred in GBRT.staged_predict(X_test)]\n",
        "best_n_estimators = np.argmin(errors)\n",
        "\n",
        "GBRT_best = GradientBoostingRegressor(max_depth=2, n_estimators=best_n_estimators)\n",
        "GBRT_best.fit(X_train, y_train)\n",
        "y_pred = GBRT_best.predict(X_test)\n",
        "\n",
        "# Display\n",
        "print('Gradient Boosting Regressor')\n",
        "print('\\nR-squared training set:')\n",
        "print(GBRT_best.score(X_train, y_train))\n",
        "\n",
        "print('\\nR-squared test set:')\n",
        "print(GBRT_best.score(X_test, y_test))"
      ],
      "execution_count": null,
      "outputs": [
        {
          "output_type": "stream",
          "text": [
            "/usr/local/lib/python3.6/dist-packages/sklearn/ensemble/_gb.py:1454: DataConversionWarning: A column-vector y was passed when a 1d array was expected. Please change the shape of y to (n_samples, ), for example using ravel().\n",
            "  y = column_or_1d(y, warn=True)\n",
            "/usr/local/lib/python3.6/dist-packages/sklearn/ensemble/_gb.py:1454: DataConversionWarning: A column-vector y was passed when a 1d array was expected. Please change the shape of y to (n_samples, ), for example using ravel().\n",
            "  y = column_or_1d(y, warn=True)\n"
          ],
          "name": "stderr"
        },
        {
          "output_type": "stream",
          "text": [
            "Gradient Boosting Regressor\n",
            "\n",
            "R-squared training set:\n",
            "0.8455370779034975\n",
            "\n",
            "R-squared test set:\n",
            "0.8344085658169982\n"
          ],
          "name": "stdout"
        }
      ]
    },
    {
      "cell_type": "code",
      "metadata": {
        "id": "80d3ZbgYr-Bk"
      },
      "source": [
        ""
      ],
      "execution_count": null,
      "outputs": []
    },
    {
      "cell_type": "code",
      "metadata": {
        "id": "ZrVag4RM7Cje"
      },
      "source": [
        "# def build_model1(learning_rate=0.01):\n",
        "#   model = Sequential()\n",
        "#   model.add(Dense(27,activation='relu'))\n",
        "#   model.add(Dense(27,activation='relu'))\n",
        "#   model.add(Dense(27,activation='relu'))\n",
        "#   model.add(Dense(27,activation='relu'))\n",
        "#   model.add(Dense(20,activation='relu'))\n",
        "#   model.add(Dense(20,activation='relu'))\n",
        "#   model.add(Dense(20,activation='relu'))\n",
        "#   model.add(Dense(20,activation='relu'))\n",
        "#   model.add(Dense(20,activation='relu'))\n",
        "#   model.add(Dense(20,activation='relu'))\n",
        "#   model.add(Dense(15,activation='relu'))\n",
        "#   model.add(Dense(15,activation='relu'))\n",
        "#   model.add(Dense(15,activation='relu'))\n",
        "#   model.add(Dense(15,activation='relu'))\n",
        "#   model.add(Dense(15,activation='relu'))\n",
        "#   model.add(Dense(15,activation='relu'))\n",
        "#   model.add(Dense(10,activation='relu'))\n",
        "#   model.add(Dense(10,activation='relu'))\n",
        "#   model.add(Dense(10,activation='relu'))\n",
        "#   model.add(Dense(10,activation='relu'))\n",
        "#   model.add(Dense(10,activation='relu'))\n",
        "#   model.add(Dense(10,activation='relu'))\n",
        "#   model.add(Dense(1,activation='linear'))\n",
        "\n",
        "#   adam_opt = keras.optimizers.Adam(learning_rate=learning_rate)\n",
        "#   model.compile(loss='mse',optimizer=adam_opt)\n",
        "\n",
        "#   return model\n",
        "\n",
        "\n",
        "# def run_model(model,batch_size=32,epochs=50): \n",
        "#   output = model.fit(X_train,y_train,validation_data=(X_test,y_test),epochs=epochs,batch_size=batch_size)\n",
        "#   return output\n",
        "\n",
        "# def pred_model(model):\n",
        "#   y_predt = model.predict(X_train)\n",
        "#   y_pred = model.predict(X_test)\n",
        "#   print(\"Mean absolute error on train data : \" + str(mean_absolute_error(y_train,y_predt)/np.mean(y_train)))\n",
        "#   print(\"Mean absolute error on test data : \" + str( mean_absolute_error(y_test,y_pred)/np.mean(y_test)))\n",
        "#   print(\"r2_score on train data : \" + str(r2_score(y_train,y_predt)))\n",
        "#   print(\"r2_score on test data : \" + str(r2_score(y_test,y_pred)))\n",
        "#   print(\"Explained variance score : \" + str(explained_variance_score(y_test,y_pred)))"
      ],
      "execution_count": null,
      "outputs": []
    },
    {
      "cell_type": "code",
      "metadata": {
        "id": "s_dCGwmQ8xtx"
      },
      "source": [
        "import tensorflow as tf\n",
        "def r2(labels,predictions):\n",
        "  unexplained_error = tf.reduce_sum(tf.square(labels - predictions))\n",
        "  total_error = tf.reduce_sum(tf.square(labels - tf.reduce_mean(labels, axis=0)))\n",
        "  R2 = 1. - tf.compat.v1.div(unexplained_error, total_error)\n",
        "\n",
        "  return R2\n",
        "\n",
        "\n",
        "def build_model1(learning_rate=0.001):\n",
        "  model = Sequential()\n",
        "  model.add(Dense(20,activation='relu'))\n",
        "  model.add(Dense(15,activation='relu'))\n",
        "  model.add(Dense(10,activation='relu'))\n",
        "  model.add(Dense(1,activation='linear'))\n",
        "\n",
        "  adam_opt = keras.optimizers.Adam(learning_rate=learning_rate)\n",
        "  model.compile(loss='mse',optimizer=adam_opt,metrics=[r2])\n",
        "\n",
        "  return model\n",
        "\n",
        "\n",
        "def run_model(model,batch_size=32,epochs=50):\n",
        "  #lr_scheduler = keras.callbacks.LearningRateScheduler(lambda epoch: 1e-6*(10**(epoch/100)))\n",
        "\n",
        "  output = model.fit(X_train,y_train,validation_data=(X_test,y_test),epochs=epochs,batch_size=batch_size,callbacks=[])\n",
        "  return output\n",
        "\n",
        "def pred_model(model):\n",
        "  y_predt = model.predict(X_train)\n",
        "  y_pred = model.predict(X_test)\n",
        "  print(\"Mean absolute error on train data : \" + str(mean_absolute_error(y_train,y_predt)/np.mean(y_train)))\n",
        "  print(\"Mean absolute error on test data : \" + str( mean_absolute_error(y_test,y_pred)/np.mean(y_test)))\n",
        "  print(\"r2_score on train data : \" + str(r2_score(y_train,y_predt)))\n",
        "  print(\"r2_score on test data : \" + str(r2_score(y_test,y_pred)))\n",
        "  print(\"Explained variance score : \" + str(explained_variance_score(y_test,y_pred)))"
      ],
      "execution_count": null,
      "outputs": []
    },
    {
      "cell_type": "code",
      "metadata": {
        "id": "xgxvH26VuAYH",
        "outputId": "6f123a64-cc17-4ff9-92ef-bcee9995d376",
        "colab": {
          "base_uri": "https://localhost:8080/",
          "height": 1000
        }
      },
      "source": [
        "model1 = build_model1(1e-3)\n",
        "\n",
        "output1 = pd.DataFrame(run_model(model1,64,500).history)\n",
        "\n",
        "#plt.semilogx(output1['lr'][10:],output1['val_loss'][10:])\n",
        "\n",
        "\n",
        "fig = plt.figure(figsize=(15,9))\n",
        "ax = fig.add_axes([0,0,1,1])\n",
        "ax.plot(output1['loss'][10:],label='model1 train loss')\n",
        "ax.plot(output1['val_loss'][10:],label='model1 val loss')\n",
        "\n",
        "ax.legend()\n",
        "\n",
        "pred_model(model1)"
      ],
      "execution_count": null,
      "outputs": [
        {
          "output_type": "stream",
          "text": [
            "Epoch 1/500\n",
            "169/169 [==============================] - 1s 5ms/step - loss: 144.6906 - r2: -540.0861 - val_loss: 6.1621 - val_r2: -22.3835\n",
            "Epoch 2/500\n",
            "169/169 [==============================] - 0s 1ms/step - loss: 3.0460 - r2: -10.5112 - val_loss: 2.1617 - val_r2: -7.3095\n",
            "Epoch 3/500\n",
            "169/169 [==============================] - 0s 2ms/step - loss: 1.8236 - r2: -5.8576 - val_loss: 1.5194 - val_r2: -4.8174\n",
            "Epoch 4/500\n",
            "169/169 [==============================] - 0s 1ms/step - loss: 1.3772 - r2: -4.1531 - val_loss: 1.2051 - val_r2: -3.5904\n",
            "Epoch 5/500\n",
            "169/169 [==============================] - 0s 2ms/step - loss: 1.0838 - r2: -3.0918 - val_loss: 0.9427 - val_r2: -2.5771\n",
            "Epoch 6/500\n",
            "169/169 [==============================] - 0s 1ms/step - loss: 0.8243 - r2: -2.0993 - val_loss: 0.7564 - val_r2: -1.8579\n",
            "Epoch 7/500\n",
            "169/169 [==============================] - 0s 2ms/step - loss: 0.6021 - r2: -1.2708 - val_loss: 0.5098 - val_r2: -0.9244\n",
            "Epoch 8/500\n",
            "169/169 [==============================] - 0s 1ms/step - loss: 0.4329 - r2: -0.6165 - val_loss: 0.3688 - val_r2: -0.3975\n",
            "Epoch 9/500\n",
            "169/169 [==============================] - 0s 1ms/step - loss: 0.3205 - r2: -0.1971 - val_loss: 0.2810 - val_r2: -0.0622\n",
            "Epoch 10/500\n",
            "169/169 [==============================] - 0s 1ms/step - loss: 0.2531 - r2: 0.0525 - val_loss: 0.2309 - val_r2: 0.1267\n",
            "Epoch 11/500\n",
            "169/169 [==============================] - 0s 1ms/step - loss: 0.2131 - r2: 0.1963 - val_loss: 0.2001 - val_r2: 0.2417\n",
            "Epoch 12/500\n",
            "169/169 [==============================] - 0s 2ms/step - loss: 0.1887 - r2: 0.2965 - val_loss: 0.1809 - val_r2: 0.3122\n",
            "Epoch 13/500\n",
            "169/169 [==============================] - 0s 1ms/step - loss: 0.1707 - r2: 0.3657 - val_loss: 0.1616 - val_r2: 0.3872\n",
            "Epoch 14/500\n",
            "169/169 [==============================] - 0s 1ms/step - loss: 0.1566 - r2: 0.4130 - val_loss: 0.1498 - val_r2: 0.4335\n",
            "Epoch 15/500\n",
            "169/169 [==============================] - 0s 1ms/step - loss: 0.1460 - r2: 0.4543 - val_loss: 0.1392 - val_r2: 0.4751\n",
            "Epoch 16/500\n",
            "169/169 [==============================] - 0s 1ms/step - loss: 0.1352 - r2: 0.4970 - val_loss: 0.1315 - val_r2: 0.5002\n",
            "Epoch 17/500\n",
            "169/169 [==============================] - 0s 1ms/step - loss: 0.1262 - r2: 0.5294 - val_loss: 0.1207 - val_r2: 0.5418\n",
            "Epoch 18/500\n",
            "169/169 [==============================] - 0s 2ms/step - loss: 0.1180 - r2: 0.5580 - val_loss: 0.1133 - val_r2: 0.5715\n",
            "Epoch 19/500\n",
            "169/169 [==============================] - 0s 1ms/step - loss: 0.1122 - r2: 0.5786 - val_loss: 0.1068 - val_r2: 0.5966\n",
            "Epoch 20/500\n",
            "169/169 [==============================] - 0s 1ms/step - loss: 0.1064 - r2: 0.6032 - val_loss: 0.1140 - val_r2: 0.5658\n",
            "Epoch 21/500\n",
            "169/169 [==============================] - 0s 1ms/step - loss: 0.1030 - r2: 0.6158 - val_loss: 0.1017 - val_r2: 0.6169\n",
            "Epoch 22/500\n",
            "169/169 [==============================] - 0s 1ms/step - loss: 0.0984 - r2: 0.6346 - val_loss: 0.0936 - val_r2: 0.6468\n",
            "Epoch 23/500\n",
            "169/169 [==============================] - 0s 1ms/step - loss: 0.0951 - r2: 0.6425 - val_loss: 0.0901 - val_r2: 0.6579\n",
            "Epoch 24/500\n",
            "169/169 [==============================] - 0s 1ms/step - loss: 0.0914 - r2: 0.6578 - val_loss: 0.0862 - val_r2: 0.6734\n",
            "Epoch 25/500\n",
            "169/169 [==============================] - 0s 1ms/step - loss: 0.0891 - r2: 0.6680 - val_loss: 0.0839 - val_r2: 0.6830\n",
            "Epoch 26/500\n",
            "169/169 [==============================] - 0s 2ms/step - loss: 0.0874 - r2: 0.6778 - val_loss: 0.0808 - val_r2: 0.6950\n",
            "Epoch 27/500\n",
            "169/169 [==============================] - 0s 1ms/step - loss: 0.0841 - r2: 0.6862 - val_loss: 0.0781 - val_r2: 0.7051\n",
            "Epoch 28/500\n",
            "169/169 [==============================] - 0s 2ms/step - loss: 0.0825 - r2: 0.6931 - val_loss: 0.0763 - val_r2: 0.7117\n",
            "Epoch 29/500\n",
            "169/169 [==============================] - 0s 1ms/step - loss: 0.0827 - r2: 0.6930 - val_loss: 0.0779 - val_r2: 0.7046\n",
            "Epoch 30/500\n",
            "169/169 [==============================] - 0s 1ms/step - loss: 0.0794 - r2: 0.7045 - val_loss: 0.0756 - val_r2: 0.7131\n",
            "Epoch 31/500\n",
            "169/169 [==============================] - 0s 2ms/step - loss: 0.0782 - r2: 0.7093 - val_loss: 0.0743 - val_r2: 0.7196\n",
            "Epoch 32/500\n",
            "169/169 [==============================] - 0s 1ms/step - loss: 0.0778 - r2: 0.7113 - val_loss: 0.0720 - val_r2: 0.7281\n",
            "Epoch 33/500\n",
            "169/169 [==============================] - 0s 1ms/step - loss: 0.0759 - r2: 0.7167 - val_loss: 0.0759 - val_r2: 0.7139\n",
            "Epoch 34/500\n",
            "169/169 [==============================] - 0s 1ms/step - loss: 0.0749 - r2: 0.7221 - val_loss: 0.0729 - val_r2: 0.7247\n",
            "Epoch 35/500\n",
            "169/169 [==============================] - 0s 1ms/step - loss: 0.0728 - r2: 0.7293 - val_loss: 0.0696 - val_r2: 0.7365\n",
            "Epoch 36/500\n",
            "169/169 [==============================] - 0s 1ms/step - loss: 0.0731 - r2: 0.7296 - val_loss: 0.0681 - val_r2: 0.7420\n",
            "Epoch 37/500\n",
            "169/169 [==============================] - 0s 1ms/step - loss: 0.0728 - r2: 0.7306 - val_loss: 0.0682 - val_r2: 0.7421\n",
            "Epoch 38/500\n",
            "169/169 [==============================] - 0s 1ms/step - loss: 0.0703 - r2: 0.7403 - val_loss: 0.0723 - val_r2: 0.7238\n",
            "Epoch 39/500\n",
            "169/169 [==============================] - 0s 1ms/step - loss: 0.0705 - r2: 0.7367 - val_loss: 0.0731 - val_r2: 0.7215\n",
            "Epoch 40/500\n",
            "169/169 [==============================] - 0s 1ms/step - loss: 0.0699 - r2: 0.7394 - val_loss: 0.0655 - val_r2: 0.7513\n",
            "Epoch 41/500\n",
            "169/169 [==============================] - 0s 1ms/step - loss: 0.0688 - r2: 0.7470 - val_loss: 0.0673 - val_r2: 0.7437\n",
            "Epoch 42/500\n",
            "169/169 [==============================] - 0s 1ms/step - loss: 0.0680 - r2: 0.7470 - val_loss: 0.0654 - val_r2: 0.7503\n",
            "Epoch 43/500\n",
            "169/169 [==============================] - 0s 2ms/step - loss: 0.0669 - r2: 0.7528 - val_loss: 0.0643 - val_r2: 0.7539\n",
            "Epoch 44/500\n",
            "169/169 [==============================] - 0s 1ms/step - loss: 0.0659 - r2: 0.7546 - val_loss: 0.0619 - val_r2: 0.7636\n",
            "Epoch 45/500\n",
            "169/169 [==============================] - 0s 1ms/step - loss: 0.0647 - r2: 0.7613 - val_loss: 0.0618 - val_r2: 0.7632\n",
            "Epoch 46/500\n",
            "169/169 [==============================] - 0s 1ms/step - loss: 0.0630 - r2: 0.7674 - val_loss: 0.0697 - val_r2: 0.7347\n",
            "Epoch 47/500\n",
            "169/169 [==============================] - 0s 1ms/step - loss: 0.0628 - r2: 0.7693 - val_loss: 0.0684 - val_r2: 0.7386\n",
            "Epoch 48/500\n",
            "169/169 [==============================] - 0s 1ms/step - loss: 0.0608 - r2: 0.7744 - val_loss: 0.0695 - val_r2: 0.7346\n",
            "Epoch 49/500\n",
            "169/169 [==============================] - 0s 1ms/step - loss: 0.0613 - r2: 0.7730 - val_loss: 0.0681 - val_r2: 0.7416\n",
            "Epoch 50/500\n",
            "169/169 [==============================] - 0s 1ms/step - loss: 0.0581 - r2: 0.7853 - val_loss: 0.0598 - val_r2: 0.7728\n",
            "Epoch 51/500\n",
            "169/169 [==============================] - 0s 1ms/step - loss: 0.0593 - r2: 0.7809 - val_loss: 0.0612 - val_r2: 0.7667\n",
            "Epoch 52/500\n",
            "169/169 [==============================] - 0s 1ms/step - loss: 0.0580 - r2: 0.7838 - val_loss: 0.0633 - val_r2: 0.7577\n",
            "Epoch 53/500\n",
            "169/169 [==============================] - 0s 1ms/step - loss: 0.0588 - r2: 0.7821 - val_loss: 0.0568 - val_r2: 0.7839\n",
            "Epoch 54/500\n",
            "169/169 [==============================] - 0s 2ms/step - loss: 0.0581 - r2: 0.7831 - val_loss: 0.0599 - val_r2: 0.7721\n",
            "Epoch 55/500\n",
            "169/169 [==============================] - 0s 2ms/step - loss: 0.0566 - r2: 0.7876 - val_loss: 0.0609 - val_r2: 0.7668\n",
            "Epoch 56/500\n",
            "169/169 [==============================] - 0s 1ms/step - loss: 0.0569 - r2: 0.7888 - val_loss: 0.0666 - val_r2: 0.7478\n",
            "Epoch 57/500\n",
            "169/169 [==============================] - 0s 1ms/step - loss: 0.0580 - r2: 0.7848 - val_loss: 0.0587 - val_r2: 0.7767\n",
            "Epoch 58/500\n",
            "169/169 [==============================] - 0s 1ms/step - loss: 0.0571 - r2: 0.7872 - val_loss: 0.0570 - val_r2: 0.7831\n",
            "Epoch 59/500\n",
            "169/169 [==============================] - 0s 1ms/step - loss: 0.0562 - r2: 0.7913 - val_loss: 0.0557 - val_r2: 0.7870\n",
            "Epoch 60/500\n",
            "169/169 [==============================] - 0s 1ms/step - loss: 0.0574 - r2: 0.7874 - val_loss: 0.0595 - val_r2: 0.7720\n",
            "Epoch 61/500\n",
            "169/169 [==============================] - 0s 1ms/step - loss: 0.0574 - r2: 0.7875 - val_loss: 0.0561 - val_r2: 0.7867\n",
            "Epoch 62/500\n",
            "169/169 [==============================] - 0s 1ms/step - loss: 0.0571 - r2: 0.7892 - val_loss: 0.0568 - val_r2: 0.7838\n",
            "Epoch 63/500\n",
            "169/169 [==============================] - 0s 1ms/step - loss: 0.0572 - r2: 0.7891 - val_loss: 0.0602 - val_r2: 0.7695\n",
            "Epoch 64/500\n",
            "169/169 [==============================] - 0s 2ms/step - loss: 0.0559 - r2: 0.7941 - val_loss: 0.0547 - val_r2: 0.7920\n",
            "Epoch 65/500\n",
            "169/169 [==============================] - 0s 2ms/step - loss: 0.0565 - r2: 0.7902 - val_loss: 0.0567 - val_r2: 0.7839\n",
            "Epoch 66/500\n",
            "169/169 [==============================] - 0s 1ms/step - loss: 0.0566 - r2: 0.7900 - val_loss: 0.0566 - val_r2: 0.7838\n",
            "Epoch 67/500\n",
            "169/169 [==============================] - 0s 1ms/step - loss: 0.0559 - r2: 0.7925 - val_loss: 0.0545 - val_r2: 0.7924\n",
            "Epoch 68/500\n",
            "169/169 [==============================] - 0s 1ms/step - loss: 0.0559 - r2: 0.7923 - val_loss: 0.0629 - val_r2: 0.7595\n",
            "Epoch 69/500\n",
            "169/169 [==============================] - 0s 1ms/step - loss: 0.0563 - r2: 0.7912 - val_loss: 0.0615 - val_r2: 0.7672\n",
            "Epoch 70/500\n",
            "169/169 [==============================] - 0s 1ms/step - loss: 0.0561 - r2: 0.7913 - val_loss: 0.0563 - val_r2: 0.7863\n",
            "Epoch 71/500\n",
            "169/169 [==============================] - 0s 1ms/step - loss: 0.0554 - r2: 0.7951 - val_loss: 0.0558 - val_r2: 0.7878\n",
            "Epoch 72/500\n",
            "169/169 [==============================] - 0s 2ms/step - loss: 0.0559 - r2: 0.7918 - val_loss: 0.0549 - val_r2: 0.7921\n",
            "Epoch 73/500\n",
            "169/169 [==============================] - 0s 1ms/step - loss: 0.0552 - r2: 0.7950 - val_loss: 0.0664 - val_r2: 0.7453\n",
            "Epoch 74/500\n",
            "169/169 [==============================] - 0s 1ms/step - loss: 0.0559 - r2: 0.7935 - val_loss: 0.0549 - val_r2: 0.7902\n",
            "Epoch 75/500\n",
            "169/169 [==============================] - 0s 2ms/step - loss: 0.0549 - r2: 0.7960 - val_loss: 0.0664 - val_r2: 0.7490\n",
            "Epoch 76/500\n",
            "169/169 [==============================] - 0s 1ms/step - loss: 0.0559 - r2: 0.7918 - val_loss: 0.0541 - val_r2: 0.7937\n",
            "Epoch 77/500\n",
            "169/169 [==============================] - 0s 1ms/step - loss: 0.0565 - r2: 0.7891 - val_loss: 0.0559 - val_r2: 0.7865\n",
            "Epoch 78/500\n",
            "169/169 [==============================] - 0s 2ms/step - loss: 0.0558 - r2: 0.7933 - val_loss: 0.0540 - val_r2: 0.7942\n",
            "Epoch 79/500\n",
            "169/169 [==============================] - 0s 1ms/step - loss: 0.0557 - r2: 0.7935 - val_loss: 0.0609 - val_r2: 0.7657\n",
            "Epoch 80/500\n",
            "169/169 [==============================] - 0s 1ms/step - loss: 0.0565 - r2: 0.7893 - val_loss: 0.0567 - val_r2: 0.7828\n",
            "Epoch 81/500\n",
            "169/169 [==============================] - 0s 1ms/step - loss: 0.0551 - r2: 0.7954 - val_loss: 0.0558 - val_r2: 0.7876\n",
            "Epoch 82/500\n",
            "169/169 [==============================] - 0s 1ms/step - loss: 0.0561 - r2: 0.7911 - val_loss: 0.0545 - val_r2: 0.7911\n",
            "Epoch 83/500\n",
            "169/169 [==============================] - 0s 1ms/step - loss: 0.0566 - r2: 0.7909 - val_loss: 0.0646 - val_r2: 0.7548\n",
            "Epoch 84/500\n",
            "169/169 [==============================] - 0s 1ms/step - loss: 0.0555 - r2: 0.7958 - val_loss: 0.0552 - val_r2: 0.7893\n",
            "Epoch 85/500\n",
            "169/169 [==============================] - 0s 1ms/step - loss: 0.0557 - r2: 0.7945 - val_loss: 0.0586 - val_r2: 0.7768\n",
            "Epoch 86/500\n",
            "169/169 [==============================] - 0s 1ms/step - loss: 0.0553 - r2: 0.7955 - val_loss: 0.0570 - val_r2: 0.7829\n",
            "Epoch 87/500\n",
            "169/169 [==============================] - 0s 1ms/step - loss: 0.0555 - r2: 0.7943 - val_loss: 0.0650 - val_r2: 0.7507\n",
            "Epoch 88/500\n",
            "169/169 [==============================] - 0s 1ms/step - loss: 0.0555 - r2: 0.7942 - val_loss: 0.0574 - val_r2: 0.7806\n",
            "Epoch 89/500\n",
            "169/169 [==============================] - 0s 1ms/step - loss: 0.0563 - r2: 0.7913 - val_loss: 0.0569 - val_r2: 0.7820\n",
            "Epoch 90/500\n",
            "169/169 [==============================] - 0s 2ms/step - loss: 0.0557 - r2: 0.7943 - val_loss: 0.0544 - val_r2: 0.7923\n",
            "Epoch 91/500\n",
            "169/169 [==============================] - 0s 1ms/step - loss: 0.0549 - r2: 0.7960 - val_loss: 0.0535 - val_r2: 0.7963\n",
            "Epoch 92/500\n",
            "169/169 [==============================] - 0s 1ms/step - loss: 0.0553 - r2: 0.7945 - val_loss: 0.0542 - val_r2: 0.7926\n",
            "Epoch 93/500\n",
            "169/169 [==============================] - 0s 1ms/step - loss: 0.0543 - r2: 0.7991 - val_loss: 0.0544 - val_r2: 0.7928\n",
            "Epoch 94/500\n",
            "169/169 [==============================] - 0s 1ms/step - loss: 0.0556 - r2: 0.7933 - val_loss: 0.0541 - val_r2: 0.7943\n",
            "Epoch 95/500\n",
            "169/169 [==============================] - 0s 1ms/step - loss: 0.0540 - r2: 0.7998 - val_loss: 0.0557 - val_r2: 0.7867\n",
            "Epoch 96/500\n",
            "169/169 [==============================] - 0s 1ms/step - loss: 0.0560 - r2: 0.7917 - val_loss: 0.0535 - val_r2: 0.7962\n",
            "Epoch 97/500\n",
            "169/169 [==============================] - 0s 1ms/step - loss: 0.0546 - r2: 0.7987 - val_loss: 0.0547 - val_r2: 0.7920\n",
            "Epoch 98/500\n",
            "169/169 [==============================] - 0s 1ms/step - loss: 0.0561 - r2: 0.7913 - val_loss: 0.0585 - val_r2: 0.7754\n",
            "Epoch 99/500\n",
            "169/169 [==============================] - 0s 2ms/step - loss: 0.0546 - r2: 0.7976 - val_loss: 0.0539 - val_r2: 0.7935\n",
            "Epoch 100/500\n",
            "169/169 [==============================] - 0s 1ms/step - loss: 0.0541 - r2: 0.8009 - val_loss: 0.0542 - val_r2: 0.7935\n",
            "Epoch 101/500\n",
            "169/169 [==============================] - 0s 2ms/step - loss: 0.0544 - r2: 0.7981 - val_loss: 0.0573 - val_r2: 0.7800\n",
            "Epoch 102/500\n",
            "169/169 [==============================] - 0s 1ms/step - loss: 0.0563 - r2: 0.7914 - val_loss: 0.0549 - val_r2: 0.7912\n",
            "Epoch 103/500\n",
            "169/169 [==============================] - 0s 1ms/step - loss: 0.0543 - r2: 0.7990 - val_loss: 0.0562 - val_r2: 0.7856\n",
            "Epoch 104/500\n",
            "169/169 [==============================] - 0s 2ms/step - loss: 0.0540 - r2: 0.7999 - val_loss: 0.0544 - val_r2: 0.7925\n",
            "Epoch 105/500\n",
            "169/169 [==============================] - 0s 1ms/step - loss: 0.0545 - r2: 0.7981 - val_loss: 0.0526 - val_r2: 0.7994\n",
            "Epoch 106/500\n",
            "169/169 [==============================] - 0s 1ms/step - loss: 0.0530 - r2: 0.8034 - val_loss: 0.0563 - val_r2: 0.7863\n",
            "Epoch 107/500\n",
            "169/169 [==============================] - 0s 1ms/step - loss: 0.0537 - r2: 0.8002 - val_loss: 0.0540 - val_r2: 0.7938\n",
            "Epoch 108/500\n",
            "169/169 [==============================] - 0s 1ms/step - loss: 0.0543 - r2: 0.7980 - val_loss: 0.0537 - val_r2: 0.7955\n",
            "Epoch 109/500\n",
            "169/169 [==============================] - 0s 2ms/step - loss: 0.0540 - r2: 0.7985 - val_loss: 0.0531 - val_r2: 0.7969\n",
            "Epoch 110/500\n",
            "169/169 [==============================] - 0s 2ms/step - loss: 0.0535 - r2: 0.8016 - val_loss: 0.0536 - val_r2: 0.7949\n",
            "Epoch 111/500\n",
            "169/169 [==============================] - 0s 2ms/step - loss: 0.0532 - r2: 0.8031 - val_loss: 0.0564 - val_r2: 0.7846\n",
            "Epoch 112/500\n",
            "169/169 [==============================] - 0s 1ms/step - loss: 0.0532 - r2: 0.8040 - val_loss: 0.0539 - val_r2: 0.7942\n",
            "Epoch 113/500\n",
            "169/169 [==============================] - 0s 1ms/step - loss: 0.0534 - r2: 0.8016 - val_loss: 0.0538 - val_r2: 0.7941\n",
            "Epoch 114/500\n",
            "169/169 [==============================] - 0s 1ms/step - loss: 0.0530 - r2: 0.8029 - val_loss: 0.0550 - val_r2: 0.7883\n",
            "Epoch 115/500\n",
            "169/169 [==============================] - 0s 1ms/step - loss: 0.0530 - r2: 0.8034 - val_loss: 0.0530 - val_r2: 0.7974\n",
            "Epoch 116/500\n",
            "169/169 [==============================] - 0s 1ms/step - loss: 0.0525 - r2: 0.8066 - val_loss: 0.0526 - val_r2: 0.7995\n",
            "Epoch 117/500\n",
            "169/169 [==============================] - 0s 1ms/step - loss: 0.0523 - r2: 0.8064 - val_loss: 0.0605 - val_r2: 0.7675\n",
            "Epoch 118/500\n",
            "169/169 [==============================] - 0s 2ms/step - loss: 0.0523 - r2: 0.8057 - val_loss: 0.0575 - val_r2: 0.7790\n",
            "Epoch 119/500\n",
            "169/169 [==============================] - 0s 1ms/step - loss: 0.0531 - r2: 0.8036 - val_loss: 0.0534 - val_r2: 0.7965\n",
            "Epoch 120/500\n",
            "169/169 [==============================] - 0s 1ms/step - loss: 0.0519 - r2: 0.8085 - val_loss: 0.0565 - val_r2: 0.7839\n",
            "Epoch 121/500\n",
            "169/169 [==============================] - 0s 1ms/step - loss: 0.0518 - r2: 0.8078 - val_loss: 0.0547 - val_r2: 0.7899\n",
            "Epoch 122/500\n",
            "169/169 [==============================] - 0s 1ms/step - loss: 0.0537 - r2: 0.8012 - val_loss: 0.0525 - val_r2: 0.7986\n",
            "Epoch 123/500\n",
            "169/169 [==============================] - 0s 1ms/step - loss: 0.0518 - r2: 0.8087 - val_loss: 0.0523 - val_r2: 0.8002\n",
            "Epoch 124/500\n",
            "169/169 [==============================] - 0s 1ms/step - loss: 0.0531 - r2: 0.8041 - val_loss: 0.0530 - val_r2: 0.7979\n",
            "Epoch 125/500\n",
            "169/169 [==============================] - 0s 1ms/step - loss: 0.0530 - r2: 0.8020 - val_loss: 0.0525 - val_r2: 0.8004\n",
            "Epoch 126/500\n",
            "169/169 [==============================] - 0s 1ms/step - loss: 0.0524 - r2: 0.8053 - val_loss: 0.0533 - val_r2: 0.7957\n",
            "Epoch 127/500\n",
            "169/169 [==============================] - 0s 1ms/step - loss: 0.0530 - r2: 0.8012 - val_loss: 0.0690 - val_r2: 0.7385\n",
            "Epoch 128/500\n",
            "169/169 [==============================] - 0s 1ms/step - loss: 0.0522 - r2: 0.8063 - val_loss: 0.0518 - val_r2: 0.8016\n",
            "Epoch 129/500\n",
            "169/169 [==============================] - 0s 1ms/step - loss: 0.0524 - r2: 0.8046 - val_loss: 0.0546 - val_r2: 0.7903\n",
            "Epoch 130/500\n",
            "169/169 [==============================] - 0s 1ms/step - loss: 0.0516 - r2: 0.8081 - val_loss: 0.0556 - val_r2: 0.7866\n",
            "Epoch 131/500\n",
            "169/169 [==============================] - 0s 1ms/step - loss: 0.0524 - r2: 0.8062 - val_loss: 0.0774 - val_r2: 0.7059\n",
            "Epoch 132/500\n",
            "169/169 [==============================] - 0s 1ms/step - loss: 0.0515 - r2: 0.8100 - val_loss: 0.0515 - val_r2: 0.8028\n",
            "Epoch 133/500\n",
            "169/169 [==============================] - 0s 1ms/step - loss: 0.0521 - r2: 0.8066 - val_loss: 0.0518 - val_r2: 0.8016\n",
            "Epoch 134/500\n",
            "169/169 [==============================] - 0s 2ms/step - loss: 0.0523 - r2: 0.8065 - val_loss: 0.0523 - val_r2: 0.7998\n",
            "Epoch 135/500\n",
            "169/169 [==============================] - 0s 1ms/step - loss: 0.0524 - r2: 0.8055 - val_loss: 0.0530 - val_r2: 0.7974\n",
            "Epoch 136/500\n",
            "169/169 [==============================] - 0s 1ms/step - loss: 0.0514 - r2: 0.8089 - val_loss: 0.0567 - val_r2: 0.7836\n",
            "Epoch 137/500\n",
            "169/169 [==============================] - 0s 1ms/step - loss: 0.0516 - r2: 0.8100 - val_loss: 0.0515 - val_r2: 0.8022\n",
            "Epoch 138/500\n",
            "169/169 [==============================] - 0s 1ms/step - loss: 0.0521 - r2: 0.8074 - val_loss: 0.0531 - val_r2: 0.7976\n",
            "Epoch 139/500\n",
            "169/169 [==============================] - 0s 1ms/step - loss: 0.0513 - r2: 0.8107 - val_loss: 0.0548 - val_r2: 0.7891\n",
            "Epoch 140/500\n",
            "169/169 [==============================] - 0s 1ms/step - loss: 0.0517 - r2: 0.8073 - val_loss: 0.0528 - val_r2: 0.7974\n",
            "Epoch 141/500\n",
            "169/169 [==============================] - 0s 1ms/step - loss: 0.0522 - r2: 0.8059 - val_loss: 0.0533 - val_r2: 0.7951\n",
            "Epoch 142/500\n",
            "169/169 [==============================] - 0s 1ms/step - loss: 0.0517 - r2: 0.8082 - val_loss: 0.0544 - val_r2: 0.7900\n",
            "Epoch 143/500\n",
            "169/169 [==============================] - 0s 1ms/step - loss: 0.0526 - r2: 0.8050 - val_loss: 0.0519 - val_r2: 0.8013\n",
            "Epoch 144/500\n",
            "169/169 [==============================] - 0s 1ms/step - loss: 0.0512 - r2: 0.8119 - val_loss: 0.0522 - val_r2: 0.8007\n",
            "Epoch 145/500\n",
            "169/169 [==============================] - 0s 1ms/step - loss: 0.0510 - r2: 0.8113 - val_loss: 0.0525 - val_r2: 0.7986\n",
            "Epoch 146/500\n",
            "169/169 [==============================] - 0s 2ms/step - loss: 0.0512 - r2: 0.8108 - val_loss: 0.0514 - val_r2: 0.8031\n",
            "Epoch 147/500\n",
            "169/169 [==============================] - 0s 1ms/step - loss: 0.0509 - r2: 0.8124 - val_loss: 0.0521 - val_r2: 0.7989\n",
            "Epoch 148/500\n",
            "169/169 [==============================] - 0s 1ms/step - loss: 0.0523 - r2: 0.8048 - val_loss: 0.0522 - val_r2: 0.8003\n",
            "Epoch 149/500\n",
            "169/169 [==============================] - 0s 2ms/step - loss: 0.0516 - r2: 0.8095 - val_loss: 0.0514 - val_r2: 0.8033\n",
            "Epoch 150/500\n",
            "169/169 [==============================] - 0s 1ms/step - loss: 0.0519 - r2: 0.8056 - val_loss: 0.0540 - val_r2: 0.7939\n",
            "Epoch 151/500\n",
            "169/169 [==============================] - 0s 1ms/step - loss: 0.0510 - r2: 0.8112 - val_loss: 0.0517 - val_r2: 0.8006\n",
            "Epoch 152/500\n",
            "169/169 [==============================] - 0s 1ms/step - loss: 0.0508 - r2: 0.8080 - val_loss: 0.0530 - val_r2: 0.7969\n",
            "Epoch 153/500\n",
            "169/169 [==============================] - 0s 1ms/step - loss: 0.0521 - r2: 0.8069 - val_loss: 0.0517 - val_r2: 0.8013\n",
            "Epoch 154/500\n",
            "169/169 [==============================] - 0s 1ms/step - loss: 0.0506 - r2: 0.8130 - val_loss: 0.0525 - val_r2: 0.7983\n",
            "Epoch 155/500\n",
            "169/169 [==============================] - 0s 1ms/step - loss: 0.0513 - r2: 0.8101 - val_loss: 0.0519 - val_r2: 0.8013\n",
            "Epoch 156/500\n",
            "169/169 [==============================] - 0s 1ms/step - loss: 0.0507 - r2: 0.8109 - val_loss: 0.0574 - val_r2: 0.7816\n",
            "Epoch 157/500\n",
            "169/169 [==============================] - 0s 1ms/step - loss: 0.0513 - r2: 0.8092 - val_loss: 0.0513 - val_r2: 0.8036\n",
            "Epoch 158/500\n",
            "169/169 [==============================] - 0s 1ms/step - loss: 0.0516 - r2: 0.8095 - val_loss: 0.0516 - val_r2: 0.8015\n",
            "Epoch 159/500\n",
            "169/169 [==============================] - 0s 1ms/step - loss: 0.0531 - r2: 0.8030 - val_loss: 0.0520 - val_r2: 0.8010\n",
            "Epoch 160/500\n",
            "169/169 [==============================] - 0s 1ms/step - loss: 0.0501 - r2: 0.8140 - val_loss: 0.0524 - val_r2: 0.7987\n",
            "Epoch 161/500\n",
            "169/169 [==============================] - 0s 1ms/step - loss: 0.0518 - r2: 0.8073 - val_loss: 0.0524 - val_r2: 0.7998\n",
            "Epoch 162/500\n",
            "169/169 [==============================] - 0s 1ms/step - loss: 0.0508 - r2: 0.8099 - val_loss: 0.0514 - val_r2: 0.8028\n",
            "Epoch 163/500\n",
            "169/169 [==============================] - 0s 1ms/step - loss: 0.0512 - r2: 0.8106 - val_loss: 0.0602 - val_r2: 0.7675\n",
            "Epoch 164/500\n",
            "169/169 [==============================] - 0s 1ms/step - loss: 0.0519 - r2: 0.8061 - val_loss: 0.0527 - val_r2: 0.7983\n",
            "Epoch 165/500\n",
            "169/169 [==============================] - 0s 1ms/step - loss: 0.0506 - r2: 0.8118 - val_loss: 0.0567 - val_r2: 0.7840\n",
            "Epoch 166/500\n",
            "169/169 [==============================] - 0s 1ms/step - loss: 0.0513 - r2: 0.8105 - val_loss: 0.0509 - val_r2: 0.8042\n",
            "Epoch 167/500\n",
            "169/169 [==============================] - 0s 1ms/step - loss: 0.0500 - r2: 0.8152 - val_loss: 0.0524 - val_r2: 0.7989\n",
            "Epoch 168/500\n",
            "169/169 [==============================] - 0s 1ms/step - loss: 0.0499 - r2: 0.8134 - val_loss: 0.0555 - val_r2: 0.7879\n",
            "Epoch 169/500\n",
            "169/169 [==============================] - 0s 1ms/step - loss: 0.0509 - r2: 0.8121 - val_loss: 0.0566 - val_r2: 0.7821\n",
            "Epoch 170/500\n",
            "169/169 [==============================] - 0s 1ms/step - loss: 0.0505 - r2: 0.8126 - val_loss: 0.0521 - val_r2: 0.8003\n",
            "Epoch 171/500\n",
            "169/169 [==============================] - 0s 2ms/step - loss: 0.0500 - r2: 0.8153 - val_loss: 0.0523 - val_r2: 0.7997\n",
            "Epoch 172/500\n",
            "169/169 [==============================] - 0s 1ms/step - loss: 0.0524 - r2: 0.8058 - val_loss: 0.0508 - val_r2: 0.8050\n",
            "Epoch 173/500\n",
            "169/169 [==============================] - 0s 1ms/step - loss: 0.0503 - r2: 0.8129 - val_loss: 0.0538 - val_r2: 0.7933\n",
            "Epoch 174/500\n",
            "169/169 [==============================] - 0s 1ms/step - loss: 0.0513 - r2: 0.8107 - val_loss: 0.0538 - val_r2: 0.7935\n",
            "Epoch 175/500\n",
            "169/169 [==============================] - 0s 1ms/step - loss: 0.0500 - r2: 0.8156 - val_loss: 0.0518 - val_r2: 0.8002\n",
            "Epoch 176/500\n",
            "169/169 [==============================] - 0s 1ms/step - loss: 0.0511 - r2: 0.8112 - val_loss: 0.0505 - val_r2: 0.8056\n",
            "Epoch 177/500\n",
            "169/169 [==============================] - 0s 1ms/step - loss: 0.0498 - r2: 0.8148 - val_loss: 0.0528 - val_r2: 0.7984\n",
            "Epoch 178/500\n",
            "169/169 [==============================] - 0s 1ms/step - loss: 0.0504 - r2: 0.8137 - val_loss: 0.0530 - val_r2: 0.7974\n",
            "Epoch 179/500\n",
            "169/169 [==============================] - 0s 2ms/step - loss: 0.0507 - r2: 0.8131 - val_loss: 0.0640 - val_r2: 0.7563\n",
            "Epoch 180/500\n",
            "169/169 [==============================] - 0s 1ms/step - loss: 0.0508 - r2: 0.8116 - val_loss: 0.0538 - val_r2: 0.7946\n",
            "Epoch 181/500\n",
            "169/169 [==============================] - 0s 1ms/step - loss: 0.0490 - r2: 0.8183 - val_loss: 0.0517 - val_r2: 0.8027\n",
            "Epoch 182/500\n",
            "169/169 [==============================] - 0s 1ms/step - loss: 0.0502 - r2: 0.8130 - val_loss: 0.0537 - val_r2: 0.7953\n",
            "Epoch 183/500\n",
            "169/169 [==============================] - 0s 2ms/step - loss: 0.0493 - r2: 0.8187 - val_loss: 0.0510 - val_r2: 0.8034\n",
            "Epoch 184/500\n",
            "169/169 [==============================] - 0s 1ms/step - loss: 0.0503 - r2: 0.8150 - val_loss: 0.0509 - val_r2: 0.8046\n",
            "Epoch 185/500\n",
            "169/169 [==============================] - 0s 1ms/step - loss: 0.0506 - r2: 0.8141 - val_loss: 0.0529 - val_r2: 0.7957\n",
            "Epoch 186/500\n",
            "169/169 [==============================] - 0s 2ms/step - loss: 0.0514 - r2: 0.8079 - val_loss: 0.0527 - val_r2: 0.7970\n",
            "Epoch 187/500\n",
            "169/169 [==============================] - 0s 2ms/step - loss: 0.0501 - r2: 0.8152 - val_loss: 0.0514 - val_r2: 0.8034\n",
            "Epoch 188/500\n",
            "169/169 [==============================] - 0s 1ms/step - loss: 0.0508 - r2: 0.8124 - val_loss: 0.0514 - val_r2: 0.8029\n",
            "Epoch 189/500\n",
            "169/169 [==============================] - 0s 2ms/step - loss: 0.0499 - r2: 0.8152 - val_loss: 0.0563 - val_r2: 0.7833\n",
            "Epoch 190/500\n",
            "169/169 [==============================] - 0s 1ms/step - loss: 0.0502 - r2: 0.8141 - val_loss: 0.0521 - val_r2: 0.7996\n",
            "Epoch 191/500\n",
            "169/169 [==============================] - 0s 1ms/step - loss: 0.0499 - r2: 0.8155 - val_loss: 0.0522 - val_r2: 0.8006\n",
            "Epoch 192/500\n",
            "169/169 [==============================] - 0s 1ms/step - loss: 0.0499 - r2: 0.8146 - val_loss: 0.0504 - val_r2: 0.8065\n",
            "Epoch 193/500\n",
            "169/169 [==============================] - 0s 2ms/step - loss: 0.0499 - r2: 0.8143 - val_loss: 0.0546 - val_r2: 0.7895\n",
            "Epoch 194/500\n",
            "169/169 [==============================] - 0s 1ms/step - loss: 0.0494 - r2: 0.8180 - val_loss: 0.0569 - val_r2: 0.7802\n",
            "Epoch 195/500\n",
            "169/169 [==============================] - 0s 1ms/step - loss: 0.0501 - r2: 0.8148 - val_loss: 0.0534 - val_r2: 0.7959\n",
            "Epoch 196/500\n",
            "169/169 [==============================] - 0s 2ms/step - loss: 0.0492 - r2: 0.8180 - val_loss: 0.0623 - val_r2: 0.7621\n",
            "Epoch 197/500\n",
            "169/169 [==============================] - 0s 1ms/step - loss: 0.0518 - r2: 0.8098 - val_loss: 0.0503 - val_r2: 0.8066\n",
            "Epoch 198/500\n",
            "169/169 [==============================] - 0s 2ms/step - loss: 0.0491 - r2: 0.8185 - val_loss: 0.0515 - val_r2: 0.8022\n",
            "Epoch 199/500\n",
            "169/169 [==============================] - 0s 1ms/step - loss: 0.0486 - r2: 0.8206 - val_loss: 0.0549 - val_r2: 0.7894\n",
            "Epoch 200/500\n",
            "169/169 [==============================] - 0s 1ms/step - loss: 0.0495 - r2: 0.8158 - val_loss: 0.0511 - val_r2: 0.8045\n",
            "Epoch 201/500\n",
            "169/169 [==============================] - 0s 1ms/step - loss: 0.0491 - r2: 0.8188 - val_loss: 0.0509 - val_r2: 0.8055\n",
            "Epoch 202/500\n",
            "169/169 [==============================] - 0s 1ms/step - loss: 0.0492 - r2: 0.8164 - val_loss: 0.0527 - val_r2: 0.7973\n",
            "Epoch 203/500\n",
            "169/169 [==============================] - 0s 1ms/step - loss: 0.0506 - r2: 0.8121 - val_loss: 0.0525 - val_r2: 0.7989\n",
            "Epoch 204/500\n",
            "169/169 [==============================] - 0s 1ms/step - loss: 0.0492 - r2: 0.8184 - val_loss: 0.0550 - val_r2: 0.7873\n",
            "Epoch 205/500\n",
            "169/169 [==============================] - 0s 1ms/step - loss: 0.0497 - r2: 0.8172 - val_loss: 0.0602 - val_r2: 0.7681\n",
            "Epoch 206/500\n",
            "169/169 [==============================] - 0s 2ms/step - loss: 0.0510 - r2: 0.8106 - val_loss: 0.0586 - val_r2: 0.7770\n",
            "Epoch 207/500\n",
            "169/169 [==============================] - 0s 1ms/step - loss: 0.0498 - r2: 0.8160 - val_loss: 0.0504 - val_r2: 0.8065\n",
            "Epoch 208/500\n",
            "169/169 [==============================] - 0s 1ms/step - loss: 0.0489 - r2: 0.8168 - val_loss: 0.0612 - val_r2: 0.7661\n",
            "Epoch 209/500\n",
            "169/169 [==============================] - 0s 1ms/step - loss: 0.0490 - r2: 0.8192 - val_loss: 0.0510 - val_r2: 0.8041\n",
            "Epoch 210/500\n",
            "169/169 [==============================] - 0s 1ms/step - loss: 0.0486 - r2: 0.8197 - val_loss: 0.0540 - val_r2: 0.7942\n",
            "Epoch 211/500\n",
            "169/169 [==============================] - 0s 1ms/step - loss: 0.0502 - r2: 0.8147 - val_loss: 0.0513 - val_r2: 0.8039\n",
            "Epoch 212/500\n",
            "169/169 [==============================] - 0s 1ms/step - loss: 0.0494 - r2: 0.8166 - val_loss: 0.0513 - val_r2: 0.8032\n",
            "Epoch 213/500\n",
            "169/169 [==============================] - 0s 1ms/step - loss: 0.0497 - r2: 0.8167 - val_loss: 0.0570 - val_r2: 0.7791\n",
            "Epoch 214/500\n",
            "169/169 [==============================] - 0s 1ms/step - loss: 0.0508 - r2: 0.8104 - val_loss: 0.0513 - val_r2: 0.8027\n",
            "Epoch 215/500\n",
            "169/169 [==============================] - 0s 1ms/step - loss: 0.0498 - r2: 0.8154 - val_loss: 0.0500 - val_r2: 0.8077\n",
            "Epoch 216/500\n",
            "169/169 [==============================] - 0s 2ms/step - loss: 0.0491 - r2: 0.8181 - val_loss: 0.0495 - val_r2: 0.8109\n",
            "Epoch 217/500\n",
            "169/169 [==============================] - 0s 2ms/step - loss: 0.0483 - r2: 0.8209 - val_loss: 0.0535 - val_r2: 0.7958\n",
            "Epoch 218/500\n",
            "169/169 [==============================] - 0s 1ms/step - loss: 0.0492 - r2: 0.8168 - val_loss: 0.0514 - val_r2: 0.8032\n",
            "Epoch 219/500\n",
            "169/169 [==============================] - 0s 1ms/step - loss: 0.0498 - r2: 0.8150 - val_loss: 0.0504 - val_r2: 0.8066\n",
            "Epoch 220/500\n",
            "169/169 [==============================] - 0s 1ms/step - loss: 0.0495 - r2: 0.8161 - val_loss: 0.0501 - val_r2: 0.8087\n",
            "Epoch 221/500\n",
            "169/169 [==============================] - 0s 1ms/step - loss: 0.0491 - r2: 0.8182 - val_loss: 0.0561 - val_r2: 0.7838\n",
            "Epoch 222/500\n",
            "169/169 [==============================] - 0s 2ms/step - loss: 0.0497 - r2: 0.8162 - val_loss: 0.0505 - val_r2: 0.8059\n",
            "Epoch 223/500\n",
            "169/169 [==============================] - 0s 2ms/step - loss: 0.0487 - r2: 0.8190 - val_loss: 0.0500 - val_r2: 0.8082\n",
            "Epoch 224/500\n",
            "169/169 [==============================] - 0s 2ms/step - loss: 0.0497 - r2: 0.8159 - val_loss: 0.0505 - val_r2: 0.8059\n",
            "Epoch 225/500\n",
            "169/169 [==============================] - 0s 1ms/step - loss: 0.0492 - r2: 0.8174 - val_loss: 0.0501 - val_r2: 0.8076\n",
            "Epoch 226/500\n",
            "169/169 [==============================] - 0s 1ms/step - loss: 0.0503 - r2: 0.8129 - val_loss: 0.0516 - val_r2: 0.8023\n",
            "Epoch 227/500\n",
            "169/169 [==============================] - 0s 2ms/step - loss: 0.0491 - r2: 0.8179 - val_loss: 0.0521 - val_r2: 0.7997\n",
            "Epoch 228/500\n",
            "169/169 [==============================] - 0s 1ms/step - loss: 0.0489 - r2: 0.8178 - val_loss: 0.0508 - val_r2: 0.8050\n",
            "Epoch 229/500\n",
            "169/169 [==============================] - 0s 1ms/step - loss: 0.0501 - r2: 0.8136 - val_loss: 0.0499 - val_r2: 0.8085\n",
            "Epoch 230/500\n",
            "169/169 [==============================] - 0s 1ms/step - loss: 0.0486 - r2: 0.8183 - val_loss: 0.0507 - val_r2: 0.8062\n",
            "Epoch 231/500\n",
            "169/169 [==============================] - 0s 1ms/step - loss: 0.0488 - r2: 0.8180 - val_loss: 0.0552 - val_r2: 0.7892\n",
            "Epoch 232/500\n",
            "169/169 [==============================] - 0s 1ms/step - loss: 0.0478 - r2: 0.8230 - val_loss: 0.0504 - val_r2: 0.8058\n",
            "Epoch 233/500\n",
            "169/169 [==============================] - 0s 1ms/step - loss: 0.0486 - r2: 0.8190 - val_loss: 0.0524 - val_r2: 0.7981\n",
            "Epoch 234/500\n",
            "169/169 [==============================] - 0s 1ms/step - loss: 0.0499 - r2: 0.8131 - val_loss: 0.0497 - val_r2: 0.8099\n",
            "Epoch 235/500\n",
            "169/169 [==============================] - 0s 2ms/step - loss: 0.0494 - r2: 0.8157 - val_loss: 0.0662 - val_r2: 0.7472\n",
            "Epoch 236/500\n",
            "169/169 [==============================] - 0s 2ms/step - loss: 0.0498 - r2: 0.8148 - val_loss: 0.0502 - val_r2: 0.8075\n",
            "Epoch 237/500\n",
            "169/169 [==============================] - 0s 2ms/step - loss: 0.0478 - r2: 0.8224 - val_loss: 0.0499 - val_r2: 0.8088\n",
            "Epoch 238/500\n",
            "169/169 [==============================] - 0s 2ms/step - loss: 0.0481 - r2: 0.8221 - val_loss: 0.0531 - val_r2: 0.7969\n",
            "Epoch 239/500\n",
            "169/169 [==============================] - 0s 2ms/step - loss: 0.0489 - r2: 0.8197 - val_loss: 0.0495 - val_r2: 0.8108\n",
            "Epoch 240/500\n",
            "169/169 [==============================] - 0s 2ms/step - loss: 0.0482 - r2: 0.8213 - val_loss: 0.0495 - val_r2: 0.8101\n",
            "Epoch 241/500\n",
            "169/169 [==============================] - 0s 2ms/step - loss: 0.0502 - r2: 0.8140 - val_loss: 0.0502 - val_r2: 0.8075\n",
            "Epoch 242/500\n",
            "169/169 [==============================] - 0s 2ms/step - loss: 0.0492 - r2: 0.8164 - val_loss: 0.0494 - val_r2: 0.8101\n",
            "Epoch 243/500\n",
            "169/169 [==============================] - 0s 2ms/step - loss: 0.0486 - r2: 0.8196 - val_loss: 0.0510 - val_r2: 0.8040\n",
            "Epoch 244/500\n",
            "169/169 [==============================] - 0s 2ms/step - loss: 0.0496 - r2: 0.8170 - val_loss: 0.0597 - val_r2: 0.7718\n",
            "Epoch 245/500\n",
            "169/169 [==============================] - 0s 2ms/step - loss: 0.0493 - r2: 0.8172 - val_loss: 0.0500 - val_r2: 0.8083\n",
            "Epoch 246/500\n",
            "169/169 [==============================] - 0s 2ms/step - loss: 0.0485 - r2: 0.8198 - val_loss: 0.0498 - val_r2: 0.8079\n",
            "Epoch 247/500\n",
            "169/169 [==============================] - 0s 2ms/step - loss: 0.0489 - r2: 0.8189 - val_loss: 0.0504 - val_r2: 0.8057\n",
            "Epoch 248/500\n",
            "169/169 [==============================] - 0s 2ms/step - loss: 0.0489 - r2: 0.8177 - val_loss: 0.0519 - val_r2: 0.8004\n",
            "Epoch 249/500\n",
            "169/169 [==============================] - 0s 2ms/step - loss: 0.0486 - r2: 0.8205 - val_loss: 0.0500 - val_r2: 0.8088\n",
            "Epoch 250/500\n",
            "169/169 [==============================] - 0s 2ms/step - loss: 0.0490 - r2: 0.8200 - val_loss: 0.0527 - val_r2: 0.7980\n",
            "Epoch 251/500\n",
            "169/169 [==============================] - 0s 2ms/step - loss: 0.0481 - r2: 0.8235 - val_loss: 0.0501 - val_r2: 0.8081\n",
            "Epoch 252/500\n",
            "169/169 [==============================] - 0s 2ms/step - loss: 0.0479 - r2: 0.8238 - val_loss: 0.0493 - val_r2: 0.8112\n",
            "Epoch 253/500\n",
            "169/169 [==============================] - 0s 2ms/step - loss: 0.0487 - r2: 0.8208 - val_loss: 0.0496 - val_r2: 0.8097\n",
            "Epoch 254/500\n",
            "169/169 [==============================] - 0s 2ms/step - loss: 0.0482 - r2: 0.8208 - val_loss: 0.0511 - val_r2: 0.8044\n",
            "Epoch 255/500\n",
            "169/169 [==============================] - 0s 1ms/step - loss: 0.0481 - r2: 0.8205 - val_loss: 0.0508 - val_r2: 0.8058\n",
            "Epoch 256/500\n",
            "169/169 [==============================] - 0s 2ms/step - loss: 0.0494 - r2: 0.8180 - val_loss: 0.0616 - val_r2: 0.7631\n",
            "Epoch 257/500\n",
            "169/169 [==============================] - 0s 1ms/step - loss: 0.0484 - r2: 0.8220 - val_loss: 0.0494 - val_r2: 0.8099\n",
            "Epoch 258/500\n",
            "169/169 [==============================] - 0s 1ms/step - loss: 0.0485 - r2: 0.8199 - val_loss: 0.0520 - val_r2: 0.8014\n",
            "Epoch 259/500\n",
            "169/169 [==============================] - 0s 1ms/step - loss: 0.0489 - r2: 0.8185 - val_loss: 0.0564 - val_r2: 0.7820\n",
            "Epoch 260/500\n",
            "169/169 [==============================] - 0s 1ms/step - loss: 0.0494 - r2: 0.8163 - val_loss: 0.0509 - val_r2: 0.8045\n",
            "Epoch 261/500\n",
            "169/169 [==============================] - 0s 1ms/step - loss: 0.0479 - r2: 0.8229 - val_loss: 0.0499 - val_r2: 0.8084\n",
            "Epoch 262/500\n",
            "169/169 [==============================] - 0s 2ms/step - loss: 0.0497 - r2: 0.8171 - val_loss: 0.0495 - val_r2: 0.8102\n",
            "Epoch 263/500\n",
            "169/169 [==============================] - 0s 1ms/step - loss: 0.0485 - r2: 0.8203 - val_loss: 0.0505 - val_r2: 0.8064\n",
            "Epoch 264/500\n",
            "169/169 [==============================] - 0s 1ms/step - loss: 0.0486 - r2: 0.8219 - val_loss: 0.0498 - val_r2: 0.8090\n",
            "Epoch 265/500\n",
            "169/169 [==============================] - 0s 1ms/step - loss: 0.0475 - r2: 0.8240 - val_loss: 0.0497 - val_r2: 0.8093\n",
            "Epoch 266/500\n",
            "169/169 [==============================] - 0s 1ms/step - loss: 0.0486 - r2: 0.8195 - val_loss: 0.0492 - val_r2: 0.8114\n",
            "Epoch 267/500\n",
            "169/169 [==============================] - 0s 2ms/step - loss: 0.0481 - r2: 0.8212 - val_loss: 0.0494 - val_r2: 0.8094\n",
            "Epoch 268/500\n",
            "169/169 [==============================] - 0s 2ms/step - loss: 0.0484 - r2: 0.8213 - val_loss: 0.0495 - val_r2: 0.8110\n",
            "Epoch 269/500\n",
            "169/169 [==============================] - 0s 1ms/step - loss: 0.0479 - r2: 0.8221 - val_loss: 0.0524 - val_r2: 0.7992\n",
            "Epoch 270/500\n",
            "169/169 [==============================] - 0s 1ms/step - loss: 0.0504 - r2: 0.8133 - val_loss: 0.0499 - val_r2: 0.8084\n",
            "Epoch 271/500\n",
            "169/169 [==============================] - 0s 1ms/step - loss: 0.0481 - r2: 0.8218 - val_loss: 0.0491 - val_r2: 0.8115\n",
            "Epoch 272/500\n",
            "169/169 [==============================] - 0s 1ms/step - loss: 0.0484 - r2: 0.8212 - val_loss: 0.0615 - val_r2: 0.7617\n",
            "Epoch 273/500\n",
            "169/169 [==============================] - 0s 1ms/step - loss: 0.0480 - r2: 0.8228 - val_loss: 0.0606 - val_r2: 0.7657\n",
            "Epoch 274/500\n",
            "169/169 [==============================] - 0s 1ms/step - loss: 0.0481 - r2: 0.8221 - val_loss: 0.0512 - val_r2: 0.8034\n",
            "Epoch 275/500\n",
            "169/169 [==============================] - 0s 1ms/step - loss: 0.0501 - r2: 0.8145 - val_loss: 0.0488 - val_r2: 0.8132\n",
            "Epoch 276/500\n",
            "169/169 [==============================] - 0s 2ms/step - loss: 0.0482 - r2: 0.8206 - val_loss: 0.0501 - val_r2: 0.8085\n",
            "Epoch 277/500\n",
            "169/169 [==============================] - 0s 1ms/step - loss: 0.0479 - r2: 0.8234 - val_loss: 0.0495 - val_r2: 0.8102\n",
            "Epoch 278/500\n",
            "169/169 [==============================] - 0s 1ms/step - loss: 0.0478 - r2: 0.8229 - val_loss: 0.0493 - val_r2: 0.8109\n",
            "Epoch 279/500\n",
            "169/169 [==============================] - 0s 2ms/step - loss: 0.0477 - r2: 0.8221 - val_loss: 0.0498 - val_r2: 0.8087\n",
            "Epoch 280/500\n",
            "169/169 [==============================] - 0s 2ms/step - loss: 0.0475 - r2: 0.8228 - val_loss: 0.0500 - val_r2: 0.8085\n",
            "Epoch 281/500\n",
            "169/169 [==============================] - 0s 1ms/step - loss: 0.0494 - r2: 0.8168 - val_loss: 0.0522 - val_r2: 0.8005\n",
            "Epoch 282/500\n",
            "169/169 [==============================] - 0s 1ms/step - loss: 0.0482 - r2: 0.8204 - val_loss: 0.0490 - val_r2: 0.8117\n",
            "Epoch 283/500\n",
            "169/169 [==============================] - 0s 2ms/step - loss: 0.0486 - r2: 0.8206 - val_loss: 0.0499 - val_r2: 0.8079\n",
            "Epoch 284/500\n",
            "169/169 [==============================] - 0s 2ms/step - loss: 0.0483 - r2: 0.8210 - val_loss: 0.0505 - val_r2: 0.8057\n",
            "Epoch 285/500\n",
            "169/169 [==============================] - 0s 2ms/step - loss: 0.0480 - r2: 0.8212 - val_loss: 0.0515 - val_r2: 0.8026\n",
            "Epoch 286/500\n",
            "169/169 [==============================] - 0s 2ms/step - loss: 0.0482 - r2: 0.8201 - val_loss: 0.0494 - val_r2: 0.8107\n",
            "Epoch 287/500\n",
            "169/169 [==============================] - 0s 2ms/step - loss: 0.0479 - r2: 0.8213 - val_loss: 0.0493 - val_r2: 0.8107\n",
            "Epoch 288/500\n",
            "169/169 [==============================] - 0s 2ms/step - loss: 0.0475 - r2: 0.8243 - val_loss: 0.0489 - val_r2: 0.8123\n",
            "Epoch 289/500\n",
            "169/169 [==============================] - 0s 1ms/step - loss: 0.0476 - r2: 0.8229 - val_loss: 0.0531 - val_r2: 0.7965\n",
            "Epoch 290/500\n",
            "169/169 [==============================] - 0s 2ms/step - loss: 0.0495 - r2: 0.8155 - val_loss: 0.0499 - val_r2: 0.8088\n",
            "Epoch 291/500\n",
            "169/169 [==============================] - 0s 1ms/step - loss: 0.0477 - r2: 0.8245 - val_loss: 0.0549 - val_r2: 0.7888\n",
            "Epoch 292/500\n",
            "169/169 [==============================] - 0s 1ms/step - loss: 0.0484 - r2: 0.8199 - val_loss: 0.0509 - val_r2: 0.8057\n",
            "Epoch 293/500\n",
            "169/169 [==============================] - 0s 2ms/step - loss: 0.0478 - r2: 0.8229 - val_loss: 0.0495 - val_r2: 0.8103\n",
            "Epoch 294/500\n",
            "169/169 [==============================] - 0s 2ms/step - loss: 0.0484 - r2: 0.8192 - val_loss: 0.0579 - val_r2: 0.7775\n",
            "Epoch 295/500\n",
            "169/169 [==============================] - 0s 2ms/step - loss: 0.0493 - r2: 0.8179 - val_loss: 0.0512 - val_r2: 0.8030\n",
            "Epoch 296/500\n",
            "169/169 [==============================] - 0s 2ms/step - loss: 0.0476 - r2: 0.8240 - val_loss: 0.0496 - val_r2: 0.8102\n",
            "Epoch 297/500\n",
            "169/169 [==============================] - 0s 1ms/step - loss: 0.0482 - r2: 0.8219 - val_loss: 0.0530 - val_r2: 0.7972\n",
            "Epoch 298/500\n",
            "169/169 [==============================] - 0s 2ms/step - loss: 0.0482 - r2: 0.8191 - val_loss: 0.0514 - val_r2: 0.8010\n",
            "Epoch 299/500\n",
            "169/169 [==============================] - 0s 2ms/step - loss: 0.0481 - r2: 0.8206 - val_loss: 0.0487 - val_r2: 0.8132\n",
            "Epoch 300/500\n",
            "169/169 [==============================] - 0s 2ms/step - loss: 0.0490 - r2: 0.8189 - val_loss: 0.0513 - val_r2: 0.8027\n",
            "Epoch 301/500\n",
            "169/169 [==============================] - 0s 2ms/step - loss: 0.0481 - r2: 0.8227 - val_loss: 0.0506 - val_r2: 0.8056\n",
            "Epoch 302/500\n",
            "169/169 [==============================] - 0s 1ms/step - loss: 0.0476 - r2: 0.8241 - val_loss: 0.0491 - val_r2: 0.8118\n",
            "Epoch 303/500\n",
            "169/169 [==============================] - 0s 2ms/step - loss: 0.0486 - r2: 0.8201 - val_loss: 0.0504 - val_r2: 0.8069\n",
            "Epoch 304/500\n",
            "169/169 [==============================] - 0s 1ms/step - loss: 0.0485 - r2: 0.8200 - val_loss: 0.0488 - val_r2: 0.8125\n",
            "Epoch 305/500\n",
            "169/169 [==============================] - 0s 2ms/step - loss: 0.0476 - r2: 0.8237 - val_loss: 0.0483 - val_r2: 0.8144\n",
            "Epoch 306/500\n",
            "169/169 [==============================] - 0s 1ms/step - loss: 0.0472 - r2: 0.8256 - val_loss: 0.0495 - val_r2: 0.8093\n",
            "Epoch 307/500\n",
            "169/169 [==============================] - 0s 2ms/step - loss: 0.0483 - r2: 0.8198 - val_loss: 0.0494 - val_r2: 0.8101\n",
            "Epoch 308/500\n",
            "169/169 [==============================] - 0s 1ms/step - loss: 0.0482 - r2: 0.8210 - val_loss: 0.0491 - val_r2: 0.8112\n",
            "Epoch 309/500\n",
            "169/169 [==============================] - 0s 1ms/step - loss: 0.0513 - r2: 0.8095 - val_loss: 0.0504 - val_r2: 0.8067\n",
            "Epoch 310/500\n",
            "169/169 [==============================] - 0s 2ms/step - loss: 0.0487 - r2: 0.8207 - val_loss: 0.0518 - val_r2: 0.8015\n",
            "Epoch 311/500\n",
            "169/169 [==============================] - 0s 2ms/step - loss: 0.0472 - r2: 0.8266 - val_loss: 0.0489 - val_r2: 0.8118\n",
            "Epoch 312/500\n",
            "169/169 [==============================] - 0s 2ms/step - loss: 0.0480 - r2: 0.8219 - val_loss: 0.0485 - val_r2: 0.8136\n",
            "Epoch 313/500\n",
            "169/169 [==============================] - 0s 1ms/step - loss: 0.0478 - r2: 0.8227 - val_loss: 0.0543 - val_r2: 0.7909\n",
            "Epoch 314/500\n",
            "169/169 [==============================] - 0s 2ms/step - loss: 0.0487 - r2: 0.8196 - val_loss: 0.0488 - val_r2: 0.8121\n",
            "Epoch 315/500\n",
            "169/169 [==============================] - 0s 1ms/step - loss: 0.0483 - r2: 0.8197 - val_loss: 0.0545 - val_r2: 0.7918\n",
            "Epoch 316/500\n",
            "169/169 [==============================] - 0s 1ms/step - loss: 0.0498 - r2: 0.8161 - val_loss: 0.0486 - val_r2: 0.8135\n",
            "Epoch 317/500\n",
            "169/169 [==============================] - 0s 1ms/step - loss: 0.0477 - r2: 0.8223 - val_loss: 0.0487 - val_r2: 0.8130\n",
            "Epoch 318/500\n",
            "169/169 [==============================] - 0s 1ms/step - loss: 0.0490 - r2: 0.8200 - val_loss: 0.0652 - val_r2: 0.7484\n",
            "Epoch 319/500\n",
            "169/169 [==============================] - 0s 2ms/step - loss: 0.0495 - r2: 0.8172 - val_loss: 0.0489 - val_r2: 0.8128\n",
            "Epoch 320/500\n",
            "169/169 [==============================] - 0s 2ms/step - loss: 0.0489 - r2: 0.8173 - val_loss: 0.0485 - val_r2: 0.8133\n",
            "Epoch 321/500\n",
            "169/169 [==============================] - 0s 2ms/step - loss: 0.0493 - r2: 0.8175 - val_loss: 0.0509 - val_r2: 0.8045\n",
            "Epoch 322/500\n",
            "169/169 [==============================] - 0s 2ms/step - loss: 0.0490 - r2: 0.8193 - val_loss: 0.0493 - val_r2: 0.8101\n",
            "Epoch 323/500\n",
            "169/169 [==============================] - 0s 2ms/step - loss: 0.0475 - r2: 0.8238 - val_loss: 0.0495 - val_r2: 0.8101\n",
            "Epoch 324/500\n",
            "169/169 [==============================] - 0s 2ms/step - loss: 0.0479 - r2: 0.8219 - val_loss: 0.0488 - val_r2: 0.8121\n",
            "Epoch 325/500\n",
            "169/169 [==============================] - 0s 1ms/step - loss: 0.0473 - r2: 0.8241 - val_loss: 0.0530 - val_r2: 0.7962\n",
            "Epoch 326/500\n",
            "169/169 [==============================] - 0s 2ms/step - loss: 0.0479 - r2: 0.8240 - val_loss: 0.0504 - val_r2: 0.8056\n",
            "Epoch 327/500\n",
            "169/169 [==============================] - 0s 2ms/step - loss: 0.0489 - r2: 0.8198 - val_loss: 0.0486 - val_r2: 0.8133\n",
            "Epoch 328/500\n",
            "169/169 [==============================] - 0s 1ms/step - loss: 0.0477 - r2: 0.8232 - val_loss: 0.0552 - val_r2: 0.7888\n",
            "Epoch 329/500\n",
            "169/169 [==============================] - 0s 2ms/step - loss: 0.0487 - r2: 0.8191 - val_loss: 0.0487 - val_r2: 0.8125\n",
            "Epoch 330/500\n",
            "169/169 [==============================] - 0s 2ms/step - loss: 0.0470 - r2: 0.8261 - val_loss: 0.0495 - val_r2: 0.8089\n",
            "Epoch 331/500\n",
            "169/169 [==============================] - 0s 2ms/step - loss: 0.0472 - r2: 0.8258 - val_loss: 0.0545 - val_r2: 0.7901\n",
            "Epoch 332/500\n",
            "169/169 [==============================] - 0s 1ms/step - loss: 0.0478 - r2: 0.8234 - val_loss: 0.0599 - val_r2: 0.7716\n",
            "Epoch 333/500\n",
            "169/169 [==============================] - 0s 1ms/step - loss: 0.0481 - r2: 0.8224 - val_loss: 0.0508 - val_r2: 0.8056\n",
            "Epoch 334/500\n",
            "169/169 [==============================] - 0s 2ms/step - loss: 0.0472 - r2: 0.8249 - val_loss: 0.0489 - val_r2: 0.8129\n",
            "Epoch 335/500\n",
            "169/169 [==============================] - 0s 1ms/step - loss: 0.0471 - r2: 0.8267 - val_loss: 0.0488 - val_r2: 0.8128\n",
            "Epoch 336/500\n",
            "169/169 [==============================] - 0s 1ms/step - loss: 0.0471 - r2: 0.8253 - val_loss: 0.0509 - val_r2: 0.8031\n",
            "Epoch 337/500\n",
            "169/169 [==============================] - 0s 2ms/step - loss: 0.0484 - r2: 0.8220 - val_loss: 0.0543 - val_r2: 0.7898\n",
            "Epoch 338/500\n",
            "169/169 [==============================] - 0s 1ms/step - loss: 0.0482 - r2: 0.8216 - val_loss: 0.0498 - val_r2: 0.8087\n",
            "Epoch 339/500\n",
            "169/169 [==============================] - 0s 2ms/step - loss: 0.0492 - r2: 0.8166 - val_loss: 0.0521 - val_r2: 0.8011\n",
            "Epoch 340/500\n",
            "169/169 [==============================] - 0s 1ms/step - loss: 0.0479 - r2: 0.8227 - val_loss: 0.0492 - val_r2: 0.8114\n",
            "Epoch 341/500\n",
            "169/169 [==============================] - 0s 2ms/step - loss: 0.0471 - r2: 0.8247 - val_loss: 0.0496 - val_r2: 0.8098\n",
            "Epoch 342/500\n",
            "169/169 [==============================] - 0s 1ms/step - loss: 0.0474 - r2: 0.8239 - val_loss: 0.0493 - val_r2: 0.8113\n",
            "Epoch 343/500\n",
            "169/169 [==============================] - 0s 1ms/step - loss: 0.0473 - r2: 0.8235 - val_loss: 0.0499 - val_r2: 0.8086\n",
            "Epoch 344/500\n",
            "169/169 [==============================] - 0s 2ms/step - loss: 0.0479 - r2: 0.8218 - val_loss: 0.0549 - val_r2: 0.7875\n",
            "Epoch 345/500\n",
            "169/169 [==============================] - 0s 2ms/step - loss: 0.0479 - r2: 0.8226 - val_loss: 0.0527 - val_r2: 0.7974\n",
            "Epoch 346/500\n",
            "169/169 [==============================] - 0s 1ms/step - loss: 0.0480 - r2: 0.8214 - val_loss: 0.0488 - val_r2: 0.8133\n",
            "Epoch 347/500\n",
            "169/169 [==============================] - 0s 1ms/step - loss: 0.0481 - r2: 0.8202 - val_loss: 0.0615 - val_r2: 0.7646\n",
            "Epoch 348/500\n",
            "169/169 [==============================] - 0s 2ms/step - loss: 0.0480 - r2: 0.8215 - val_loss: 0.0534 - val_r2: 0.7964\n",
            "Epoch 349/500\n",
            "169/169 [==============================] - 0s 2ms/step - loss: 0.0467 - r2: 0.8268 - val_loss: 0.0510 - val_r2: 0.8043\n",
            "Epoch 350/500\n",
            "169/169 [==============================] - 0s 2ms/step - loss: 0.0472 - r2: 0.8252 - val_loss: 0.0497 - val_r2: 0.8090\n",
            "Epoch 351/500\n",
            "169/169 [==============================] - 0s 2ms/step - loss: 0.0474 - r2: 0.8248 - val_loss: 0.0490 - val_r2: 0.8115\n",
            "Epoch 352/500\n",
            "169/169 [==============================] - 0s 1ms/step - loss: 0.0476 - r2: 0.8236 - val_loss: 0.0542 - val_r2: 0.7912\n",
            "Epoch 353/500\n",
            "169/169 [==============================] - 0s 2ms/step - loss: 0.0471 - r2: 0.8261 - val_loss: 0.0504 - val_r2: 0.8075\n",
            "Epoch 354/500\n",
            "169/169 [==============================] - 0s 2ms/step - loss: 0.0474 - r2: 0.8244 - val_loss: 0.0497 - val_r2: 0.8096\n",
            "Epoch 355/500\n",
            "169/169 [==============================] - 0s 1ms/step - loss: 0.0479 - r2: 0.8218 - val_loss: 0.0489 - val_r2: 0.8120\n",
            "Epoch 356/500\n",
            "169/169 [==============================] - 0s 2ms/step - loss: 0.0479 - r2: 0.8234 - val_loss: 0.0502 - val_r2: 0.8078\n",
            "Epoch 357/500\n",
            "169/169 [==============================] - 0s 2ms/step - loss: 0.0477 - r2: 0.8229 - val_loss: 0.0496 - val_r2: 0.8095\n",
            "Epoch 358/500\n",
            "169/169 [==============================] - 0s 2ms/step - loss: 0.0491 - r2: 0.8185 - val_loss: 0.0505 - val_r2: 0.8058\n",
            "Epoch 359/500\n",
            "169/169 [==============================] - 0s 1ms/step - loss: 0.0481 - r2: 0.8212 - val_loss: 0.0506 - val_r2: 0.8066\n",
            "Epoch 360/500\n",
            "169/169 [==============================] - 0s 2ms/step - loss: 0.0484 - r2: 0.8212 - val_loss: 0.0494 - val_r2: 0.8106\n",
            "Epoch 361/500\n",
            "169/169 [==============================] - 0s 2ms/step - loss: 0.0466 - r2: 0.8264 - val_loss: 0.0490 - val_r2: 0.8122\n",
            "Epoch 362/500\n",
            "169/169 [==============================] - 0s 1ms/step - loss: 0.0473 - r2: 0.8244 - val_loss: 0.0559 - val_r2: 0.7857\n",
            "Epoch 363/500\n",
            "169/169 [==============================] - 0s 2ms/step - loss: 0.0479 - r2: 0.8216 - val_loss: 0.0529 - val_r2: 0.7985\n",
            "Epoch 364/500\n",
            "169/169 [==============================] - 0s 1ms/step - loss: 0.0472 - r2: 0.8251 - val_loss: 0.0521 - val_r2: 0.8006\n",
            "Epoch 365/500\n",
            "169/169 [==============================] - 0s 1ms/step - loss: 0.0476 - r2: 0.8235 - val_loss: 0.0503 - val_r2: 0.8071\n",
            "Epoch 366/500\n",
            "169/169 [==============================] - 0s 2ms/step - loss: 0.0474 - r2: 0.8243 - val_loss: 0.0502 - val_r2: 0.8072\n",
            "Epoch 367/500\n",
            "169/169 [==============================] - 0s 2ms/step - loss: 0.0478 - r2: 0.8235 - val_loss: 0.0488 - val_r2: 0.8117\n",
            "Epoch 368/500\n",
            "169/169 [==============================] - 0s 2ms/step - loss: 0.0475 - r2: 0.8237 - val_loss: 0.0613 - val_r2: 0.7662\n",
            "Epoch 369/500\n",
            "169/169 [==============================] - 0s 1ms/step - loss: 0.0474 - r2: 0.8238 - val_loss: 0.0496 - val_r2: 0.8088\n",
            "Epoch 370/500\n",
            "169/169 [==============================] - 0s 1ms/step - loss: 0.0471 - r2: 0.8248 - val_loss: 0.0499 - val_r2: 0.8091\n",
            "Epoch 371/500\n",
            "169/169 [==============================] - 0s 1ms/step - loss: 0.0477 - r2: 0.8225 - val_loss: 0.0503 - val_r2: 0.8065\n",
            "Epoch 372/500\n",
            "169/169 [==============================] - 0s 2ms/step - loss: 0.0469 - r2: 0.8247 - val_loss: 0.0591 - val_r2: 0.7748\n",
            "Epoch 373/500\n",
            "169/169 [==============================] - 0s 1ms/step - loss: 0.0471 - r2: 0.8265 - val_loss: 0.0495 - val_r2: 0.8104\n",
            "Epoch 374/500\n",
            "169/169 [==============================] - 0s 2ms/step - loss: 0.0471 - r2: 0.8259 - val_loss: 0.0602 - val_r2: 0.7672\n",
            "Epoch 375/500\n",
            "169/169 [==============================] - 0s 1ms/step - loss: 0.0489 - r2: 0.8176 - val_loss: 0.0510 - val_r2: 0.8035\n",
            "Epoch 376/500\n",
            "169/169 [==============================] - 0s 1ms/step - loss: 0.0480 - r2: 0.8235 - val_loss: 0.0486 - val_r2: 0.8136\n",
            "Epoch 377/500\n",
            "169/169 [==============================] - 0s 2ms/step - loss: 0.0476 - r2: 0.8228 - val_loss: 0.0490 - val_r2: 0.8110\n",
            "Epoch 378/500\n",
            "169/169 [==============================] - 0s 1ms/step - loss: 0.0481 - r2: 0.8225 - val_loss: 0.0504 - val_r2: 0.8065\n",
            "Epoch 379/500\n",
            "169/169 [==============================] - 0s 1ms/step - loss: 0.0476 - r2: 0.8237 - val_loss: 0.0494 - val_r2: 0.8114\n",
            "Epoch 380/500\n",
            "169/169 [==============================] - 0s 2ms/step - loss: 0.0469 - r2: 0.8255 - val_loss: 0.0520 - val_r2: 0.8010\n",
            "Epoch 381/500\n",
            "169/169 [==============================] - 0s 1ms/step - loss: 0.0485 - r2: 0.8218 - val_loss: 0.0499 - val_r2: 0.8096\n",
            "Epoch 382/500\n",
            "169/169 [==============================] - 0s 1ms/step - loss: 0.0475 - r2: 0.8238 - val_loss: 0.0505 - val_r2: 0.8072\n",
            "Epoch 383/500\n",
            "169/169 [==============================] - 0s 1ms/step - loss: 0.0488 - r2: 0.8184 - val_loss: 0.0497 - val_r2: 0.8093\n",
            "Epoch 384/500\n",
            "169/169 [==============================] - 0s 2ms/step - loss: 0.0480 - r2: 0.8220 - val_loss: 0.0523 - val_r2: 0.7984\n",
            "Epoch 385/500\n",
            "169/169 [==============================] - 0s 2ms/step - loss: 0.0465 - r2: 0.8273 - val_loss: 0.0502 - val_r2: 0.8074\n",
            "Epoch 386/500\n",
            "169/169 [==============================] - 0s 2ms/step - loss: 0.0482 - r2: 0.8195 - val_loss: 0.0495 - val_r2: 0.8100\n",
            "Epoch 387/500\n",
            "169/169 [==============================] - 0s 2ms/step - loss: 0.0466 - r2: 0.8276 - val_loss: 0.0528 - val_r2: 0.7969\n",
            "Epoch 388/500\n",
            "169/169 [==============================] - 0s 1ms/step - loss: 0.0463 - r2: 0.8276 - val_loss: 0.0491 - val_r2: 0.8112\n",
            "Epoch 389/500\n",
            "169/169 [==============================] - 0s 2ms/step - loss: 0.0481 - r2: 0.8223 - val_loss: 0.0490 - val_r2: 0.8115\n",
            "Epoch 390/500\n",
            "169/169 [==============================] - 0s 1ms/step - loss: 0.0466 - r2: 0.8271 - val_loss: 0.0489 - val_r2: 0.8118\n",
            "Epoch 391/500\n",
            "169/169 [==============================] - 0s 1ms/step - loss: 0.0496 - r2: 0.8161 - val_loss: 0.0507 - val_r2: 0.8048\n",
            "Epoch 392/500\n",
            "169/169 [==============================] - 0s 2ms/step - loss: 0.0472 - r2: 0.8256 - val_loss: 0.0575 - val_r2: 0.7783\n",
            "Epoch 393/500\n",
            "169/169 [==============================] - 0s 2ms/step - loss: 0.0479 - r2: 0.8219 - val_loss: 0.0493 - val_r2: 0.8110\n",
            "Epoch 394/500\n",
            "169/169 [==============================] - 0s 2ms/step - loss: 0.0468 - r2: 0.8261 - val_loss: 0.0493 - val_r2: 0.8111\n",
            "Epoch 395/500\n",
            "169/169 [==============================] - 0s 1ms/step - loss: 0.0466 - r2: 0.8253 - val_loss: 0.0487 - val_r2: 0.8138\n",
            "Epoch 396/500\n",
            "169/169 [==============================] - 0s 2ms/step - loss: 0.0471 - r2: 0.8248 - val_loss: 0.0514 - val_r2: 0.8019\n",
            "Epoch 397/500\n",
            "169/169 [==============================] - 0s 2ms/step - loss: 0.0477 - r2: 0.8240 - val_loss: 0.0495 - val_r2: 0.8107\n",
            "Epoch 398/500\n",
            "169/169 [==============================] - 0s 2ms/step - loss: 0.0468 - r2: 0.8256 - val_loss: 0.0484 - val_r2: 0.8137\n",
            "Epoch 399/500\n",
            "169/169 [==============================] - 0s 2ms/step - loss: 0.0471 - r2: 0.8237 - val_loss: 0.0485 - val_r2: 0.8141\n",
            "Epoch 400/500\n",
            "169/169 [==============================] - 0s 2ms/step - loss: 0.0476 - r2: 0.8247 - val_loss: 0.0507 - val_r2: 0.8049\n",
            "Epoch 401/500\n",
            "169/169 [==============================] - 0s 2ms/step - loss: 0.0467 - r2: 0.8266 - val_loss: 0.0493 - val_r2: 0.8105\n",
            "Epoch 402/500\n",
            "169/169 [==============================] - 0s 2ms/step - loss: 0.0483 - r2: 0.8208 - val_loss: 0.0569 - val_r2: 0.7790\n",
            "Epoch 403/500\n",
            "169/169 [==============================] - 0s 1ms/step - loss: 0.0467 - r2: 0.8277 - val_loss: 0.0509 - val_r2: 0.8050\n",
            "Epoch 404/500\n",
            "169/169 [==============================] - 0s 2ms/step - loss: 0.0465 - r2: 0.8275 - val_loss: 0.0507 - val_r2: 0.8061\n",
            "Epoch 405/500\n",
            "169/169 [==============================] - 0s 1ms/step - loss: 0.0475 - r2: 0.8242 - val_loss: 0.0498 - val_r2: 0.8075\n",
            "Epoch 406/500\n",
            "169/169 [==============================] - 0s 1ms/step - loss: 0.0465 - r2: 0.8268 - val_loss: 0.0538 - val_r2: 0.7941\n",
            "Epoch 407/500\n",
            "169/169 [==============================] - 0s 1ms/step - loss: 0.0469 - r2: 0.8257 - val_loss: 0.0495 - val_r2: 0.8103\n",
            "Epoch 408/500\n",
            "169/169 [==============================] - 0s 2ms/step - loss: 0.0474 - r2: 0.8251 - val_loss: 0.0520 - val_r2: 0.8009\n",
            "Epoch 409/500\n",
            "169/169 [==============================] - 0s 1ms/step - loss: 0.0474 - r2: 0.8250 - val_loss: 0.0489 - val_r2: 0.8114\n",
            "Epoch 410/500\n",
            "169/169 [==============================] - 0s 2ms/step - loss: 0.0476 - r2: 0.8224 - val_loss: 0.0529 - val_r2: 0.7970\n",
            "Epoch 411/500\n",
            "169/169 [==============================] - 0s 2ms/step - loss: 0.0475 - r2: 0.8244 - val_loss: 0.0497 - val_r2: 0.8087\n",
            "Epoch 412/500\n",
            "169/169 [==============================] - 0s 1ms/step - loss: 0.0469 - r2: 0.8248 - val_loss: 0.0512 - val_r2: 0.8045\n",
            "Epoch 413/500\n",
            "169/169 [==============================] - 0s 1ms/step - loss: 0.0470 - r2: 0.8250 - val_loss: 0.0505 - val_r2: 0.8054\n",
            "Epoch 414/500\n",
            "169/169 [==============================] - 0s 2ms/step - loss: 0.0470 - r2: 0.8267 - val_loss: 0.0553 - val_r2: 0.7899\n",
            "Epoch 415/500\n",
            "169/169 [==============================] - 0s 2ms/step - loss: 0.0473 - r2: 0.8247 - val_loss: 0.0551 - val_r2: 0.7904\n",
            "Epoch 416/500\n",
            "169/169 [==============================] - 0s 1ms/step - loss: 0.0481 - r2: 0.8225 - val_loss: 0.0492 - val_r2: 0.8119\n",
            "Epoch 417/500\n",
            "169/169 [==============================] - 0s 1ms/step - loss: 0.0470 - r2: 0.8270 - val_loss: 0.0482 - val_r2: 0.8155\n",
            "Epoch 418/500\n",
            "169/169 [==============================] - 0s 1ms/step - loss: 0.0477 - r2: 0.8231 - val_loss: 0.0489 - val_r2: 0.8123\n",
            "Epoch 419/500\n",
            "169/169 [==============================] - 0s 1ms/step - loss: 0.0475 - r2: 0.8245 - val_loss: 0.0505 - val_r2: 0.8068\n",
            "Epoch 420/500\n",
            "169/169 [==============================] - 0s 1ms/step - loss: 0.0468 - r2: 0.8264 - val_loss: 0.0541 - val_r2: 0.7933\n",
            "Epoch 421/500\n",
            "169/169 [==============================] - 0s 1ms/step - loss: 0.0467 - r2: 0.8283 - val_loss: 0.0498 - val_r2: 0.8098\n",
            "Epoch 422/500\n",
            "169/169 [==============================] - 0s 1ms/step - loss: 0.0476 - r2: 0.8238 - val_loss: 0.0491 - val_r2: 0.8110\n",
            "Epoch 423/500\n",
            "169/169 [==============================] - 0s 2ms/step - loss: 0.0470 - r2: 0.8273 - val_loss: 0.0515 - val_r2: 0.8012\n",
            "Epoch 424/500\n",
            "169/169 [==============================] - 0s 2ms/step - loss: 0.0475 - r2: 0.8234 - val_loss: 0.0495 - val_r2: 0.8111\n",
            "Epoch 425/500\n",
            "169/169 [==============================] - 0s 2ms/step - loss: 0.0472 - r2: 0.8252 - val_loss: 0.0500 - val_r2: 0.8088\n",
            "Epoch 426/500\n",
            "169/169 [==============================] - 0s 2ms/step - loss: 0.0479 - r2: 0.8238 - val_loss: 0.0500 - val_r2: 0.8075\n",
            "Epoch 427/500\n",
            "169/169 [==============================] - 0s 2ms/step - loss: 0.0464 - r2: 0.8281 - val_loss: 0.0493 - val_r2: 0.8115\n",
            "Epoch 428/500\n",
            "169/169 [==============================] - 0s 2ms/step - loss: 0.0463 - r2: 0.8280 - val_loss: 0.0494 - val_r2: 0.8108\n",
            "Epoch 429/500\n",
            "169/169 [==============================] - 0s 2ms/step - loss: 0.0468 - r2: 0.8263 - val_loss: 0.0481 - val_r2: 0.8155\n",
            "Epoch 430/500\n",
            "169/169 [==============================] - 0s 1ms/step - loss: 0.0469 - r2: 0.8264 - val_loss: 0.0487 - val_r2: 0.8137\n",
            "Epoch 431/500\n",
            "169/169 [==============================] - 0s 2ms/step - loss: 0.0467 - r2: 0.8274 - val_loss: 0.0504 - val_r2: 0.8065\n",
            "Epoch 432/500\n",
            "169/169 [==============================] - 0s 2ms/step - loss: 0.0473 - r2: 0.8250 - val_loss: 0.0516 - val_r2: 0.8027\n",
            "Epoch 433/500\n",
            "169/169 [==============================] - 0s 2ms/step - loss: 0.0470 - r2: 0.8261 - val_loss: 0.0575 - val_r2: 0.7811\n",
            "Epoch 434/500\n",
            "169/169 [==============================] - 0s 2ms/step - loss: 0.0479 - r2: 0.8214 - val_loss: 0.0485 - val_r2: 0.8147\n",
            "Epoch 435/500\n",
            "169/169 [==============================] - 0s 2ms/step - loss: 0.0473 - r2: 0.8233 - val_loss: 0.0489 - val_r2: 0.8123\n",
            "Epoch 436/500\n",
            "169/169 [==============================] - 0s 1ms/step - loss: 0.0459 - r2: 0.8305 - val_loss: 0.0523 - val_r2: 0.7983\n",
            "Epoch 437/500\n",
            "169/169 [==============================] - 0s 2ms/step - loss: 0.0469 - r2: 0.8273 - val_loss: 0.0488 - val_r2: 0.8120\n",
            "Epoch 438/500\n",
            "169/169 [==============================] - 0s 2ms/step - loss: 0.0469 - r2: 0.8274 - val_loss: 0.0517 - val_r2: 0.8017\n",
            "Epoch 439/500\n",
            "169/169 [==============================] - 0s 1ms/step - loss: 0.0482 - r2: 0.8197 - val_loss: 0.0487 - val_r2: 0.8133\n",
            "Epoch 440/500\n",
            "169/169 [==============================] - 0s 1ms/step - loss: 0.0472 - r2: 0.8225 - val_loss: 0.0493 - val_r2: 0.8129\n",
            "Epoch 441/500\n",
            "169/169 [==============================] - 0s 1ms/step - loss: 0.0467 - r2: 0.8270 - val_loss: 0.0502 - val_r2: 0.8077\n",
            "Epoch 442/500\n",
            "169/169 [==============================] - 0s 1ms/step - loss: 0.0465 - r2: 0.8288 - val_loss: 0.0483 - val_r2: 0.8148\n",
            "Epoch 443/500\n",
            "169/169 [==============================] - 0s 2ms/step - loss: 0.0465 - r2: 0.8285 - val_loss: 0.0492 - val_r2: 0.8119\n",
            "Epoch 444/500\n",
            "169/169 [==============================] - 0s 2ms/step - loss: 0.0465 - r2: 0.8263 - val_loss: 0.0491 - val_r2: 0.8124\n",
            "Epoch 445/500\n",
            "169/169 [==============================] - 0s 1ms/step - loss: 0.0482 - r2: 0.8213 - val_loss: 0.0488 - val_r2: 0.8129\n",
            "Epoch 446/500\n",
            "169/169 [==============================] - 0s 2ms/step - loss: 0.0466 - r2: 0.8282 - val_loss: 0.0496 - val_r2: 0.8110\n",
            "Epoch 447/500\n",
            "169/169 [==============================] - 0s 1ms/step - loss: 0.0465 - r2: 0.8279 - val_loss: 0.0485 - val_r2: 0.8148\n",
            "Epoch 448/500\n",
            "169/169 [==============================] - 0s 2ms/step - loss: 0.0461 - r2: 0.8285 - val_loss: 0.0536 - val_r2: 0.7954\n",
            "Epoch 449/500\n",
            "169/169 [==============================] - 0s 1ms/step - loss: 0.0468 - r2: 0.8259 - val_loss: 0.0492 - val_r2: 0.8113\n",
            "Epoch 450/500\n",
            "169/169 [==============================] - 0s 2ms/step - loss: 0.0465 - r2: 0.8268 - val_loss: 0.0551 - val_r2: 0.7897\n",
            "Epoch 451/500\n",
            "169/169 [==============================] - 0s 1ms/step - loss: 0.0459 - r2: 0.8311 - val_loss: 0.0484 - val_r2: 0.8151\n",
            "Epoch 452/500\n",
            "169/169 [==============================] - 0s 2ms/step - loss: 0.0462 - r2: 0.8292 - val_loss: 0.0486 - val_r2: 0.8137\n",
            "Epoch 453/500\n",
            "169/169 [==============================] - 0s 1ms/step - loss: 0.0471 - r2: 0.8253 - val_loss: 0.0550 - val_r2: 0.7914\n",
            "Epoch 454/500\n",
            "169/169 [==============================] - 0s 2ms/step - loss: 0.0461 - r2: 0.8286 - val_loss: 0.0490 - val_r2: 0.8126\n",
            "Epoch 455/500\n",
            "169/169 [==============================] - 0s 2ms/step - loss: 0.0460 - r2: 0.8289 - val_loss: 0.0488 - val_r2: 0.8129\n",
            "Epoch 456/500\n",
            "169/169 [==============================] - 0s 2ms/step - loss: 0.0467 - r2: 0.8252 - val_loss: 0.0518 - val_r2: 0.8033\n",
            "Epoch 457/500\n",
            "169/169 [==============================] - 0s 2ms/step - loss: 0.0473 - r2: 0.8253 - val_loss: 0.0484 - val_r2: 0.8138\n",
            "Epoch 458/500\n",
            "169/169 [==============================] - 0s 1ms/step - loss: 0.0468 - r2: 0.8257 - val_loss: 0.0504 - val_r2: 0.8059\n",
            "Epoch 459/500\n",
            "169/169 [==============================] - 0s 1ms/step - loss: 0.0465 - r2: 0.8275 - val_loss: 0.0503 - val_r2: 0.8071\n",
            "Epoch 460/500\n",
            "169/169 [==============================] - 0s 1ms/step - loss: 0.0468 - r2: 0.8271 - val_loss: 0.0499 - val_r2: 0.8090\n",
            "Epoch 461/500\n",
            "169/169 [==============================] - 0s 2ms/step - loss: 0.0464 - r2: 0.8278 - val_loss: 0.0489 - val_r2: 0.8136\n",
            "Epoch 462/500\n",
            "169/169 [==============================] - 0s 2ms/step - loss: 0.0469 - r2: 0.8264 - val_loss: 0.0507 - val_r2: 0.8044\n",
            "Epoch 463/500\n",
            "169/169 [==============================] - 0s 1ms/step - loss: 0.0460 - r2: 0.8289 - val_loss: 0.0519 - val_r2: 0.8023\n",
            "Epoch 464/500\n",
            "169/169 [==============================] - 0s 2ms/step - loss: 0.0481 - r2: 0.8205 - val_loss: 0.0509 - val_r2: 0.8052\n",
            "Epoch 465/500\n",
            "169/169 [==============================] - 0s 2ms/step - loss: 0.0461 - r2: 0.8305 - val_loss: 0.0484 - val_r2: 0.8146\n",
            "Epoch 466/500\n",
            "169/169 [==============================] - 0s 1ms/step - loss: 0.0458 - r2: 0.8297 - val_loss: 0.0488 - val_r2: 0.8142\n",
            "Epoch 467/500\n",
            "169/169 [==============================] - 0s 1ms/step - loss: 0.0471 - r2: 0.8250 - val_loss: 0.0512 - val_r2: 0.8054\n",
            "Epoch 468/500\n",
            "169/169 [==============================] - 0s 2ms/step - loss: 0.0473 - r2: 0.8228 - val_loss: 0.0523 - val_r2: 0.8007\n",
            "Epoch 469/500\n",
            "169/169 [==============================] - 0s 2ms/step - loss: 0.0475 - r2: 0.8243 - val_loss: 0.0507 - val_r2: 0.8072\n",
            "Epoch 470/500\n",
            "169/169 [==============================] - 0s 1ms/step - loss: 0.0471 - r2: 0.8246 - val_loss: 0.0485 - val_r2: 0.8145\n",
            "Epoch 471/500\n",
            "169/169 [==============================] - 0s 1ms/step - loss: 0.0464 - r2: 0.8280 - val_loss: 0.0490 - val_r2: 0.8111\n",
            "Epoch 472/500\n",
            "169/169 [==============================] - 0s 1ms/step - loss: 0.0465 - r2: 0.8272 - val_loss: 0.0516 - val_r2: 0.8032\n",
            "Epoch 473/500\n",
            "169/169 [==============================] - 0s 2ms/step - loss: 0.0458 - r2: 0.8310 - val_loss: 0.0601 - val_r2: 0.7687\n",
            "Epoch 474/500\n",
            "169/169 [==============================] - 0s 2ms/step - loss: 0.0474 - r2: 0.8249 - val_loss: 0.0503 - val_r2: 0.8071\n",
            "Epoch 475/500\n",
            "169/169 [==============================] - 0s 2ms/step - loss: 0.0459 - r2: 0.8292 - val_loss: 0.0483 - val_r2: 0.8143\n",
            "Epoch 476/500\n",
            "169/169 [==============================] - 0s 1ms/step - loss: 0.0465 - r2: 0.8274 - val_loss: 0.0514 - val_r2: 0.8038\n",
            "Epoch 477/500\n",
            "169/169 [==============================] - 0s 1ms/step - loss: 0.0467 - r2: 0.8277 - val_loss: 0.0493 - val_r2: 0.8112\n",
            "Epoch 478/500\n",
            "169/169 [==============================] - 0s 1ms/step - loss: 0.0465 - r2: 0.8266 - val_loss: 0.0513 - val_r2: 0.8030\n",
            "Epoch 479/500\n",
            "169/169 [==============================] - 0s 2ms/step - loss: 0.0468 - r2: 0.8262 - val_loss: 0.0510 - val_r2: 0.8049\n",
            "Epoch 480/500\n",
            "169/169 [==============================] - 0s 2ms/step - loss: 0.0470 - r2: 0.8252 - val_loss: 0.0500 - val_r2: 0.8083\n",
            "Epoch 481/500\n",
            "169/169 [==============================] - 0s 1ms/step - loss: 0.0465 - r2: 0.8249 - val_loss: 0.0497 - val_r2: 0.8106\n",
            "Epoch 482/500\n",
            "169/169 [==============================] - 0s 1ms/step - loss: 0.0463 - r2: 0.8287 - val_loss: 0.0493 - val_r2: 0.8122\n",
            "Epoch 483/500\n",
            "169/169 [==============================] - 0s 1ms/step - loss: 0.0461 - r2: 0.8287 - val_loss: 0.0491 - val_r2: 0.8122\n",
            "Epoch 484/500\n",
            "169/169 [==============================] - 0s 2ms/step - loss: 0.0472 - r2: 0.8238 - val_loss: 0.0558 - val_r2: 0.7876\n",
            "Epoch 485/500\n",
            "169/169 [==============================] - 0s 1ms/step - loss: 0.0472 - r2: 0.8248 - val_loss: 0.0486 - val_r2: 0.8134\n",
            "Epoch 486/500\n",
            "169/169 [==============================] - 0s 2ms/step - loss: 0.0463 - r2: 0.8279 - val_loss: 0.0492 - val_r2: 0.8123\n",
            "Epoch 487/500\n",
            "169/169 [==============================] - 0s 2ms/step - loss: 0.0466 - r2: 0.8272 - val_loss: 0.0484 - val_r2: 0.8147\n",
            "Epoch 488/500\n",
            "169/169 [==============================] - 0s 2ms/step - loss: 0.0469 - r2: 0.8271 - val_loss: 0.0501 - val_r2: 0.8079\n",
            "Epoch 489/500\n",
            "169/169 [==============================] - 0s 1ms/step - loss: 0.0462 - r2: 0.8269 - val_loss: 0.0495 - val_r2: 0.8089\n",
            "Epoch 490/500\n",
            "169/169 [==============================] - 0s 2ms/step - loss: 0.0460 - r2: 0.8300 - val_loss: 0.0589 - val_r2: 0.7756\n",
            "Epoch 491/500\n",
            "169/169 [==============================] - 0s 1ms/step - loss: 0.0471 - r2: 0.8264 - val_loss: 0.0494 - val_r2: 0.8113\n",
            "Epoch 492/500\n",
            "169/169 [==============================] - 0s 2ms/step - loss: 0.0456 - r2: 0.8301 - val_loss: 0.0495 - val_r2: 0.8115\n",
            "Epoch 493/500\n",
            "169/169 [==============================] - 0s 2ms/step - loss: 0.0466 - r2: 0.8278 - val_loss: 0.0491 - val_r2: 0.8125\n",
            "Epoch 494/500\n",
            "169/169 [==============================] - 0s 2ms/step - loss: 0.0465 - r2: 0.8282 - val_loss: 0.0487 - val_r2: 0.8141\n",
            "Epoch 495/500\n",
            "169/169 [==============================] - 0s 2ms/step - loss: 0.0468 - r2: 0.8278 - val_loss: 0.0492 - val_r2: 0.8107\n",
            "Epoch 496/500\n",
            "169/169 [==============================] - 0s 2ms/step - loss: 0.0459 - r2: 0.8300 - val_loss: 0.0496 - val_r2: 0.8096\n",
            "Epoch 497/500\n",
            "169/169 [==============================] - 0s 2ms/step - loss: 0.0460 - r2: 0.8302 - val_loss: 0.0491 - val_r2: 0.8124\n",
            "Epoch 498/500\n",
            "169/169 [==============================] - 0s 2ms/step - loss: 0.0459 - r2: 0.8309 - val_loss: 0.0492 - val_r2: 0.8122\n",
            "Epoch 499/500\n",
            "169/169 [==============================] - 0s 2ms/step - loss: 0.0457 - r2: 0.8301 - val_loss: 0.0503 - val_r2: 0.8084\n",
            "Epoch 500/500\n",
            "169/169 [==============================] - 0s 1ms/step - loss: 0.0471 - r2: 0.8246 - val_loss: 0.0487 - val_r2: 0.8136\n",
            "Mean absolute error on train data : 0.011592471852939287\n",
            "Mean absolute error on test data : 0.011955521563179021\n",
            "r2_score on train data : 0.8408097772629579\n",
            "r2_score on test data : 0.8227357107721753\n",
            "Explained variance score : 0.8238770597503866\n"
          ],
          "name": "stdout"
        },
        {
          "output_type": "display_data",
          "data": {
            "image/png": "[encoded data removed]",
            "text/plain": [
              "<Figure size 1080x648 with 1 Axes>"
            ]
          },
          "metadata": {
            "tags": [],
            "needs_background": "light"
          }
        }
      ]
    },
    {
      "cell_type": "code",
      "metadata": {
        "id": "NHb-F11wsNS6",
        "outputId": "823ecfe9-a7dc-469a-cd7e-605280fcbfdc",
        "colab": {
          "base_uri": "https://localhost:8080/",
          "height": 391
        }
      },
      "source": [
        "plt.figure(figsize=(10,6))\n",
        "plt.scatter(y_test,y_pred)\n",
        "plt.plot(y_test,y_test,'r')"
      ],
      "execution_count": null,
      "outputs": [
        {
          "output_type": "execute_result",
          "data": {
            "text/plain": [
              "[<matplotlib.lines.Line2D at 0x7f3b216f2dd8>]"
            ]
          },
          "metadata": {
            "tags": []
          },
          "execution_count": 65
        },
        {
          "output_type": "display_data",
          "data": {
            "image/png": "[encoded data removed]",
            "text/plain": [
              "<Figure size 720x432 with 1 Axes>"
            ]
          },
          "metadata": {
            "tags": [],
            "needs_background": "light"
          }
        }
      ]
    },
    {
      "cell_type": "markdown",
      "metadata": {
        "id": "Urr5m3Sdj5Ai"
      },
      "source": [
        "#good results, next step is to tune hyperparameters and do feature importance to give some features greater weights...also deep learning seems overkill\n",
        "#next convert this model to functional API and use Model() class...."
      ]
    }
  ]
}