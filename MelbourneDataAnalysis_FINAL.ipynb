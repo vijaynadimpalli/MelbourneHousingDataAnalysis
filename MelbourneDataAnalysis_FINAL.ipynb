{
  "nbformat": 4,
  "nbformat_minor": 0,
  "metadata": {
    "colab": {
      "name": "MelbourneDataAnalysis-FINAL.ipynb",
      "provenance": [],
      "collapsed_sections": [
        "I633ScKlBXrw"
      ],
      "toc_visible": true,
      "authorship_tag": "ABX9TyPVw4yBFJ9DZYPHH0UXZ5qH",
      "include_colab_link": true
    },
    "kernelspec": {
      "name": "python3",
      "display_name": "Python 3"
    }
  },
  "cells": [
    {
      "cell_type": "markdown",
      "metadata": {
        "id": "view-in-github",
        "colab_type": "text"
      },
      "source": [
        "<a href=\"https://colab.research.google.com/github/vijaynadimpalli/MelbourneHousingDataAnalysis/blob/main/MelbourneDataAnalysis_FINAL.ipynb\" target=\"_parent\"><img src=\"https://colab.research.google.com/assets/colab-badge.svg\" alt=\"Open In Colab\"/></a>"
      ]
    },
    {
      "cell_type": "code",
      "metadata": {
        "id": "3XPIDJOa-RXz",
        "colab": {
          "base_uri": "https://localhost:8080/"
        },
        "outputId": "d632cc26-ce17-4b74-b9d2-8ac4404689a2"
      },
      "source": [
        "from google.colab import drive\n",
        "drive.mount('/content/drive')"
      ],
      "execution_count": 177,
      "outputs": [
        {
          "output_type": "stream",
          "text": [
            "Drive already mounted at /content/drive; to attempt to forcibly remount, call drive.mount(\"/content/drive\", force_remount=True).\n"
          ],
          "name": "stdout"
        }
      ]
    },
    {
      "cell_type": "markdown",
      "metadata": {
        "id": "I633ScKlBXrw"
      },
      "source": [
        "# Method 1 - with basic data analysis...."
      ]
    },
    {
      "cell_type": "code",
      "metadata": {
        "id": "wztyd2dvDSL_"
      },
      "source": [
        "import pandas as pd\n",
        "import numpy as np\n",
        "import matplotlib.pyplot as plt\n",
        "import seaborn as sns\n",
        "import zipfile\n",
        "from tensorflow import keras"
      ],
      "execution_count": null,
      "outputs": []
    },
    {
      "cell_type": "code",
      "metadata": {
        "id": "ASN-MslODSL-"
      },
      "source": [
        "zip = zipfile.ZipFile('/content/drive/My Drive/NEW_DATASCIENCE_PROJECTS/Udemy Data Science & ML/TensorFlow_FILES.zip')\n",
        "zip.extractall()\n",
        "df = pd.read_csv('/content/TensorFlow_FILES/DATA/melb_data.csv')\n",
        "pd.set_option('display.max_columns',500)"
      ],
      "execution_count": null,
      "outputs": []
    },
    {
      "cell_type": "code",
      "metadata": {
        "colab": {
          "base_uri": "https://localhost:8080/",
          "height": 348
        },
        "id": "KexBOjproBN4",
        "outputId": "6c2d427e-4ad9-4a63-85e3-488f23f98157"
      },
      "source": [
        "df.head()"
      ],
      "execution_count": null,
      "outputs": [
        {
          "output_type": "execute_result",
          "data": {
            "text/html": [
              "<div>\n",
              "<style scoped>\n",
              "    .dataframe tbody tr th:only-of-type {\n",
              "        vertical-align: middle;\n",
              "    }\n",
              "\n",
              "    .dataframe tbody tr th {\n",
              "        vertical-align: top;\n",
              "    }\n",
              "\n",
              "    .dataframe thead th {\n",
              "        text-align: right;\n",
              "    }\n",
              "</style>\n",
              "<table border=\"1\" class=\"dataframe\">\n",
              "  <thead>\n",
              "    <tr style=\"text-align: right;\">\n",
              "      <th></th>\n",
              "      <th>Suburb</th>\n",
              "      <th>Address</th>\n",
              "      <th>Rooms</th>\n",
              "      <th>Type</th>\n",
              "      <th>Price</th>\n",
              "      <th>Method</th>\n",
              "      <th>SellerG</th>\n",
              "      <th>Date</th>\n",
              "      <th>Distance</th>\n",
              "      <th>Postcode</th>\n",
              "      <th>Bedroom2</th>\n",
              "      <th>Bathroom</th>\n",
              "      <th>Car</th>\n",
              "      <th>Landsize</th>\n",
              "      <th>BuildingArea</th>\n",
              "      <th>YearBuilt</th>\n",
              "      <th>CouncilArea</th>\n",
              "      <th>Lattitude</th>\n",
              "      <th>Longtitude</th>\n",
              "      <th>Regionname</th>\n",
              "      <th>Propertycount</th>\n",
              "    </tr>\n",
              "  </thead>\n",
              "  <tbody>\n",
              "    <tr>\n",
              "      <th>0</th>\n",
              "      <td>Abbotsford</td>\n",
              "      <td>85 Turner St</td>\n",
              "      <td>2</td>\n",
              "      <td>h</td>\n",
              "      <td>1480000.0</td>\n",
              "      <td>S</td>\n",
              "      <td>Biggin</td>\n",
              "      <td>3/12/2016</td>\n",
              "      <td>2.5</td>\n",
              "      <td>3067.0</td>\n",
              "      <td>2.0</td>\n",
              "      <td>1.0</td>\n",
              "      <td>1.0</td>\n",
              "      <td>202.0</td>\n",
              "      <td>NaN</td>\n",
              "      <td>NaN</td>\n",
              "      <td>Yarra</td>\n",
              "      <td>-37.7996</td>\n",
              "      <td>144.9984</td>\n",
              "      <td>Northern Metropolitan</td>\n",
              "      <td>4019.0</td>\n",
              "    </tr>\n",
              "    <tr>\n",
              "      <th>1</th>\n",
              "      <td>Abbotsford</td>\n",
              "      <td>25 Bloomburg St</td>\n",
              "      <td>2</td>\n",
              "      <td>h</td>\n",
              "      <td>1035000.0</td>\n",
              "      <td>S</td>\n",
              "      <td>Biggin</td>\n",
              "      <td>4/02/2016</td>\n",
              "      <td>2.5</td>\n",
              "      <td>3067.0</td>\n",
              "      <td>2.0</td>\n",
              "      <td>1.0</td>\n",
              "      <td>0.0</td>\n",
              "      <td>156.0</td>\n",
              "      <td>79.0</td>\n",
              "      <td>1900.0</td>\n",
              "      <td>Yarra</td>\n",
              "      <td>-37.8079</td>\n",
              "      <td>144.9934</td>\n",
              "      <td>Northern Metropolitan</td>\n",
              "      <td>4019.0</td>\n",
              "    </tr>\n",
              "    <tr>\n",
              "      <th>2</th>\n",
              "      <td>Abbotsford</td>\n",
              "      <td>5 Charles St</td>\n",
              "      <td>3</td>\n",
              "      <td>h</td>\n",
              "      <td>1465000.0</td>\n",
              "      <td>SP</td>\n",
              "      <td>Biggin</td>\n",
              "      <td>4/03/2017</td>\n",
              "      <td>2.5</td>\n",
              "      <td>3067.0</td>\n",
              "      <td>3.0</td>\n",
              "      <td>2.0</td>\n",
              "      <td>0.0</td>\n",
              "      <td>134.0</td>\n",
              "      <td>150.0</td>\n",
              "      <td>1900.0</td>\n",
              "      <td>Yarra</td>\n",
              "      <td>-37.8093</td>\n",
              "      <td>144.9944</td>\n",
              "      <td>Northern Metropolitan</td>\n",
              "      <td>4019.0</td>\n",
              "    </tr>\n",
              "    <tr>\n",
              "      <th>3</th>\n",
              "      <td>Abbotsford</td>\n",
              "      <td>40 Federation La</td>\n",
              "      <td>3</td>\n",
              "      <td>h</td>\n",
              "      <td>850000.0</td>\n",
              "      <td>PI</td>\n",
              "      <td>Biggin</td>\n",
              "      <td>4/03/2017</td>\n",
              "      <td>2.5</td>\n",
              "      <td>3067.0</td>\n",
              "      <td>3.0</td>\n",
              "      <td>2.0</td>\n",
              "      <td>1.0</td>\n",
              "      <td>94.0</td>\n",
              "      <td>NaN</td>\n",
              "      <td>NaN</td>\n",
              "      <td>Yarra</td>\n",
              "      <td>-37.7969</td>\n",
              "      <td>144.9969</td>\n",
              "      <td>Northern Metropolitan</td>\n",
              "      <td>4019.0</td>\n",
              "    </tr>\n",
              "    <tr>\n",
              "      <th>4</th>\n",
              "      <td>Abbotsford</td>\n",
              "      <td>55a Park St</td>\n",
              "      <td>4</td>\n",
              "      <td>h</td>\n",
              "      <td>1600000.0</td>\n",
              "      <td>VB</td>\n",
              "      <td>Nelson</td>\n",
              "      <td>4/06/2016</td>\n",
              "      <td>2.5</td>\n",
              "      <td>3067.0</td>\n",
              "      <td>3.0</td>\n",
              "      <td>1.0</td>\n",
              "      <td>2.0</td>\n",
              "      <td>120.0</td>\n",
              "      <td>142.0</td>\n",
              "      <td>2014.0</td>\n",
              "      <td>Yarra</td>\n",
              "      <td>-37.8072</td>\n",
              "      <td>144.9941</td>\n",
              "      <td>Northern Metropolitan</td>\n",
              "      <td>4019.0</td>\n",
              "    </tr>\n",
              "  </tbody>\n",
              "</table>\n",
              "</div>"
            ],
            "text/plain": [
              "       Suburb           Address  Rooms Type      Price Method SellerG  \\\n",
              "0  Abbotsford      85 Turner St      2    h  1480000.0      S  Biggin   \n",
              "1  Abbotsford   25 Bloomburg St      2    h  1035000.0      S  Biggin   \n",
              "2  Abbotsford      5 Charles St      3    h  1465000.0     SP  Biggin   \n",
              "3  Abbotsford  40 Federation La      3    h   850000.0     PI  Biggin   \n",
              "4  Abbotsford       55a Park St      4    h  1600000.0     VB  Nelson   \n",
              "\n",
              "        Date  Distance  Postcode  Bedroom2  Bathroom  Car  Landsize  \\\n",
              "0  3/12/2016       2.5    3067.0       2.0       1.0  1.0     202.0   \n",
              "1  4/02/2016       2.5    3067.0       2.0       1.0  0.0     156.0   \n",
              "2  4/03/2017       2.5    3067.0       3.0       2.0  0.0     134.0   \n",
              "3  4/03/2017       2.5    3067.0       3.0       2.0  1.0      94.0   \n",
              "4  4/06/2016       2.5    3067.0       3.0       1.0  2.0     120.0   \n",
              "\n",
              "   BuildingArea  YearBuilt CouncilArea  Lattitude  Longtitude  \\\n",
              "0           NaN        NaN       Yarra   -37.7996    144.9984   \n",
              "1          79.0     1900.0       Yarra   -37.8079    144.9934   \n",
              "2         150.0     1900.0       Yarra   -37.8093    144.9944   \n",
              "3           NaN        NaN       Yarra   -37.7969    144.9969   \n",
              "4         142.0     2014.0       Yarra   -37.8072    144.9941   \n",
              "\n",
              "              Regionname  Propertycount  \n",
              "0  Northern Metropolitan         4019.0  \n",
              "1  Northern Metropolitan         4019.0  \n",
              "2  Northern Metropolitan         4019.0  \n",
              "3  Northern Metropolitan         4019.0  \n",
              "4  Northern Metropolitan         4019.0  "
            ]
          },
          "metadata": {
            "tags": []
          },
          "execution_count": 148
        }
      ]
    },
    {
      "cell_type": "code",
      "metadata": {
        "id": "fYDqRg7g8FmL",
        "colab": {
          "base_uri": "https://localhost:8080/"
        },
        "outputId": "ef704116-522c-454e-ac81-953724719457"
      },
      "source": [
        "#removing top 1% of data according to price(outliers)\n",
        "df.drop(df[\"Price\"].sort_values(ascending=False).iloc[0:int(0.01*df.shape[0])].index,inplace=True)\n",
        "df.shape"
      ],
      "execution_count": null,
      "outputs": [
        {
          "output_type": "execute_result",
          "data": {
            "text/plain": [
              "(13445, 21)"
            ]
          },
          "metadata": {
            "tags": []
          },
          "execution_count": 149
        }
      ]
    },
    {
      "cell_type": "code",
      "metadata": {
        "id": "225eyvLe-Cag"
      },
      "source": [
        "#Converting price to logarithmic in hope of achieving a normal distribution\n",
        "df['Price'] = df['Price'].apply(np.log)"
      ],
      "execution_count": null,
      "outputs": []
    },
    {
      "cell_type": "code",
      "metadata": {
        "colab": {
          "base_uri": "https://localhost:8080/"
        },
        "id": "MgF3pnXioXJ6",
        "outputId": "c1cc32a0-8a49-4339-cb3c-c3d400472e6b"
      },
      "source": [
        "df.isna().sum()"
      ],
      "execution_count": null,
      "outputs": [
        {
          "output_type": "execute_result",
          "data": {
            "text/plain": [
              "Suburb              0\n",
              "Address             0\n",
              "Rooms               0\n",
              "Type                0\n",
              "Price               0\n",
              "Method              0\n",
              "SellerG             0\n",
              "Date                0\n",
              "Distance            0\n",
              "Postcode            0\n",
              "Bedroom2            0\n",
              "Bathroom            0\n",
              "Car                62\n",
              "Landsize            0\n",
              "BuildingArea     6405\n",
              "YearBuilt        5333\n",
              "CouncilArea      1356\n",
              "Lattitude           0\n",
              "Longtitude          0\n",
              "Regionname          0\n",
              "Propertycount       0\n",
              "dtype: int64"
            ]
          },
          "metadata": {
            "tags": []
          },
          "execution_count": 151
        }
      ]
    },
    {
      "cell_type": "code",
      "metadata": {
        "id": "7HAlMTCav6FR"
      },
      "source": [
        "#Removing BuildingArea and YearBuilt due to high number of missing data...\n",
        "df.drop(['BuildingArea','YearBuilt'],axis=1,inplace=True)"
      ],
      "execution_count": null,
      "outputs": []
    },
    {
      "cell_type": "code",
      "metadata": {
        "id": "MRdmjZ-iv6FY"
      },
      "source": [
        "#Dropping rows with missing values in Car column...\n",
        "df.drop(df[df['Car'].isna()].index,inplace=True)"
      ],
      "execution_count": null,
      "outputs": []
    },
    {
      "cell_type": "markdown",
      "metadata": {
        "id": "totOxrE8qH5F"
      },
      "source": [
        "There are four columns(Region, Coucil Area,PostCode,suburb) which contain redundant info.\n",
        "\n",
        "Region > Coucil Area > PostCode > suburb\n",
        "\n",
        "Need to remove this redundancy by dropping some columns"
      ]
    },
    {
      "cell_type": "code",
      "metadata": {
        "id": "-htucrBHv6Fj",
        "colab": {
          "base_uri": "https://localhost:8080/"
        },
        "outputId": "42ba7663-fdfa-4389-81fd-187912982b0e"
      },
      "source": [
        "#Total number of council areas present.....\n",
        "print(\"Total number of council areas present = {}\".format(df['CouncilArea'].value_counts().count()))\n",
        "\n",
        "print(\"Total number of suburbs present = {}\".format(df['Suburb'].value_counts().count()))"
      ],
      "execution_count": null,
      "outputs": [
        {
          "output_type": "stream",
          "text": [
            "Total number of council areas present = 33\n",
            "Total number of suburbs present = 314\n"
          ],
          "name": "stdout"
        }
      ]
    },
    {
      "cell_type": "code",
      "metadata": {
        "id": "zUgNc6nBv6Fr",
        "colab": {
          "base_uri": "https://localhost:8080/",
          "height": 566
        },
        "outputId": "d2461ba5-2995-4c2c-9bfe-6a90e2fbd0d5"
      },
      "source": [
        "#Map of Melboune with various councils highlighted\n",
        "\n",
        "plt.figure(figsize=(10,6))\n",
        "sns.scatterplot(y='Lattitude',x='Longtitude',data=df,hue='CouncilArea')"
      ],
      "execution_count": null,
      "outputs": [
        {
          "output_type": "execute_result",
          "data": {
            "text/plain": [
              "<matplotlib.axes._subplots.AxesSubplot at 0x7f2af766deb8>"
            ]
          },
          "metadata": {
            "tags": []
          },
          "execution_count": 155
        },
        {
          "output_type": "display_data",
          "data": {
            "image/png": "[encoded data removed]",
            "text/plain": [
              "<Figure size 720x432 with 1 Axes>"
            ]
          },
          "metadata": {
            "tags": [],
            "needs_background": "light"
          }
        }
      ]
    },
    {
      "cell_type": "code",
      "metadata": {
        "id": "Iyaxl1bZfvl9",
        "colab": {
          "base_uri": "https://localhost:8080/"
        },
        "outputId": "81ff41a9-3988-48f2-b122-23bdc48546f7"
      },
      "source": [
        "!pip install category_encoders\n",
        "\n",
        "import category_encoders as ce"
      ],
      "execution_count": null,
      "outputs": [
        {
          "output_type": "stream",
          "text": [
            "Requirement already satisfied: category_encoders in /usr/local/lib/python3.6/dist-packages (2.2.2)\n",
            "Requirement already satisfied: numpy>=1.14.0 in /usr/local/lib/python3.6/dist-packages (from category_encoders) (1.18.5)\n",
            "Requirement already satisfied: statsmodels>=0.9.0 in /usr/local/lib/python3.6/dist-packages (from category_encoders) (0.10.2)\n",
            "Requirement already satisfied: pandas>=0.21.1 in /usr/local/lib/python3.6/dist-packages (from category_encoders) (1.1.4)\n",
            "Requirement already satisfied: patsy>=0.5.1 in /usr/local/lib/python3.6/dist-packages (from category_encoders) (0.5.1)\n",
            "Requirement already satisfied: scikit-learn>=0.20.0 in /usr/local/lib/python3.6/dist-packages (from category_encoders) (0.22.2.post1)\n",
            "Requirement already satisfied: scipy>=1.0.0 in /usr/local/lib/python3.6/dist-packages (from category_encoders) (1.4.1)\n",
            "Requirement already satisfied: python-dateutil>=2.7.3 in /usr/local/lib/python3.6/dist-packages (from pandas>=0.21.1->category_encoders) (2.8.1)\n",
            "Requirement already satisfied: pytz>=2017.2 in /usr/local/lib/python3.6/dist-packages (from pandas>=0.21.1->category_encoders) (2018.9)\n",
            "Requirement already satisfied: six in /usr/local/lib/python3.6/dist-packages (from patsy>=0.5.1->category_encoders) (1.15.0)\n",
            "Requirement already satisfied: joblib>=0.11 in /usr/local/lib/python3.6/dist-packages (from scikit-learn>=0.20.0->category_encoders) (0.17.0)\n"
          ],
          "name": "stdout"
        }
      ]
    },
    {
      "cell_type": "code",
      "metadata": {
        "id": "3IxcrRd2gDvQ",
        "colab": {
          "base_uri": "https://localhost:8080/"
        },
        "outputId": "091d93dd-afe8-4219-dc9a-3e392934b47f"
      },
      "source": [
        "#Converting CouncilArea into binary,and removing the remaining redundant info\n",
        "\n",
        "bin_encoder = ce.BinaryEncoder()\n",
        "enc_data = bin_encoder.fit_transform(df['CouncilArea'])\n",
        "df = pd.concat([df,enc_data],axis=1)\n",
        "\n",
        "#Suburb has too many unique values to be useful...\n",
        "df.drop(['Suburb','Postcode','CouncilArea','Regionname'],axis=1,inplace=True)"
      ],
      "execution_count": null,
      "outputs": [
        {
          "output_type": "stream",
          "text": [
            "/usr/local/lib/python3.6/dist-packages/category_encoders/utils.py:21: FutureWarning: is_categorical is deprecated and will be removed in a future version.  Use is_categorical_dtype instead\n",
            "  elif pd.api.types.is_categorical(cols):\n"
          ],
          "name": "stderr"
        }
      ]
    },
    {
      "cell_type": "code",
      "metadata": {
        "id": "M6IbbtrViCH1"
      },
      "source": [
        "#Dropping adress column as does not appear useful...\n",
        "df.drop(['Address'],axis=1,inplace=True)"
      ],
      "execution_count": null,
      "outputs": []
    },
    {
      "cell_type": "code",
      "metadata": {
        "id": "m84ym8IuyhTk",
        "colab": {
          "base_uri": "https://localhost:8080/"
        },
        "outputId": "8df25987-ff17-4bc4-b94c-63534a41a8b3"
      },
      "source": [
        "df['Type'].value_counts()"
      ],
      "execution_count": null,
      "outputs": [
        {
          "output_type": "execute_result",
          "data": {
            "text/plain": [
              "h    9256\n",
              "u    3014\n",
              "t    1113\n",
              "Name: Type, dtype: int64"
            ]
          },
          "metadata": {
            "tags": []
          },
          "execution_count": 159
        }
      ]
    },
    {
      "cell_type": "code",
      "metadata": {
        "id": "ET5GtkOVytfe"
      },
      "source": [
        "#Converting Type column to one hot\n",
        "df = pd.concat([df,pd.get_dummies(df['Type'],drop_first=True)],axis=1)\n",
        "df.drop('Type',axis=1,inplace=True)"
      ],
      "execution_count": null,
      "outputs": []
    },
    {
      "cell_type": "code",
      "metadata": {
        "id": "sVWcIesszKlq",
        "colab": {
          "base_uri": "https://localhost:8080/"
        },
        "outputId": "ff91d88a-dbb4-4537-a9f5-1cd3650ead93"
      },
      "source": [
        "df['Method'].value_counts()"
      ],
      "execution_count": null,
      "outputs": [
        {
          "output_type": "execute_result",
          "data": {
            "text/plain": [
              "S     8905\n",
              "SP    1688\n",
              "PI    1536\n",
              "VB    1163\n",
              "SA      91\n",
              "Name: Method, dtype: int64"
            ]
          },
          "metadata": {
            "tags": []
          },
          "execution_count": 161
        }
      ]
    },
    {
      "cell_type": "code",
      "metadata": {
        "id": "zMDLCneizfo9"
      },
      "source": [
        "#Converting Method column to one hot\n",
        "df = pd.concat([df,pd.get_dummies(df['Method'],drop_first=True)],axis=1)\n",
        "df.drop('Method',axis=1,inplace=True)"
      ],
      "execution_count": null,
      "outputs": []
    },
    {
      "cell_type": "code",
      "metadata": {
        "id": "gnNCaMHD0EdB",
        "colab": {
          "base_uri": "https://localhost:8080/"
        },
        "outputId": "a43579f8-0f60-405d-90dd-941892faefa7"
      },
      "source": [
        "df['SellerG'].value_counts().count()"
      ],
      "execution_count": null,
      "outputs": [
        {
          "output_type": "execute_result",
          "data": {
            "text/plain": [
              "268"
            ]
          },
          "metadata": {
            "tags": []
          },
          "execution_count": 163
        }
      ]
    },
    {
      "cell_type": "code",
      "metadata": {
        "id": "3Ep6Txy80G-X"
      },
      "source": [
        "#Converting SellerG column to binary\n",
        "# bin_encoder = ce.BinaryEncoder()\n",
        "# enc_data = bin_encoder.fit_transform(df['SellerG'])\n",
        "# df = pd.concat([df,enc_data],axis=1)\n",
        "\n",
        "#Dropping SellerG as it contains too many unique values\n",
        "df.drop('SellerG',axis=1,inplace=True)"
      ],
      "execution_count": null,
      "outputs": []
    },
    {
      "cell_type": "code",
      "metadata": {
        "id": "SphY6QrJ0X4v",
        "colab": {
          "base_uri": "https://localhost:8080/"
        },
        "outputId": "a7289260-5288-4142-b09c-d547aa923083"
      },
      "source": [
        "df['Date'].value_counts()"
      ],
      "execution_count": null,
      "outputs": [
        {
          "output_type": "execute_result",
          "data": {
            "text/plain": [
              "27/05/2017    468\n",
              "3/06/2017     392\n",
              "12/08/2017    380\n",
              "17/06/2017    373\n",
              "27/11/2016    353\n",
              "29/07/2017    339\n",
              "4/03/2017     335\n",
              "24/06/2017    328\n",
              "25/02/2017    328\n",
              "22/07/2017    317\n",
              "10/12/2016    315\n",
              "8/07/2017     309\n",
              "18/03/2017    300\n",
              "15/10/2016    298\n",
              "15/07/2017    292\n",
              "12/11/2016    287\n",
              "3/12/2016     279\n",
              "8/04/2017     278\n",
              "1/07/2017     275\n",
              "19/11/2016    260\n",
              "20/05/2017    258\n",
              "18/06/2016    255\n",
              "28/05/2016    254\n",
              "8/10/2016     249\n",
              "13/05/2017    248\n",
              "7/05/2016     244\n",
              "24/09/2016    239\n",
              "17/09/2016    239\n",
              "16/09/2017    238\n",
              "28/08/2016    237\n",
              "26/08/2017    234\n",
              "23/09/2017    234\n",
              "10/09/2016    234\n",
              "29/04/2017    217\n",
              "16/04/2016    215\n",
              "27/06/2016    211\n",
              "4/06/2016     211\n",
              "3/09/2016     205\n",
              "3/09/2017     203\n",
              "22/05/2016    202\n",
              "19/08/2017    194\n",
              "7/11/2016     193\n",
              "14/05/2016    191\n",
              "9/09/2017     189\n",
              "22/08/2016    189\n",
              "30/07/2016    171\n",
              "6/08/2016     154\n",
              "16/07/2016    141\n",
              "6/05/2017     138\n",
              "22/04/2017    134\n",
              "26/07/2016    132\n",
              "13/08/2016    129\n",
              "23/04/2016    100\n",
              "11/02/2017     83\n",
              "12/06/2016     46\n",
              "11/03/2017     38\n",
              "4/02/2016      26\n",
              "28/01/2016      2\n",
              "Name: Date, dtype: int64"
            ]
          },
          "metadata": {
            "tags": []
          },
          "execution_count": 165
        }
      ]
    },
    {
      "cell_type": "code",
      "metadata": {
        "id": "sWr2AvcG0gua",
        "colab": {
          "base_uri": "https://localhost:8080/"
        },
        "outputId": "68ffb305-f366-4af0-d2dd-57aef49b3f57"
      },
      "source": [
        "#Feature Engineering the Date column into linear numerical format\n",
        "print(df['Date'].apply(lambda x : str.split(x,sep='/',maxsplit=1)[1]).value_counts().index.sort_values())\n",
        "df['Date_new'] = df['Date'].apply(lambda x : str.split(x,sep='/',maxsplit=1)[1])\n",
        "\n",
        "df['Date_new'].replace(['01/2016', '02/2016', '03/2016', '04/2016', '05/2016','06/2016', '07/2016',\n",
        "       '08/2016', '09/2016', '10/2016', '11/2016',\n",
        "       '12/2016','01/2017', '02/2017', '03/2017', '04/2017', '05/2017','06/2017', '07/2017',\n",
        "       '08/2017', '09/2017', '10/2017', '11/2017',\n",
        "       '12/2017'],np.arange(0,24,1),inplace=True)\n",
        "\n",
        "df.drop('Date',inplace=True,axis=1)"
      ],
      "execution_count": null,
      "outputs": [
        {
          "output_type": "stream",
          "text": [
            "Index(['01/2016', '02/2016', '02/2017', '03/2017', '04/2016', '04/2017',\n",
            "       '05/2016', '05/2017', '06/2016', '06/2017', '07/2016', '07/2017',\n",
            "       '08/2016', '08/2017', '09/2016', '09/2017', '10/2016', '11/2016',\n",
            "       '12/2016'],\n",
            "      dtype='object')\n"
          ],
          "name": "stdout"
        }
      ]
    },
    {
      "cell_type": "code",
      "metadata": {
        "id": "hRmmsQmP3SlX",
        "colab": {
          "base_uri": "https://localhost:8080/"
        },
        "outputId": "a4744bca-aece-49ec-fd1e-5e15ef7088ad"
      },
      "source": [
        "df.info()"
      ],
      "execution_count": null,
      "outputs": [
        {
          "output_type": "stream",
          "text": [
            "<class 'pandas.core.frame.DataFrame'>\n",
            "Int64Index: 13383 entries, 0 to 13579\n",
            "Data columns (total 24 columns):\n",
            " #   Column         Non-Null Count  Dtype  \n",
            "---  ------         --------------  -----  \n",
            " 0   Rooms          13383 non-null  int64  \n",
            " 1   Price          13383 non-null  float64\n",
            " 2   Distance       13383 non-null  float64\n",
            " 3   Bedroom2       13383 non-null  float64\n",
            " 4   Bathroom       13383 non-null  float64\n",
            " 5   Car            13383 non-null  float64\n",
            " 6   Landsize       13383 non-null  float64\n",
            " 7   Lattitude      13383 non-null  float64\n",
            " 8   Longtitude     13383 non-null  float64\n",
            " 9   Propertycount  13383 non-null  float64\n",
            " 10  CouncilArea_0  13383 non-null  int64  \n",
            " 11  CouncilArea_1  13383 non-null  int64  \n",
            " 12  CouncilArea_2  13383 non-null  int64  \n",
            " 13  CouncilArea_3  13383 non-null  int64  \n",
            " 14  CouncilArea_4  13383 non-null  int64  \n",
            " 15  CouncilArea_5  13383 non-null  int64  \n",
            " 16  CouncilArea_6  13383 non-null  int64  \n",
            " 17  t              13383 non-null  uint8  \n",
            " 18  u              13383 non-null  uint8  \n",
            " 19  S              13383 non-null  uint8  \n",
            " 20  SA             13383 non-null  uint8  \n",
            " 21  SP             13383 non-null  uint8  \n",
            " 22  VB             13383 non-null  uint8  \n",
            " 23  Date_new       13383 non-null  int64  \n",
            "dtypes: float64(9), int64(9), uint8(6)\n",
            "memory usage: 2.0 MB\n"
          ],
          "name": "stdout"
        }
      ]
    },
    {
      "cell_type": "code",
      "metadata": {
        "id": "GdXCGwzq1Vr9",
        "colab": {
          "base_uri": "https://localhost:8080/"
        },
        "outputId": "53bf2e14-b2d9-4157-e077-5ea97b4f8696"
      },
      "source": [
        "df.columns"
      ],
      "execution_count": null,
      "outputs": [
        {
          "output_type": "execute_result",
          "data": {
            "text/plain": [
              "Index(['Rooms', 'Price', 'Distance', 'Bedroom2', 'Bathroom', 'Car', 'Landsize',\n",
              "       'Lattitude', 'Longtitude', 'Propertycount', 'CouncilArea_0',\n",
              "       'CouncilArea_1', 'CouncilArea_2', 'CouncilArea_3', 'CouncilArea_4',\n",
              "       'CouncilArea_5', 'CouncilArea_6', 't', 'u', 'S', 'SA', 'SP', 'VB',\n",
              "       'Date_new'],\n",
              "      dtype='object')"
            ]
          },
          "metadata": {
            "tags": []
          },
          "execution_count": 168
        }
      ]
    },
    {
      "cell_type": "code",
      "metadata": {
        "id": "_rVaH2iP4Ue6"
      },
      "source": [
        "#Starting modelling part\n",
        "\n",
        "from sklearn.model_selection import train_test_split\n",
        "from sklearn.preprocessing import MinMaxScaler"
      ],
      "execution_count": null,
      "outputs": []
    },
    {
      "cell_type": "code",
      "metadata": {
        "id": "88dMfyhC5Pft",
        "colab": {
          "base_uri": "https://localhost:8080/"
        },
        "outputId": "a644d850-84b8-4ea7-f487-2d70d418c4ec"
      },
      "source": [
        "y = df['Price'].values\n",
        "y=np.expand_dims(y,axis=1)\n",
        "\n",
        "X = df.drop('Price',axis=1).values\n",
        "\n",
        "print(X.shape)\n",
        "print(y.shape)"
      ],
      "execution_count": null,
      "outputs": [
        {
          "output_type": "stream",
          "text": [
            "(13383, 23)\n",
            "(13383, 1)\n"
          ],
          "name": "stdout"
        }
      ]
    },
    {
      "cell_type": "code",
      "metadata": {
        "id": "-Sdl7bwr5Hr3"
      },
      "source": [
        "X_train, X_test, y_train, y_test = train_test_split(X, y, test_size=0.2,shuffle=True, random_state=101)"
      ],
      "execution_count": null,
      "outputs": []
    },
    {
      "cell_type": "code",
      "metadata": {
        "id": "BIUd3LM_6Ry6"
      },
      "source": [
        "scaler = MinMaxScaler()\n",
        "X_train = scaler.fit_transform(X_train)\n",
        "X_test = scaler.transform(X_test)"
      ],
      "execution_count": null,
      "outputs": []
    },
    {
      "cell_type": "code",
      "metadata": {
        "id": "qFhhAz7qCre9"
      },
      "source": [
        "from tensorflow.keras.models import Sequential\n",
        "from tensorflow.keras.layers import Dropout,Dense\n",
        "\n",
        "from tensorflow.keras.callbacks import EarlyStopping\n",
        "from sklearn.metrics import mean_squared_error\n",
        "from sklearn.metrics import mean_absolute_error\n",
        "from sklearn.metrics import explained_variance_score\n",
        "from sklearn.metrics import r2_score"
      ],
      "execution_count": null,
      "outputs": []
    },
    {
      "cell_type": "code",
      "metadata": {
        "id": "ZrVag4RM7Cje"
      },
      "source": [
        "def build_model1(learning_rate=0.01):\n",
        "  model = Sequential()\n",
        "  model.add(Dense(23,activation='relu'))\n",
        "  model.add(Dense(23,activation='relu'))\n",
        "  model.add(Dense(23,activation='relu'))\n",
        "  model.add(Dense(23,activation='relu'))\n",
        "  model.add(Dense(20,activation='relu'))\n",
        "  model.add(Dense(20,activation='relu'))\n",
        "  model.add(Dense(20,activation='relu'))\n",
        "  model.add(Dense(20,activation='relu'))\n",
        "  model.add(Dense(20,activation='relu'))\n",
        "  model.add(Dense(20,activation='relu'))\n",
        "  model.add(Dense(15,activation='relu'))\n",
        "  model.add(Dense(15,activation='relu'))\n",
        "  model.add(Dense(15,activation='relu'))\n",
        "  model.add(Dense(15,activation='relu'))\n",
        "  model.add(Dense(15,activation='relu'))\n",
        "  model.add(Dense(15,activation='relu'))\n",
        "  model.add(Dense(10,activation='relu'))\n",
        "  model.add(Dense(10,activation='relu'))\n",
        "  model.add(Dense(10,activation='relu'))\n",
        "  model.add(Dense(10,activation='relu'))\n",
        "  model.add(Dense(10,activation='relu'))\n",
        "  model.add(Dense(10,activation='relu'))\n",
        "  model.add(Dense(1,activation='linear'))\n",
        "\n",
        "  adam_opt = keras.optimizers.Adam(learning_rate=learning_rate)\n",
        "  model.compile(loss='mse',optimizer=adam_opt)\n",
        "\n",
        "  return model\n",
        "\n",
        "\n",
        "def run_model(model,batch_size=32,epochs=500): \n",
        "  output = model.fit(X_train,y_train,validation_data=(X_test,y_test),epochs=epochs,batch_size=batch_size)\n",
        "  return output\n",
        "\n",
        "def pred_model(model):\n",
        "  y_predt = model.predict(X_train)\n",
        "  y_pred = model.predict(X_test)\n",
        "  print(\"Mean absolute error on train data : \" + str(mean_absolute_error(y_train,y_predt)/np.mean(y_train)))\n",
        "  print(\"Mean absolute error on test data : \" + str( mean_absolute_error(y_test,y_pred)/np.mean(y_test)))\n",
        "  print(\"r2_score on train data : \" + str(r2_score(y_train,y_predt)))\n",
        "  print(\"r2_score on test data : \" + str(r2_score(y_test,y_pred)))\n",
        "  print(\"Explained variance score : \" + str(explained_variance_score(y_test,y_pred)))"
      ],
      "execution_count": null,
      "outputs": []
    },
    {
      "cell_type": "code",
      "metadata": {
        "id": "xgxvH26VuAYH",
        "colab": {
          "base_uri": "https://localhost:8080/",
          "height": 1000
        },
        "outputId": "3336b491-9d22-4cc1-f038-e119ff9f20ae"
      },
      "source": [
        "model1 = build_model1(0.001)\n",
        "\n",
        "output1 = pd.DataFrame(run_model(model1,128,200).history)\n",
        "\n",
        "fig = plt.figure(figsize=(15,9))\n",
        "ax = fig.add_axes([0,0,1,1])\n",
        "ax.plot(output1['loss'],label='model1 train loss')\n",
        "ax.plot(output1['val_loss'],label='model1 val loss')\n",
        "\n",
        "ax.legend()\n",
        "\n",
        "pred_model(model1)"
      ],
      "execution_count": null,
      "outputs": [
        {
          "output_type": "stream",
          "text": [
            "Epoch 1/200\n",
            "84/84 [==============================] - 0s 5ms/step - loss: 166.2391 - val_loss: 15.7842\n",
            "Epoch 2/200\n",
            "84/84 [==============================] - 0s 3ms/step - loss: 3.8221 - val_loss: 1.0056\n",
            "Epoch 3/200\n",
            "84/84 [==============================] - 0s 3ms/step - loss: 0.7640 - val_loss: 0.6135\n",
            "Epoch 4/200\n",
            "84/84 [==============================] - 0s 3ms/step - loss: 0.5031 - val_loss: 0.4073\n",
            "Epoch 5/200\n",
            "84/84 [==============================] - 0s 3ms/step - loss: 0.3538 - val_loss: 0.2888\n",
            "Epoch 6/200\n",
            "84/84 [==============================] - 0s 3ms/step - loss: 0.2647 - val_loss: 0.2203\n",
            "Epoch 7/200\n",
            "84/84 [==============================] - 0s 3ms/step - loss: 0.2105 - val_loss: 0.1793\n",
            "Epoch 8/200\n",
            "84/84 [==============================] - 0s 3ms/step - loss: 0.1764 - val_loss: 0.1614\n",
            "Epoch 9/200\n",
            "84/84 [==============================] - 0s 3ms/step - loss: 0.1533 - val_loss: 0.1320\n",
            "Epoch 10/200\n",
            "84/84 [==============================] - 0s 3ms/step - loss: 0.1331 - val_loss: 0.1199\n",
            "Epoch 11/200\n",
            "84/84 [==============================] - 0s 3ms/step - loss: 0.1197 - val_loss: 0.1098\n",
            "Epoch 12/200\n",
            "84/84 [==============================] - 0s 3ms/step - loss: 0.1119 - val_loss: 0.1030\n",
            "Epoch 13/200\n",
            "84/84 [==============================] - 0s 3ms/step - loss: 0.1040 - val_loss: 0.0982\n",
            "Epoch 14/200\n",
            "84/84 [==============================] - 0s 3ms/step - loss: 0.0997 - val_loss: 0.1006\n",
            "Epoch 15/200\n",
            "84/84 [==============================] - 0s 3ms/step - loss: 0.0939 - val_loss: 0.0896\n",
            "Epoch 16/200\n",
            "84/84 [==============================] - 0s 3ms/step - loss: 0.0909 - val_loss: 0.0854\n",
            "Epoch 17/200\n",
            "84/84 [==============================] - 0s 3ms/step - loss: 0.0876 - val_loss: 0.0849\n",
            "Epoch 18/200\n",
            "84/84 [==============================] - 0s 3ms/step - loss: 0.0847 - val_loss: 0.0884\n",
            "Epoch 19/200\n",
            "84/84 [==============================] - 0s 3ms/step - loss: 0.0828 - val_loss: 0.0775\n",
            "Epoch 20/200\n",
            "84/84 [==============================] - 0s 3ms/step - loss: 0.0797 - val_loss: 0.0823\n",
            "Epoch 21/200\n",
            "84/84 [==============================] - 0s 3ms/step - loss: 0.0790 - val_loss: 0.0750\n",
            "Epoch 22/200\n",
            "84/84 [==============================] - 0s 3ms/step - loss: 0.0785 - val_loss: 0.0888\n",
            "Epoch 23/200\n",
            "84/84 [==============================] - 0s 3ms/step - loss: 0.0760 - val_loss: 0.0721\n",
            "Epoch 24/200\n",
            "84/84 [==============================] - 0s 3ms/step - loss: 0.0747 - val_loss: 0.0733\n",
            "Epoch 25/200\n",
            "84/84 [==============================] - 0s 3ms/step - loss: 0.0743 - val_loss: 0.0715\n",
            "Epoch 26/200\n",
            "84/84 [==============================] - 0s 3ms/step - loss: 0.0750 - val_loss: 0.0875\n",
            "Epoch 27/200\n",
            "84/84 [==============================] - 0s 3ms/step - loss: 0.0728 - val_loss: 0.0692\n",
            "Epoch 28/200\n",
            "84/84 [==============================] - 0s 3ms/step - loss: 0.0715 - val_loss: 0.0700\n",
            "Epoch 29/200\n",
            "84/84 [==============================] - 0s 3ms/step - loss: 0.0698 - val_loss: 0.0685\n",
            "Epoch 30/200\n",
            "84/84 [==============================] - 0s 3ms/step - loss: 0.0691 - val_loss: 0.0730\n",
            "Epoch 31/200\n",
            "84/84 [==============================] - 0s 3ms/step - loss: 0.0698 - val_loss: 0.0684\n",
            "Epoch 32/200\n",
            "84/84 [==============================] - 0s 3ms/step - loss: 0.0698 - val_loss: 0.0747\n",
            "Epoch 33/200\n",
            "84/84 [==============================] - 0s 3ms/step - loss: 0.0697 - val_loss: 0.0668\n",
            "Epoch 34/200\n",
            "84/84 [==============================] - 0s 3ms/step - loss: 0.0683 - val_loss: 0.0683\n",
            "Epoch 35/200\n",
            "84/84 [==============================] - 0s 3ms/step - loss: 0.0686 - val_loss: 0.0735\n",
            "Epoch 36/200\n",
            "84/84 [==============================] - 0s 3ms/step - loss: 0.0688 - val_loss: 0.0763\n",
            "Epoch 37/200\n",
            "84/84 [==============================] - 0s 3ms/step - loss: 0.0668 - val_loss: 0.0655\n",
            "Epoch 38/200\n",
            "84/84 [==============================] - 0s 3ms/step - loss: 0.0670 - val_loss: 0.0669\n",
            "Epoch 39/200\n",
            "84/84 [==============================] - 0s 3ms/step - loss: 0.0694 - val_loss: 0.0651\n",
            "Epoch 40/200\n",
            "84/84 [==============================] - 0s 3ms/step - loss: 0.0667 - val_loss: 0.0707\n",
            "Epoch 41/200\n",
            "84/84 [==============================] - 0s 3ms/step - loss: 0.0692 - val_loss: 0.0652\n",
            "Epoch 42/200\n",
            "84/84 [==============================] - 0s 3ms/step - loss: 0.0669 - val_loss: 0.0652\n",
            "Epoch 43/200\n",
            "84/84 [==============================] - 0s 3ms/step - loss: 0.0670 - val_loss: 0.0642\n",
            "Epoch 44/200\n",
            "84/84 [==============================] - 0s 3ms/step - loss: 0.0657 - val_loss: 0.0669\n",
            "Epoch 45/200\n",
            "84/84 [==============================] - 0s 3ms/step - loss: 0.0677 - val_loss: 0.0651\n",
            "Epoch 46/200\n",
            "84/84 [==============================] - 0s 3ms/step - loss: 0.0661 - val_loss: 0.0649\n",
            "Epoch 47/200\n",
            "84/84 [==============================] - 0s 3ms/step - loss: 0.0653 - val_loss: 0.0722\n",
            "Epoch 48/200\n",
            "84/84 [==============================] - 0s 3ms/step - loss: 0.0650 - val_loss: 0.0651\n",
            "Epoch 49/200\n",
            "84/84 [==============================] - 0s 3ms/step - loss: 0.0677 - val_loss: 0.0649\n",
            "Epoch 50/200\n",
            "84/84 [==============================] - 0s 3ms/step - loss: 0.0652 - val_loss: 0.0741\n",
            "Epoch 51/200\n",
            "84/84 [==============================] - 0s 3ms/step - loss: 0.0636 - val_loss: 0.0698\n",
            "Epoch 52/200\n",
            "84/84 [==============================] - 0s 3ms/step - loss: 0.0715 - val_loss: 0.0646\n",
            "Epoch 53/200\n",
            "84/84 [==============================] - 0s 3ms/step - loss: 0.0677 - val_loss: 0.0662\n",
            "Epoch 54/200\n",
            "84/84 [==============================] - 0s 3ms/step - loss: 0.0691 - val_loss: 0.0633\n",
            "Epoch 55/200\n",
            "84/84 [==============================] - 0s 3ms/step - loss: 0.0646 - val_loss: 0.0657\n",
            "Epoch 56/200\n",
            "84/84 [==============================] - 0s 3ms/step - loss: 0.0659 - val_loss: 0.0752\n",
            "Epoch 57/200\n",
            "84/84 [==============================] - 0s 3ms/step - loss: 0.0695 - val_loss: 0.0628\n",
            "Epoch 58/200\n",
            "84/84 [==============================] - 0s 3ms/step - loss: 0.0638 - val_loss: 0.0678\n",
            "Epoch 59/200\n",
            "84/84 [==============================] - 0s 3ms/step - loss: 0.0657 - val_loss: 0.0695\n",
            "Epoch 60/200\n",
            "84/84 [==============================] - 0s 3ms/step - loss: 0.0631 - val_loss: 0.0621\n",
            "Epoch 61/200\n",
            "84/84 [==============================] - 0s 3ms/step - loss: 0.0639 - val_loss: 0.0652\n",
            "Epoch 62/200\n",
            "84/84 [==============================] - 0s 3ms/step - loss: 0.0660 - val_loss: 0.0634\n",
            "Epoch 63/200\n",
            "84/84 [==============================] - 0s 3ms/step - loss: 0.0628 - val_loss: 0.0622\n",
            "Epoch 64/200\n",
            "84/84 [==============================] - 0s 3ms/step - loss: 0.0624 - val_loss: 0.0698\n",
            "Epoch 65/200\n",
            "84/84 [==============================] - 0s 3ms/step - loss: 0.0667 - val_loss: 0.0622\n",
            "Epoch 66/200\n",
            "84/84 [==============================] - 0s 3ms/step - loss: 0.0657 - val_loss: 0.0640\n",
            "Epoch 67/200\n",
            "84/84 [==============================] - 0s 3ms/step - loss: 0.0635 - val_loss: 0.0727\n",
            "Epoch 68/200\n",
            "84/84 [==============================] - 0s 3ms/step - loss: 0.0678 - val_loss: 0.0646\n",
            "Epoch 69/200\n",
            "84/84 [==============================] - 0s 3ms/step - loss: 0.0651 - val_loss: 0.0625\n",
            "Epoch 70/200\n",
            "84/84 [==============================] - 0s 3ms/step - loss: 0.0645 - val_loss: 0.0632\n",
            "Epoch 71/200\n",
            "84/84 [==============================] - 0s 3ms/step - loss: 0.0643 - val_loss: 0.0633\n",
            "Epoch 72/200\n",
            "84/84 [==============================] - 0s 3ms/step - loss: 0.0644 - val_loss: 0.0657\n",
            "Epoch 73/200\n",
            "84/84 [==============================] - 0s 3ms/step - loss: 0.0614 - val_loss: 0.0615\n",
            "Epoch 74/200\n",
            "84/84 [==============================] - 0s 3ms/step - loss: 0.0629 - val_loss: 0.0691\n",
            "Epoch 75/200\n",
            "84/84 [==============================] - 0s 3ms/step - loss: 0.0662 - val_loss: 0.0773\n",
            "Epoch 76/200\n",
            "84/84 [==============================] - 0s 3ms/step - loss: 0.0651 - val_loss: 0.0645\n",
            "Epoch 77/200\n",
            "84/84 [==============================] - 0s 3ms/step - loss: 0.0657 - val_loss: 0.0595\n",
            "Epoch 78/200\n",
            "84/84 [==============================] - 0s 3ms/step - loss: 0.0615 - val_loss: 0.0622\n",
            "Epoch 79/200\n",
            "84/84 [==============================] - 0s 3ms/step - loss: 0.0702 - val_loss: 0.0658\n",
            "Epoch 80/200\n",
            "84/84 [==============================] - 0s 3ms/step - loss: 0.0607 - val_loss: 0.0605\n",
            "Epoch 81/200\n",
            "84/84 [==============================] - 0s 3ms/step - loss: 0.0596 - val_loss: 0.0620\n",
            "Epoch 82/200\n",
            "84/84 [==============================] - 0s 3ms/step - loss: 0.0610 - val_loss: 0.0733\n",
            "Epoch 83/200\n",
            "84/84 [==============================] - 0s 3ms/step - loss: 0.0656 - val_loss: 0.0621\n",
            "Epoch 84/200\n",
            "84/84 [==============================] - 0s 3ms/step - loss: 0.0615 - val_loss: 0.0604\n",
            "Epoch 85/200\n",
            "84/84 [==============================] - 0s 3ms/step - loss: 0.0611 - val_loss: 0.0614\n",
            "Epoch 86/200\n",
            "84/84 [==============================] - 0s 3ms/step - loss: 0.0609 - val_loss: 0.0678\n",
            "Epoch 87/200\n",
            "84/84 [==============================] - 0s 3ms/step - loss: 0.0610 - val_loss: 0.0591\n",
            "Epoch 88/200\n",
            "84/84 [==============================] - 0s 3ms/step - loss: 0.0604 - val_loss: 0.0588\n",
            "Epoch 89/200\n",
            "84/84 [==============================] - 0s 3ms/step - loss: 0.0594 - val_loss: 0.0586\n",
            "Epoch 90/200\n",
            "84/84 [==============================] - 0s 3ms/step - loss: 0.0632 - val_loss: 0.0619\n",
            "Epoch 91/200\n",
            "84/84 [==============================] - 0s 3ms/step - loss: 0.0612 - val_loss: 0.0606\n",
            "Epoch 92/200\n",
            "84/84 [==============================] - 0s 3ms/step - loss: 0.0614 - val_loss: 0.0628\n",
            "Epoch 93/200\n",
            "84/84 [==============================] - 0s 3ms/step - loss: 0.0572 - val_loss: 0.0584\n",
            "Epoch 94/200\n",
            "84/84 [==============================] - 0s 3ms/step - loss: 0.0579 - val_loss: 0.0699\n",
            "Epoch 95/200\n",
            "84/84 [==============================] - 0s 3ms/step - loss: 0.0609 - val_loss: 0.0572\n",
            "Epoch 96/200\n",
            "84/84 [==============================] - 0s 3ms/step - loss: 0.0635 - val_loss: 0.0577\n",
            "Epoch 97/200\n",
            "84/84 [==============================] - 0s 3ms/step - loss: 0.0658 - val_loss: 0.0782\n",
            "Epoch 98/200\n",
            "84/84 [==============================] - 0s 3ms/step - loss: 0.0639 - val_loss: 0.0669\n",
            "Epoch 99/200\n",
            "84/84 [==============================] - 0s 3ms/step - loss: 0.0606 - val_loss: 0.0652\n",
            "Epoch 100/200\n",
            "84/84 [==============================] - 0s 3ms/step - loss: 0.0604 - val_loss: 0.0583\n",
            "Epoch 101/200\n",
            "84/84 [==============================] - 0s 3ms/step - loss: 0.0630 - val_loss: 0.0583\n",
            "Epoch 102/200\n",
            "84/84 [==============================] - 0s 3ms/step - loss: 0.0604 - val_loss: 0.0605\n",
            "Epoch 103/200\n",
            "84/84 [==============================] - 0s 3ms/step - loss: 0.0582 - val_loss: 0.0580\n",
            "Epoch 104/200\n",
            "84/84 [==============================] - 0s 3ms/step - loss: 0.0572 - val_loss: 0.0602\n",
            "Epoch 105/200\n",
            "84/84 [==============================] - 0s 3ms/step - loss: 0.0635 - val_loss: 0.0819\n",
            "Epoch 106/200\n",
            "84/84 [==============================] - 0s 3ms/step - loss: 0.0619 - val_loss: 0.0729\n",
            "Epoch 107/200\n",
            "84/84 [==============================] - 0s 3ms/step - loss: 0.0668 - val_loss: 0.0969\n",
            "Epoch 108/200\n",
            "84/84 [==============================] - 0s 3ms/step - loss: 0.0659 - val_loss: 0.0686\n",
            "Epoch 109/200\n",
            "84/84 [==============================] - 0s 3ms/step - loss: 0.0693 - val_loss: 0.0581\n",
            "Epoch 110/200\n",
            "84/84 [==============================] - 0s 3ms/step - loss: 0.0576 - val_loss: 0.0567\n",
            "Epoch 111/200\n",
            "84/84 [==============================] - 0s 3ms/step - loss: 0.0602 - val_loss: 0.0591\n",
            "Epoch 112/200\n",
            "84/84 [==============================] - 0s 3ms/step - loss: 0.0623 - val_loss: 0.0669\n",
            "Epoch 113/200\n",
            "84/84 [==============================] - 0s 3ms/step - loss: 0.0565 - val_loss: 0.0574\n",
            "Epoch 114/200\n",
            "84/84 [==============================] - 0s 3ms/step - loss: 0.0588 - val_loss: 0.0575\n",
            "Epoch 115/200\n",
            "84/84 [==============================] - 0s 3ms/step - loss: 0.0571 - val_loss: 0.0568\n",
            "Epoch 116/200\n",
            "84/84 [==============================] - 0s 3ms/step - loss: 0.0570 - val_loss: 0.0609\n",
            "Epoch 117/200\n",
            "84/84 [==============================] - 0s 3ms/step - loss: 0.0574 - val_loss: 0.0594\n",
            "Epoch 118/200\n",
            "84/84 [==============================] - 0s 3ms/step - loss: 0.0582 - val_loss: 0.0573\n",
            "Epoch 119/200\n",
            "84/84 [==============================] - 0s 3ms/step - loss: 0.0578 - val_loss: 0.0890\n",
            "Epoch 120/200\n",
            "84/84 [==============================] - 0s 3ms/step - loss: 0.0677 - val_loss: 0.0679\n",
            "Epoch 121/200\n",
            "84/84 [==============================] - 0s 3ms/step - loss: 0.0600 - val_loss: 0.0568\n",
            "Epoch 122/200\n",
            "84/84 [==============================] - 0s 3ms/step - loss: 0.0552 - val_loss: 0.0567\n",
            "Epoch 123/200\n",
            "84/84 [==============================] - 0s 3ms/step - loss: 0.0565 - val_loss: 0.0650\n",
            "Epoch 124/200\n",
            "84/84 [==============================] - 0s 3ms/step - loss: 0.0582 - val_loss: 0.0587\n",
            "Epoch 125/200\n",
            "84/84 [==============================] - 0s 3ms/step - loss: 0.0581 - val_loss: 0.0604\n",
            "Epoch 126/200\n",
            "84/84 [==============================] - 0s 3ms/step - loss: 0.0616 - val_loss: 0.0573\n",
            "Epoch 127/200\n",
            "84/84 [==============================] - 0s 3ms/step - loss: 0.0574 - val_loss: 0.0617\n",
            "Epoch 128/200\n",
            "84/84 [==============================] - 0s 3ms/step - loss: 0.0589 - val_loss: 0.0789\n",
            "Epoch 129/200\n",
            "84/84 [==============================] - 0s 3ms/step - loss: 0.0575 - val_loss: 0.0606\n",
            "Epoch 130/200\n",
            "84/84 [==============================] - 0s 3ms/step - loss: 0.0620 - val_loss: 0.0696\n",
            "Epoch 131/200\n",
            "84/84 [==============================] - 0s 3ms/step - loss: 0.0569 - val_loss: 0.0585\n",
            "Epoch 132/200\n",
            "84/84 [==============================] - 0s 3ms/step - loss: 0.0575 - val_loss: 0.0603\n",
            "Epoch 133/200\n",
            "84/84 [==============================] - 0s 3ms/step - loss: 0.0568 - val_loss: 0.0570\n",
            "Epoch 134/200\n",
            "84/84 [==============================] - 0s 3ms/step - loss: 0.0640 - val_loss: 0.0790\n",
            "Epoch 135/200\n",
            "84/84 [==============================] - 0s 3ms/step - loss: 0.0596 - val_loss: 0.0589\n",
            "Epoch 136/200\n",
            "84/84 [==============================] - 0s 3ms/step - loss: 0.0566 - val_loss: 0.0654\n",
            "Epoch 137/200\n",
            "84/84 [==============================] - 0s 3ms/step - loss: 0.0577 - val_loss: 0.0574\n",
            "Epoch 138/200\n",
            "84/84 [==============================] - 0s 3ms/step - loss: 0.0550 - val_loss: 0.0566\n",
            "Epoch 139/200\n",
            "84/84 [==============================] - 0s 3ms/step - loss: 0.0570 - val_loss: 0.0698\n",
            "Epoch 140/200\n",
            "84/84 [==============================] - 0s 3ms/step - loss: 0.0578 - val_loss: 0.0563\n",
            "Epoch 141/200\n",
            "84/84 [==============================] - 0s 3ms/step - loss: 0.0560 - val_loss: 0.0568\n",
            "Epoch 142/200\n",
            "84/84 [==============================] - 0s 3ms/step - loss: 0.0562 - val_loss: 0.0613\n",
            "Epoch 143/200\n",
            "84/84 [==============================] - 0s 3ms/step - loss: 0.0596 - val_loss: 0.0566\n",
            "Epoch 144/200\n",
            "84/84 [==============================] - 0s 3ms/step - loss: 0.0560 - val_loss: 0.0724\n",
            "Epoch 145/200\n",
            "84/84 [==============================] - 0s 3ms/step - loss: 0.0608 - val_loss: 0.0601\n",
            "Epoch 146/200\n",
            "84/84 [==============================] - 0s 3ms/step - loss: 0.0550 - val_loss: 0.0583\n",
            "Epoch 147/200\n",
            "84/84 [==============================] - 0s 3ms/step - loss: 0.0601 - val_loss: 0.0611\n",
            "Epoch 148/200\n",
            "84/84 [==============================] - 0s 3ms/step - loss: 0.0578 - val_loss: 0.0566\n",
            "Epoch 149/200\n",
            "84/84 [==============================] - 0s 3ms/step - loss: 0.0551 - val_loss: 0.0561\n",
            "Epoch 150/200\n",
            "84/84 [==============================] - 0s 3ms/step - loss: 0.0557 - val_loss: 0.0569\n",
            "Epoch 151/200\n",
            "84/84 [==============================] - 0s 3ms/step - loss: 0.0549 - val_loss: 0.0820\n",
            "Epoch 152/200\n",
            "84/84 [==============================] - 0s 3ms/step - loss: 0.0567 - val_loss: 0.0572\n",
            "Epoch 153/200\n",
            "84/84 [==============================] - 0s 3ms/step - loss: 0.0603 - val_loss: 0.0587\n",
            "Epoch 154/200\n",
            "84/84 [==============================] - 0s 3ms/step - loss: 0.0551 - val_loss: 0.0593\n",
            "Epoch 155/200\n",
            "84/84 [==============================] - 0s 3ms/step - loss: 0.0576 - val_loss: 0.0560\n",
            "Epoch 156/200\n",
            "84/84 [==============================] - 0s 4ms/step - loss: 0.0569 - val_loss: 0.0584\n",
            "Epoch 157/200\n",
            "84/84 [==============================] - 0s 4ms/step - loss: 0.0569 - val_loss: 0.0576\n",
            "Epoch 158/200\n",
            "84/84 [==============================] - 0s 3ms/step - loss: 0.0569 - val_loss: 0.0765\n",
            "Epoch 159/200\n",
            "84/84 [==============================] - 0s 3ms/step - loss: 0.0551 - val_loss: 0.0592\n",
            "Epoch 160/200\n",
            "84/84 [==============================] - 0s 3ms/step - loss: 0.0592 - val_loss: 0.0579\n",
            "Epoch 161/200\n",
            "84/84 [==============================] - 0s 3ms/step - loss: 0.0589 - val_loss: 0.0620\n",
            "Epoch 162/200\n",
            "84/84 [==============================] - 0s 3ms/step - loss: 0.0550 - val_loss: 0.0558\n",
            "Epoch 163/200\n",
            "84/84 [==============================] - 0s 3ms/step - loss: 0.0598 - val_loss: 0.0615\n",
            "Epoch 164/200\n",
            "84/84 [==============================] - 0s 3ms/step - loss: 0.0547 - val_loss: 0.0572\n",
            "Epoch 165/200\n",
            "84/84 [==============================] - 0s 3ms/step - loss: 0.0582 - val_loss: 0.0590\n",
            "Epoch 166/200\n",
            "84/84 [==============================] - 0s 3ms/step - loss: 0.0585 - val_loss: 0.0657\n",
            "Epoch 167/200\n",
            "84/84 [==============================] - 0s 3ms/step - loss: 0.0546 - val_loss: 0.0664\n",
            "Epoch 168/200\n",
            "84/84 [==============================] - 0s 3ms/step - loss: 0.0547 - val_loss: 0.0556\n",
            "Epoch 169/200\n",
            "84/84 [==============================] - 0s 3ms/step - loss: 0.0553 - val_loss: 0.0572\n",
            "Epoch 170/200\n",
            "84/84 [==============================] - 0s 3ms/step - loss: 0.0616 - val_loss: 0.0554\n",
            "Epoch 171/200\n",
            "84/84 [==============================] - 0s 3ms/step - loss: 0.0551 - val_loss: 0.0743\n",
            "Epoch 172/200\n",
            "84/84 [==============================] - 0s 3ms/step - loss: 0.0568 - val_loss: 0.0570\n",
            "Epoch 173/200\n",
            "84/84 [==============================] - 0s 3ms/step - loss: 0.0559 - val_loss: 0.0588\n",
            "Epoch 174/200\n",
            "84/84 [==============================] - 0s 3ms/step - loss: 0.0559 - val_loss: 0.0562\n",
            "Epoch 175/200\n",
            "84/84 [==============================] - 0s 3ms/step - loss: 0.0587 - val_loss: 0.0639\n",
            "Epoch 176/200\n",
            "84/84 [==============================] - 0s 4ms/step - loss: 0.0566 - val_loss: 0.0603\n",
            "Epoch 177/200\n",
            "84/84 [==============================] - 0s 3ms/step - loss: 0.0563 - val_loss: 0.0600\n",
            "Epoch 178/200\n",
            "84/84 [==============================] - 0s 3ms/step - loss: 0.0540 - val_loss: 0.0620\n",
            "Epoch 179/200\n",
            "84/84 [==============================] - 0s 4ms/step - loss: 0.0555 - val_loss: 0.0702\n",
            "Epoch 180/200\n",
            "84/84 [==============================] - 0s 3ms/step - loss: 0.0610 - val_loss: 0.0633\n",
            "Epoch 181/200\n",
            "84/84 [==============================] - 0s 3ms/step - loss: 0.0549 - val_loss: 0.0580\n",
            "Epoch 182/200\n",
            "84/84 [==============================] - 0s 3ms/step - loss: 0.0530 - val_loss: 0.0636\n",
            "Epoch 183/200\n",
            "84/84 [==============================] - 0s 4ms/step - loss: 0.0595 - val_loss: 0.0739\n",
            "Epoch 184/200\n",
            "84/84 [==============================] - 0s 3ms/step - loss: 0.0592 - val_loss: 0.0563\n",
            "Epoch 185/200\n",
            "84/84 [==============================] - 0s 3ms/step - loss: 0.0551 - val_loss: 0.0561\n",
            "Epoch 186/200\n",
            "84/84 [==============================] - 0s 3ms/step - loss: 0.0586 - val_loss: 0.0586\n",
            "Epoch 187/200\n",
            "84/84 [==============================] - 0s 3ms/step - loss: 0.0527 - val_loss: 0.0623\n",
            "Epoch 188/200\n",
            "84/84 [==============================] - 0s 3ms/step - loss: 0.0529 - val_loss: 0.0600\n",
            "Epoch 189/200\n",
            "84/84 [==============================] - 0s 3ms/step - loss: 0.0566 - val_loss: 0.0606\n",
            "Epoch 190/200\n",
            "84/84 [==============================] - 0s 3ms/step - loss: 0.0534 - val_loss: 0.0577\n",
            "Epoch 191/200\n",
            "84/84 [==============================] - 0s 3ms/step - loss: 0.0592 - val_loss: 0.0604\n",
            "Epoch 192/200\n",
            "84/84 [==============================] - 0s 3ms/step - loss: 0.0552 - val_loss: 0.0601\n",
            "Epoch 193/200\n",
            "84/84 [==============================] - 0s 3ms/step - loss: 0.0542 - val_loss: 0.0592\n",
            "Epoch 194/200\n",
            "84/84 [==============================] - 0s 3ms/step - loss: 0.0566 - val_loss: 0.0583\n",
            "Epoch 195/200\n",
            "84/84 [==============================] - 0s 3ms/step - loss: 0.0536 - val_loss: 0.0568\n",
            "Epoch 196/200\n",
            "84/84 [==============================] - 0s 3ms/step - loss: 0.0582 - val_loss: 0.1090\n",
            "Epoch 197/200\n",
            "84/84 [==============================] - 0s 3ms/step - loss: 0.0627 - val_loss: 0.0557\n",
            "Epoch 198/200\n",
            "84/84 [==============================] - 0s 3ms/step - loss: 0.0539 - val_loss: 0.0604\n",
            "Epoch 199/200\n",
            "84/84 [==============================] - 0s 3ms/step - loss: 0.0537 - val_loss: 0.0556\n",
            "Epoch 200/200\n",
            "84/84 [==============================] - 0s 3ms/step - loss: 0.0535 - val_loss: 0.0584\n",
            "Mean absolute error on train data : 0.013056088343836604\n",
            "Mean absolute error on test data : 0.013296230115338701\n",
            "r2_score on train data : 0.788161476096088\n",
            "r2_score on test data : 0.7747557469768602\n",
            "Explained variance score : 0.7859714839967055\n"
          ],
          "name": "stdout"
        },
        {
          "output_type": "display_data",
          "data": {
            "image/png": "[encoded data removed]",
            "text/plain": [
              "<Figure size 1080x648 with 1 Axes>"
            ]
          },
          "metadata": {
            "tags": [],
            "needs_background": "light"
          }
        }
      ]
    },
    {
      "cell_type": "code",
      "metadata": {
        "id": "TmmIlr942UYU",
        "colab": {
          "base_uri": "https://localhost:8080/"
        },
        "outputId": "94cf64d7-3433-4ddc-aa61-31f0efcd5a31"
      },
      "source": [
        "from sklearn.ensemble import GradientBoostingRegressor\n",
        "\n",
        "GBRT = GradientBoostingRegressor(max_depth=2, n_estimators=120)\n",
        "GBRT.fit(X_train, y_train)\n",
        "\n",
        "errors = [mean_squared_error(y_test, y_pred)\n",
        "         for y_pred in GBRT.staged_predict(X_test)]\n",
        "best_n_estimators = np.argmin(errors)\n",
        "\n",
        "GBRT_best = GradientBoostingRegressor(max_depth=2, n_estimators=best_n_estimators)\n",
        "GBRT_best.fit(X_train, y_train)\n",
        "y_pred = GBRT_best.predict(X_test)\n",
        "\n",
        "# Display\n",
        "print('Gradient Boosting Regressor')\n",
        "print('\\nR-squared training set:')\n",
        "print(GBRT_best.score(X_train, y_train))\n",
        "\n",
        "print('\\nR-squared test set:')\n",
        "print(GBRT_best.score(X_test, y_test))"
      ],
      "execution_count": null,
      "outputs": [
        {
          "output_type": "stream",
          "text": [
            "/usr/local/lib/python3.6/dist-packages/sklearn/ensemble/_gb.py:1454: DataConversionWarning: A column-vector y was passed when a 1d array was expected. Please change the shape of y to (n_samples, ), for example using ravel().\n",
            "  y = column_or_1d(y, warn=True)\n",
            "/usr/local/lib/python3.6/dist-packages/sklearn/ensemble/_gb.py:1454: DataConversionWarning: A column-vector y was passed when a 1d array was expected. Please change the shape of y to (n_samples, ), for example using ravel().\n",
            "  y = column_or_1d(y, warn=True)\n"
          ],
          "name": "stderr"
        },
        {
          "output_type": "stream",
          "text": [
            "Gradient Boosting Regressor\n",
            "\n",
            "R-squared training set:\n",
            "0.8163380445932357\n",
            "\n",
            "R-squared test set:\n",
            "0.8070504131586971\n"
          ],
          "name": "stdout"
        }
      ]
    },
    {
      "cell_type": "markdown",
      "metadata": {
        "id": "OnkrBxRivFBy"
      },
      "source": [
        "Pretty low values of R2\n",
        "\n",
        "Let's try improving our EDA and feature engineering"
      ]
    },
    {
      "cell_type": "markdown",
      "metadata": {
        "id": "7nA9SS8zCO6n"
      },
      "source": [
        "# Method 2 - advanced data analysis..."
      ]
    },
    {
      "cell_type": "code",
      "metadata": {
        "id": "P2edRDEQv6EO"
      },
      "source": [
        "import pandas as pd\n",
        "import numpy as np\n",
        "import matplotlib.pyplot as plt\n",
        "import seaborn as sns\n",
        "import zipfile\n",
        "from tensorflow import keras"
      ],
      "execution_count": 187,
      "outputs": []
    },
    {
      "cell_type": "code",
      "metadata": {
        "id": "iEYDBZ0hv6Ee"
      },
      "source": [
        "zip = zipfile.ZipFile('/content/drive/My Drive/NEW_DATASCIENCE_PROJECTS/Udemy Data Science & ML/TensorFlow_FILES.zip')\n",
        "zip.extractall()\n",
        "df = pd.read_csv('/content/TensorFlow_FILES/DATA/melb_data.csv')\n",
        "pd.set_option('display.max_columns',500)"
      ],
      "execution_count": 188,
      "outputs": []
    },
    {
      "cell_type": "code",
      "metadata": {
        "id": "nxkeDnlYO08B",
        "colab": {
          "base_uri": "https://localhost:8080/"
        },
        "outputId": "3cf67b0e-7919-4ed5-acb8-71d9654706b7"
      },
      "source": [
        "df.info()"
      ],
      "execution_count": 189,
      "outputs": [
        {
          "output_type": "stream",
          "text": [
            "<class 'pandas.core.frame.DataFrame'>\n",
            "RangeIndex: 13580 entries, 0 to 13579\n",
            "Data columns (total 21 columns):\n",
            " #   Column         Non-Null Count  Dtype  \n",
            "---  ------         --------------  -----  \n",
            " 0   Suburb         13580 non-null  object \n",
            " 1   Address        13580 non-null  object \n",
            " 2   Rooms          13580 non-null  int64  \n",
            " 3   Type           13580 non-null  object \n",
            " 4   Price          13580 non-null  float64\n",
            " 5   Method         13580 non-null  object \n",
            " 6   SellerG        13580 non-null  object \n",
            " 7   Date           13580 non-null  object \n",
            " 8   Distance       13580 non-null  float64\n",
            " 9   Postcode       13580 non-null  float64\n",
            " 10  Bedroom2       13580 non-null  float64\n",
            " 11  Bathroom       13580 non-null  float64\n",
            " 12  Car            13518 non-null  float64\n",
            " 13  Landsize       13580 non-null  float64\n",
            " 14  BuildingArea   7130 non-null   float64\n",
            " 15  YearBuilt      8205 non-null   float64\n",
            " 16  CouncilArea    12211 non-null  object \n",
            " 17  Lattitude      13580 non-null  float64\n",
            " 18  Longtitude     13580 non-null  float64\n",
            " 19  Regionname     13580 non-null  object \n",
            " 20  Propertycount  13580 non-null  float64\n",
            "dtypes: float64(12), int64(1), object(8)\n",
            "memory usage: 2.2+ MB\n"
          ],
          "name": "stdout"
        }
      ]
    },
    {
      "cell_type": "code",
      "metadata": {
        "id": "RYVLQfWjf9sL",
        "colab": {
          "base_uri": "https://localhost:8080/"
        },
        "outputId": "b6a4b178-9e21-4222-9688-07e6582b3c4f"
      },
      "source": [
        "df.isna().sum()"
      ],
      "execution_count": 190,
      "outputs": [
        {
          "output_type": "execute_result",
          "data": {
            "text/plain": [
              "Suburb              0\n",
              "Address             0\n",
              "Rooms               0\n",
              "Type                0\n",
              "Price               0\n",
              "Method              0\n",
              "SellerG             0\n",
              "Date                0\n",
              "Distance            0\n",
              "Postcode            0\n",
              "Bedroom2            0\n",
              "Bathroom            0\n",
              "Car                62\n",
              "Landsize            0\n",
              "BuildingArea     6450\n",
              "YearBuilt        5375\n",
              "CouncilArea      1369\n",
              "Lattitude           0\n",
              "Longtitude          0\n",
              "Regionname          0\n",
              "Propertycount       0\n",
              "dtype: int64"
            ]
          },
          "metadata": {
            "tags": []
          },
          "execution_count": 190
        }
      ]
    },
    {
      "cell_type": "code",
      "metadata": {
        "id": "YB_6AjOSbroc"
      },
      "source": [
        "#Removing the following columns...\n",
        "df.drop(['Suburb','Address','CouncilArea','SellerG'],axis=1,inplace=True)"
      ],
      "execution_count": 191,
      "outputs": []
    },
    {
      "cell_type": "code",
      "metadata": {
        "id": "ryUEPai_egQZ"
      },
      "source": [
        "df['Price'] = df['Price'].apply(np.log)"
      ],
      "execution_count": 192,
      "outputs": []
    },
    {
      "cell_type": "code",
      "metadata": {
        "id": "6bwhxYLdchQj",
        "colab": {
          "base_uri": "https://localhost:8080/",
          "height": 460
        },
        "outputId": "b8e50172-0526-4cdb-ff71-6970914f0b61"
      },
      "source": [
        "#Figuring out percentiles on the price dist\n",
        "plt.figure(figsize=(10,6))\n",
        "ax = sns.distplot(df['Price'],bins=70)\n",
        "percentile_95 = df['Price'].sort_values().reset_index(drop=True).iloc[int(df['Price'].shape[0]*0.95)]\n",
        "percentile_99 = df['Price'].sort_values().reset_index(drop=True).iloc[int(df['Price'].shape[0]*0.99)]\n",
        "percentile_01 = df['Price'].sort_values().reset_index(drop=True).iloc[int(df['Price'].shape[0]*0.01)]\n",
        "\n",
        "sns.scatterplot(ax=ax,x=[percentile_95,percentile_99],y=[0,0],s=1000, color=\".1\", marker=\"|\")\n",
        "ax.text(percentile_95,0,s=\"0.95\",fontsize=10)\n",
        "ax.text(percentile_99,0,s=\"0.99\",fontsize=10)\n",
        "ax.text(percentile_01,0,s=\"0.01\",fontsize=10)"
      ],
      "execution_count": 193,
      "outputs": [
        {
          "output_type": "stream",
          "text": [
            "/usr/local/lib/python3.6/dist-packages/seaborn/distributions.py:2551: FutureWarning: `distplot` is a deprecated function and will be removed in a future version. Please adapt your code to use either `displot` (a figure-level function with similar flexibility) or `histplot` (an axes-level function for histograms).\n",
            "  warnings.warn(msg, FutureWarning)\n"
          ],
          "name": "stderr"
        },
        {
          "output_type": "execute_result",
          "data": {
            "text/plain": [
              "Text(12.611537753638338, 0, '0.01')"
            ]
          },
          "metadata": {
            "tags": []
          },
          "execution_count": 193
        },
        {
          "output_type": "display_data",
          "data": {
            "image/png": "[encoded data removed]",
            "text/plain": [
              "<Figure size 720x432 with 1 Axes>"
            ]
          },
          "metadata": {
            "tags": [],
            "needs_background": "light"
          }
        }
      ]
    },
    {
      "cell_type": "code",
      "metadata": {
        "id": "c5etMnl_esst",
        "colab": {
          "base_uri": "https://localhost:8080/",
          "height": 617
        },
        "outputId": "8fd97a80-e98f-4da8-8e38-0ac183c48dc1"
      },
      "source": [
        "#removing the top 1% and bottom 1% of data\n",
        "df.sort_values(by='Price',inplace=True)\n",
        "df.reset_index(drop=True,inplace=True)\n",
        "df = df[(df['Price']>percentile_01) & (df['Price']<=percentile_99)]\n",
        "df.reset_index(drop=True,inplace=True)\n",
        "df"
      ],
      "execution_count": 194,
      "outputs": [
        {
          "output_type": "execute_result",
          "data": {
            "text/html": [
              "<div>\n",
              "<style scoped>\n",
              "    .dataframe tbody tr th:only-of-type {\n",
              "        vertical-align: middle;\n",
              "    }\n",
              "\n",
              "    .dataframe tbody tr th {\n",
              "        vertical-align: top;\n",
              "    }\n",
              "\n",
              "    .dataframe thead th {\n",
              "        text-align: right;\n",
              "    }\n",
              "</style>\n",
              "<table border=\"1\" class=\"dataframe\">\n",
              "  <thead>\n",
              "    <tr style=\"text-align: right;\">\n",
              "      <th></th>\n",
              "      <th>Rooms</th>\n",
              "      <th>Type</th>\n",
              "      <th>Price</th>\n",
              "      <th>Method</th>\n",
              "      <th>Date</th>\n",
              "      <th>Distance</th>\n",
              "      <th>Postcode</th>\n",
              "      <th>Bedroom2</th>\n",
              "      <th>Bathroom</th>\n",
              "      <th>Car</th>\n",
              "      <th>Landsize</th>\n",
              "      <th>BuildingArea</th>\n",
              "      <th>YearBuilt</th>\n",
              "      <th>Lattitude</th>\n",
              "      <th>Longtitude</th>\n",
              "      <th>Regionname</th>\n",
              "      <th>Propertycount</th>\n",
              "    </tr>\n",
              "  </thead>\n",
              "  <tbody>\n",
              "    <tr>\n",
              "      <th>0</th>\n",
              "      <td>1</td>\n",
              "      <td>u</td>\n",
              "      <td>12.614866</td>\n",
              "      <td>S</td>\n",
              "      <td>17/06/2017</td>\n",
              "      <td>4.3</td>\n",
              "      <td>3032.0</td>\n",
              "      <td>1.0</td>\n",
              "      <td>1.0</td>\n",
              "      <td>1.0</td>\n",
              "      <td>887.0</td>\n",
              "      <td>45.0</td>\n",
              "      <td>1972.0</td>\n",
              "      <td>-37.76878</td>\n",
              "      <td>144.89197</td>\n",
              "      <td>Western Metropolitan</td>\n",
              "      <td>4918.0</td>\n",
              "    </tr>\n",
              "    <tr>\n",
              "      <th>1</th>\n",
              "      <td>3</td>\n",
              "      <td>u</td>\n",
              "      <td>12.614866</td>\n",
              "      <td>SP</td>\n",
              "      <td>10/09/2016</td>\n",
              "      <td>11.2</td>\n",
              "      <td>3073.0</td>\n",
              "      <td>3.0</td>\n",
              "      <td>1.0</td>\n",
              "      <td>1.0</td>\n",
              "      <td>0.0</td>\n",
              "      <td>63.0</td>\n",
              "      <td>1970.0</td>\n",
              "      <td>-37.72720</td>\n",
              "      <td>145.00570</td>\n",
              "      <td>Northern Metropolitan</td>\n",
              "      <td>21650.0</td>\n",
              "    </tr>\n",
              "    <tr>\n",
              "      <th>2</th>\n",
              "      <td>2</td>\n",
              "      <td>u</td>\n",
              "      <td>12.619837</td>\n",
              "      <td>S</td>\n",
              "      <td>3/06/2017</td>\n",
              "      <td>14.7</td>\n",
              "      <td>3030.0</td>\n",
              "      <td>2.0</td>\n",
              "      <td>1.0</td>\n",
              "      <td>2.0</td>\n",
              "      <td>471.0</td>\n",
              "      <td>NaN</td>\n",
              "      <td>NaN</td>\n",
              "      <td>-37.88275</td>\n",
              "      <td>144.66661</td>\n",
              "      <td>Western Metropolitan</td>\n",
              "      <td>16166.0</td>\n",
              "    </tr>\n",
              "    <tr>\n",
              "      <th>3</th>\n",
              "      <td>1</td>\n",
              "      <td>u</td>\n",
              "      <td>12.623137</td>\n",
              "      <td>SP</td>\n",
              "      <td>27/11/2016</td>\n",
              "      <td>6.5</td>\n",
              "      <td>3071.0</td>\n",
              "      <td>1.0</td>\n",
              "      <td>1.0</td>\n",
              "      <td>1.0</td>\n",
              "      <td>0.0</td>\n",
              "      <td>41.0</td>\n",
              "      <td>1970.0</td>\n",
              "      <td>-37.75420</td>\n",
              "      <td>145.01000</td>\n",
              "      <td>Northern Metropolitan</td>\n",
              "      <td>8870.0</td>\n",
              "    </tr>\n",
              "    <tr>\n",
              "      <th>4</th>\n",
              "      <td>1</td>\n",
              "      <td>u</td>\n",
              "      <td>12.628067</td>\n",
              "      <td>SP</td>\n",
              "      <td>8/04/2017</td>\n",
              "      <td>8.1</td>\n",
              "      <td>3161.0</td>\n",
              "      <td>1.0</td>\n",
              "      <td>1.0</td>\n",
              "      <td>1.0</td>\n",
              "      <td>750.0</td>\n",
              "      <td>43.0</td>\n",
              "      <td>1965.0</td>\n",
              "      <td>-37.86780</td>\n",
              "      <td>145.01970</td>\n",
              "      <td>Southern Metropolitan</td>\n",
              "      <td>6923.0</td>\n",
              "    </tr>\n",
              "    <tr>\n",
              "      <th>...</th>\n",
              "      <td>...</td>\n",
              "      <td>...</td>\n",
              "      <td>...</td>\n",
              "      <td>...</td>\n",
              "      <td>...</td>\n",
              "      <td>...</td>\n",
              "      <td>...</td>\n",
              "      <td>...</td>\n",
              "      <td>...</td>\n",
              "      <td>...</td>\n",
              "      <td>...</td>\n",
              "      <td>...</td>\n",
              "      <td>...</td>\n",
              "      <td>...</td>\n",
              "      <td>...</td>\n",
              "      <td>...</td>\n",
              "      <td>...</td>\n",
              "    </tr>\n",
              "    <tr>\n",
              "      <th>13290</th>\n",
              "      <td>4</td>\n",
              "      <td>h</td>\n",
              "      <td>15.016980</td>\n",
              "      <td>S</td>\n",
              "      <td>25/02/2017</td>\n",
              "      <td>13.7</td>\n",
              "      <td>3188.0</td>\n",
              "      <td>4.0</td>\n",
              "      <td>3.0</td>\n",
              "      <td>2.0</td>\n",
              "      <td>627.0</td>\n",
              "      <td>303.0</td>\n",
              "      <td>1997.0</td>\n",
              "      <td>-37.94490</td>\n",
              "      <td>145.00680</td>\n",
              "      <td>Southern Metropolitan</td>\n",
              "      <td>5454.0</td>\n",
              "    </tr>\n",
              "    <tr>\n",
              "      <th>13291</th>\n",
              "      <td>4</td>\n",
              "      <td>h</td>\n",
              "      <td>15.019983</td>\n",
              "      <td>S</td>\n",
              "      <td>3/12/2016</td>\n",
              "      <td>2.6</td>\n",
              "      <td>3121.0</td>\n",
              "      <td>4.0</td>\n",
              "      <td>2.0</td>\n",
              "      <td>2.0</td>\n",
              "      <td>319.0</td>\n",
              "      <td>NaN</td>\n",
              "      <td>1893.0</td>\n",
              "      <td>-37.82440</td>\n",
              "      <td>145.00440</td>\n",
              "      <td>Northern Metropolitan</td>\n",
              "      <td>14949.0</td>\n",
              "    </tr>\n",
              "    <tr>\n",
              "      <th>13292</th>\n",
              "      <td>4</td>\n",
              "      <td>h</td>\n",
              "      <td>15.019983</td>\n",
              "      <td>S</td>\n",
              "      <td>3/06/2017</td>\n",
              "      <td>5.3</td>\n",
              "      <td>3122.0</td>\n",
              "      <td>4.0</td>\n",
              "      <td>2.0</td>\n",
              "      <td>2.0</td>\n",
              "      <td>371.0</td>\n",
              "      <td>276.0</td>\n",
              "      <td>1890.0</td>\n",
              "      <td>-37.81474</td>\n",
              "      <td>145.02609</td>\n",
              "      <td>Southern Metropolitan</td>\n",
              "      <td>11308.0</td>\n",
              "    </tr>\n",
              "    <tr>\n",
              "      <th>13293</th>\n",
              "      <td>2</td>\n",
              "      <td>h</td>\n",
              "      <td>15.024471</td>\n",
              "      <td>S</td>\n",
              "      <td>4/03/2017</td>\n",
              "      <td>7.5</td>\n",
              "      <td>3123.0</td>\n",
              "      <td>2.0</td>\n",
              "      <td>1.0</td>\n",
              "      <td>2.0</td>\n",
              "      <td>826.0</td>\n",
              "      <td>NaN</td>\n",
              "      <td>NaN</td>\n",
              "      <td>-37.84040</td>\n",
              "      <td>145.05160</td>\n",
              "      <td>Southern Metropolitan</td>\n",
              "      <td>6482.0</td>\n",
              "    </tr>\n",
              "    <tr>\n",
              "      <th>13294</th>\n",
              "      <td>5</td>\n",
              "      <td>h</td>\n",
              "      <td>15.024471</td>\n",
              "      <td>VB</td>\n",
              "      <td>12/08/2017</td>\n",
              "      <td>15.2</td>\n",
              "      <td>3191.0</td>\n",
              "      <td>5.0</td>\n",
              "      <td>4.0</td>\n",
              "      <td>4.0</td>\n",
              "      <td>700.0</td>\n",
              "      <td>NaN</td>\n",
              "      <td>NaN</td>\n",
              "      <td>-37.95762</td>\n",
              "      <td>145.01418</td>\n",
              "      <td>Southern Metropolitan</td>\n",
              "      <td>4497.0</td>\n",
              "    </tr>\n",
              "  </tbody>\n",
              "</table>\n",
              "<p>13295 rows × 17 columns</p>\n",
              "</div>"
            ],
            "text/plain": [
              "       Rooms Type      Price Method        Date  Distance  Postcode  Bedroom2  \\\n",
              "0          1    u  12.614866      S  17/06/2017       4.3    3032.0       1.0   \n",
              "1          3    u  12.614866     SP  10/09/2016      11.2    3073.0       3.0   \n",
              "2          2    u  12.619837      S   3/06/2017      14.7    3030.0       2.0   \n",
              "3          1    u  12.623137     SP  27/11/2016       6.5    3071.0       1.0   \n",
              "4          1    u  12.628067     SP   8/04/2017       8.1    3161.0       1.0   \n",
              "...      ...  ...        ...    ...         ...       ...       ...       ...   \n",
              "13290      4    h  15.016980      S  25/02/2017      13.7    3188.0       4.0   \n",
              "13291      4    h  15.019983      S   3/12/2016       2.6    3121.0       4.0   \n",
              "13292      4    h  15.019983      S   3/06/2017       5.3    3122.0       4.0   \n",
              "13293      2    h  15.024471      S   4/03/2017       7.5    3123.0       2.0   \n",
              "13294      5    h  15.024471     VB  12/08/2017      15.2    3191.0       5.0   \n",
              "\n",
              "       Bathroom  Car  Landsize  BuildingArea  YearBuilt  Lattitude  \\\n",
              "0           1.0  1.0     887.0          45.0     1972.0  -37.76878   \n",
              "1           1.0  1.0       0.0          63.0     1970.0  -37.72720   \n",
              "2           1.0  2.0     471.0           NaN        NaN  -37.88275   \n",
              "3           1.0  1.0       0.0          41.0     1970.0  -37.75420   \n",
              "4           1.0  1.0     750.0          43.0     1965.0  -37.86780   \n",
              "...         ...  ...       ...           ...        ...        ...   \n",
              "13290       3.0  2.0     627.0         303.0     1997.0  -37.94490   \n",
              "13291       2.0  2.0     319.0           NaN     1893.0  -37.82440   \n",
              "13292       2.0  2.0     371.0         276.0     1890.0  -37.81474   \n",
              "13293       1.0  2.0     826.0           NaN        NaN  -37.84040   \n",
              "13294       4.0  4.0     700.0           NaN        NaN  -37.95762   \n",
              "\n",
              "       Longtitude             Regionname  Propertycount  \n",
              "0       144.89197   Western Metropolitan         4918.0  \n",
              "1       145.00570  Northern Metropolitan        21650.0  \n",
              "2       144.66661   Western Metropolitan        16166.0  \n",
              "3       145.01000  Northern Metropolitan         8870.0  \n",
              "4       145.01970  Southern Metropolitan         6923.0  \n",
              "...           ...                    ...            ...  \n",
              "13290   145.00680  Southern Metropolitan         5454.0  \n",
              "13291   145.00440  Northern Metropolitan        14949.0  \n",
              "13292   145.02609  Southern Metropolitan        11308.0  \n",
              "13293   145.05160  Southern Metropolitan         6482.0  \n",
              "13294   145.01418  Southern Metropolitan         4497.0  \n",
              "\n",
              "[13295 rows x 17 columns]"
            ]
          },
          "metadata": {
            "tags": []
          },
          "execution_count": 194
        }
      ]
    },
    {
      "cell_type": "code",
      "metadata": {
        "id": "YQbxWPBZjE1F",
        "colab": {
          "base_uri": "https://localhost:8080/"
        },
        "outputId": "9d501005-ebf7-4e2c-e01a-b04ca72e9e7f"
      },
      "source": [
        "df['Car'].value_counts()"
      ],
      "execution_count": 195,
      "outputs": [
        {
          "output_type": "execute_result",
          "data": {
            "text/plain": [
              "2.0     5523\n",
              "1.0     5359\n",
              "0.0     1008\n",
              "3.0      730\n",
              "4.0      484\n",
              "5.0       59\n",
              "6.0       51\n",
              "8.0        8\n",
              "7.0        7\n",
              "10.0       3\n",
              "9.0        1\n",
              "Name: Car, dtype: int64"
            ]
          },
          "metadata": {
            "tags": []
          },
          "execution_count": 195
        }
      ]
    },
    {
      "cell_type": "code",
      "metadata": {
        "id": "5jsNa6cXjFp6",
        "colab": {
          "base_uri": "https://localhost:8080/",
          "height": 477
        },
        "outputId": "a2987279-0b5e-4650-ca5f-9edf1f8c0538"
      },
      "source": [
        "#Figuring out correlation between columns...\n",
        "df.corr()"
      ],
      "execution_count": 196,
      "outputs": [
        {
          "output_type": "execute_result",
          "data": {
            "text/html": [
              "<div>\n",
              "<style scoped>\n",
              "    .dataframe tbody tr th:only-of-type {\n",
              "        vertical-align: middle;\n",
              "    }\n",
              "\n",
              "    .dataframe tbody tr th {\n",
              "        vertical-align: top;\n",
              "    }\n",
              "\n",
              "    .dataframe thead th {\n",
              "        text-align: right;\n",
              "    }\n",
              "</style>\n",
              "<table border=\"1\" class=\"dataframe\">\n",
              "  <thead>\n",
              "    <tr style=\"text-align: right;\">\n",
              "      <th></th>\n",
              "      <th>Rooms</th>\n",
              "      <th>Price</th>\n",
              "      <th>Distance</th>\n",
              "      <th>Postcode</th>\n",
              "      <th>Bedroom2</th>\n",
              "      <th>Bathroom</th>\n",
              "      <th>Car</th>\n",
              "      <th>Landsize</th>\n",
              "      <th>BuildingArea</th>\n",
              "      <th>YearBuilt</th>\n",
              "      <th>Lattitude</th>\n",
              "      <th>Longtitude</th>\n",
              "      <th>Propertycount</th>\n",
              "    </tr>\n",
              "  </thead>\n",
              "  <tbody>\n",
              "    <tr>\n",
              "      <th>Rooms</th>\n",
              "      <td>1.000000</td>\n",
              "      <td>0.531642</td>\n",
              "      <td>0.306527</td>\n",
              "      <td>0.048350</td>\n",
              "      <td>0.941534</td>\n",
              "      <td>0.583951</td>\n",
              "      <td>0.397942</td>\n",
              "      <td>0.023893</td>\n",
              "      <td>0.118956</td>\n",
              "      <td>-0.052651</td>\n",
              "      <td>0.022279</td>\n",
              "      <td>0.094221</td>\n",
              "      <td>-0.085708</td>\n",
              "    </tr>\n",
              "    <tr>\n",
              "      <th>Price</th>\n",
              "      <td>0.531642</td>\n",
              "      <td>1.000000</td>\n",
              "      <td>-0.156455</td>\n",
              "      <td>0.085213</td>\n",
              "      <td>0.508188</td>\n",
              "      <td>0.426097</td>\n",
              "      <td>0.232088</td>\n",
              "      <td>0.032326</td>\n",
              "      <td>0.089096</td>\n",
              "      <td>-0.374390</td>\n",
              "      <td>-0.229460</td>\n",
              "      <td>0.240223</td>\n",
              "      <td>-0.070084</td>\n",
              "    </tr>\n",
              "    <tr>\n",
              "      <th>Distance</th>\n",
              "      <td>0.306527</td>\n",
              "      <td>-0.156455</td>\n",
              "      <td>1.000000</td>\n",
              "      <td>0.432951</td>\n",
              "      <td>0.307322</td>\n",
              "      <td>0.140831</td>\n",
              "      <td>0.270798</td>\n",
              "      <td>0.025154</td>\n",
              "      <td>0.101343</td>\n",
              "      <td>0.248105</td>\n",
              "      <td>-0.133931</td>\n",
              "      <td>0.248224</td>\n",
              "      <td>-0.055079</td>\n",
              "    </tr>\n",
              "    <tr>\n",
              "      <th>Postcode</th>\n",
              "      <td>0.048350</td>\n",
              "      <td>0.085213</td>\n",
              "      <td>0.432951</td>\n",
              "      <td>1.000000</td>\n",
              "      <td>0.053887</td>\n",
              "      <td>0.111227</td>\n",
              "      <td>0.047195</td>\n",
              "      <td>0.024407</td>\n",
              "      <td>0.054207</td>\n",
              "      <td>0.036502</td>\n",
              "      <td>-0.404954</td>\n",
              "      <td>0.449575</td>\n",
              "      <td>0.063474</td>\n",
              "    </tr>\n",
              "    <tr>\n",
              "      <th>Bedroom2</th>\n",
              "      <td>0.941534</td>\n",
              "      <td>0.508188</td>\n",
              "      <td>0.307322</td>\n",
              "      <td>0.053887</td>\n",
              "      <td>1.000000</td>\n",
              "      <td>0.575512</td>\n",
              "      <td>0.394731</td>\n",
              "      <td>0.023944</td>\n",
              "      <td>0.117113</td>\n",
              "      <td>-0.041307</td>\n",
              "      <td>0.021839</td>\n",
              "      <td>0.095966</td>\n",
              "      <td>-0.085346</td>\n",
              "    </tr>\n",
              "    <tr>\n",
              "      <th>Bathroom</th>\n",
              "      <td>0.583951</td>\n",
              "      <td>0.426097</td>\n",
              "      <td>0.140831</td>\n",
              "      <td>0.111227</td>\n",
              "      <td>0.575512</td>\n",
              "      <td>1.000000</td>\n",
              "      <td>0.306574</td>\n",
              "      <td>0.036416</td>\n",
              "      <td>0.105916</td>\n",
              "      <td>0.172185</td>\n",
              "      <td>-0.065313</td>\n",
              "      <td>0.113084</td>\n",
              "      <td>-0.055505</td>\n",
              "    </tr>\n",
              "    <tr>\n",
              "      <th>Car</th>\n",
              "      <td>0.397942</td>\n",
              "      <td>0.232088</td>\n",
              "      <td>0.270798</td>\n",
              "      <td>0.047195</td>\n",
              "      <td>0.394731</td>\n",
              "      <td>0.306574</td>\n",
              "      <td>1.000000</td>\n",
              "      <td>0.025420</td>\n",
              "      <td>0.091907</td>\n",
              "      <td>0.118015</td>\n",
              "      <td>0.001700</td>\n",
              "      <td>0.059183</td>\n",
              "      <td>-0.024477</td>\n",
              "    </tr>\n",
              "    <tr>\n",
              "      <th>Landsize</th>\n",
              "      <td>0.023893</td>\n",
              "      <td>0.032326</td>\n",
              "      <td>0.025154</td>\n",
              "      <td>0.024407</td>\n",
              "      <td>0.023944</td>\n",
              "      <td>0.036416</td>\n",
              "      <td>0.025420</td>\n",
              "      <td>1.000000</td>\n",
              "      <td>0.501079</td>\n",
              "      <td>0.040967</td>\n",
              "      <td>0.010019</td>\n",
              "      <td>0.010390</td>\n",
              "      <td>-0.006755</td>\n",
              "    </tr>\n",
              "    <tr>\n",
              "      <th>BuildingArea</th>\n",
              "      <td>0.118956</td>\n",
              "      <td>0.089096</td>\n",
              "      <td>0.101343</td>\n",
              "      <td>0.054207</td>\n",
              "      <td>0.117113</td>\n",
              "      <td>0.105916</td>\n",
              "      <td>0.091907</td>\n",
              "      <td>0.501079</td>\n",
              "      <td>1.000000</td>\n",
              "      <td>0.028860</td>\n",
              "      <td>0.045552</td>\n",
              "      <td>-0.026230</td>\n",
              "      <td>-0.028642</td>\n",
              "    </tr>\n",
              "    <tr>\n",
              "      <th>YearBuilt</th>\n",
              "      <td>-0.052651</td>\n",
              "      <td>-0.374390</td>\n",
              "      <td>0.248105</td>\n",
              "      <td>0.036502</td>\n",
              "      <td>-0.041307</td>\n",
              "      <td>0.172185</td>\n",
              "      <td>0.118015</td>\n",
              "      <td>0.040967</td>\n",
              "      <td>0.028860</td>\n",
              "      <td>1.000000</td>\n",
              "      <td>0.058168</td>\n",
              "      <td>-0.000855</td>\n",
              "      <td>0.007026</td>\n",
              "    </tr>\n",
              "    <tr>\n",
              "      <th>Lattitude</th>\n",
              "      <td>0.022279</td>\n",
              "      <td>-0.229460</td>\n",
              "      <td>-0.133931</td>\n",
              "      <td>-0.404954</td>\n",
              "      <td>0.021839</td>\n",
              "      <td>-0.065313</td>\n",
              "      <td>0.001700</td>\n",
              "      <td>0.010019</td>\n",
              "      <td>0.045552</td>\n",
              "      <td>0.058168</td>\n",
              "      <td>1.000000</td>\n",
              "      <td>-0.356040</td>\n",
              "      <td>0.045939</td>\n",
              "    </tr>\n",
              "    <tr>\n",
              "      <th>Longtitude</th>\n",
              "      <td>0.094221</td>\n",
              "      <td>0.240223</td>\n",
              "      <td>0.248224</td>\n",
              "      <td>0.449575</td>\n",
              "      <td>0.095966</td>\n",
              "      <td>0.113084</td>\n",
              "      <td>0.059183</td>\n",
              "      <td>0.010390</td>\n",
              "      <td>-0.026230</td>\n",
              "      <td>-0.000855</td>\n",
              "      <td>-0.356040</td>\n",
              "      <td>1.000000</td>\n",
              "      <td>0.063451</td>\n",
              "    </tr>\n",
              "    <tr>\n",
              "      <th>Propertycount</th>\n",
              "      <td>-0.085708</td>\n",
              "      <td>-0.070084</td>\n",
              "      <td>-0.055079</td>\n",
              "      <td>0.063474</td>\n",
              "      <td>-0.085346</td>\n",
              "      <td>-0.055505</td>\n",
              "      <td>-0.024477</td>\n",
              "      <td>-0.006755</td>\n",
              "      <td>-0.028642</td>\n",
              "      <td>0.007026</td>\n",
              "      <td>0.045939</td>\n",
              "      <td>0.063451</td>\n",
              "      <td>1.000000</td>\n",
              "    </tr>\n",
              "  </tbody>\n",
              "</table>\n",
              "</div>"
            ],
            "text/plain": [
              "                  Rooms     Price  Distance  Postcode  Bedroom2  Bathroom  \\\n",
              "Rooms          1.000000  0.531642  0.306527  0.048350  0.941534  0.583951   \n",
              "Price          0.531642  1.000000 -0.156455  0.085213  0.508188  0.426097   \n",
              "Distance       0.306527 -0.156455  1.000000  0.432951  0.307322  0.140831   \n",
              "Postcode       0.048350  0.085213  0.432951  1.000000  0.053887  0.111227   \n",
              "Bedroom2       0.941534  0.508188  0.307322  0.053887  1.000000  0.575512   \n",
              "Bathroom       0.583951  0.426097  0.140831  0.111227  0.575512  1.000000   \n",
              "Car            0.397942  0.232088  0.270798  0.047195  0.394731  0.306574   \n",
              "Landsize       0.023893  0.032326  0.025154  0.024407  0.023944  0.036416   \n",
              "BuildingArea   0.118956  0.089096  0.101343  0.054207  0.117113  0.105916   \n",
              "YearBuilt     -0.052651 -0.374390  0.248105  0.036502 -0.041307  0.172185   \n",
              "Lattitude      0.022279 -0.229460 -0.133931 -0.404954  0.021839 -0.065313   \n",
              "Longtitude     0.094221  0.240223  0.248224  0.449575  0.095966  0.113084   \n",
              "Propertycount -0.085708 -0.070084 -0.055079  0.063474 -0.085346 -0.055505   \n",
              "\n",
              "                    Car  Landsize  BuildingArea  YearBuilt  Lattitude  \\\n",
              "Rooms          0.397942  0.023893      0.118956  -0.052651   0.022279   \n",
              "Price          0.232088  0.032326      0.089096  -0.374390  -0.229460   \n",
              "Distance       0.270798  0.025154      0.101343   0.248105  -0.133931   \n",
              "Postcode       0.047195  0.024407      0.054207   0.036502  -0.404954   \n",
              "Bedroom2       0.394731  0.023944      0.117113  -0.041307   0.021839   \n",
              "Bathroom       0.306574  0.036416      0.105916   0.172185  -0.065313   \n",
              "Car            1.000000  0.025420      0.091907   0.118015   0.001700   \n",
              "Landsize       0.025420  1.000000      0.501079   0.040967   0.010019   \n",
              "BuildingArea   0.091907  0.501079      1.000000   0.028860   0.045552   \n",
              "YearBuilt      0.118015  0.040967      0.028860   1.000000   0.058168   \n",
              "Lattitude      0.001700  0.010019      0.045552   0.058168   1.000000   \n",
              "Longtitude     0.059183  0.010390     -0.026230  -0.000855  -0.356040   \n",
              "Propertycount -0.024477 -0.006755     -0.028642   0.007026   0.045939   \n",
              "\n",
              "               Longtitude  Propertycount  \n",
              "Rooms            0.094221      -0.085708  \n",
              "Price            0.240223      -0.070084  \n",
              "Distance         0.248224      -0.055079  \n",
              "Postcode         0.449575       0.063474  \n",
              "Bedroom2         0.095966      -0.085346  \n",
              "Bathroom         0.113084      -0.055505  \n",
              "Car              0.059183      -0.024477  \n",
              "Landsize         0.010390      -0.006755  \n",
              "BuildingArea    -0.026230      -0.028642  \n",
              "YearBuilt       -0.000855       0.007026  \n",
              "Lattitude       -0.356040       0.045939  \n",
              "Longtitude       1.000000       0.063451  \n",
              "Propertycount    0.063451       1.000000  "
            ]
          },
          "metadata": {
            "tags": []
          },
          "execution_count": 196
        }
      ]
    },
    {
      "cell_type": "code",
      "metadata": {
        "id": "gkc7Vk4MjSR3",
        "colab": {
          "base_uri": "https://localhost:8080/",
          "height": 351
        },
        "outputId": "05c06ec3-7d6b-416d-ced9-8d72d8217bd3"
      },
      "source": [
        "#Car column seems to be best correlated with Rooms...\n",
        "\n",
        "sns.boxplot(df['Car'],df['Rooms'])"
      ],
      "execution_count": 197,
      "outputs": [
        {
          "output_type": "stream",
          "text": [
            "/usr/local/lib/python3.6/dist-packages/seaborn/_decorators.py:43: FutureWarning: Pass the following variables as keyword args: x, y. From version 0.12, the only valid positional argument will be `data`, and passing other arguments without an explicit keyword will result in an error or misinterpretation.\n",
            "  FutureWarning\n"
          ],
          "name": "stderr"
        },
        {
          "output_type": "execute_result",
          "data": {
            "text/plain": [
              "<matplotlib.axes._subplots.AxesSubplot at 0x7f2b002139e8>"
            ]
          },
          "metadata": {
            "tags": []
          },
          "execution_count": 197
        },
        {
          "output_type": "display_data",
          "data": {
            "image/png": "[encoded data removed]",
            "text/plain": [
              "<Figure size 432x288 with 1 Axes>"
            ]
          },
          "metadata": {
            "tags": [],
            "needs_background": "light"
          }
        }
      ]
    },
    {
      "cell_type": "code",
      "metadata": {
        "id": "X10pW2XWjd2J"
      },
      "source": [
        "#we can try grouping prices to high low ,etc to find mean and fill"
      ],
      "execution_count": 198,
      "outputs": []
    },
    {
      "cell_type": "code",
      "metadata": {
        "id": "Aftm_rxCmzna",
        "colab": {
          "base_uri": "https://localhost:8080/"
        },
        "outputId": "39ab442f-9536-46a1-c9aa-57d84ec39e21"
      },
      "source": [
        "df.isna().sum()"
      ],
      "execution_count": 199,
      "outputs": [
        {
          "output_type": "execute_result",
          "data": {
            "text/plain": [
              "Rooms               0\n",
              "Type                0\n",
              "Price               0\n",
              "Method              0\n",
              "Date                0\n",
              "Distance            0\n",
              "Postcode            0\n",
              "Bedroom2            0\n",
              "Bathroom            0\n",
              "Car                62\n",
              "Landsize            0\n",
              "BuildingArea     6334\n",
              "YearBuilt        5288\n",
              "Lattitude           0\n",
              "Longtitude          0\n",
              "Regionname          0\n",
              "Propertycount       0\n",
              "dtype: int64"
            ]
          },
          "metadata": {
            "tags": []
          },
          "execution_count": 199
        }
      ]
    },
    {
      "cell_type": "code",
      "metadata": {
        "id": "7n6Ab7IRm74W"
      },
      "source": [
        "#Removing rows with null values in Car column\n",
        "\n",
        "df.drop(df[df['Car'].isna()==True].index,inplace=True)\n",
        "df.reset_index(drop=True,inplace=True)"
      ],
      "execution_count": 200,
      "outputs": []
    },
    {
      "cell_type": "code",
      "metadata": {
        "id": "LIj5DcvlqnOl",
        "colab": {
          "base_uri": "https://localhost:8080/"
        },
        "outputId": "0d4a0af0-4c30-455d-a9af-f6f5a1d41afb"
      },
      "source": [
        "#Lots of missing values in BuildingArea, lets try and fill them\n",
        "df['BuildingArea'].isna().sum()"
      ],
      "execution_count": 201,
      "outputs": [
        {
          "output_type": "execute_result",
          "data": {
            "text/plain": [
              "6301"
            ]
          },
          "metadata": {
            "tags": []
          },
          "execution_count": 201
        }
      ]
    },
    {
      "cell_type": "code",
      "metadata": {
        "id": "qEF9tkPg6nLJ",
        "colab": {
          "base_uri": "https://localhost:8080/",
          "height": 351
        },
        "outputId": "879379c7-1953-4e56-e8db-8359f70bc5c4"
      },
      "source": [
        "#Seems to be a lot of outliers in Building area...\n",
        "\n",
        "\n",
        "sns.scatterplot(df['BuildingArea'],df['Landsize'])"
      ],
      "execution_count": 202,
      "outputs": [
        {
          "output_type": "stream",
          "text": [
            "/usr/local/lib/python3.6/dist-packages/seaborn/_decorators.py:43: FutureWarning: Pass the following variables as keyword args: x, y. From version 0.12, the only valid positional argument will be `data`, and passing other arguments without an explicit keyword will result in an error or misinterpretation.\n",
            "  FutureWarning\n"
          ],
          "name": "stderr"
        },
        {
          "output_type": "execute_result",
          "data": {
            "text/plain": [
              "<matplotlib.axes._subplots.AxesSubplot at 0x7f2b00033518>"
            ]
          },
          "metadata": {
            "tags": []
          },
          "execution_count": 202
        },
        {
          "output_type": "display_data",
          "data": {
            "image/png": "[encoded data removed]",
            "text/plain": [
              "<Figure size 432x288 with 1 Axes>"
            ]
          },
          "metadata": {
            "tags": [],
            "needs_background": "light"
          }
        }
      ]
    },
    {
      "cell_type": "code",
      "metadata": {
        "id": "5E4AiauipIyj"
      },
      "source": [
        "#Dropping outliers...\n",
        "df.drop(df[df['BuildingArea']>1000].index,inplace=True)\n",
        "\n",
        "df.drop(df[df['Landsize']>10000].index,inplace=True)"
      ],
      "execution_count": 203,
      "outputs": []
    },
    {
      "cell_type": "code",
      "metadata": {
        "id": "M2197uwHw29G",
        "colab": {
          "base_uri": "https://localhost:8080/",
          "height": 477
        },
        "outputId": "a6477f18-8eb2-42c8-b95d-28caa6b4b7b0"
      },
      "source": [
        "#removing theoutliers of building area changed corr completely....\n",
        "\n",
        "#Buildingarea shows weak correlation with landsize\n",
        "df.corr()"
      ],
      "execution_count": 204,
      "outputs": [
        {
          "output_type": "execute_result",
          "data": {
            "text/html": [
              "<div>\n",
              "<style scoped>\n",
              "    .dataframe tbody tr th:only-of-type {\n",
              "        vertical-align: middle;\n",
              "    }\n",
              "\n",
              "    .dataframe tbody tr th {\n",
              "        vertical-align: top;\n",
              "    }\n",
              "\n",
              "    .dataframe thead th {\n",
              "        text-align: right;\n",
              "    }\n",
              "</style>\n",
              "<table border=\"1\" class=\"dataframe\">\n",
              "  <thead>\n",
              "    <tr style=\"text-align: right;\">\n",
              "      <th></th>\n",
              "      <th>Rooms</th>\n",
              "      <th>Price</th>\n",
              "      <th>Distance</th>\n",
              "      <th>Postcode</th>\n",
              "      <th>Bedroom2</th>\n",
              "      <th>Bathroom</th>\n",
              "      <th>Car</th>\n",
              "      <th>Landsize</th>\n",
              "      <th>BuildingArea</th>\n",
              "      <th>YearBuilt</th>\n",
              "      <th>Lattitude</th>\n",
              "      <th>Longtitude</th>\n",
              "      <th>Propertycount</th>\n",
              "    </tr>\n",
              "  </thead>\n",
              "  <tbody>\n",
              "    <tr>\n",
              "      <th>Rooms</th>\n",
              "      <td>1.000000</td>\n",
              "      <td>0.533182</td>\n",
              "      <td>0.304640</td>\n",
              "      <td>0.047229</td>\n",
              "      <td>0.941387</td>\n",
              "      <td>0.584935</td>\n",
              "      <td>0.397342</td>\n",
              "      <td>0.182853</td>\n",
              "      <td>0.625332</td>\n",
              "      <td>-0.052737</td>\n",
              "      <td>0.020942</td>\n",
              "      <td>0.094648</td>\n",
              "      <td>-0.084470</td>\n",
              "    </tr>\n",
              "    <tr>\n",
              "      <th>Price</th>\n",
              "      <td>0.533182</td>\n",
              "      <td>1.000000</td>\n",
              "      <td>-0.155758</td>\n",
              "      <td>0.084569</td>\n",
              "      <td>0.509639</td>\n",
              "      <td>0.427454</td>\n",
              "      <td>0.231623</td>\n",
              "      <td>0.114165</td>\n",
              "      <td>0.529710</td>\n",
              "      <td>-0.370881</td>\n",
              "      <td>-0.229621</td>\n",
              "      <td>0.241362</td>\n",
              "      <td>-0.069289</td>\n",
              "    </tr>\n",
              "    <tr>\n",
              "      <th>Distance</th>\n",
              "      <td>0.304640</td>\n",
              "      <td>-0.155758</td>\n",
              "      <td>1.000000</td>\n",
              "      <td>0.430764</td>\n",
              "      <td>0.305392</td>\n",
              "      <td>0.139161</td>\n",
              "      <td>0.269285</td>\n",
              "      <td>0.161310</td>\n",
              "      <td>0.201710</td>\n",
              "      <td>0.245647</td>\n",
              "      <td>-0.142986</td>\n",
              "      <td>0.253232</td>\n",
              "      <td>-0.052840</td>\n",
              "    </tr>\n",
              "    <tr>\n",
              "      <th>Postcode</th>\n",
              "      <td>0.047229</td>\n",
              "      <td>0.084569</td>\n",
              "      <td>0.430764</td>\n",
              "      <td>1.000000</td>\n",
              "      <td>0.052686</td>\n",
              "      <td>0.110066</td>\n",
              "      <td>0.044818</td>\n",
              "      <td>0.042932</td>\n",
              "      <td>0.081475</td>\n",
              "      <td>0.038134</td>\n",
              "      <td>-0.411422</td>\n",
              "      <td>0.453420</td>\n",
              "      <td>0.065833</td>\n",
              "    </tr>\n",
              "    <tr>\n",
              "      <th>Bedroom2</th>\n",
              "      <td>0.941387</td>\n",
              "      <td>0.509639</td>\n",
              "      <td>0.305392</td>\n",
              "      <td>0.052686</td>\n",
              "      <td>1.000000</td>\n",
              "      <td>0.576461</td>\n",
              "      <td>0.393979</td>\n",
              "      <td>0.179463</td>\n",
              "      <td>0.610452</td>\n",
              "      <td>-0.041663</td>\n",
              "      <td>0.020558</td>\n",
              "      <td>0.096472</td>\n",
              "      <td>-0.083950</td>\n",
              "    </tr>\n",
              "    <tr>\n",
              "      <th>Bathroom</th>\n",
              "      <td>0.584935</td>\n",
              "      <td>0.427454</td>\n",
              "      <td>0.139161</td>\n",
              "      <td>0.110066</td>\n",
              "      <td>0.576461</td>\n",
              "      <td>1.000000</td>\n",
              "      <td>0.306443</td>\n",
              "      <td>0.101177</td>\n",
              "      <td>0.561506</td>\n",
              "      <td>0.171254</td>\n",
              "      <td>-0.067088</td>\n",
              "      <td>0.114365</td>\n",
              "      <td>-0.054622</td>\n",
              "    </tr>\n",
              "    <tr>\n",
              "      <th>Car</th>\n",
              "      <td>0.397342</td>\n",
              "      <td>0.231623</td>\n",
              "      <td>0.269285</td>\n",
              "      <td>0.044818</td>\n",
              "      <td>0.393979</td>\n",
              "      <td>0.306443</td>\n",
              "      <td>1.000000</td>\n",
              "      <td>0.178259</td>\n",
              "      <td>0.334548</td>\n",
              "      <td>0.118650</td>\n",
              "      <td>0.000005</td>\n",
              "      <td>0.060344</td>\n",
              "      <td>-0.023735</td>\n",
              "    </tr>\n",
              "    <tr>\n",
              "      <th>Landsize</th>\n",
              "      <td>0.182853</td>\n",
              "      <td>0.114165</td>\n",
              "      <td>0.161310</td>\n",
              "      <td>0.042932</td>\n",
              "      <td>0.179463</td>\n",
              "      <td>0.101177</td>\n",
              "      <td>0.178259</td>\n",
              "      <td>1.000000</td>\n",
              "      <td>0.158044</td>\n",
              "      <td>0.027259</td>\n",
              "      <td>0.004259</td>\n",
              "      <td>0.078639</td>\n",
              "      <td>-0.017911</td>\n",
              "    </tr>\n",
              "    <tr>\n",
              "      <th>BuildingArea</th>\n",
              "      <td>0.625332</td>\n",
              "      <td>0.529710</td>\n",
              "      <td>0.201710</td>\n",
              "      <td>0.081475</td>\n",
              "      <td>0.610452</td>\n",
              "      <td>0.561506</td>\n",
              "      <td>0.334548</td>\n",
              "      <td>0.158044</td>\n",
              "      <td>1.000000</td>\n",
              "      <td>0.044080</td>\n",
              "      <td>-0.042331</td>\n",
              "      <td>0.108852</td>\n",
              "      <td>-0.069457</td>\n",
              "    </tr>\n",
              "    <tr>\n",
              "      <th>YearBuilt</th>\n",
              "      <td>-0.052737</td>\n",
              "      <td>-0.370881</td>\n",
              "      <td>0.245647</td>\n",
              "      <td>0.038134</td>\n",
              "      <td>-0.041663</td>\n",
              "      <td>0.171254</td>\n",
              "      <td>0.118650</td>\n",
              "      <td>0.027259</td>\n",
              "      <td>0.044080</td>\n",
              "      <td>1.000000</td>\n",
              "      <td>0.057238</td>\n",
              "      <td>-0.001036</td>\n",
              "      <td>0.005611</td>\n",
              "    </tr>\n",
              "    <tr>\n",
              "      <th>Lattitude</th>\n",
              "      <td>0.020942</td>\n",
              "      <td>-0.229621</td>\n",
              "      <td>-0.142986</td>\n",
              "      <td>-0.411422</td>\n",
              "      <td>0.020558</td>\n",
              "      <td>-0.067088</td>\n",
              "      <td>0.000005</td>\n",
              "      <td>0.004259</td>\n",
              "      <td>-0.042331</td>\n",
              "      <td>0.057238</td>\n",
              "      <td>1.000000</td>\n",
              "      <td>-0.354180</td>\n",
              "      <td>0.047350</td>\n",
              "    </tr>\n",
              "    <tr>\n",
              "      <th>Longtitude</th>\n",
              "      <td>0.094648</td>\n",
              "      <td>0.241362</td>\n",
              "      <td>0.253232</td>\n",
              "      <td>0.453420</td>\n",
              "      <td>0.096472</td>\n",
              "      <td>0.114365</td>\n",
              "      <td>0.060344</td>\n",
              "      <td>0.078639</td>\n",
              "      <td>0.108852</td>\n",
              "      <td>-0.001036</td>\n",
              "      <td>-0.354180</td>\n",
              "      <td>1.000000</td>\n",
              "      <td>0.063973</td>\n",
              "    </tr>\n",
              "    <tr>\n",
              "      <th>Propertycount</th>\n",
              "      <td>-0.084470</td>\n",
              "      <td>-0.069289</td>\n",
              "      <td>-0.052840</td>\n",
              "      <td>0.065833</td>\n",
              "      <td>-0.083950</td>\n",
              "      <td>-0.054622</td>\n",
              "      <td>-0.023735</td>\n",
              "      <td>-0.017911</td>\n",
              "      <td>-0.069457</td>\n",
              "      <td>0.005611</td>\n",
              "      <td>0.047350</td>\n",
              "      <td>0.063973</td>\n",
              "      <td>1.000000</td>\n",
              "    </tr>\n",
              "  </tbody>\n",
              "</table>\n",
              "</div>"
            ],
            "text/plain": [
              "                  Rooms     Price  Distance  Postcode  Bedroom2  Bathroom  \\\n",
              "Rooms          1.000000  0.533182  0.304640  0.047229  0.941387  0.584935   \n",
              "Price          0.533182  1.000000 -0.155758  0.084569  0.509639  0.427454   \n",
              "Distance       0.304640 -0.155758  1.000000  0.430764  0.305392  0.139161   \n",
              "Postcode       0.047229  0.084569  0.430764  1.000000  0.052686  0.110066   \n",
              "Bedroom2       0.941387  0.509639  0.305392  0.052686  1.000000  0.576461   \n",
              "Bathroom       0.584935  0.427454  0.139161  0.110066  0.576461  1.000000   \n",
              "Car            0.397342  0.231623  0.269285  0.044818  0.393979  0.306443   \n",
              "Landsize       0.182853  0.114165  0.161310  0.042932  0.179463  0.101177   \n",
              "BuildingArea   0.625332  0.529710  0.201710  0.081475  0.610452  0.561506   \n",
              "YearBuilt     -0.052737 -0.370881  0.245647  0.038134 -0.041663  0.171254   \n",
              "Lattitude      0.020942 -0.229621 -0.142986 -0.411422  0.020558 -0.067088   \n",
              "Longtitude     0.094648  0.241362  0.253232  0.453420  0.096472  0.114365   \n",
              "Propertycount -0.084470 -0.069289 -0.052840  0.065833 -0.083950 -0.054622   \n",
              "\n",
              "                    Car  Landsize  BuildingArea  YearBuilt  Lattitude  \\\n",
              "Rooms          0.397342  0.182853      0.625332  -0.052737   0.020942   \n",
              "Price          0.231623  0.114165      0.529710  -0.370881  -0.229621   \n",
              "Distance       0.269285  0.161310      0.201710   0.245647  -0.142986   \n",
              "Postcode       0.044818  0.042932      0.081475   0.038134  -0.411422   \n",
              "Bedroom2       0.393979  0.179463      0.610452  -0.041663   0.020558   \n",
              "Bathroom       0.306443  0.101177      0.561506   0.171254  -0.067088   \n",
              "Car            1.000000  0.178259      0.334548   0.118650   0.000005   \n",
              "Landsize       0.178259  1.000000      0.158044   0.027259   0.004259   \n",
              "BuildingArea   0.334548  0.158044      1.000000   0.044080  -0.042331   \n",
              "YearBuilt      0.118650  0.027259      0.044080   1.000000   0.057238   \n",
              "Lattitude      0.000005  0.004259     -0.042331   0.057238   1.000000   \n",
              "Longtitude     0.060344  0.078639      0.108852  -0.001036  -0.354180   \n",
              "Propertycount -0.023735 -0.017911     -0.069457   0.005611   0.047350   \n",
              "\n",
              "               Longtitude  Propertycount  \n",
              "Rooms            0.094648      -0.084470  \n",
              "Price            0.241362      -0.069289  \n",
              "Distance         0.253232      -0.052840  \n",
              "Postcode         0.453420       0.065833  \n",
              "Bedroom2         0.096472      -0.083950  \n",
              "Bathroom         0.114365      -0.054622  \n",
              "Car              0.060344      -0.023735  \n",
              "Landsize         0.078639      -0.017911  \n",
              "BuildingArea     0.108852      -0.069457  \n",
              "YearBuilt       -0.001036       0.005611  \n",
              "Lattitude       -0.354180       0.047350  \n",
              "Longtitude       1.000000       0.063973  \n",
              "Propertycount    0.063973       1.000000  "
            ]
          },
          "metadata": {
            "tags": []
          },
          "execution_count": 204
        }
      ]
    },
    {
      "cell_type": "code",
      "metadata": {
        "id": "ZGwoSVtMptmi",
        "colab": {
          "base_uri": "https://localhost:8080/",
          "height": 351
        },
        "outputId": "b3d7e3a8-f8bf-4379-bdd6-037d8edfd2f4"
      },
      "source": [
        "sns.distplot(df['BuildingArea'])"
      ],
      "execution_count": 205,
      "outputs": [
        {
          "output_type": "stream",
          "text": [
            "/usr/local/lib/python3.6/dist-packages/seaborn/distributions.py:2551: FutureWarning: `distplot` is a deprecated function and will be removed in a future version. Please adapt your code to use either `displot` (a figure-level function with similar flexibility) or `histplot` (an axes-level function for histograms).\n",
            "  warnings.warn(msg, FutureWarning)\n"
          ],
          "name": "stderr"
        },
        {
          "output_type": "execute_result",
          "data": {
            "text/plain": [
              "<matplotlib.axes._subplots.AxesSubplot at 0x7f2afff9d1d0>"
            ]
          },
          "metadata": {
            "tags": []
          },
          "execution_count": 205
        },
        {
          "output_type": "display_data",
          "data": {
            "image/png": "[encoded data removed]",
            "text/plain": [
              "<Figure size 432x288 with 1 Axes>"
            ]
          },
          "metadata": {
            "tags": [],
            "needs_background": "light"
          }
        }
      ]
    },
    {
      "cell_type": "code",
      "metadata": {
        "id": "2-ZpHDfsqrwF",
        "colab": {
          "base_uri": "https://localhost:8080/",
          "height": 351
        },
        "outputId": "b69b0712-ec86-47de-cead-aabc4dd062b6"
      },
      "source": [
        "#Looking at relation between Building Area and Price...\n",
        "\n",
        "sns.scatterplot(df['BuildingArea'],df['Price'])"
      ],
      "execution_count": 206,
      "outputs": [
        {
          "output_type": "stream",
          "text": [
            "/usr/local/lib/python3.6/dist-packages/seaborn/_decorators.py:43: FutureWarning: Pass the following variables as keyword args: x, y. From version 0.12, the only valid positional argument will be `data`, and passing other arguments without an explicit keyword will result in an error or misinterpretation.\n",
            "  FutureWarning\n"
          ],
          "name": "stderr"
        },
        {
          "output_type": "execute_result",
          "data": {
            "text/plain": [
              "<matplotlib.axes._subplots.AxesSubplot at 0x7f2afff71a90>"
            ]
          },
          "metadata": {
            "tags": []
          },
          "execution_count": 206
        },
        {
          "output_type": "display_data",
          "data": {
            "image/png": "[encoded data removed]",
            "text/plain": [
              "<Figure size 432x288 with 1 Axes>"
            ]
          },
          "metadata": {
            "tags": [],
            "needs_background": "light"
          }
        }
      ]
    },
    {
      "cell_type": "code",
      "metadata": {
        "id": "JBzIxtfKrimx",
        "colab": {
          "base_uri": "https://localhost:8080/",
          "height": 320
        },
        "outputId": "4803909e-d372-419c-92d3-e881e2810f8a"
      },
      "source": [
        "#Checking whether there is any particular reason for the missingness of data...\n",
        "df[df['BuildingArea'].isna()==True].describe()"
      ],
      "execution_count": 207,
      "outputs": [
        {
          "output_type": "execute_result",
          "data": {
            "text/html": [
              "<div>\n",
              "<style scoped>\n",
              "    .dataframe tbody tr th:only-of-type {\n",
              "        vertical-align: middle;\n",
              "    }\n",
              "\n",
              "    .dataframe tbody tr th {\n",
              "        vertical-align: top;\n",
              "    }\n",
              "\n",
              "    .dataframe thead th {\n",
              "        text-align: right;\n",
              "    }\n",
              "</style>\n",
              "<table border=\"1\" class=\"dataframe\">\n",
              "  <thead>\n",
              "    <tr style=\"text-align: right;\">\n",
              "      <th></th>\n",
              "      <th>Rooms</th>\n",
              "      <th>Price</th>\n",
              "      <th>Distance</th>\n",
              "      <th>Postcode</th>\n",
              "      <th>Bedroom2</th>\n",
              "      <th>Bathroom</th>\n",
              "      <th>Car</th>\n",
              "      <th>Landsize</th>\n",
              "      <th>BuildingArea</th>\n",
              "      <th>YearBuilt</th>\n",
              "      <th>Lattitude</th>\n",
              "      <th>Longtitude</th>\n",
              "      <th>Propertycount</th>\n",
              "    </tr>\n",
              "  </thead>\n",
              "  <tbody>\n",
              "    <tr>\n",
              "      <th>count</th>\n",
              "      <td>6285.000000</td>\n",
              "      <td>6285.000000</td>\n",
              "      <td>6285.000000</td>\n",
              "      <td>6285.000000</td>\n",
              "      <td>6285.000000</td>\n",
              "      <td>6285.000000</td>\n",
              "      <td>6285.000000</td>\n",
              "      <td>6285.000000</td>\n",
              "      <td>0.0</td>\n",
              "      <td>1299.000000</td>\n",
              "      <td>6285.000000</td>\n",
              "      <td>6285.000000</td>\n",
              "      <td>6285.000000</td>\n",
              "    </tr>\n",
              "    <tr>\n",
              "      <th>mean</th>\n",
              "      <td>2.906921</td>\n",
              "      <td>13.755684</td>\n",
              "      <td>10.175640</td>\n",
              "      <td>3105.885601</td>\n",
              "      <td>2.887351</td>\n",
              "      <td>1.456961</td>\n",
              "      <td>1.610819</td>\n",
              "      <td>498.325378</td>\n",
              "      <td>NaN</td>\n",
              "      <td>1967.164742</td>\n",
              "      <td>-37.810387</td>\n",
              "      <td>144.999674</td>\n",
              "      <td>7488.725855</td>\n",
              "    </tr>\n",
              "    <tr>\n",
              "      <th>std</th>\n",
              "      <td>0.920326</td>\n",
              "      <td>0.479528</td>\n",
              "      <td>5.637676</td>\n",
              "      <td>88.761717</td>\n",
              "      <td>0.944703</td>\n",
              "      <td>0.638716</td>\n",
              "      <td>0.979099</td>\n",
              "      <td>539.521371</td>\n",
              "      <td>NaN</td>\n",
              "      <td>33.985413</td>\n",
              "      <td>0.078602</td>\n",
              "      <td>0.102088</td>\n",
              "      <td>4416.525100</td>\n",
              "    </tr>\n",
              "    <tr>\n",
              "      <th>min</th>\n",
              "      <td>1.000000</td>\n",
              "      <td>12.619837</td>\n",
              "      <td>0.000000</td>\n",
              "      <td>3000.000000</td>\n",
              "      <td>0.000000</td>\n",
              "      <td>0.000000</td>\n",
              "      <td>0.000000</td>\n",
              "      <td>0.000000</td>\n",
              "      <td>NaN</td>\n",
              "      <td>1850.000000</td>\n",
              "      <td>-38.182550</td>\n",
              "      <td>144.485710</td>\n",
              "      <td>249.000000</td>\n",
              "    </tr>\n",
              "    <tr>\n",
              "      <th>25%</th>\n",
              "      <td>2.000000</td>\n",
              "      <td>13.415033</td>\n",
              "      <td>6.300000</td>\n",
              "      <td>3046.000000</td>\n",
              "      <td>2.000000</td>\n",
              "      <td>1.000000</td>\n",
              "      <td>1.000000</td>\n",
              "      <td>195.000000</td>\n",
              "      <td>NaN</td>\n",
              "      <td>1950.000000</td>\n",
              "      <td>-37.857100</td>\n",
              "      <td>144.935000</td>\n",
              "      <td>4380.000000</td>\n",
              "    </tr>\n",
              "    <tr>\n",
              "      <th>50%</th>\n",
              "      <td>3.000000</td>\n",
              "      <td>13.732129</td>\n",
              "      <td>9.500000</td>\n",
              "      <td>3087.000000</td>\n",
              "      <td>3.000000</td>\n",
              "      <td>1.000000</td>\n",
              "      <td>2.000000</td>\n",
              "      <td>480.000000</td>\n",
              "      <td>NaN</td>\n",
              "      <td>1970.000000</td>\n",
              "      <td>-37.801800</td>\n",
              "      <td>145.004300</td>\n",
              "      <td>6567.000000</td>\n",
              "    </tr>\n",
              "    <tr>\n",
              "      <th>75%</th>\n",
              "      <td>3.000000</td>\n",
              "      <td>14.093142</td>\n",
              "      <td>13.000000</td>\n",
              "      <td>3148.000000</td>\n",
              "      <td>3.000000</td>\n",
              "      <td>2.000000</td>\n",
              "      <td>2.000000</td>\n",
              "      <td>662.000000</td>\n",
              "      <td>NaN</td>\n",
              "      <td>1997.000000</td>\n",
              "      <td>-37.754800</td>\n",
              "      <td>145.061500</td>\n",
              "      <td>10331.000000</td>\n",
              "    </tr>\n",
              "    <tr>\n",
              "      <th>max</th>\n",
              "      <td>10.000000</td>\n",
              "      <td>15.024471</td>\n",
              "      <td>47.300000</td>\n",
              "      <td>3977.000000</td>\n",
              "      <td>20.000000</td>\n",
              "      <td>8.000000</td>\n",
              "      <td>10.000000</td>\n",
              "      <td>8680.000000</td>\n",
              "      <td>NaN</td>\n",
              "      <td>2017.000000</td>\n",
              "      <td>-37.500870</td>\n",
              "      <td>145.453760</td>\n",
              "      <td>21650.000000</td>\n",
              "    </tr>\n",
              "  </tbody>\n",
              "</table>\n",
              "</div>"
            ],
            "text/plain": [
              "             Rooms        Price     Distance     Postcode     Bedroom2  \\\n",
              "count  6285.000000  6285.000000  6285.000000  6285.000000  6285.000000   \n",
              "mean      2.906921    13.755684    10.175640  3105.885601     2.887351   \n",
              "std       0.920326     0.479528     5.637676    88.761717     0.944703   \n",
              "min       1.000000    12.619837     0.000000  3000.000000     0.000000   \n",
              "25%       2.000000    13.415033     6.300000  3046.000000     2.000000   \n",
              "50%       3.000000    13.732129     9.500000  3087.000000     3.000000   \n",
              "75%       3.000000    14.093142    13.000000  3148.000000     3.000000   \n",
              "max      10.000000    15.024471    47.300000  3977.000000    20.000000   \n",
              "\n",
              "          Bathroom          Car     Landsize  BuildingArea    YearBuilt  \\\n",
              "count  6285.000000  6285.000000  6285.000000           0.0  1299.000000   \n",
              "mean      1.456961     1.610819   498.325378           NaN  1967.164742   \n",
              "std       0.638716     0.979099   539.521371           NaN    33.985413   \n",
              "min       0.000000     0.000000     0.000000           NaN  1850.000000   \n",
              "25%       1.000000     1.000000   195.000000           NaN  1950.000000   \n",
              "50%       1.000000     2.000000   480.000000           NaN  1970.000000   \n",
              "75%       2.000000     2.000000   662.000000           NaN  1997.000000   \n",
              "max       8.000000    10.000000  8680.000000           NaN  2017.000000   \n",
              "\n",
              "         Lattitude   Longtitude  Propertycount  \n",
              "count  6285.000000  6285.000000    6285.000000  \n",
              "mean    -37.810387   144.999674    7488.725855  \n",
              "std       0.078602     0.102088    4416.525100  \n",
              "min     -38.182550   144.485710     249.000000  \n",
              "25%     -37.857100   144.935000    4380.000000  \n",
              "50%     -37.801800   145.004300    6567.000000  \n",
              "75%     -37.754800   145.061500   10331.000000  \n",
              "max     -37.500870   145.453760   21650.000000  "
            ]
          },
          "metadata": {
            "tags": []
          },
          "execution_count": 207
        }
      ]
    },
    {
      "cell_type": "code",
      "metadata": {
        "colab": {
          "base_uri": "https://localhost:8080/",
          "height": 320
        },
        "id": "5CeBBaXEyaQq",
        "outputId": "5dc17f6b-b457-4e52-f7f5-85f8cea89d51"
      },
      "source": [
        "df[df['BuildingArea'].isna()==False].describe()"
      ],
      "execution_count": 208,
      "outputs": [
        {
          "output_type": "execute_result",
          "data": {
            "text/html": [
              "<div>\n",
              "<style scoped>\n",
              "    .dataframe tbody tr th:only-of-type {\n",
              "        vertical-align: middle;\n",
              "    }\n",
              "\n",
              "    .dataframe tbody tr th {\n",
              "        vertical-align: top;\n",
              "    }\n",
              "\n",
              "    .dataframe thead th {\n",
              "        text-align: right;\n",
              "    }\n",
              "</style>\n",
              "<table border=\"1\" class=\"dataframe\">\n",
              "  <thead>\n",
              "    <tr style=\"text-align: right;\">\n",
              "      <th></th>\n",
              "      <th>Rooms</th>\n",
              "      <th>Price</th>\n",
              "      <th>Distance</th>\n",
              "      <th>Postcode</th>\n",
              "      <th>Bedroom2</th>\n",
              "      <th>Bathroom</th>\n",
              "      <th>Car</th>\n",
              "      <th>Landsize</th>\n",
              "      <th>BuildingArea</th>\n",
              "      <th>YearBuilt</th>\n",
              "      <th>Lattitude</th>\n",
              "      <th>Longtitude</th>\n",
              "      <th>Propertycount</th>\n",
              "    </tr>\n",
              "  </thead>\n",
              "  <tbody>\n",
              "    <tr>\n",
              "      <th>count</th>\n",
              "      <td>6915.000000</td>\n",
              "      <td>6915.000000</td>\n",
              "      <td>6915.000000</td>\n",
              "      <td>6915.000000</td>\n",
              "      <td>6915.000000</td>\n",
              "      <td>6915.000000</td>\n",
              "      <td>6915.000000</td>\n",
              "      <td>6915.000000</td>\n",
              "      <td>6915.000000</td>\n",
              "      <td>6657.000000</td>\n",
              "      <td>6915.000000</td>\n",
              "      <td>6915.000000</td>\n",
              "      <td>6915.000000</td>\n",
              "    </tr>\n",
              "    <tr>\n",
              "      <th>mean</th>\n",
              "      <td>2.982213</td>\n",
              "      <td>13.733136</td>\n",
              "      <td>10.216327</td>\n",
              "      <td>3104.102820</td>\n",
              "      <td>2.955604</td>\n",
              "      <td>1.591179</td>\n",
              "      <td>1.605640</td>\n",
              "      <td>456.606363</td>\n",
              "      <td>142.422294</td>\n",
              "      <td>1964.521256</td>\n",
              "      <td>-37.807752</td>\n",
              "      <td>144.991826</td>\n",
              "      <td>7423.186262</td>\n",
              "    </tr>\n",
              "    <tr>\n",
              "      <th>std</th>\n",
              "      <td>0.947174</td>\n",
              "      <td>0.502632</td>\n",
              "      <td>6.023769</td>\n",
              "      <td>92.426058</td>\n",
              "      <td>0.949809</td>\n",
              "      <td>0.700971</td>\n",
              "      <td>0.933234</td>\n",
              "      <td>553.647287</td>\n",
              "      <td>80.405312</td>\n",
              "      <td>37.689396</td>\n",
              "      <td>0.080577</td>\n",
              "      <td>0.105650</td>\n",
              "      <td>4350.639784</td>\n",
              "    </tr>\n",
              "    <tr>\n",
              "      <th>min</th>\n",
              "      <td>1.000000</td>\n",
              "      <td>12.614866</td>\n",
              "      <td>0.000000</td>\n",
              "      <td>3000.000000</td>\n",
              "      <td>0.000000</td>\n",
              "      <td>1.000000</td>\n",
              "      <td>0.000000</td>\n",
              "      <td>0.000000</td>\n",
              "      <td>0.000000</td>\n",
              "      <td>1196.000000</td>\n",
              "      <td>-38.164920</td>\n",
              "      <td>144.542370</td>\n",
              "      <td>389.000000</td>\n",
              "    </tr>\n",
              "    <tr>\n",
              "      <th>25%</th>\n",
              "      <td>2.000000</td>\n",
              "      <td>13.361380</td>\n",
              "      <td>6.200000</td>\n",
              "      <td>3044.000000</td>\n",
              "      <td>2.000000</td>\n",
              "      <td>1.000000</td>\n",
              "      <td>1.000000</td>\n",
              "      <td>166.000000</td>\n",
              "      <td>94.000000</td>\n",
              "      <td>1940.000000</td>\n",
              "      <td>-37.856740</td>\n",
              "      <td>144.925185</td>\n",
              "      <td>4380.000000</td>\n",
              "    </tr>\n",
              "    <tr>\n",
              "      <th>50%</th>\n",
              "      <td>3.000000</td>\n",
              "      <td>13.698977</td>\n",
              "      <td>9.200000</td>\n",
              "      <td>3082.000000</td>\n",
              "      <td>3.000000</td>\n",
              "      <td>1.000000</td>\n",
              "      <td>2.000000</td>\n",
              "      <td>400.000000</td>\n",
              "      <td>126.000000</td>\n",
              "      <td>1970.000000</td>\n",
              "      <td>-37.801700</td>\n",
              "      <td>144.996700</td>\n",
              "      <td>6543.000000</td>\n",
              "    </tr>\n",
              "    <tr>\n",
              "      <th>75%</th>\n",
              "      <td>4.000000</td>\n",
              "      <td>14.092194</td>\n",
              "      <td>13.000000</td>\n",
              "      <td>3148.000000</td>\n",
              "      <td>4.000000</td>\n",
              "      <td>2.000000</td>\n",
              "      <td>2.000000</td>\n",
              "      <td>632.500000</td>\n",
              "      <td>172.000000</td>\n",
              "      <td>2000.000000</td>\n",
              "      <td>-37.755860</td>\n",
              "      <td>145.056800</td>\n",
              "      <td>10175.000000</td>\n",
              "    </tr>\n",
              "    <tr>\n",
              "      <th>max</th>\n",
              "      <td>8.000000</td>\n",
              "      <td>15.019983</td>\n",
              "      <td>47.400000</td>\n",
              "      <td>3977.000000</td>\n",
              "      <td>9.000000</td>\n",
              "      <td>8.000000</td>\n",
              "      <td>10.000000</td>\n",
              "      <td>9838.000000</td>\n",
              "      <td>934.000000</td>\n",
              "      <td>2018.000000</td>\n",
              "      <td>-37.408530</td>\n",
              "      <td>145.526350</td>\n",
              "      <td>21650.000000</td>\n",
              "    </tr>\n",
              "  </tbody>\n",
              "</table>\n",
              "</div>"
            ],
            "text/plain": [
              "             Rooms        Price     Distance     Postcode     Bedroom2  \\\n",
              "count  6915.000000  6915.000000  6915.000000  6915.000000  6915.000000   \n",
              "mean      2.982213    13.733136    10.216327  3104.102820     2.955604   \n",
              "std       0.947174     0.502632     6.023769    92.426058     0.949809   \n",
              "min       1.000000    12.614866     0.000000  3000.000000     0.000000   \n",
              "25%       2.000000    13.361380     6.200000  3044.000000     2.000000   \n",
              "50%       3.000000    13.698977     9.200000  3082.000000     3.000000   \n",
              "75%       4.000000    14.092194    13.000000  3148.000000     4.000000   \n",
              "max       8.000000    15.019983    47.400000  3977.000000     9.000000   \n",
              "\n",
              "          Bathroom          Car     Landsize  BuildingArea    YearBuilt  \\\n",
              "count  6915.000000  6915.000000  6915.000000   6915.000000  6657.000000   \n",
              "mean      1.591179     1.605640   456.606363    142.422294  1964.521256   \n",
              "std       0.700971     0.933234   553.647287     80.405312    37.689396   \n",
              "min       1.000000     0.000000     0.000000      0.000000  1196.000000   \n",
              "25%       1.000000     1.000000   166.000000     94.000000  1940.000000   \n",
              "50%       1.000000     2.000000   400.000000    126.000000  1970.000000   \n",
              "75%       2.000000     2.000000   632.500000    172.000000  2000.000000   \n",
              "max       8.000000    10.000000  9838.000000    934.000000  2018.000000   \n",
              "\n",
              "         Lattitude   Longtitude  Propertycount  \n",
              "count  6915.000000  6915.000000    6915.000000  \n",
              "mean    -37.807752   144.991826    7423.186262  \n",
              "std       0.080577     0.105650    4350.639784  \n",
              "min     -38.164920   144.542370     389.000000  \n",
              "25%     -37.856740   144.925185    4380.000000  \n",
              "50%     -37.801700   144.996700    6543.000000  \n",
              "75%     -37.755860   145.056800   10175.000000  \n",
              "max     -37.408530   145.526350   21650.000000  "
            ]
          },
          "metadata": {
            "tags": []
          },
          "execution_count": 208
        }
      ]
    },
    {
      "cell_type": "code",
      "metadata": {
        "id": "fnvZP9u5xXwn",
        "colab": {
          "base_uri": "https://localhost:8080/",
          "height": 351
        },
        "outputId": "96cc8547-9061-4784-9246-1b25753899ee"
      },
      "source": [
        "sns.violinplot(df['Rooms'],df['BuildingArea'])\n",
        "#So, as number of rooms increases building area increases....\n",
        "\n",
        "#Seems to have a good relation with number of rooms"
      ],
      "execution_count": 209,
      "outputs": [
        {
          "output_type": "stream",
          "text": [
            "/usr/local/lib/python3.6/dist-packages/seaborn/_decorators.py:43: FutureWarning: Pass the following variables as keyword args: x, y. From version 0.12, the only valid positional argument will be `data`, and passing other arguments without an explicit keyword will result in an error or misinterpretation.\n",
            "  FutureWarning\n"
          ],
          "name": "stderr"
        },
        {
          "output_type": "execute_result",
          "data": {
            "text/plain": [
              "<matplotlib.axes._subplots.AxesSubplot at 0x7f2af5551940>"
            ]
          },
          "metadata": {
            "tags": []
          },
          "execution_count": 209
        },
        {
          "output_type": "display_data",
          "data": {
            "image/png": "[encoded data removed]",
            "text/plain": [
              "<Figure size 432x288 with 1 Axes>"
            ]
          },
          "metadata": {
            "tags": [],
            "needs_background": "light"
          }
        }
      ]
    },
    {
      "cell_type": "code",
      "metadata": {
        "id": "6ghEV2-qx3WC"
      },
      "source": [
        "#Using Rooms to fill missing data in Building Area\n",
        "mean_rooms = df.groupby(by='Rooms')['BuildingArea'].mean()\n",
        "\n",
        "df['BuildingArea'] = df.apply(lambda x:mean_rooms[x['Rooms']] if np.isnan(x['BuildingArea']) else x['BuildingArea'],axis=1)\n",
        "\n",
        "df.drop(df[df['BuildingArea'].isna()].index,inplace=True)"
      ],
      "execution_count": 210,
      "outputs": []
    },
    {
      "cell_type": "code",
      "metadata": {
        "id": "NGHJs9eV54ei",
        "colab": {
          "base_uri": "https://localhost:8080/"
        },
        "outputId": "887b402c-9177-40d7-d307-8c8743ed9d2e"
      },
      "source": [
        "df.isna().sum()"
      ],
      "execution_count": 211,
      "outputs": [
        {
          "output_type": "execute_result",
          "data": {
            "text/plain": [
              "Rooms               0\n",
              "Type                0\n",
              "Price               0\n",
              "Method              0\n",
              "Date                0\n",
              "Distance            0\n",
              "Postcode            0\n",
              "Bedroom2            0\n",
              "Bathroom            0\n",
              "Car                 0\n",
              "Landsize            0\n",
              "BuildingArea        0\n",
              "YearBuilt        5244\n",
              "Lattitude           0\n",
              "Longtitude          0\n",
              "Regionname          0\n",
              "Propertycount       0\n",
              "dtype: int64"
            ]
          },
          "metadata": {
            "tags": []
          },
          "execution_count": 211
        }
      ]
    },
    {
      "cell_type": "code",
      "metadata": {
        "colab": {
          "base_uri": "https://localhost:8080/",
          "height": 351
        },
        "id": "f6VuxPE7y2gX",
        "outputId": "c7573443-bc68-471f-e394-524e5a932512"
      },
      "source": [
        "#Looking at Year Built\n",
        "sns.distplot(df['YearBuilt'])"
      ],
      "execution_count": 212,
      "outputs": [
        {
          "output_type": "stream",
          "text": [
            "/usr/local/lib/python3.6/dist-packages/seaborn/distributions.py:2551: FutureWarning: `distplot` is a deprecated function and will be removed in a future version. Please adapt your code to use either `displot` (a figure-level function with similar flexibility) or `histplot` (an axes-level function for histograms).\n",
            "  warnings.warn(msg, FutureWarning)\n"
          ],
          "name": "stderr"
        },
        {
          "output_type": "execute_result",
          "data": {
            "text/plain": [
              "<matplotlib.axes._subplots.AxesSubplot at 0x7f2af54dfbe0>"
            ]
          },
          "metadata": {
            "tags": []
          },
          "execution_count": 212
        },
        {
          "output_type": "display_data",
          "data": {
            "image/png": "[encoded data removed]",
            "text/plain": [
              "<Figure size 432x288 with 1 Axes>"
            ]
          },
          "metadata": {
            "tags": [],
            "needs_background": "light"
          }
        }
      ]
    },
    {
      "cell_type": "code",
      "metadata": {
        "id": "Rq6M8jLx4fvL"
      },
      "source": [
        "df.drop(df[df['YearBuilt']<1850].index,inplace=True)"
      ],
      "execution_count": 213,
      "outputs": []
    },
    {
      "cell_type": "code",
      "metadata": {
        "id": "8t_1Bbzd6XY3",
        "colab": {
          "base_uri": "https://localhost:8080/",
          "height": 351
        },
        "outputId": "306d93d2-d147-4448-befc-e82c121f4aa0"
      },
      "source": [
        "sns.distplot(df['YearBuilt'])"
      ],
      "execution_count": 214,
      "outputs": [
        {
          "output_type": "stream",
          "text": [
            "/usr/local/lib/python3.6/dist-packages/seaborn/distributions.py:2551: FutureWarning: `distplot` is a deprecated function and will be removed in a future version. Please adapt your code to use either `displot` (a figure-level function with similar flexibility) or `histplot` (an axes-level function for histograms).\n",
            "  warnings.warn(msg, FutureWarning)\n"
          ],
          "name": "stderr"
        },
        {
          "output_type": "execute_result",
          "data": {
            "text/plain": [
              "<matplotlib.axes._subplots.AxesSubplot at 0x7f2af4f83780>"
            ]
          },
          "metadata": {
            "tags": []
          },
          "execution_count": 214
        },
        {
          "output_type": "display_data",
          "data": {
            "image/png": "[encoded data removed]",
            "text/plain": [
              "<Figure size 432x288 with 1 Axes>"
            ]
          },
          "metadata": {
            "tags": [],
            "needs_background": "light"
          }
        }
      ]
    },
    {
      "cell_type": "code",
      "metadata": {
        "id": "ocsd5SDh411m",
        "colab": {
          "base_uri": "https://localhost:8080/"
        },
        "outputId": "5f3dd53e-75c3-4f59-dfdf-6df7232c9dc1"
      },
      "source": [
        "df.corr()['YearBuilt']"
      ],
      "execution_count": 215,
      "outputs": [
        {
          "output_type": "execute_result",
          "data": {
            "text/plain": [
              "Rooms           -0.055828\n",
              "Price           -0.380280\n",
              "Distance         0.253979\n",
              "Postcode         0.040378\n",
              "Bedroom2        -0.044318\n",
              "Bathroom         0.173403\n",
              "Car              0.128791\n",
              "Landsize         0.031835\n",
              "BuildingArea     0.023094\n",
              "YearBuilt        1.000000\n",
              "Lattitude        0.056778\n",
              "Longtitude       0.002120\n",
              "Propertycount    0.009011\n",
              "Name: YearBuilt, dtype: float64"
            ]
          },
          "metadata": {
            "tags": []
          },
          "execution_count": 215
        }
      ]
    },
    {
      "cell_type": "markdown",
      "metadata": {
        "id": "lCP1WEURiRaj"
      },
      "source": [
        "So, distplot were pretty meaningless and there seems to be no real correlation from corr, now look at missingness of data ...\n",
        "\n",
        "http://www.stat.columbia.edu/~gelman/arm/missing.pdf\n",
        "\n",
        "Important link about the missingness of data and how to clean missing data...."
      ]
    },
    {
      "cell_type": "code",
      "metadata": {
        "id": "UrL8vKOagsu-",
        "colab": {
          "base_uri": "https://localhost:8080/",
          "height": 351
        },
        "outputId": "836f232a-0d57-494b-cee5-555e2d885229"
      },
      "source": [
        "sns.violinplot(df['Type'],df['YearBuilt'])"
      ],
      "execution_count": 216,
      "outputs": [
        {
          "output_type": "stream",
          "text": [
            "/usr/local/lib/python3.6/dist-packages/seaborn/_decorators.py:43: FutureWarning: Pass the following variables as keyword args: x, y. From version 0.12, the only valid positional argument will be `data`, and passing other arguments without an explicit keyword will result in an error or misinterpretation.\n",
            "  FutureWarning\n"
          ],
          "name": "stderr"
        },
        {
          "output_type": "execute_result",
          "data": {
            "text/plain": [
              "<matplotlib.axes._subplots.AxesSubplot at 0x7f2af53bc3c8>"
            ]
          },
          "metadata": {
            "tags": []
          },
          "execution_count": 216
        },
        {
          "output_type": "display_data",
          "data": {
            "image/png": "[encoded data removed]",
            "text/plain": [
              "<Figure size 432x288 with 1 Axes>"
            ]
          },
          "metadata": {
            "tags": [],
            "needs_background": "light"
          }
        }
      ]
    },
    {
      "cell_type": "markdown",
      "metadata": {
        "id": "BtVAnNIZjBM-"
      },
      "source": [
        "interesting that t's are pretty recent..."
      ]
    },
    {
      "cell_type": "code",
      "metadata": {
        "id": "SGMmhUGghO2S",
        "colab": {
          "base_uri": "https://localhost:8080/"
        },
        "outputId": "b1a20fe0-348d-44b3-cfb8-a0ef08a1bf33"
      },
      "source": [
        "df[df['YearBuilt'].isna()==False]['Type'].value_counts()"
      ],
      "execution_count": 217,
      "outputs": [
        {
          "output_type": "execute_result",
          "data": {
            "text/plain": [
              "h    5269\n",
              "u    1924\n",
              "t     760\n",
              "Name: Type, dtype: int64"
            ]
          },
          "metadata": {
            "tags": []
          },
          "execution_count": 217
        }
      ]
    },
    {
      "cell_type": "code",
      "metadata": {
        "id": "pCjQYxCeivCa",
        "colab": {
          "base_uri": "https://localhost:8080/"
        },
        "outputId": "7b75a256-9586-44bb-9458-488a5aab172f"
      },
      "source": [
        "df[df['YearBuilt'].isna()]['Type'].value_counts()"
      ],
      "execution_count": 218,
      "outputs": [
        {
          "output_type": "execute_result",
          "data": {
            "text/plain": [
              "h    3958\n",
              "u     937\n",
              "t     349\n",
              "Name: Type, dtype: int64"
            ]
          },
          "metadata": {
            "tags": []
          },
          "execution_count": 218
        }
      ]
    },
    {
      "cell_type": "markdown",
      "metadata": {
        "id": "dZvJvpWzzjwV"
      },
      "source": [
        "nothing too revealing..."
      ]
    },
    {
      "cell_type": "code",
      "metadata": {
        "id": "tUklExZKi3ju"
      },
      "source": [
        "#okay lets try classifying price and take median and give it to year built..."
      ],
      "execution_count": 219,
      "outputs": []
    },
    {
      "cell_type": "code",
      "metadata": {
        "id": "TW1Q51fVkDzv"
      },
      "source": [
        "stdp = np.mean(df['Price']) + np.std(df['Price'])\n",
        "stdm = np.mean(df['Price']) - np.std(df['Price'])\n",
        "df['PriceClass'] = df.apply(lambda x: 'u' if x['Price'] > stdp else ('d' if x['Price'] < stdm else 'm'),axis=1)"
      ],
      "execution_count": 220,
      "outputs": []
    },
    {
      "cell_type": "code",
      "metadata": {
        "id": "h6rbTk9Ek3dc",
        "colab": {
          "base_uri": "https://localhost:8080/"
        },
        "outputId": "89e4829b-96ae-453e-9c72-ea8694298a88"
      },
      "source": [
        "priceclass_median = df.groupby(by='PriceClass')['YearBuilt'].median()\n",
        "priceclass_median['u']"
      ],
      "execution_count": 221,
      "outputs": [
        {
          "output_type": "execute_result",
          "data": {
            "text/plain": [
              "1938.0"
            ]
          },
          "metadata": {
            "tags": []
          },
          "execution_count": 221
        }
      ]
    },
    {
      "cell_type": "code",
      "metadata": {
        "id": "9AHRFuhFl0Tm"
      },
      "source": [
        "df['YearBuilt'] = df.apply(lambda x: priceclass_median[x['PriceClass']] if np.isnan(x['YearBuilt'])  else x['YearBuilt'],axis = 1)"
      ],
      "execution_count": 222,
      "outputs": []
    },
    {
      "cell_type": "markdown",
      "metadata": {
        "id": "hCjflawGoBzV"
      },
      "source": [
        "So divided the price into classes and used the median of that class to fill year built values....."
      ]
    },
    {
      "cell_type": "code",
      "metadata": {
        "id": "5G58OpqDnqwD",
        "colab": {
          "base_uri": "https://localhost:8080/"
        },
        "outputId": "587a81a7-6188-4e11-d785-2f3840015fa3"
      },
      "source": [
        "df.info()"
      ],
      "execution_count": 223,
      "outputs": [
        {
          "output_type": "stream",
          "text": [
            "<class 'pandas.core.frame.DataFrame'>\n",
            "Int64Index: 13197 entries, 0 to 13232\n",
            "Data columns (total 18 columns):\n",
            " #   Column         Non-Null Count  Dtype  \n",
            "---  ------         --------------  -----  \n",
            " 0   Rooms          13197 non-null  int64  \n",
            " 1   Type           13197 non-null  object \n",
            " 2   Price          13197 non-null  float64\n",
            " 3   Method         13197 non-null  object \n",
            " 4   Date           13197 non-null  object \n",
            " 5   Distance       13197 non-null  float64\n",
            " 6   Postcode       13197 non-null  float64\n",
            " 7   Bedroom2       13197 non-null  float64\n",
            " 8   Bathroom       13197 non-null  float64\n",
            " 9   Car            13197 non-null  float64\n",
            " 10  Landsize       13197 non-null  float64\n",
            " 11  BuildingArea   13197 non-null  float64\n",
            " 12  YearBuilt      13197 non-null  float64\n",
            " 13  Lattitude      13197 non-null  float64\n",
            " 14  Longtitude     13197 non-null  float64\n",
            " 15  Regionname     13197 non-null  object \n",
            " 16  Propertycount  13197 non-null  float64\n",
            " 17  PriceClass     13197 non-null  object \n",
            "dtypes: float64(12), int64(1), object(5)\n",
            "memory usage: 2.5+ MB\n"
          ],
          "name": "stdout"
        }
      ]
    },
    {
      "cell_type": "code",
      "metadata": {
        "id": "jayOlsDMoMjJ",
        "colab": {
          "base_uri": "https://localhost:8080/",
          "height": 477
        },
        "outputId": "0315fb87-ebc5-4ee6-94b5-8cc0dea360f6"
      },
      "source": [
        "df.corr()"
      ],
      "execution_count": 224,
      "outputs": [
        {
          "output_type": "execute_result",
          "data": {
            "text/html": [
              "<div>\n",
              "<style scoped>\n",
              "    .dataframe tbody tr th:only-of-type {\n",
              "        vertical-align: middle;\n",
              "    }\n",
              "\n",
              "    .dataframe tbody tr th {\n",
              "        vertical-align: top;\n",
              "    }\n",
              "\n",
              "    .dataframe thead th {\n",
              "        text-align: right;\n",
              "    }\n",
              "</style>\n",
              "<table border=\"1\" class=\"dataframe\">\n",
              "  <thead>\n",
              "    <tr style=\"text-align: right;\">\n",
              "      <th></th>\n",
              "      <th>Rooms</th>\n",
              "      <th>Price</th>\n",
              "      <th>Distance</th>\n",
              "      <th>Postcode</th>\n",
              "      <th>Bedroom2</th>\n",
              "      <th>Bathroom</th>\n",
              "      <th>Car</th>\n",
              "      <th>Landsize</th>\n",
              "      <th>BuildingArea</th>\n",
              "      <th>YearBuilt</th>\n",
              "      <th>Lattitude</th>\n",
              "      <th>Longtitude</th>\n",
              "      <th>Propertycount</th>\n",
              "    </tr>\n",
              "  </thead>\n",
              "  <tbody>\n",
              "    <tr>\n",
              "      <th>Rooms</th>\n",
              "      <td>1.000000</td>\n",
              "      <td>0.534385</td>\n",
              "      <td>0.305039</td>\n",
              "      <td>0.047438</td>\n",
              "      <td>0.941132</td>\n",
              "      <td>0.585050</td>\n",
              "      <td>0.398025</td>\n",
              "      <td>0.183900</td>\n",
              "      <td>0.732878</td>\n",
              "      <td>-0.105955</td>\n",
              "      <td>0.020292</td>\n",
              "      <td>0.094529</td>\n",
              "      <td>-0.085077</td>\n",
              "    </tr>\n",
              "    <tr>\n",
              "      <th>Price</th>\n",
              "      <td>0.534385</td>\n",
              "      <td>1.000000</td>\n",
              "      <td>-0.155821</td>\n",
              "      <td>0.084546</td>\n",
              "      <td>0.510766</td>\n",
              "      <td>0.427588</td>\n",
              "      <td>0.231581</td>\n",
              "      <td>0.114285</td>\n",
              "      <td>0.506630</td>\n",
              "      <td>-0.424217</td>\n",
              "      <td>-0.229606</td>\n",
              "      <td>0.241336</td>\n",
              "      <td>-0.069355</td>\n",
              "    </tr>\n",
              "    <tr>\n",
              "      <th>Distance</th>\n",
              "      <td>0.305039</td>\n",
              "      <td>-0.155821</td>\n",
              "      <td>1.000000</td>\n",
              "      <td>0.430750</td>\n",
              "      <td>0.305784</td>\n",
              "      <td>0.139107</td>\n",
              "      <td>0.269171</td>\n",
              "      <td>0.161915</td>\n",
              "      <td>0.228861</td>\n",
              "      <td>0.217393</td>\n",
              "      <td>-0.142997</td>\n",
              "      <td>0.253187</td>\n",
              "      <td>-0.053010</td>\n",
              "    </tr>\n",
              "    <tr>\n",
              "      <th>Postcode</th>\n",
              "      <td>0.047438</td>\n",
              "      <td>0.084546</td>\n",
              "      <td>0.430750</td>\n",
              "      <td>1.000000</td>\n",
              "      <td>0.052903</td>\n",
              "      <td>0.110136</td>\n",
              "      <td>0.044725</td>\n",
              "      <td>0.043081</td>\n",
              "      <td>0.063699</td>\n",
              "      <td>0.013218</td>\n",
              "      <td>-0.411410</td>\n",
              "      <td>0.453421</td>\n",
              "      <td>0.065781</td>\n",
              "    </tr>\n",
              "    <tr>\n",
              "      <th>Bedroom2</th>\n",
              "      <td>0.941132</td>\n",
              "      <td>0.510766</td>\n",
              "      <td>0.305784</td>\n",
              "      <td>0.052903</td>\n",
              "      <td>1.000000</td>\n",
              "      <td>0.576544</td>\n",
              "      <td>0.394635</td>\n",
              "      <td>0.180476</td>\n",
              "      <td>0.699053</td>\n",
              "      <td>-0.095021</td>\n",
              "      <td>0.019916</td>\n",
              "      <td>0.096354</td>\n",
              "      <td>-0.084548</td>\n",
              "    </tr>\n",
              "    <tr>\n",
              "      <th>Bathroom</th>\n",
              "      <td>0.585050</td>\n",
              "      <td>0.427588</td>\n",
              "      <td>0.139107</td>\n",
              "      <td>0.110136</td>\n",
              "      <td>0.576544</td>\n",
              "      <td>1.000000</td>\n",
              "      <td>0.306634</td>\n",
              "      <td>0.101622</td>\n",
              "      <td>0.555290</td>\n",
              "      <td>0.076179</td>\n",
              "      <td>-0.067352</td>\n",
              "      <td>0.114371</td>\n",
              "      <td>-0.054702</td>\n",
              "    </tr>\n",
              "    <tr>\n",
              "      <th>Car</th>\n",
              "      <td>0.398025</td>\n",
              "      <td>0.231581</td>\n",
              "      <td>0.269171</td>\n",
              "      <td>0.044725</td>\n",
              "      <td>0.394635</td>\n",
              "      <td>0.306634</td>\n",
              "      <td>1.000000</td>\n",
              "      <td>0.178546</td>\n",
              "      <td>0.339399</td>\n",
              "      <td>0.060806</td>\n",
              "      <td>0.000110</td>\n",
              "      <td>0.060112</td>\n",
              "      <td>-0.024051</td>\n",
              "    </tr>\n",
              "    <tr>\n",
              "      <th>Landsize</th>\n",
              "      <td>0.183900</td>\n",
              "      <td>0.114285</td>\n",
              "      <td>0.161915</td>\n",
              "      <td>0.043081</td>\n",
              "      <td>0.180476</td>\n",
              "      <td>0.101622</td>\n",
              "      <td>0.178546</td>\n",
              "      <td>1.000000</td>\n",
              "      <td>0.162065</td>\n",
              "      <td>0.008914</td>\n",
              "      <td>0.004304</td>\n",
              "      <td>0.078696</td>\n",
              "      <td>-0.017753</td>\n",
              "    </tr>\n",
              "    <tr>\n",
              "      <th>BuildingArea</th>\n",
              "      <td>0.732878</td>\n",
              "      <td>0.506630</td>\n",
              "      <td>0.228861</td>\n",
              "      <td>0.063699</td>\n",
              "      <td>0.699053</td>\n",
              "      <td>0.555290</td>\n",
              "      <td>0.339399</td>\n",
              "      <td>0.162065</td>\n",
              "      <td>1.000000</td>\n",
              "      <td>-0.030885</td>\n",
              "      <td>-0.021167</td>\n",
              "      <td>0.105803</td>\n",
              "      <td>-0.066951</td>\n",
              "    </tr>\n",
              "    <tr>\n",
              "      <th>YearBuilt</th>\n",
              "      <td>-0.105955</td>\n",
              "      <td>-0.424217</td>\n",
              "      <td>0.217393</td>\n",
              "      <td>0.013218</td>\n",
              "      <td>-0.095021</td>\n",
              "      <td>0.076179</td>\n",
              "      <td>0.060806</td>\n",
              "      <td>0.008914</td>\n",
              "      <td>-0.030885</td>\n",
              "      <td>1.000000</td>\n",
              "      <td>0.073421</td>\n",
              "      <td>-0.029368</td>\n",
              "      <td>0.012746</td>\n",
              "    </tr>\n",
              "    <tr>\n",
              "      <th>Lattitude</th>\n",
              "      <td>0.020292</td>\n",
              "      <td>-0.229606</td>\n",
              "      <td>-0.142997</td>\n",
              "      <td>-0.411410</td>\n",
              "      <td>0.019916</td>\n",
              "      <td>-0.067352</td>\n",
              "      <td>0.000110</td>\n",
              "      <td>0.004304</td>\n",
              "      <td>-0.021167</td>\n",
              "      <td>0.073421</td>\n",
              "      <td>1.000000</td>\n",
              "      <td>-0.354216</td>\n",
              "      <td>0.047379</td>\n",
              "    </tr>\n",
              "    <tr>\n",
              "      <th>Longtitude</th>\n",
              "      <td>0.094529</td>\n",
              "      <td>0.241336</td>\n",
              "      <td>0.253187</td>\n",
              "      <td>0.453421</td>\n",
              "      <td>0.096354</td>\n",
              "      <td>0.114371</td>\n",
              "      <td>0.060112</td>\n",
              "      <td>0.078696</td>\n",
              "      <td>0.105803</td>\n",
              "      <td>-0.029368</td>\n",
              "      <td>-0.354216</td>\n",
              "      <td>1.000000</td>\n",
              "      <td>0.063829</td>\n",
              "    </tr>\n",
              "    <tr>\n",
              "      <th>Propertycount</th>\n",
              "      <td>-0.085077</td>\n",
              "      <td>-0.069355</td>\n",
              "      <td>-0.053010</td>\n",
              "      <td>0.065781</td>\n",
              "      <td>-0.084548</td>\n",
              "      <td>-0.054702</td>\n",
              "      <td>-0.024051</td>\n",
              "      <td>-0.017753</td>\n",
              "      <td>-0.066951</td>\n",
              "      <td>0.012746</td>\n",
              "      <td>0.047379</td>\n",
              "      <td>0.063829</td>\n",
              "      <td>1.000000</td>\n",
              "    </tr>\n",
              "  </tbody>\n",
              "</table>\n",
              "</div>"
            ],
            "text/plain": [
              "                  Rooms     Price  Distance  Postcode  Bedroom2  Bathroom  \\\n",
              "Rooms          1.000000  0.534385  0.305039  0.047438  0.941132  0.585050   \n",
              "Price          0.534385  1.000000 -0.155821  0.084546  0.510766  0.427588   \n",
              "Distance       0.305039 -0.155821  1.000000  0.430750  0.305784  0.139107   \n",
              "Postcode       0.047438  0.084546  0.430750  1.000000  0.052903  0.110136   \n",
              "Bedroom2       0.941132  0.510766  0.305784  0.052903  1.000000  0.576544   \n",
              "Bathroom       0.585050  0.427588  0.139107  0.110136  0.576544  1.000000   \n",
              "Car            0.398025  0.231581  0.269171  0.044725  0.394635  0.306634   \n",
              "Landsize       0.183900  0.114285  0.161915  0.043081  0.180476  0.101622   \n",
              "BuildingArea   0.732878  0.506630  0.228861  0.063699  0.699053  0.555290   \n",
              "YearBuilt     -0.105955 -0.424217  0.217393  0.013218 -0.095021  0.076179   \n",
              "Lattitude      0.020292 -0.229606 -0.142997 -0.411410  0.019916 -0.067352   \n",
              "Longtitude     0.094529  0.241336  0.253187  0.453421  0.096354  0.114371   \n",
              "Propertycount -0.085077 -0.069355 -0.053010  0.065781 -0.084548 -0.054702   \n",
              "\n",
              "                    Car  Landsize  BuildingArea  YearBuilt  Lattitude  \\\n",
              "Rooms          0.398025  0.183900      0.732878  -0.105955   0.020292   \n",
              "Price          0.231581  0.114285      0.506630  -0.424217  -0.229606   \n",
              "Distance       0.269171  0.161915      0.228861   0.217393  -0.142997   \n",
              "Postcode       0.044725  0.043081      0.063699   0.013218  -0.411410   \n",
              "Bedroom2       0.394635  0.180476      0.699053  -0.095021   0.019916   \n",
              "Bathroom       0.306634  0.101622      0.555290   0.076179  -0.067352   \n",
              "Car            1.000000  0.178546      0.339399   0.060806   0.000110   \n",
              "Landsize       0.178546  1.000000      0.162065   0.008914   0.004304   \n",
              "BuildingArea   0.339399  0.162065      1.000000  -0.030885  -0.021167   \n",
              "YearBuilt      0.060806  0.008914     -0.030885   1.000000   0.073421   \n",
              "Lattitude      0.000110  0.004304     -0.021167   0.073421   1.000000   \n",
              "Longtitude     0.060112  0.078696      0.105803  -0.029368  -0.354216   \n",
              "Propertycount -0.024051 -0.017753     -0.066951   0.012746   0.047379   \n",
              "\n",
              "               Longtitude  Propertycount  \n",
              "Rooms            0.094529      -0.085077  \n",
              "Price            0.241336      -0.069355  \n",
              "Distance         0.253187      -0.053010  \n",
              "Postcode         0.453421       0.065781  \n",
              "Bedroom2         0.096354      -0.084548  \n",
              "Bathroom         0.114371      -0.054702  \n",
              "Car              0.060112      -0.024051  \n",
              "Landsize         0.078696      -0.017753  \n",
              "BuildingArea     0.105803      -0.066951  \n",
              "YearBuilt       -0.029368       0.012746  \n",
              "Lattitude       -0.354216       0.047379  \n",
              "Longtitude       1.000000       0.063829  \n",
              "Propertycount    0.063829       1.000000  "
            ]
          },
          "metadata": {
            "tags": []
          },
          "execution_count": 224
        }
      ]
    },
    {
      "cell_type": "code",
      "metadata": {
        "id": "SpOl7pHtoXNS"
      },
      "source": [
        "#Dropping postcode and priceclass\n",
        "df.drop(['Postcode','PriceClass'],axis=1,inplace=True)"
      ],
      "execution_count": 225,
      "outputs": []
    },
    {
      "cell_type": "code",
      "metadata": {
        "id": "dmLnIzlWonEj"
      },
      "source": [
        "#Converting Type Method and Regionname to one hot...\n",
        "df = pd.concat([df,pd.get_dummies(df['Type'],drop_first=True),pd.get_dummies(df['Method'],drop_first=True),\n",
        "                pd.get_dummies(df['Regionname'],drop_first=True)],axis=1)\n",
        "\n",
        "df.drop(['Type','Method','Regionname'],axis=1,inplace=True)"
      ],
      "execution_count": 226,
      "outputs": []
    },
    {
      "cell_type": "code",
      "metadata": {
        "id": "OZ0AYwjJptT4",
        "colab": {
          "base_uri": "https://localhost:8080/"
        },
        "outputId": "e0acb657-3c12-4c1a-c70e-1380fb16a2a9"
      },
      "source": [
        "df.info()"
      ],
      "execution_count": 227,
      "outputs": [
        {
          "output_type": "stream",
          "text": [
            "<class 'pandas.core.frame.DataFrame'>\n",
            "Int64Index: 13197 entries, 0 to 13232\n",
            "Data columns (total 26 columns):\n",
            " #   Column                      Non-Null Count  Dtype  \n",
            "---  ------                      --------------  -----  \n",
            " 0   Rooms                       13197 non-null  int64  \n",
            " 1   Price                       13197 non-null  float64\n",
            " 2   Date                        13197 non-null  object \n",
            " 3   Distance                    13197 non-null  float64\n",
            " 4   Bedroom2                    13197 non-null  float64\n",
            " 5   Bathroom                    13197 non-null  float64\n",
            " 6   Car                         13197 non-null  float64\n",
            " 7   Landsize                    13197 non-null  float64\n",
            " 8   BuildingArea                13197 non-null  float64\n",
            " 9   YearBuilt                   13197 non-null  float64\n",
            " 10  Lattitude                   13197 non-null  float64\n",
            " 11  Longtitude                  13197 non-null  float64\n",
            " 12  Propertycount               13197 non-null  float64\n",
            " 13  t                           13197 non-null  uint8  \n",
            " 14  u                           13197 non-null  uint8  \n",
            " 15  S                           13197 non-null  uint8  \n",
            " 16  SA                          13197 non-null  uint8  \n",
            " 17  SP                          13197 non-null  uint8  \n",
            " 18  VB                          13197 non-null  uint8  \n",
            " 19  Eastern Victoria            13197 non-null  uint8  \n",
            " 20  Northern Metropolitan       13197 non-null  uint8  \n",
            " 21  Northern Victoria           13197 non-null  uint8  \n",
            " 22  South-Eastern Metropolitan  13197 non-null  uint8  \n",
            " 23  Southern Metropolitan       13197 non-null  uint8  \n",
            " 24  Western Metropolitan        13197 non-null  uint8  \n",
            " 25  Western Victoria            13197 non-null  uint8  \n",
            "dtypes: float64(11), int64(1), object(1), uint8(13)\n",
            "memory usage: 2.2+ MB\n"
          ],
          "name": "stdout"
        }
      ]
    },
    {
      "cell_type": "code",
      "metadata": {
        "id": "1_V-cPpVp-WU"
      },
      "source": [
        "#Feature Engineering Month and Year from Date column...\n",
        "df['MonthSold'] = pd.to_datetime(df['Date']).apply(lambda x:x.month)\n",
        "df['YearSold'] = pd.to_datetime(df['Date']).apply(lambda x:x.year)\n",
        "df.drop(['Date'],axis=1,inplace=True)"
      ],
      "execution_count": 228,
      "outputs": []
    },
    {
      "cell_type": "code",
      "metadata": {
        "id": "vyMXKYvBqRlA",
        "colab": {
          "base_uri": "https://localhost:8080/",
          "height": 296
        },
        "outputId": "a331aea1-153f-42a1-d163-2886667f1b57"
      },
      "source": [
        "#There exists a relation between month sold and price\n",
        "df.groupby(by='MonthSold')['Price'].mean().plot()"
      ],
      "execution_count": 229,
      "outputs": [
        {
          "output_type": "execute_result",
          "data": {
            "text/plain": [
              "<matplotlib.axes._subplots.AxesSubplot at 0x7f2b004f85c0>"
            ]
          },
          "metadata": {
            "tags": []
          },
          "execution_count": 229
        },
        {
          "output_type": "display_data",
          "data": {
            "image/png": "[encoded data removed]",
            "text/plain": [
              "<Figure size 432x288 with 1 Axes>"
            ]
          },
          "metadata": {
            "tags": [],
            "needs_background": "light"
          }
        }
      ]
    },
    {
      "cell_type": "code",
      "metadata": {
        "id": "hLO1wlp-rEOA",
        "colab": {
          "base_uri": "https://localhost:8080/"
        },
        "outputId": "fa873b8c-2a58-4d20-d592-83470e2a812c"
      },
      "source": [
        "df.info()\n",
        "\n",
        "#Final dataset..."
      ],
      "execution_count": 230,
      "outputs": [
        {
          "output_type": "stream",
          "text": [
            "<class 'pandas.core.frame.DataFrame'>\n",
            "Int64Index: 13197 entries, 0 to 13232\n",
            "Data columns (total 27 columns):\n",
            " #   Column                      Non-Null Count  Dtype  \n",
            "---  ------                      --------------  -----  \n",
            " 0   Rooms                       13197 non-null  int64  \n",
            " 1   Price                       13197 non-null  float64\n",
            " 2   Distance                    13197 non-null  float64\n",
            " 3   Bedroom2                    13197 non-null  float64\n",
            " 4   Bathroom                    13197 non-null  float64\n",
            " 5   Car                         13197 non-null  float64\n",
            " 6   Landsize                    13197 non-null  float64\n",
            " 7   BuildingArea                13197 non-null  float64\n",
            " 8   YearBuilt                   13197 non-null  float64\n",
            " 9   Lattitude                   13197 non-null  float64\n",
            " 10  Longtitude                  13197 non-null  float64\n",
            " 11  Propertycount               13197 non-null  float64\n",
            " 12  t                           13197 non-null  uint8  \n",
            " 13  u                           13197 non-null  uint8  \n",
            " 14  S                           13197 non-null  uint8  \n",
            " 15  SA                          13197 non-null  uint8  \n",
            " 16  SP                          13197 non-null  uint8  \n",
            " 17  VB                          13197 non-null  uint8  \n",
            " 18  Eastern Victoria            13197 non-null  uint8  \n",
            " 19  Northern Metropolitan       13197 non-null  uint8  \n",
            " 20  Northern Victoria           13197 non-null  uint8  \n",
            " 21  South-Eastern Metropolitan  13197 non-null  uint8  \n",
            " 22  Southern Metropolitan       13197 non-null  uint8  \n",
            " 23  Western Metropolitan        13197 non-null  uint8  \n",
            " 24  Western Victoria            13197 non-null  uint8  \n",
            " 25  MonthSold                   13197 non-null  int64  \n",
            " 26  YearSold                    13197 non-null  int64  \n",
            "dtypes: float64(11), int64(3), uint8(13)\n",
            "memory usage: 2.3 MB\n"
          ],
          "name": "stdout"
        }
      ]
    },
    {
      "cell_type": "code",
      "metadata": {
        "id": "UhlwKz_XCjmF"
      },
      "source": [
        "#Starting modelling part\n",
        "\n",
        "from sklearn.model_selection import train_test_split\n",
        "from sklearn.preprocessing import MinMaxScaler"
      ],
      "execution_count": 231,
      "outputs": []
    },
    {
      "cell_type": "code",
      "metadata": {
        "id": "r61aTeC1CjmF"
      },
      "source": [
        "y = df['Price'].values\n",
        "y=np.expand_dims(y,axis=1)\n",
        "\n",
        "X = df.drop('Price',axis=1).values"
      ],
      "execution_count": 232,
      "outputs": []
    },
    {
      "cell_type": "code",
      "metadata": {
        "colab": {
          "base_uri": "https://localhost:8080/"
        },
        "id": "yBJ-1QRuCjmF",
        "outputId": "75b3a20f-8819-40bc-8279-42710382645b"
      },
      "source": [
        "print(X.shape)\n",
        "print(y.shape)"
      ],
      "execution_count": 233,
      "outputs": [
        {
          "output_type": "stream",
          "text": [
            "(13197, 26)\n",
            "(13197, 1)\n"
          ],
          "name": "stdout"
        }
      ]
    },
    {
      "cell_type": "code",
      "metadata": {
        "id": "XQYtN5yMCjmF"
      },
      "source": [
        "X_train, X_test, y_train, y_test = train_test_split(X, y, test_size=0.2,shuffle=True, random_state=101)"
      ],
      "execution_count": 234,
      "outputs": []
    },
    {
      "cell_type": "code",
      "metadata": {
        "id": "Ez6LBnZkCjmF"
      },
      "source": [
        "scaler = MinMaxScaler()\n",
        "X_train = scaler.fit_transform(X_train)\n",
        "\n",
        "X_test = scaler.transform(X_test)"
      ],
      "execution_count": 235,
      "outputs": []
    },
    {
      "cell_type": "code",
      "metadata": {
        "id": "p7Pz-SYiCjmF"
      },
      "source": [
        "from tensorflow.keras.models import Sequential\n",
        "from tensorflow.keras.layers import Dropout,Dense\n",
        "\n",
        "from tensorflow.keras.callbacks import EarlyStopping\n",
        "from sklearn.metrics import mean_squared_error\n",
        "from sklearn.metrics import mean_absolute_error\n",
        "from sklearn.metrics import explained_variance_score\n",
        "from sklearn.metrics import r2_score"
      ],
      "execution_count": 236,
      "outputs": []
    },
    {
      "cell_type": "code",
      "metadata": {
        "id": "sf9WtEwlr7AA",
        "colab": {
          "base_uri": "https://localhost:8080/"
        },
        "outputId": "dc5432e8-18d3-4f6c-9863-38f571d95dc0"
      },
      "source": [
        "from sklearn.ensemble import GradientBoostingRegressor\n",
        "\n",
        "GBRT = GradientBoostingRegressor(max_depth=2, n_estimators=120)\n",
        "GBRT.fit(X_train, y_train)\n",
        "\n",
        "errors = [mean_squared_error(y_test, y_pred)\n",
        "         for y_pred in GBRT.staged_predict(X_test)]\n",
        "best_n_estimators = np.argmin(errors)\n",
        "\n",
        "GBRT_best = GradientBoostingRegressor(max_depth=2, n_estimators=best_n_estimators)\n",
        "GBRT_best.fit(X_train, y_train)\n",
        "y_pred = GBRT_best.predict(X_test)\n",
        "\n",
        "# Display\n",
        "print('Gradient Boosting Regressor')\n",
        "print('\\nR-squared training set:')\n",
        "print(GBRT_best.score(X_train, y_train))\n",
        "\n",
        "print('\\nR-squared test set:')\n",
        "print(GBRT_best.score(X_test, y_test))"
      ],
      "execution_count": 237,
      "outputs": [
        {
          "output_type": "stream",
          "text": [
            "/usr/local/lib/python3.6/dist-packages/sklearn/ensemble/_gb.py:1454: DataConversionWarning: A column-vector y was passed when a 1d array was expected. Please change the shape of y to (n_samples, ), for example using ravel().\n",
            "  y = column_or_1d(y, warn=True)\n",
            "/usr/local/lib/python3.6/dist-packages/sklearn/ensemble/_gb.py:1454: DataConversionWarning: A column-vector y was passed when a 1d array was expected. Please change the shape of y to (n_samples, ), for example using ravel().\n",
            "  y = column_or_1d(y, warn=True)\n"
          ],
          "name": "stderr"
        },
        {
          "output_type": "stream",
          "text": [
            "Gradient Boosting Regressor\n",
            "\n",
            "R-squared training set:\n",
            "0.8423336759405182\n",
            "\n",
            "R-squared test set:\n",
            "0.8343195858251944\n"
          ],
          "name": "stdout"
        }
      ]
    },
    {
      "cell_type": "code",
      "metadata": {
        "id": "s_dCGwmQ8xtx"
      },
      "source": [
        "import tensorflow as tf\n",
        "def r2(labels,predictions):\n",
        "  unexplained_error = tf.reduce_sum(tf.square(labels - predictions))\n",
        "  total_error = tf.reduce_sum(tf.square(labels - tf.reduce_mean(labels, axis=0)))\n",
        "  R2 = 1. - tf.compat.v1.div(unexplained_error, total_error)\n",
        "\n",
        "  return R2\n",
        "\n",
        "\n",
        "def build_model1(learning_rate=0.001):\n",
        "  model = Sequential()\n",
        "  model.add(Dense(20,activation='relu'))\n",
        "  model.add(Dense(15,activation='relu'))\n",
        "  model.add(Dense(10,activation='relu'))\n",
        "  model.add(Dense(1,activation='linear'))\n",
        "\n",
        "  adam_opt = keras.optimizers.Adam(learning_rate=learning_rate)\n",
        "  model.compile(loss='mse',optimizer=adam_opt,metrics=[r2])\n",
        "\n",
        "  return model\n",
        "\n",
        "\n",
        "def run_model(model,batch_size=32,epochs=50):\n",
        "  #lr_scheduler = keras.callbacks.LearningRateScheduler(lambda epoch: 1e-6*(10**(epoch/100)))\n",
        "\n",
        "  output = model.fit(X_train,y_train,validation_data=(X_test,y_test),epochs=epochs,batch_size=batch_size,callbacks=[])\n",
        "  return output\n",
        "\n",
        "def pred_model(model):\n",
        "  y_predt = model.predict(X_train)\n",
        "  y_pred = model.predict(X_test)\n",
        "  print(\"Mean absolute error on train data : \" + str(mean_absolute_error(y_train,y_predt)/np.mean(y_train)))\n",
        "  print(\"Mean absolute error on test data : \" + str( mean_absolute_error(y_test,y_pred)/np.mean(y_test)))\n",
        "  print(\"r2_score on train data : \" + str(r2_score(y_train,y_predt)))\n",
        "  print(\"r2_score on test data : \" + str(r2_score(y_test,y_pred)))\n",
        "  print(\"Explained variance score : \" + str(explained_variance_score(y_test,y_pred)))"
      ],
      "execution_count": 238,
      "outputs": []
    },
    {
      "cell_type": "code",
      "metadata": {
        "colab": {
          "base_uri": "https://localhost:8080/",
          "height": 1000
        },
        "id": "lH9T-WsoCjmF",
        "outputId": "575b3262-f2bb-48f8-f33a-bad1dd99e11f"
      },
      "source": [
        "model1 = build_model1(1e-3)\n",
        "\n",
        "output1 = pd.DataFrame(run_model(model1,64,500).history)\n",
        "\n",
        "#plt.semilogx(output1['lr'][10:],output1['val_loss'][10:])\n",
        "\n",
        "\n",
        "fig = plt.figure(figsize=(15,9))\n",
        "ax = fig.add_axes([0,0,1,1])\n",
        "ax.plot(output1['loss'][10:],label='model1 train loss')\n",
        "ax.plot(output1['val_loss'][10:],label='model1 val loss')\n",
        "\n",
        "ax.legend()\n",
        "\n",
        "pred_model(model1)"
      ],
      "execution_count": 239,
      "outputs": [
        {
          "output_type": "stream",
          "text": [
            "Epoch 1/500\n",
            "165/165 [==============================] - 0s 2ms/step - loss: 85.1991 - r2: -364.8754 - val_loss: 2.4789 - val_r2: -10.2195\n",
            "Epoch 2/500\n",
            "165/165 [==============================] - 0s 1ms/step - loss: 1.6943 - r2: -6.1934 - val_loss: 1.2671 - val_r2: -4.7083\n",
            "Epoch 3/500\n",
            "165/165 [==============================] - 0s 1ms/step - loss: 1.1045 - r2: -3.6913 - val_loss: 0.9558 - val_r2: -3.2873\n",
            "Epoch 4/500\n",
            "165/165 [==============================] - 0s 2ms/step - loss: 0.8427 - r2: -2.5849 - val_loss: 0.7140 - val_r2: -2.1930\n",
            "Epoch 5/500\n",
            "165/165 [==============================] - 0s 1ms/step - loss: 0.6167 - r2: -1.6249 - val_loss: 0.5151 - val_r2: -1.3017\n",
            "Epoch 6/500\n",
            "165/165 [==============================] - 0s 1ms/step - loss: 0.4376 - r2: -0.8614 - val_loss: 0.3639 - val_r2: -0.6286\n",
            "Epoch 7/500\n",
            "165/165 [==============================] - 0s 1ms/step - loss: 0.3089 - r2: -0.3170 - val_loss: 0.2727 - val_r2: -0.2238\n",
            "Epoch 8/500\n",
            "165/165 [==============================] - 0s 1ms/step - loss: 0.2392 - r2: -0.0209 - val_loss: 0.2234 - val_r2: -0.0063\n",
            "Epoch 9/500\n",
            "165/165 [==============================] - 0s 1ms/step - loss: 0.1987 - r2: 0.1541 - val_loss: 0.1912 - val_r2: 0.1361\n",
            "Epoch 10/500\n",
            "165/165 [==============================] - 0s 1ms/step - loss: 0.1737 - r2: 0.2667 - val_loss: 0.1702 - val_r2: 0.2273\n",
            "Epoch 11/500\n",
            "165/165 [==============================] - 0s 2ms/step - loss: 0.1557 - r2: 0.3409 - val_loss: 0.1519 - val_r2: 0.3119\n",
            "Epoch 12/500\n",
            "165/165 [==============================] - 0s 1ms/step - loss: 0.1396 - r2: 0.4084 - val_loss: 0.1373 - val_r2: 0.3745\n",
            "Epoch 13/500\n",
            "165/165 [==============================] - 0s 1ms/step - loss: 0.1268 - r2: 0.4592 - val_loss: 0.1239 - val_r2: 0.4366\n",
            "Epoch 14/500\n",
            "165/165 [==============================] - 0s 1ms/step - loss: 0.1164 - r2: 0.5063 - val_loss: 0.1215 - val_r2: 0.4443\n",
            "Epoch 15/500\n",
            "165/165 [==============================] - 0s 1ms/step - loss: 0.1086 - r2: 0.5412 - val_loss: 0.1079 - val_r2: 0.5056\n",
            "Epoch 16/500\n",
            "165/165 [==============================] - 0s 1ms/step - loss: 0.1005 - r2: 0.5756 - val_loss: 0.1003 - val_r2: 0.5415\n",
            "Epoch 17/500\n",
            "165/165 [==============================] - 0s 1ms/step - loss: 0.0962 - r2: 0.5957 - val_loss: 0.0951 - val_r2: 0.5628\n",
            "Epoch 18/500\n",
            "165/165 [==============================] - 0s 2ms/step - loss: 0.0923 - r2: 0.6100 - val_loss: 0.0898 - val_r2: 0.5867\n",
            "Epoch 19/500\n",
            "165/165 [==============================] - 0s 2ms/step - loss: 0.0874 - r2: 0.6303 - val_loss: 0.0877 - val_r2: 0.5985\n",
            "Epoch 20/500\n",
            "165/165 [==============================] - 0s 2ms/step - loss: 0.0832 - r2: 0.6473 - val_loss: 0.0801 - val_r2: 0.6342\n",
            "Epoch 21/500\n",
            "165/165 [==============================] - 0s 2ms/step - loss: 0.0819 - r2: 0.6522 - val_loss: 0.0797 - val_r2: 0.6342\n",
            "Epoch 22/500\n",
            "165/165 [==============================] - 0s 2ms/step - loss: 0.0788 - r2: 0.6663 - val_loss: 0.0879 - val_r2: 0.5978\n",
            "Epoch 23/500\n",
            "165/165 [==============================] - 0s 2ms/step - loss: 0.0764 - r2: 0.6744 - val_loss: 0.0769 - val_r2: 0.6464\n",
            "Epoch 24/500\n",
            "165/165 [==============================] - 0s 2ms/step - loss: 0.0750 - r2: 0.6823 - val_loss: 0.0722 - val_r2: 0.6696\n",
            "Epoch 25/500\n",
            "165/165 [==============================] - 0s 2ms/step - loss: 0.0721 - r2: 0.6960 - val_loss: 0.0734 - val_r2: 0.6634\n",
            "Epoch 26/500\n",
            "165/165 [==============================] - 0s 2ms/step - loss: 0.0751 - r2: 0.6826 - val_loss: 0.0668 - val_r2: 0.6931\n",
            "Epoch 27/500\n",
            "165/165 [==============================] - 0s 1ms/step - loss: 0.0691 - r2: 0.7076 - val_loss: 0.0661 - val_r2: 0.6971\n",
            "Epoch 28/500\n",
            "165/165 [==============================] - 0s 2ms/step - loss: 0.0690 - r2: 0.7083 - val_loss: 0.0649 - val_r2: 0.7027\n",
            "Epoch 29/500\n",
            "165/165 [==============================] - 0s 1ms/step - loss: 0.0681 - r2: 0.7119 - val_loss: 0.0632 - val_r2: 0.7087\n",
            "Epoch 30/500\n",
            "165/165 [==============================] - 0s 2ms/step - loss: 0.0681 - r2: 0.7119 - val_loss: 0.0767 - val_r2: 0.6475\n",
            "Epoch 31/500\n",
            "165/165 [==============================] - 0s 2ms/step - loss: 0.0677 - r2: 0.7142 - val_loss: 0.0687 - val_r2: 0.6819\n",
            "Epoch 32/500\n",
            "165/165 [==============================] - 0s 2ms/step - loss: 0.0661 - r2: 0.7206 - val_loss: 0.0620 - val_r2: 0.7125\n",
            "Epoch 33/500\n",
            "165/165 [==============================] - 0s 2ms/step - loss: 0.0646 - r2: 0.7271 - val_loss: 0.0626 - val_r2: 0.7113\n",
            "Epoch 34/500\n",
            "165/165 [==============================] - 0s 2ms/step - loss: 0.0659 - r2: 0.7213 - val_loss: 0.0625 - val_r2: 0.7113\n",
            "Epoch 35/500\n",
            "165/165 [==============================] - 0s 2ms/step - loss: 0.0649 - r2: 0.7241 - val_loss: 0.0597 - val_r2: 0.7247\n",
            "Epoch 36/500\n",
            "165/165 [==============================] - 0s 2ms/step - loss: 0.0659 - r2: 0.7210 - val_loss: 0.0597 - val_r2: 0.7253\n",
            "Epoch 37/500\n",
            "165/165 [==============================] - 0s 2ms/step - loss: 0.0650 - r2: 0.7257 - val_loss: 0.0641 - val_r2: 0.7038\n",
            "Epoch 38/500\n",
            "165/165 [==============================] - 0s 2ms/step - loss: 0.0638 - r2: 0.7294 - val_loss: 0.0658 - val_r2: 0.6951\n",
            "Epoch 39/500\n",
            "165/165 [==============================] - 0s 1ms/step - loss: 0.0636 - r2: 0.7309 - val_loss: 0.0593 - val_r2: 0.7252\n",
            "Epoch 40/500\n",
            "165/165 [==============================] - 0s 2ms/step - loss: 0.0637 - r2: 0.7302 - val_loss: 0.0598 - val_r2: 0.7227\n",
            "Epoch 41/500\n",
            "165/165 [==============================] - 0s 2ms/step - loss: 0.0632 - r2: 0.7330 - val_loss: 0.0595 - val_r2: 0.7250\n",
            "Epoch 42/500\n",
            "165/165 [==============================] - 0s 2ms/step - loss: 0.0636 - r2: 0.7311 - val_loss: 0.0614 - val_r2: 0.7142\n",
            "Epoch 43/500\n",
            "165/165 [==============================] - 0s 2ms/step - loss: 0.0626 - r2: 0.7351 - val_loss: 0.0593 - val_r2: 0.7270\n",
            "Epoch 44/500\n",
            "165/165 [==============================] - 0s 2ms/step - loss: 0.0614 - r2: 0.7403 - val_loss: 0.0582 - val_r2: 0.7314\n",
            "Epoch 45/500\n",
            "165/165 [==============================] - 0s 2ms/step - loss: 0.0636 - r2: 0.7320 - val_loss: 0.0588 - val_r2: 0.7291\n",
            "Epoch 46/500\n",
            "165/165 [==============================] - 0s 2ms/step - loss: 0.0624 - r2: 0.7358 - val_loss: 0.0633 - val_r2: 0.7092\n",
            "Epoch 47/500\n",
            "165/165 [==============================] - 0s 2ms/step - loss: 0.0611 - r2: 0.7424 - val_loss: 0.0587 - val_r2: 0.7277\n",
            "Epoch 48/500\n",
            "165/165 [==============================] - 0s 2ms/step - loss: 0.0620 - r2: 0.7355 - val_loss: 0.0665 - val_r2: 0.6943\n",
            "Epoch 49/500\n",
            "165/165 [==============================] - 0s 2ms/step - loss: 0.0621 - r2: 0.7361 - val_loss: 0.0644 - val_r2: 0.7041\n",
            "Epoch 50/500\n",
            "165/165 [==============================] - 0s 2ms/step - loss: 0.0634 - r2: 0.7307 - val_loss: 0.0581 - val_r2: 0.7301\n",
            "Epoch 51/500\n",
            "165/165 [==============================] - 0s 1ms/step - loss: 0.0617 - r2: 0.7414 - val_loss: 0.0718 - val_r2: 0.6684\n",
            "Epoch 52/500\n",
            "165/165 [==============================] - 0s 2ms/step - loss: 0.0613 - r2: 0.7410 - val_loss: 0.0573 - val_r2: 0.7344\n",
            "Epoch 53/500\n",
            "165/165 [==============================] - 0s 2ms/step - loss: 0.0609 - r2: 0.7412 - val_loss: 0.0613 - val_r2: 0.7175\n",
            "Epoch 54/500\n",
            "165/165 [==============================] - 0s 2ms/step - loss: 0.0592 - r2: 0.7484 - val_loss: 0.0561 - val_r2: 0.7429\n",
            "Epoch 55/500\n",
            "165/165 [==============================] - 0s 2ms/step - loss: 0.0625 - r2: 0.7368 - val_loss: 0.0672 - val_r2: 0.6928\n",
            "Epoch 56/500\n",
            "165/165 [==============================] - 0s 1ms/step - loss: 0.0609 - r2: 0.7433 - val_loss: 0.0699 - val_r2: 0.6794\n",
            "Epoch 57/500\n",
            "165/165 [==============================] - 0s 1ms/step - loss: 0.0596 - r2: 0.7487 - val_loss: 0.0559 - val_r2: 0.7422\n",
            "Epoch 58/500\n",
            "165/165 [==============================] - 0s 1ms/step - loss: 0.0587 - r2: 0.7509 - val_loss: 0.0556 - val_r2: 0.7438\n",
            "Epoch 59/500\n",
            "165/165 [==============================] - 0s 1ms/step - loss: 0.0583 - r2: 0.7549 - val_loss: 0.0561 - val_r2: 0.7397\n",
            "Epoch 60/500\n",
            "165/165 [==============================] - 0s 1ms/step - loss: 0.0580 - r2: 0.7542 - val_loss: 0.0646 - val_r2: 0.7041\n",
            "Epoch 61/500\n",
            "165/165 [==============================] - 0s 2ms/step - loss: 0.0599 - r2: 0.7454 - val_loss: 0.0615 - val_r2: 0.7185\n",
            "Epoch 62/500\n",
            "165/165 [==============================] - 0s 1ms/step - loss: 0.0604 - r2: 0.7455 - val_loss: 0.0598 - val_r2: 0.7274\n",
            "Epoch 63/500\n",
            "165/165 [==============================] - 0s 2ms/step - loss: 0.0584 - r2: 0.7547 - val_loss: 0.0562 - val_r2: 0.7428\n",
            "Epoch 64/500\n",
            "165/165 [==============================] - 0s 1ms/step - loss: 0.0577 - r2: 0.7550 - val_loss: 0.0612 - val_r2: 0.7172\n",
            "Epoch 65/500\n",
            "165/165 [==============================] - 0s 2ms/step - loss: 0.0580 - r2: 0.7546 - val_loss: 0.0534 - val_r2: 0.7545\n",
            "Epoch 66/500\n",
            "165/165 [==============================] - 0s 1ms/step - loss: 0.0557 - r2: 0.7636 - val_loss: 0.0601 - val_r2: 0.7249\n",
            "Epoch 67/500\n",
            "165/165 [==============================] - 0s 1ms/step - loss: 0.0572 - r2: 0.7586 - val_loss: 0.0609 - val_r2: 0.7203\n",
            "Epoch 68/500\n",
            "165/165 [==============================] - 0s 1ms/step - loss: 0.0569 - r2: 0.7599 - val_loss: 0.0532 - val_r2: 0.7552\n",
            "Epoch 69/500\n",
            "165/165 [==============================] - 0s 2ms/step - loss: 0.0537 - r2: 0.7733 - val_loss: 0.0543 - val_r2: 0.7504\n",
            "Epoch 70/500\n",
            "165/165 [==============================] - 0s 1ms/step - loss: 0.0537 - r2: 0.7725 - val_loss: 0.0522 - val_r2: 0.7596\n",
            "Epoch 71/500\n",
            "165/165 [==============================] - 0s 1ms/step - loss: 0.0550 - r2: 0.7672 - val_loss: 0.0538 - val_r2: 0.7513\n",
            "Epoch 72/500\n",
            "165/165 [==============================] - 0s 1ms/step - loss: 0.0523 - r2: 0.7789 - val_loss: 0.0518 - val_r2: 0.7623\n",
            "Epoch 73/500\n",
            "165/165 [==============================] - 0s 2ms/step - loss: 0.0535 - r2: 0.7729 - val_loss: 0.0537 - val_r2: 0.7547\n",
            "Epoch 74/500\n",
            "165/165 [==============================] - 0s 2ms/step - loss: 0.0526 - r2: 0.7768 - val_loss: 0.0497 - val_r2: 0.7709\n",
            "Epoch 75/500\n",
            "165/165 [==============================] - 0s 2ms/step - loss: 0.0529 - r2: 0.7777 - val_loss: 0.0537 - val_r2: 0.7517\n",
            "Epoch 76/500\n",
            "165/165 [==============================] - 0s 1ms/step - loss: 0.0528 - r2: 0.7766 - val_loss: 0.0558 - val_r2: 0.7424\n",
            "Epoch 77/500\n",
            "165/165 [==============================] - 0s 1ms/step - loss: 0.0518 - r2: 0.7815 - val_loss: 0.0556 - val_r2: 0.7436\n",
            "Epoch 78/500\n",
            "165/165 [==============================] - 0s 1ms/step - loss: 0.0513 - r2: 0.7821 - val_loss: 0.0487 - val_r2: 0.7746\n",
            "Epoch 79/500\n",
            "165/165 [==============================] - 0s 1ms/step - loss: 0.0527 - r2: 0.7770 - val_loss: 0.0494 - val_r2: 0.7703\n",
            "Epoch 80/500\n",
            "165/165 [==============================] - 0s 1ms/step - loss: 0.0517 - r2: 0.7810 - val_loss: 0.0502 - val_r2: 0.7685\n",
            "Epoch 81/500\n",
            "165/165 [==============================] - 0s 1ms/step - loss: 0.0518 - r2: 0.7806 - val_loss: 0.0488 - val_r2: 0.7737\n",
            "Epoch 82/500\n",
            "165/165 [==============================] - 0s 1ms/step - loss: 0.0517 - r2: 0.7821 - val_loss: 0.0484 - val_r2: 0.7762\n",
            "Epoch 83/500\n",
            "165/165 [==============================] - 0s 1ms/step - loss: 0.0509 - r2: 0.7838 - val_loss: 0.0589 - val_r2: 0.7279\n",
            "Epoch 84/500\n",
            "165/165 [==============================] - 0s 1ms/step - loss: 0.0513 - r2: 0.7824 - val_loss: 0.0656 - val_r2: 0.6993\n",
            "Epoch 85/500\n",
            "165/165 [==============================] - 0s 1ms/step - loss: 0.0506 - r2: 0.7863 - val_loss: 0.0493 - val_r2: 0.7713\n",
            "Epoch 86/500\n",
            "165/165 [==============================] - 0s 1ms/step - loss: 0.0499 - r2: 0.7891 - val_loss: 0.0499 - val_r2: 0.7686\n",
            "Epoch 87/500\n",
            "165/165 [==============================] - 0s 2ms/step - loss: 0.0493 - r2: 0.7917 - val_loss: 0.0477 - val_r2: 0.7774\n",
            "Epoch 88/500\n",
            "165/165 [==============================] - 0s 1ms/step - loss: 0.0513 - r2: 0.7831 - val_loss: 0.0512 - val_r2: 0.7618\n",
            "Epoch 89/500\n",
            "165/165 [==============================] - 0s 1ms/step - loss: 0.0494 - r2: 0.7919 - val_loss: 0.0561 - val_r2: 0.7382\n",
            "Epoch 90/500\n",
            "165/165 [==============================] - 0s 1ms/step - loss: 0.0488 - r2: 0.7932 - val_loss: 0.0493 - val_r2: 0.7715\n",
            "Epoch 91/500\n",
            "165/165 [==============================] - 0s 1ms/step - loss: 0.0492 - r2: 0.7913 - val_loss: 0.0490 - val_r2: 0.7727\n",
            "Epoch 92/500\n",
            "165/165 [==============================] - 0s 1ms/step - loss: 0.0496 - r2: 0.7898 - val_loss: 0.0503 - val_r2: 0.7661\n",
            "Epoch 93/500\n",
            "165/165 [==============================] - 0s 1ms/step - loss: 0.0488 - r2: 0.7936 - val_loss: 0.0557 - val_r2: 0.7432\n",
            "Epoch 94/500\n",
            "165/165 [==============================] - 0s 1ms/step - loss: 0.0491 - r2: 0.7929 - val_loss: 0.0471 - val_r2: 0.7801\n",
            "Epoch 95/500\n",
            "165/165 [==============================] - 0s 1ms/step - loss: 0.0488 - r2: 0.7936 - val_loss: 0.0468 - val_r2: 0.7824\n",
            "Epoch 96/500\n",
            "165/165 [==============================] - 0s 1ms/step - loss: 0.0494 - r2: 0.7898 - val_loss: 0.0463 - val_r2: 0.7851\n",
            "Epoch 97/500\n",
            "165/165 [==============================] - 0s 2ms/step - loss: 0.0481 - r2: 0.7970 - val_loss: 0.0477 - val_r2: 0.7788\n",
            "Epoch 98/500\n",
            "165/165 [==============================] - 0s 2ms/step - loss: 0.0496 - r2: 0.7900 - val_loss: 0.0542 - val_r2: 0.7474\n",
            "Epoch 99/500\n",
            "165/165 [==============================] - 0s 1ms/step - loss: 0.0489 - r2: 0.7934 - val_loss: 0.0464 - val_r2: 0.7839\n",
            "Epoch 100/500\n",
            "165/165 [==============================] - 0s 2ms/step - loss: 0.0488 - r2: 0.7938 - val_loss: 0.0518 - val_r2: 0.7600\n",
            "Epoch 101/500\n",
            "165/165 [==============================] - 0s 1ms/step - loss: 0.0496 - r2: 0.7909 - val_loss: 0.0506 - val_r2: 0.7647\n",
            "Epoch 102/500\n",
            "165/165 [==============================] - 0s 2ms/step - loss: 0.0481 - r2: 0.7952 - val_loss: 0.0606 - val_r2: 0.7170\n",
            "Epoch 103/500\n",
            "165/165 [==============================] - 0s 1ms/step - loss: 0.0498 - r2: 0.7893 - val_loss: 0.0475 - val_r2: 0.7796\n",
            "Epoch 104/500\n",
            "165/165 [==============================] - 0s 1ms/step - loss: 0.0478 - r2: 0.7968 - val_loss: 0.0474 - val_r2: 0.7780\n",
            "Epoch 105/500\n",
            "165/165 [==============================] - 0s 2ms/step - loss: 0.0475 - r2: 0.7988 - val_loss: 0.0488 - val_r2: 0.7725\n",
            "Epoch 106/500\n",
            "165/165 [==============================] - 0s 1ms/step - loss: 0.0492 - r2: 0.7920 - val_loss: 0.0468 - val_r2: 0.7820\n",
            "Epoch 107/500\n",
            "165/165 [==============================] - 0s 1ms/step - loss: 0.0477 - r2: 0.7984 - val_loss: 0.0474 - val_r2: 0.7799\n",
            "Epoch 108/500\n",
            "165/165 [==============================] - 0s 1ms/step - loss: 0.0480 - r2: 0.7974 - val_loss: 0.0474 - val_r2: 0.7776\n",
            "Epoch 109/500\n",
            "165/165 [==============================] - 0s 1ms/step - loss: 0.0492 - r2: 0.7922 - val_loss: 0.0482 - val_r2: 0.7765\n",
            "Epoch 110/500\n",
            "165/165 [==============================] - 0s 1ms/step - loss: 0.0469 - r2: 0.8021 - val_loss: 0.0466 - val_r2: 0.7829\n",
            "Epoch 111/500\n",
            "165/165 [==============================] - 0s 1ms/step - loss: 0.0470 - r2: 0.8011 - val_loss: 0.0468 - val_r2: 0.7816\n",
            "Epoch 112/500\n",
            "165/165 [==============================] - 0s 2ms/step - loss: 0.0469 - r2: 0.7994 - val_loss: 0.0494 - val_r2: 0.7708\n",
            "Epoch 113/500\n",
            "165/165 [==============================] - 0s 1ms/step - loss: 0.0478 - r2: 0.7975 - val_loss: 0.0465 - val_r2: 0.7829\n",
            "Epoch 114/500\n",
            "165/165 [==============================] - 0s 1ms/step - loss: 0.0473 - r2: 0.8001 - val_loss: 0.0566 - val_r2: 0.7383\n",
            "Epoch 115/500\n",
            "165/165 [==============================] - 0s 1ms/step - loss: 0.0478 - r2: 0.7985 - val_loss: 0.0458 - val_r2: 0.7859\n",
            "Epoch 116/500\n",
            "165/165 [==============================] - 0s 1ms/step - loss: 0.0478 - r2: 0.7966 - val_loss: 0.0506 - val_r2: 0.7649\n",
            "Epoch 117/500\n",
            "165/165 [==============================] - 0s 1ms/step - loss: 0.0472 - r2: 0.8005 - val_loss: 0.0457 - val_r2: 0.7866\n",
            "Epoch 118/500\n",
            "165/165 [==============================] - 0s 2ms/step - loss: 0.0476 - r2: 0.7981 - val_loss: 0.0482 - val_r2: 0.7752\n",
            "Epoch 119/500\n",
            "165/165 [==============================] - 0s 2ms/step - loss: 0.0461 - r2: 0.8047 - val_loss: 0.0460 - val_r2: 0.7845\n",
            "Epoch 120/500\n",
            "165/165 [==============================] - 0s 2ms/step - loss: 0.0473 - r2: 0.7984 - val_loss: 0.0459 - val_r2: 0.7851\n",
            "Epoch 121/500\n",
            "165/165 [==============================] - 0s 2ms/step - loss: 0.0458 - r2: 0.8048 - val_loss: 0.0477 - val_r2: 0.7763\n",
            "Epoch 122/500\n",
            "165/165 [==============================] - 0s 2ms/step - loss: 0.0472 - r2: 0.8008 - val_loss: 0.0447 - val_r2: 0.7910\n",
            "Epoch 123/500\n",
            "165/165 [==============================] - 0s 2ms/step - loss: 0.0482 - r2: 0.7964 - val_loss: 0.0539 - val_r2: 0.7503\n",
            "Epoch 124/500\n",
            "165/165 [==============================] - 0s 1ms/step - loss: 0.0458 - r2: 0.8063 - val_loss: 0.0512 - val_r2: 0.7631\n",
            "Epoch 125/500\n",
            "165/165 [==============================] - 0s 1ms/step - loss: 0.0466 - r2: 0.8020 - val_loss: 0.0467 - val_r2: 0.7830\n",
            "Epoch 126/500\n",
            "165/165 [==============================] - 0s 1ms/step - loss: 0.0478 - r2: 0.7961 - val_loss: 0.0455 - val_r2: 0.7888\n",
            "Epoch 127/500\n",
            "165/165 [==============================] - 0s 1ms/step - loss: 0.0467 - r2: 0.8020 - val_loss: 0.0484 - val_r2: 0.7754\n",
            "Epoch 128/500\n",
            "165/165 [==============================] - 0s 2ms/step - loss: 0.0465 - r2: 0.8037 - val_loss: 0.0451 - val_r2: 0.7897\n",
            "Epoch 129/500\n",
            "165/165 [==============================] - 0s 2ms/step - loss: 0.0458 - r2: 0.8057 - val_loss: 0.0504 - val_r2: 0.7660\n",
            "Epoch 130/500\n",
            "165/165 [==============================] - 0s 2ms/step - loss: 0.0464 - r2: 0.8043 - val_loss: 0.0469 - val_r2: 0.7818\n",
            "Epoch 131/500\n",
            "165/165 [==============================] - 0s 2ms/step - loss: 0.0467 - r2: 0.8017 - val_loss: 0.0513 - val_r2: 0.7620\n",
            "Epoch 132/500\n",
            "165/165 [==============================] - 0s 1ms/step - loss: 0.0457 - r2: 0.8060 - val_loss: 0.0458 - val_r2: 0.7850\n",
            "Epoch 133/500\n",
            "165/165 [==============================] - 0s 2ms/step - loss: 0.0466 - r2: 0.8020 - val_loss: 0.0457 - val_r2: 0.7851\n",
            "Epoch 134/500\n",
            "165/165 [==============================] - 0s 2ms/step - loss: 0.0457 - r2: 0.8057 - val_loss: 0.0445 - val_r2: 0.7923\n",
            "Epoch 135/500\n",
            "165/165 [==============================] - 0s 1ms/step - loss: 0.0466 - r2: 0.8027 - val_loss: 0.0451 - val_r2: 0.7887\n",
            "Epoch 136/500\n",
            "165/165 [==============================] - 0s 1ms/step - loss: 0.0477 - r2: 0.7973 - val_loss: 0.0452 - val_r2: 0.7905\n",
            "Epoch 137/500\n",
            "165/165 [==============================] - 0s 1ms/step - loss: 0.0463 - r2: 0.8034 - val_loss: 0.0475 - val_r2: 0.7783\n",
            "Epoch 138/500\n",
            "165/165 [==============================] - 0s 2ms/step - loss: 0.0473 - r2: 0.7998 - val_loss: 0.0451 - val_r2: 0.7896\n",
            "Epoch 139/500\n",
            "165/165 [==============================] - 0s 1ms/step - loss: 0.0459 - r2: 0.8060 - val_loss: 0.0457 - val_r2: 0.7852\n",
            "Epoch 140/500\n",
            "165/165 [==============================] - 0s 1ms/step - loss: 0.0462 - r2: 0.8046 - val_loss: 0.0542 - val_r2: 0.7470\n",
            "Epoch 141/500\n",
            "165/165 [==============================] - 0s 1ms/step - loss: 0.0462 - r2: 0.8041 - val_loss: 0.0451 - val_r2: 0.7880\n",
            "Epoch 142/500\n",
            "165/165 [==============================] - 0s 1ms/step - loss: 0.0454 - r2: 0.8075 - val_loss: 0.0448 - val_r2: 0.7907\n",
            "Epoch 143/500\n",
            "165/165 [==============================] - 0s 1ms/step - loss: 0.0460 - r2: 0.8058 - val_loss: 0.0446 - val_r2: 0.7923\n",
            "Epoch 144/500\n",
            "165/165 [==============================] - 0s 2ms/step - loss: 0.0479 - r2: 0.7949 - val_loss: 0.0485 - val_r2: 0.7739\n",
            "Epoch 145/500\n",
            "165/165 [==============================] - 0s 2ms/step - loss: 0.0459 - r2: 0.8054 - val_loss: 0.0457 - val_r2: 0.7870\n",
            "Epoch 146/500\n",
            "165/165 [==============================] - 0s 2ms/step - loss: 0.0453 - r2: 0.8085 - val_loss: 0.0454 - val_r2: 0.7879\n",
            "Epoch 147/500\n",
            "165/165 [==============================] - 0s 2ms/step - loss: 0.0455 - r2: 0.8072 - val_loss: 0.0461 - val_r2: 0.7855\n",
            "Epoch 148/500\n",
            "165/165 [==============================] - 0s 1ms/step - loss: 0.0449 - r2: 0.8101 - val_loss: 0.0459 - val_r2: 0.7852\n",
            "Epoch 149/500\n",
            "165/165 [==============================] - 0s 1ms/step - loss: 0.0453 - r2: 0.8072 - val_loss: 0.0468 - val_r2: 0.7815\n",
            "Epoch 150/500\n",
            "165/165 [==============================] - 0s 2ms/step - loss: 0.0457 - r2: 0.8073 - val_loss: 0.0456 - val_r2: 0.7878\n",
            "Epoch 151/500\n",
            "165/165 [==============================] - 0s 1ms/step - loss: 0.0456 - r2: 0.8060 - val_loss: 0.0438 - val_r2: 0.7962\n",
            "Epoch 152/500\n",
            "165/165 [==============================] - 0s 2ms/step - loss: 0.0450 - r2: 0.8096 - val_loss: 0.0451 - val_r2: 0.7896\n",
            "Epoch 153/500\n",
            "165/165 [==============================] - 0s 2ms/step - loss: 0.0461 - r2: 0.8057 - val_loss: 0.0452 - val_r2: 0.7895\n",
            "Epoch 154/500\n",
            "165/165 [==============================] - 0s 1ms/step - loss: 0.0451 - r2: 0.8091 - val_loss: 0.0448 - val_r2: 0.7896\n",
            "Epoch 155/500\n",
            "165/165 [==============================] - 0s 1ms/step - loss: 0.0449 - r2: 0.8092 - val_loss: 0.0438 - val_r2: 0.7946\n",
            "Epoch 156/500\n",
            "165/165 [==============================] - 0s 1ms/step - loss: 0.0452 - r2: 0.8086 - val_loss: 0.0465 - val_r2: 0.7830\n",
            "Epoch 157/500\n",
            "165/165 [==============================] - 0s 1ms/step - loss: 0.0446 - r2: 0.8113 - val_loss: 0.0466 - val_r2: 0.7823\n",
            "Epoch 158/500\n",
            "165/165 [==============================] - 0s 2ms/step - loss: 0.0454 - r2: 0.8074 - val_loss: 0.0439 - val_r2: 0.7951\n",
            "Epoch 159/500\n",
            "165/165 [==============================] - 0s 2ms/step - loss: 0.0459 - r2: 0.8038 - val_loss: 0.0454 - val_r2: 0.7886\n",
            "Epoch 160/500\n",
            "165/165 [==============================] - 0s 2ms/step - loss: 0.0455 - r2: 0.8072 - val_loss: 0.0442 - val_r2: 0.7938\n",
            "Epoch 161/500\n",
            "165/165 [==============================] - 0s 2ms/step - loss: 0.0440 - r2: 0.8144 - val_loss: 0.0447 - val_r2: 0.7912\n",
            "Epoch 162/500\n",
            "165/165 [==============================] - 0s 2ms/step - loss: 0.0453 - r2: 0.8083 - val_loss: 0.0445 - val_r2: 0.7925\n",
            "Epoch 163/500\n",
            "165/165 [==============================] - 0s 1ms/step - loss: 0.0440 - r2: 0.8142 - val_loss: 0.0432 - val_r2: 0.7976\n",
            "Epoch 164/500\n",
            "165/165 [==============================] - 0s 2ms/step - loss: 0.0439 - r2: 0.8135 - val_loss: 0.0446 - val_r2: 0.7919\n",
            "Epoch 165/500\n",
            "165/165 [==============================] - 0s 2ms/step - loss: 0.0452 - r2: 0.8077 - val_loss: 0.0460 - val_r2: 0.7867\n",
            "Epoch 166/500\n",
            "165/165 [==============================] - 0s 2ms/step - loss: 0.0440 - r2: 0.8141 - val_loss: 0.0437 - val_r2: 0.7964\n",
            "Epoch 167/500\n",
            "165/165 [==============================] - 0s 1ms/step - loss: 0.0443 - r2: 0.8130 - val_loss: 0.0445 - val_r2: 0.7935\n",
            "Epoch 168/500\n",
            "165/165 [==============================] - 0s 1ms/step - loss: 0.0433 - r2: 0.8153 - val_loss: 0.0437 - val_r2: 0.7960\n",
            "Epoch 169/500\n",
            "165/165 [==============================] - 0s 2ms/step - loss: 0.0438 - r2: 0.8139 - val_loss: 0.0444 - val_r2: 0.7938\n",
            "Epoch 170/500\n",
            "165/165 [==============================] - 0s 1ms/step - loss: 0.0455 - r2: 0.8064 - val_loss: 0.0430 - val_r2: 0.7993\n",
            "Epoch 171/500\n",
            "165/165 [==============================] - 0s 1ms/step - loss: 0.0444 - r2: 0.8130 - val_loss: 0.0434 - val_r2: 0.7979\n",
            "Epoch 172/500\n",
            "165/165 [==============================] - 0s 2ms/step - loss: 0.0460 - r2: 0.8049 - val_loss: 0.0494 - val_r2: 0.7706\n",
            "Epoch 173/500\n",
            "165/165 [==============================] - 0s 2ms/step - loss: 0.0432 - r2: 0.8165 - val_loss: 0.0434 - val_r2: 0.7972\n",
            "Epoch 174/500\n",
            "165/165 [==============================] - 0s 2ms/step - loss: 0.0434 - r2: 0.8161 - val_loss: 0.0430 - val_r2: 0.7987\n",
            "Epoch 175/500\n",
            "165/165 [==============================] - 0s 2ms/step - loss: 0.0440 - r2: 0.8141 - val_loss: 0.0453 - val_r2: 0.7883\n",
            "Epoch 176/500\n",
            "165/165 [==============================] - 0s 2ms/step - loss: 0.0442 - r2: 0.8119 - val_loss: 0.0424 - val_r2: 0.8025\n",
            "Epoch 177/500\n",
            "165/165 [==============================] - 0s 1ms/step - loss: 0.0433 - r2: 0.8169 - val_loss: 0.0427 - val_r2: 0.8019\n",
            "Epoch 178/500\n",
            "165/165 [==============================] - 0s 2ms/step - loss: 0.0440 - r2: 0.8131 - val_loss: 0.0433 - val_r2: 0.7969\n",
            "Epoch 179/500\n",
            "165/165 [==============================] - 0s 2ms/step - loss: 0.0441 - r2: 0.8133 - val_loss: 0.0519 - val_r2: 0.7590\n",
            "Epoch 180/500\n",
            "165/165 [==============================] - 0s 2ms/step - loss: 0.0434 - r2: 0.8161 - val_loss: 0.0431 - val_r2: 0.7982\n",
            "Epoch 181/500\n",
            "165/165 [==============================] - 0s 2ms/step - loss: 0.0444 - r2: 0.8124 - val_loss: 0.0422 - val_r2: 0.8036\n",
            "Epoch 182/500\n",
            "165/165 [==============================] - 0s 2ms/step - loss: 0.0432 - r2: 0.8175 - val_loss: 0.0463 - val_r2: 0.7845\n",
            "Epoch 183/500\n",
            "165/165 [==============================] - 0s 2ms/step - loss: 0.0438 - r2: 0.8145 - val_loss: 0.0448 - val_r2: 0.7909\n",
            "Epoch 184/500\n",
            "165/165 [==============================] - 0s 2ms/step - loss: 0.0431 - r2: 0.8182 - val_loss: 0.0492 - val_r2: 0.7702\n",
            "Epoch 185/500\n",
            "165/165 [==============================] - 0s 1ms/step - loss: 0.0447 - r2: 0.8101 - val_loss: 0.0471 - val_r2: 0.7792\n",
            "Epoch 186/500\n",
            "165/165 [==============================] - 0s 1ms/step - loss: 0.0448 - r2: 0.8104 - val_loss: 0.0423 - val_r2: 0.8030\n",
            "Epoch 187/500\n",
            "165/165 [==============================] - 0s 1ms/step - loss: 0.0435 - r2: 0.8158 - val_loss: 0.0427 - val_r2: 0.7992\n",
            "Epoch 188/500\n",
            "165/165 [==============================] - 0s 1ms/step - loss: 0.0424 - r2: 0.8205 - val_loss: 0.0431 - val_r2: 0.7990\n",
            "Epoch 189/500\n",
            "165/165 [==============================] - 0s 1ms/step - loss: 0.0445 - r2: 0.8123 - val_loss: 0.0428 - val_r2: 0.7995\n",
            "Epoch 190/500\n",
            "165/165 [==============================] - 0s 1ms/step - loss: 0.0434 - r2: 0.8160 - val_loss: 0.0427 - val_r2: 0.8006\n",
            "Epoch 191/500\n",
            "165/165 [==============================] - 0s 1ms/step - loss: 0.0431 - r2: 0.8170 - val_loss: 0.0478 - val_r2: 0.7795\n",
            "Epoch 192/500\n",
            "165/165 [==============================] - 0s 2ms/step - loss: 0.0429 - r2: 0.8189 - val_loss: 0.0417 - val_r2: 0.8043\n",
            "Epoch 193/500\n",
            "165/165 [==============================] - 0s 2ms/step - loss: 0.0425 - r2: 0.8196 - val_loss: 0.0464 - val_r2: 0.7830\n",
            "Epoch 194/500\n",
            "165/165 [==============================] - 0s 1ms/step - loss: 0.0431 - r2: 0.8171 - val_loss: 0.0427 - val_r2: 0.8008\n",
            "Epoch 195/500\n",
            "165/165 [==============================] - 0s 1ms/step - loss: 0.0430 - r2: 0.8182 - val_loss: 0.0451 - val_r2: 0.7891\n",
            "Epoch 196/500\n",
            "165/165 [==============================] - 0s 1ms/step - loss: 0.0435 - r2: 0.8159 - val_loss: 0.0432 - val_r2: 0.7963\n",
            "Epoch 197/500\n",
            "165/165 [==============================] - 0s 2ms/step - loss: 0.0429 - r2: 0.8183 - val_loss: 0.0422 - val_r2: 0.8029\n",
            "Epoch 198/500\n",
            "165/165 [==============================] - 0s 1ms/step - loss: 0.0424 - r2: 0.8215 - val_loss: 0.0415 - val_r2: 0.8051\n",
            "Epoch 199/500\n",
            "165/165 [==============================] - 0s 1ms/step - loss: 0.0431 - r2: 0.8180 - val_loss: 0.0410 - val_r2: 0.8079\n",
            "Epoch 200/500\n",
            "165/165 [==============================] - 0s 2ms/step - loss: 0.0428 - r2: 0.8187 - val_loss: 0.0413 - val_r2: 0.8076\n",
            "Epoch 201/500\n",
            "165/165 [==============================] - 0s 1ms/step - loss: 0.0433 - r2: 0.8166 - val_loss: 0.0416 - val_r2: 0.8059\n",
            "Epoch 202/500\n",
            "165/165 [==============================] - 0s 1ms/step - loss: 0.0431 - r2: 0.8181 - val_loss: 0.0419 - val_r2: 0.8043\n",
            "Epoch 203/500\n",
            "165/165 [==============================] - 0s 2ms/step - loss: 0.0435 - r2: 0.8157 - val_loss: 0.0444 - val_r2: 0.7946\n",
            "Epoch 204/500\n",
            "165/165 [==============================] - 0s 1ms/step - loss: 0.0428 - r2: 0.8185 - val_loss: 0.0425 - val_r2: 0.8007\n",
            "Epoch 205/500\n",
            "165/165 [==============================] - 0s 2ms/step - loss: 0.0417 - r2: 0.8221 - val_loss: 0.0455 - val_r2: 0.7883\n",
            "Epoch 206/500\n",
            "165/165 [==============================] - 0s 2ms/step - loss: 0.0434 - r2: 0.8169 - val_loss: 0.0405 - val_r2: 0.8109\n",
            "Epoch 207/500\n",
            "165/165 [==============================] - 0s 2ms/step - loss: 0.0437 - r2: 0.8152 - val_loss: 0.0444 - val_r2: 0.7946\n",
            "Epoch 208/500\n",
            "165/165 [==============================] - 0s 2ms/step - loss: 0.0425 - r2: 0.8203 - val_loss: 0.0412 - val_r2: 0.8054\n",
            "Epoch 209/500\n",
            "165/165 [==============================] - 0s 2ms/step - loss: 0.0419 - r2: 0.8231 - val_loss: 0.0416 - val_r2: 0.8042\n",
            "Epoch 210/500\n",
            "165/165 [==============================] - 0s 2ms/step - loss: 0.0422 - r2: 0.8203 - val_loss: 0.0412 - val_r2: 0.8070\n",
            "Epoch 211/500\n",
            "165/165 [==============================] - 0s 2ms/step - loss: 0.0425 - r2: 0.8197 - val_loss: 0.0406 - val_r2: 0.8105\n",
            "Epoch 212/500\n",
            "165/165 [==============================] - 0s 2ms/step - loss: 0.0425 - r2: 0.8206 - val_loss: 0.0436 - val_r2: 0.7953\n",
            "Epoch 213/500\n",
            "165/165 [==============================] - 0s 2ms/step - loss: 0.0423 - r2: 0.8213 - val_loss: 0.0421 - val_r2: 0.8041\n",
            "Epoch 214/500\n",
            "165/165 [==============================] - 0s 2ms/step - loss: 0.0431 - r2: 0.8168 - val_loss: 0.0466 - val_r2: 0.7820\n",
            "Epoch 215/500\n",
            "165/165 [==============================] - 0s 2ms/step - loss: 0.0421 - r2: 0.8220 - val_loss: 0.0423 - val_r2: 0.8017\n",
            "Epoch 216/500\n",
            "165/165 [==============================] - 0s 1ms/step - loss: 0.0416 - r2: 0.8247 - val_loss: 0.0415 - val_r2: 0.8053\n",
            "Epoch 217/500\n",
            "165/165 [==============================] - 0s 1ms/step - loss: 0.0425 - r2: 0.8196 - val_loss: 0.0408 - val_r2: 0.8091\n",
            "Epoch 218/500\n",
            "165/165 [==============================] - 0s 2ms/step - loss: 0.0425 - r2: 0.8209 - val_loss: 0.0420 - val_r2: 0.8030\n",
            "Epoch 219/500\n",
            "165/165 [==============================] - 0s 2ms/step - loss: 0.0419 - r2: 0.8230 - val_loss: 0.0441 - val_r2: 0.7934\n",
            "Epoch 220/500\n",
            "165/165 [==============================] - 0s 1ms/step - loss: 0.0422 - r2: 0.8202 - val_loss: 0.0440 - val_r2: 0.7954\n",
            "Epoch 221/500\n",
            "165/165 [==============================] - 0s 1ms/step - loss: 0.0422 - r2: 0.8219 - val_loss: 0.0622 - val_r2: 0.7127\n",
            "Epoch 222/500\n",
            "165/165 [==============================] - 0s 1ms/step - loss: 0.0416 - r2: 0.8227 - val_loss: 0.0518 - val_r2: 0.7583\n",
            "Epoch 223/500\n",
            "165/165 [==============================] - 0s 2ms/step - loss: 0.0417 - r2: 0.8230 - val_loss: 0.0408 - val_r2: 0.8096\n",
            "Epoch 224/500\n",
            "165/165 [==============================] - 0s 2ms/step - loss: 0.0417 - r2: 0.8231 - val_loss: 0.0439 - val_r2: 0.7938\n",
            "Epoch 225/500\n",
            "165/165 [==============================] - 0s 1ms/step - loss: 0.0412 - r2: 0.8248 - val_loss: 0.0428 - val_r2: 0.7988\n",
            "Epoch 226/500\n",
            "165/165 [==============================] - 0s 1ms/step - loss: 0.0425 - r2: 0.8199 - val_loss: 0.0437 - val_r2: 0.7963\n",
            "Epoch 227/500\n",
            "165/165 [==============================] - 0s 2ms/step - loss: 0.0414 - r2: 0.8250 - val_loss: 0.0410 - val_r2: 0.8084\n",
            "Epoch 228/500\n",
            "165/165 [==============================] - 0s 1ms/step - loss: 0.0425 - r2: 0.8198 - val_loss: 0.0420 - val_r2: 0.8052\n",
            "Epoch 229/500\n",
            "165/165 [==============================] - 0s 1ms/step - loss: 0.0427 - r2: 0.8183 - val_loss: 0.0412 - val_r2: 0.8087\n",
            "Epoch 230/500\n",
            "165/165 [==============================] - 0s 1ms/step - loss: 0.0432 - r2: 0.8171 - val_loss: 0.0412 - val_r2: 0.8103\n",
            "Epoch 231/500\n",
            "165/165 [==============================] - 0s 2ms/step - loss: 0.0406 - r2: 0.8274 - val_loss: 0.0476 - val_r2: 0.7782\n",
            "Epoch 232/500\n",
            "165/165 [==============================] - 0s 2ms/step - loss: 0.0426 - r2: 0.8194 - val_loss: 0.0416 - val_r2: 0.8058\n",
            "Epoch 233/500\n",
            "165/165 [==============================] - 0s 1ms/step - loss: 0.0419 - r2: 0.8228 - val_loss: 0.0410 - val_r2: 0.8076\n",
            "Epoch 234/500\n",
            "165/165 [==============================] - 0s 2ms/step - loss: 0.0414 - r2: 0.8248 - val_loss: 0.0440 - val_r2: 0.7953\n",
            "Epoch 235/500\n",
            "165/165 [==============================] - 0s 2ms/step - loss: 0.0408 - r2: 0.8269 - val_loss: 0.0447 - val_r2: 0.7908\n",
            "Epoch 236/500\n",
            "165/165 [==============================] - 0s 1ms/step - loss: 0.0422 - r2: 0.8220 - val_loss: 0.0476 - val_r2: 0.7781\n",
            "Epoch 237/500\n",
            "165/165 [==============================] - 0s 1ms/step - loss: 0.0424 - r2: 0.8204 - val_loss: 0.0400 - val_r2: 0.8124\n",
            "Epoch 238/500\n",
            "165/165 [==============================] - 0s 1ms/step - loss: 0.0411 - r2: 0.8265 - val_loss: 0.0406 - val_r2: 0.8111\n",
            "Epoch 239/500\n",
            "165/165 [==============================] - 0s 2ms/step - loss: 0.0423 - r2: 0.8211 - val_loss: 0.0414 - val_r2: 0.8062\n",
            "Epoch 240/500\n",
            "165/165 [==============================] - 0s 2ms/step - loss: 0.0408 - r2: 0.8265 - val_loss: 0.0414 - val_r2: 0.8055\n",
            "Epoch 241/500\n",
            "165/165 [==============================] - 0s 1ms/step - loss: 0.0409 - r2: 0.8259 - val_loss: 0.0403 - val_r2: 0.8113\n",
            "Epoch 242/500\n",
            "165/165 [==============================] - 0s 2ms/step - loss: 0.0414 - r2: 0.8229 - val_loss: 0.0430 - val_r2: 0.7985\n",
            "Epoch 243/500\n",
            "165/165 [==============================] - 0s 2ms/step - loss: 0.0412 - r2: 0.8239 - val_loss: 0.0403 - val_r2: 0.8113\n",
            "Epoch 244/500\n",
            "165/165 [==============================] - 0s 1ms/step - loss: 0.0419 - r2: 0.8234 - val_loss: 0.0449 - val_r2: 0.7902\n",
            "Epoch 245/500\n",
            "165/165 [==============================] - 0s 1ms/step - loss: 0.0417 - r2: 0.8217 - val_loss: 0.0429 - val_r2: 0.7981\n",
            "Epoch 246/500\n",
            "165/165 [==============================] - 0s 2ms/step - loss: 0.0425 - r2: 0.8180 - val_loss: 0.0399 - val_r2: 0.8123\n",
            "Epoch 247/500\n",
            "165/165 [==============================] - 0s 1ms/step - loss: 0.0430 - r2: 0.8182 - val_loss: 0.0400 - val_r2: 0.8122\n",
            "Epoch 248/500\n",
            "165/165 [==============================] - 0s 1ms/step - loss: 0.0420 - r2: 0.8227 - val_loss: 0.0431 - val_r2: 0.7982\n",
            "Epoch 249/500\n",
            "165/165 [==============================] - 0s 2ms/step - loss: 0.0421 - r2: 0.8202 - val_loss: 0.0428 - val_r2: 0.7979\n",
            "Epoch 250/500\n",
            "165/165 [==============================] - 0s 1ms/step - loss: 0.0404 - r2: 0.8284 - val_loss: 0.0414 - val_r2: 0.8076\n",
            "Epoch 251/500\n",
            "165/165 [==============================] - 0s 2ms/step - loss: 0.0409 - r2: 0.8261 - val_loss: 0.0513 - val_r2: 0.7617\n",
            "Epoch 252/500\n",
            "165/165 [==============================] - 0s 2ms/step - loss: 0.0411 - r2: 0.8254 - val_loss: 0.0417 - val_r2: 0.8047\n",
            "Epoch 253/500\n",
            "165/165 [==============================] - 0s 2ms/step - loss: 0.0430 - r2: 0.8178 - val_loss: 0.0399 - val_r2: 0.8133\n",
            "Epoch 254/500\n",
            "165/165 [==============================] - 0s 2ms/step - loss: 0.0422 - r2: 0.8217 - val_loss: 0.0416 - val_r2: 0.8042\n",
            "Epoch 255/500\n",
            "165/165 [==============================] - 0s 2ms/step - loss: 0.0409 - r2: 0.8274 - val_loss: 0.0462 - val_r2: 0.7866\n",
            "Epoch 256/500\n",
            "165/165 [==============================] - 0s 1ms/step - loss: 0.0406 - r2: 0.8277 - val_loss: 0.0399 - val_r2: 0.8134\n",
            "Epoch 257/500\n",
            "165/165 [==============================] - 0s 1ms/step - loss: 0.0411 - r2: 0.8265 - val_loss: 0.0426 - val_r2: 0.8011\n",
            "Epoch 258/500\n",
            "165/165 [==============================] - 0s 2ms/step - loss: 0.0415 - r2: 0.8247 - val_loss: 0.0451 - val_r2: 0.7903\n",
            "Epoch 259/500\n",
            "165/165 [==============================] - 0s 2ms/step - loss: 0.0420 - r2: 0.8221 - val_loss: 0.0396 - val_r2: 0.8142\n",
            "Epoch 260/500\n",
            "165/165 [==============================] - 0s 1ms/step - loss: 0.0403 - r2: 0.8304 - val_loss: 0.0438 - val_r2: 0.7953\n",
            "Epoch 261/500\n",
            "165/165 [==============================] - 0s 1ms/step - loss: 0.0417 - r2: 0.8234 - val_loss: 0.0435 - val_r2: 0.7976\n",
            "Epoch 262/500\n",
            "165/165 [==============================] - 0s 2ms/step - loss: 0.0414 - r2: 0.8239 - val_loss: 0.0432 - val_r2: 0.7973\n",
            "Epoch 263/500\n",
            "165/165 [==============================] - 0s 2ms/step - loss: 0.0426 - r2: 0.8192 - val_loss: 0.0405 - val_r2: 0.8115\n",
            "Epoch 264/500\n",
            "165/165 [==============================] - 0s 2ms/step - loss: 0.0417 - r2: 0.8233 - val_loss: 0.0494 - val_r2: 0.7699\n",
            "Epoch 265/500\n",
            "165/165 [==============================] - 0s 2ms/step - loss: 0.0420 - r2: 0.8220 - val_loss: 0.0410 - val_r2: 0.8095\n",
            "Epoch 266/500\n",
            "165/165 [==============================] - 0s 2ms/step - loss: 0.0409 - r2: 0.8268 - val_loss: 0.0394 - val_r2: 0.8149\n",
            "Epoch 267/500\n",
            "165/165 [==============================] - 0s 2ms/step - loss: 0.0418 - r2: 0.8229 - val_loss: 0.0400 - val_r2: 0.8132\n",
            "Epoch 268/500\n",
            "165/165 [==============================] - 0s 1ms/step - loss: 0.0413 - r2: 0.8249 - val_loss: 0.0408 - val_r2: 0.8096\n",
            "Epoch 269/500\n",
            "165/165 [==============================] - 0s 1ms/step - loss: 0.0413 - r2: 0.8233 - val_loss: 0.0408 - val_r2: 0.8087\n",
            "Epoch 270/500\n",
            "165/165 [==============================] - 0s 1ms/step - loss: 0.0404 - r2: 0.8281 - val_loss: 0.0402 - val_r2: 0.8120\n",
            "Epoch 271/500\n",
            "165/165 [==============================] - 0s 1ms/step - loss: 0.0423 - r2: 0.8210 - val_loss: 0.0394 - val_r2: 0.8149\n",
            "Epoch 272/500\n",
            "165/165 [==============================] - 0s 1ms/step - loss: 0.0414 - r2: 0.8248 - val_loss: 0.0418 - val_r2: 0.8048\n",
            "Epoch 273/500\n",
            "165/165 [==============================] - 0s 1ms/step - loss: 0.0400 - r2: 0.8303 - val_loss: 0.0433 - val_r2: 0.7967\n",
            "Epoch 274/500\n",
            "165/165 [==============================] - 0s 2ms/step - loss: 0.0412 - r2: 0.8255 - val_loss: 0.0391 - val_r2: 0.8177\n",
            "Epoch 275/500\n",
            "165/165 [==============================] - 0s 1ms/step - loss: 0.0412 - r2: 0.8250 - val_loss: 0.0396 - val_r2: 0.8152\n",
            "Epoch 276/500\n",
            "165/165 [==============================] - 0s 2ms/step - loss: 0.0419 - r2: 0.8230 - val_loss: 0.0438 - val_r2: 0.7942\n",
            "Epoch 277/500\n",
            "165/165 [==============================] - 0s 1ms/step - loss: 0.0413 - r2: 0.8247 - val_loss: 0.0424 - val_r2: 0.8015\n",
            "Epoch 278/500\n",
            "165/165 [==============================] - 0s 2ms/step - loss: 0.0412 - r2: 0.8252 - val_loss: 0.0397 - val_r2: 0.8138\n",
            "Epoch 279/500\n",
            "165/165 [==============================] - 0s 1ms/step - loss: 0.0410 - r2: 0.8260 - val_loss: 0.0406 - val_r2: 0.8104\n",
            "Epoch 280/500\n",
            "165/165 [==============================] - 0s 1ms/step - loss: 0.0409 - r2: 0.8278 - val_loss: 0.0396 - val_r2: 0.8143\n",
            "Epoch 281/500\n",
            "165/165 [==============================] - 0s 2ms/step - loss: 0.0411 - r2: 0.8266 - val_loss: 0.0396 - val_r2: 0.8135\n",
            "Epoch 282/500\n",
            "165/165 [==============================] - 0s 2ms/step - loss: 0.0409 - r2: 0.8270 - val_loss: 0.0402 - val_r2: 0.8112\n",
            "Epoch 283/500\n",
            "165/165 [==============================] - 0s 1ms/step - loss: 0.0405 - r2: 0.8276 - val_loss: 0.0427 - val_r2: 0.8007\n",
            "Epoch 284/500\n",
            "165/165 [==============================] - 0s 2ms/step - loss: 0.0419 - r2: 0.8224 - val_loss: 0.0400 - val_r2: 0.8132\n",
            "Epoch 285/500\n",
            "165/165 [==============================] - 0s 2ms/step - loss: 0.0400 - r2: 0.8308 - val_loss: 0.0456 - val_r2: 0.7849\n",
            "Epoch 286/500\n",
            "165/165 [==============================] - 0s 2ms/step - loss: 0.0417 - r2: 0.8240 - val_loss: 0.0402 - val_r2: 0.8112\n",
            "Epoch 287/500\n",
            "165/165 [==============================] - 0s 1ms/step - loss: 0.0415 - r2: 0.8242 - val_loss: 0.0401 - val_r2: 0.8126\n",
            "Epoch 288/500\n",
            "165/165 [==============================] - 0s 2ms/step - loss: 0.0416 - r2: 0.8230 - val_loss: 0.0421 - val_r2: 0.8049\n",
            "Epoch 289/500\n",
            "165/165 [==============================] - 0s 2ms/step - loss: 0.0414 - r2: 0.8250 - val_loss: 0.0411 - val_r2: 0.8061\n",
            "Epoch 290/500\n",
            "165/165 [==============================] - 0s 2ms/step - loss: 0.0407 - r2: 0.8266 - val_loss: 0.0420 - val_r2: 0.8015\n",
            "Epoch 291/500\n",
            "165/165 [==============================] - 0s 2ms/step - loss: 0.0415 - r2: 0.8247 - val_loss: 0.0408 - val_r2: 0.8077\n",
            "Epoch 292/500\n",
            "165/165 [==============================] - 0s 1ms/step - loss: 0.0416 - r2: 0.8226 - val_loss: 0.0545 - val_r2: 0.7474\n",
            "Epoch 293/500\n",
            "165/165 [==============================] - 0s 1ms/step - loss: 0.0403 - r2: 0.8267 - val_loss: 0.0412 - val_r2: 0.8076\n",
            "Epoch 294/500\n",
            "165/165 [==============================] - 0s 2ms/step - loss: 0.0413 - r2: 0.8248 - val_loss: 0.0424 - val_r2: 0.8021\n",
            "Epoch 295/500\n",
            "165/165 [==============================] - 0s 1ms/step - loss: 0.0412 - r2: 0.8259 - val_loss: 0.0405 - val_r2: 0.8108\n",
            "Epoch 296/500\n",
            "165/165 [==============================] - 0s 2ms/step - loss: 0.0400 - r2: 0.8296 - val_loss: 0.0393 - val_r2: 0.8158\n",
            "Epoch 297/500\n",
            "165/165 [==============================] - 0s 2ms/step - loss: 0.0412 - r2: 0.8261 - val_loss: 0.0414 - val_r2: 0.8061\n",
            "Epoch 298/500\n",
            "165/165 [==============================] - 0s 2ms/step - loss: 0.0402 - r2: 0.8292 - val_loss: 0.0405 - val_r2: 0.8098\n",
            "Epoch 299/500\n",
            "165/165 [==============================] - 0s 2ms/step - loss: 0.0402 - r2: 0.8290 - val_loss: 0.0444 - val_r2: 0.7920\n",
            "Epoch 300/500\n",
            "165/165 [==============================] - 0s 2ms/step - loss: 0.0409 - r2: 0.8267 - val_loss: 0.0401 - val_r2: 0.8118\n",
            "Epoch 301/500\n",
            "165/165 [==============================] - 0s 1ms/step - loss: 0.0400 - r2: 0.8306 - val_loss: 0.0427 - val_r2: 0.8004\n",
            "Epoch 302/500\n",
            "165/165 [==============================] - 0s 1ms/step - loss: 0.0394 - r2: 0.8328 - val_loss: 0.0402 - val_r2: 0.8110\n",
            "Epoch 303/500\n",
            "165/165 [==============================] - 0s 2ms/step - loss: 0.0406 - r2: 0.8285 - val_loss: 0.0385 - val_r2: 0.8182\n",
            "Epoch 304/500\n",
            "165/165 [==============================] - 0s 2ms/step - loss: 0.0408 - r2: 0.8273 - val_loss: 0.0407 - val_r2: 0.8093\n",
            "Epoch 305/500\n",
            "165/165 [==============================] - 0s 2ms/step - loss: 0.0396 - r2: 0.8321 - val_loss: 0.0389 - val_r2: 0.8186\n",
            "Epoch 306/500\n",
            "165/165 [==============================] - 0s 2ms/step - loss: 0.0397 - r2: 0.8329 - val_loss: 0.0454 - val_r2: 0.7848\n",
            "Epoch 307/500\n",
            "165/165 [==============================] - 0s 2ms/step - loss: 0.0395 - r2: 0.8324 - val_loss: 0.0391 - val_r2: 0.8177\n",
            "Epoch 308/500\n",
            "165/165 [==============================] - 0s 2ms/step - loss: 0.0395 - r2: 0.8320 - val_loss: 0.0408 - val_r2: 0.8078\n",
            "Epoch 309/500\n",
            "165/165 [==============================] - 0s 2ms/step - loss: 0.0402 - r2: 0.8295 - val_loss: 0.0447 - val_r2: 0.7898\n",
            "Epoch 310/500\n",
            "165/165 [==============================] - 0s 2ms/step - loss: 0.0419 - r2: 0.8210 - val_loss: 0.0398 - val_r2: 0.8133\n",
            "Epoch 311/500\n",
            "165/165 [==============================] - 0s 1ms/step - loss: 0.0389 - r2: 0.8362 - val_loss: 0.0382 - val_r2: 0.8220\n",
            "Epoch 312/500\n",
            "165/165 [==============================] - 0s 2ms/step - loss: 0.0415 - r2: 0.8231 - val_loss: 0.0399 - val_r2: 0.8113\n",
            "Epoch 313/500\n",
            "165/165 [==============================] - 0s 2ms/step - loss: 0.0393 - r2: 0.8333 - val_loss: 0.0423 - val_r2: 0.8020\n",
            "Epoch 314/500\n",
            "165/165 [==============================] - 0s 2ms/step - loss: 0.0400 - r2: 0.8299 - val_loss: 0.0413 - val_r2: 0.8067\n",
            "Epoch 315/500\n",
            "165/165 [==============================] - 0s 2ms/step - loss: 0.0401 - r2: 0.8300 - val_loss: 0.0401 - val_r2: 0.8115\n",
            "Epoch 316/500\n",
            "165/165 [==============================] - 0s 2ms/step - loss: 0.0394 - r2: 0.8332 - val_loss: 0.0393 - val_r2: 0.8143\n",
            "Epoch 317/500\n",
            "165/165 [==============================] - 0s 2ms/step - loss: 0.0391 - r2: 0.8344 - val_loss: 0.0386 - val_r2: 0.8196\n",
            "Epoch 318/500\n",
            "165/165 [==============================] - 0s 2ms/step - loss: 0.0404 - r2: 0.8289 - val_loss: 0.0392 - val_r2: 0.8149\n",
            "Epoch 319/500\n",
            "165/165 [==============================] - 0s 1ms/step - loss: 0.0415 - r2: 0.8243 - val_loss: 0.0388 - val_r2: 0.8174\n",
            "Epoch 320/500\n",
            "165/165 [==============================] - 0s 2ms/step - loss: 0.0394 - r2: 0.8338 - val_loss: 0.0400 - val_r2: 0.8101\n",
            "Epoch 321/500\n",
            "165/165 [==============================] - 0s 1ms/step - loss: 0.0394 - r2: 0.8330 - val_loss: 0.0394 - val_r2: 0.8152\n",
            "Epoch 322/500\n",
            "165/165 [==============================] - 0s 2ms/step - loss: 0.0389 - r2: 0.8340 - val_loss: 0.0418 - val_r2: 0.8041\n",
            "Epoch 323/500\n",
            "165/165 [==============================] - 0s 1ms/step - loss: 0.0393 - r2: 0.8336 - val_loss: 0.0405 - val_r2: 0.8096\n",
            "Epoch 324/500\n",
            "165/165 [==============================] - 0s 2ms/step - loss: 0.0413 - r2: 0.8238 - val_loss: 0.0448 - val_r2: 0.7885\n",
            "Epoch 325/500\n",
            "165/165 [==============================] - 0s 2ms/step - loss: 0.0397 - r2: 0.8316 - val_loss: 0.0393 - val_r2: 0.8157\n",
            "Epoch 326/500\n",
            "165/165 [==============================] - 0s 1ms/step - loss: 0.0390 - r2: 0.8351 - val_loss: 0.0406 - val_r2: 0.8081\n",
            "Epoch 327/500\n",
            "165/165 [==============================] - 0s 2ms/step - loss: 0.0397 - r2: 0.8317 - val_loss: 0.0409 - val_r2: 0.8066\n",
            "Epoch 328/500\n",
            "165/165 [==============================] - 0s 2ms/step - loss: 0.0390 - r2: 0.8339 - val_loss: 0.0407 - val_r2: 0.8082\n",
            "Epoch 329/500\n",
            "165/165 [==============================] - 0s 2ms/step - loss: 0.0396 - r2: 0.8311 - val_loss: 0.0380 - val_r2: 0.8210\n",
            "Epoch 330/500\n",
            "165/165 [==============================] - 0s 1ms/step - loss: 0.0395 - r2: 0.8328 - val_loss: 0.0385 - val_r2: 0.8196\n",
            "Epoch 331/500\n",
            "165/165 [==============================] - 0s 2ms/step - loss: 0.0389 - r2: 0.8347 - val_loss: 0.0382 - val_r2: 0.8214\n",
            "Epoch 332/500\n",
            "165/165 [==============================] - 0s 2ms/step - loss: 0.0412 - r2: 0.8250 - val_loss: 0.0400 - val_r2: 0.8119\n",
            "Epoch 333/500\n",
            "165/165 [==============================] - 0s 1ms/step - loss: 0.0388 - r2: 0.8363 - val_loss: 0.0382 - val_r2: 0.8191\n",
            "Epoch 334/500\n",
            "165/165 [==============================] - 0s 2ms/step - loss: 0.0391 - r2: 0.8335 - val_loss: 0.0387 - val_r2: 0.8170\n",
            "Epoch 335/500\n",
            "165/165 [==============================] - 0s 2ms/step - loss: 0.0389 - r2: 0.8354 - val_loss: 0.0422 - val_r2: 0.8017\n",
            "Epoch 336/500\n",
            "165/165 [==============================] - 0s 2ms/step - loss: 0.0398 - r2: 0.8306 - val_loss: 0.0377 - val_r2: 0.8223\n",
            "Epoch 337/500\n",
            "165/165 [==============================] - 0s 1ms/step - loss: 0.0402 - r2: 0.8311 - val_loss: 0.0389 - val_r2: 0.8173\n",
            "Epoch 338/500\n",
            "165/165 [==============================] - 0s 2ms/step - loss: 0.0400 - r2: 0.8307 - val_loss: 0.0393 - val_r2: 0.8133\n",
            "Epoch 339/500\n",
            "165/165 [==============================] - 0s 2ms/step - loss: 0.0393 - r2: 0.8339 - val_loss: 0.0394 - val_r2: 0.8125\n",
            "Epoch 340/500\n",
            "165/165 [==============================] - 0s 2ms/step - loss: 0.0387 - r2: 0.8355 - val_loss: 0.0439 - val_r2: 0.7947\n",
            "Epoch 341/500\n",
            "165/165 [==============================] - 0s 2ms/step - loss: 0.0395 - r2: 0.8337 - val_loss: 0.0383 - val_r2: 0.8191\n",
            "Epoch 342/500\n",
            "165/165 [==============================] - 0s 2ms/step - loss: 0.0387 - r2: 0.8357 - val_loss: 0.0435 - val_r2: 0.7939\n",
            "Epoch 343/500\n",
            "165/165 [==============================] - 0s 2ms/step - loss: 0.0400 - r2: 0.8306 - val_loss: 0.0520 - val_r2: 0.7548\n",
            "Epoch 344/500\n",
            "165/165 [==============================] - 0s 1ms/step - loss: 0.0388 - r2: 0.8350 - val_loss: 0.0382 - val_r2: 0.8192\n",
            "Epoch 345/500\n",
            "165/165 [==============================] - 0s 2ms/step - loss: 0.0391 - r2: 0.8345 - val_loss: 0.0392 - val_r2: 0.8154\n",
            "Epoch 346/500\n",
            "165/165 [==============================] - 0s 2ms/step - loss: 0.0394 - r2: 0.8325 - val_loss: 0.0402 - val_r2: 0.8112\n",
            "Epoch 347/500\n",
            "165/165 [==============================] - 0s 2ms/step - loss: 0.0384 - r2: 0.8374 - val_loss: 0.0383 - val_r2: 0.8175\n",
            "Epoch 348/500\n",
            "165/165 [==============================] - 0s 2ms/step - loss: 0.0396 - r2: 0.8330 - val_loss: 0.0405 - val_r2: 0.8099\n",
            "Epoch 349/500\n",
            "165/165 [==============================] - 0s 2ms/step - loss: 0.0386 - r2: 0.8362 - val_loss: 0.0420 - val_r2: 0.8034\n",
            "Epoch 350/500\n",
            "165/165 [==============================] - 0s 1ms/step - loss: 0.0388 - r2: 0.8348 - val_loss: 0.0396 - val_r2: 0.8143\n",
            "Epoch 351/500\n",
            "165/165 [==============================] - 0s 2ms/step - loss: 0.0397 - r2: 0.8317 - val_loss: 0.0412 - val_r2: 0.8061\n",
            "Epoch 352/500\n",
            "165/165 [==============================] - 0s 1ms/step - loss: 0.0389 - r2: 0.8356 - val_loss: 0.0407 - val_r2: 0.8076\n",
            "Epoch 353/500\n",
            "165/165 [==============================] - 0s 2ms/step - loss: 0.0391 - r2: 0.8341 - val_loss: 0.0395 - val_r2: 0.8152\n",
            "Epoch 354/500\n",
            "165/165 [==============================] - 0s 2ms/step - loss: 0.0383 - r2: 0.8377 - val_loss: 0.0383 - val_r2: 0.8182\n",
            "Epoch 355/500\n",
            "165/165 [==============================] - 0s 2ms/step - loss: 0.0410 - r2: 0.8261 - val_loss: 0.0447 - val_r2: 0.7903\n",
            "Epoch 356/500\n",
            "165/165 [==============================] - 0s 2ms/step - loss: 0.0386 - r2: 0.8347 - val_loss: 0.0511 - val_r2: 0.7595\n",
            "Epoch 357/500\n",
            "165/165 [==============================] - 0s 2ms/step - loss: 0.0403 - r2: 0.8285 - val_loss: 0.0475 - val_r2: 0.7784\n",
            "Epoch 358/500\n",
            "165/165 [==============================] - 0s 2ms/step - loss: 0.0391 - r2: 0.8344 - val_loss: 0.0380 - val_r2: 0.8200\n",
            "Epoch 359/500\n",
            "165/165 [==============================] - 0s 2ms/step - loss: 0.0381 - r2: 0.8381 - val_loss: 0.0379 - val_r2: 0.8220\n",
            "Epoch 360/500\n",
            "165/165 [==============================] - 0s 2ms/step - loss: 0.0382 - r2: 0.8388 - val_loss: 0.0398 - val_r2: 0.8124\n",
            "Epoch 361/500\n",
            "165/165 [==============================] - 0s 2ms/step - loss: 0.0386 - r2: 0.8351 - val_loss: 0.0392 - val_r2: 0.8159\n",
            "Epoch 362/500\n",
            "165/165 [==============================] - 0s 2ms/step - loss: 0.0388 - r2: 0.8353 - val_loss: 0.0401 - val_r2: 0.8116\n",
            "Epoch 363/500\n",
            "165/165 [==============================] - 0s 2ms/step - loss: 0.0385 - r2: 0.8368 - val_loss: 0.0381 - val_r2: 0.8205\n",
            "Epoch 364/500\n",
            "165/165 [==============================] - 0s 2ms/step - loss: 0.0393 - r2: 0.8339 - val_loss: 0.0403 - val_r2: 0.8099\n",
            "Epoch 365/500\n",
            "165/165 [==============================] - 0s 2ms/step - loss: 0.0394 - r2: 0.8338 - val_loss: 0.0424 - val_r2: 0.7989\n",
            "Epoch 366/500\n",
            "165/165 [==============================] - 0s 2ms/step - loss: 0.0384 - r2: 0.8364 - val_loss: 0.0379 - val_r2: 0.8221\n",
            "Epoch 367/500\n",
            "165/165 [==============================] - 0s 2ms/step - loss: 0.0394 - r2: 0.8329 - val_loss: 0.0415 - val_r2: 0.8056\n",
            "Epoch 368/500\n",
            "165/165 [==============================] - 0s 2ms/step - loss: 0.0390 - r2: 0.8343 - val_loss: 0.0438 - val_r2: 0.7948\n",
            "Epoch 369/500\n",
            "165/165 [==============================] - 0s 2ms/step - loss: 0.0386 - r2: 0.8368 - val_loss: 0.0411 - val_r2: 0.8086\n",
            "Epoch 370/500\n",
            "165/165 [==============================] - 0s 2ms/step - loss: 0.0388 - r2: 0.8361 - val_loss: 0.0408 - val_r2: 0.8062\n",
            "Epoch 371/500\n",
            "165/165 [==============================] - 0s 2ms/step - loss: 0.0385 - r2: 0.8370 - val_loss: 0.0416 - val_r2: 0.8034\n",
            "Epoch 372/500\n",
            "165/165 [==============================] - 0s 1ms/step - loss: 0.0385 - r2: 0.8366 - val_loss: 0.0426 - val_r2: 0.7990\n",
            "Epoch 373/500\n",
            "165/165 [==============================] - 0s 2ms/step - loss: 0.0395 - r2: 0.8314 - val_loss: 0.0386 - val_r2: 0.8172\n",
            "Epoch 374/500\n",
            "165/165 [==============================] - 0s 2ms/step - loss: 0.0385 - r2: 0.8369 - val_loss: 0.0387 - val_r2: 0.8171\n",
            "Epoch 375/500\n",
            "165/165 [==============================] - 0s 2ms/step - loss: 0.0402 - r2: 0.8300 - val_loss: 0.0426 - val_r2: 0.7986\n",
            "Epoch 376/500\n",
            "165/165 [==============================] - 0s 2ms/step - loss: 0.0394 - r2: 0.8337 - val_loss: 0.0386 - val_r2: 0.8158\n",
            "Epoch 377/500\n",
            "165/165 [==============================] - 0s 2ms/step - loss: 0.0385 - r2: 0.8364 - val_loss: 0.0379 - val_r2: 0.8206\n",
            "Epoch 378/500\n",
            "165/165 [==============================] - 0s 2ms/step - loss: 0.0385 - r2: 0.8357 - val_loss: 0.0423 - val_r2: 0.8001\n",
            "Epoch 379/500\n",
            "165/165 [==============================] - 0s 2ms/step - loss: 0.0382 - r2: 0.8377 - val_loss: 0.0384 - val_r2: 0.8169\n",
            "Epoch 380/500\n",
            "165/165 [==============================] - 0s 2ms/step - loss: 0.0387 - r2: 0.8354 - val_loss: 0.0396 - val_r2: 0.8133\n",
            "Epoch 381/500\n",
            "165/165 [==============================] - 0s 2ms/step - loss: 0.0385 - r2: 0.8348 - val_loss: 0.0385 - val_r2: 0.8177\n",
            "Epoch 382/500\n",
            "165/165 [==============================] - 0s 2ms/step - loss: 0.0385 - r2: 0.8371 - val_loss: 0.0376 - val_r2: 0.8215\n",
            "Epoch 383/500\n",
            "165/165 [==============================] - 0s 2ms/step - loss: 0.0386 - r2: 0.8368 - val_loss: 0.0411 - val_r2: 0.8076\n",
            "Epoch 384/500\n",
            "165/165 [==============================] - 0s 2ms/step - loss: 0.0389 - r2: 0.8354 - val_loss: 0.0377 - val_r2: 0.8227\n",
            "Epoch 385/500\n",
            "165/165 [==============================] - 0s 2ms/step - loss: 0.0385 - r2: 0.8360 - val_loss: 0.0415 - val_r2: 0.8028\n",
            "Epoch 386/500\n",
            "165/165 [==============================] - 0s 2ms/step - loss: 0.0386 - r2: 0.8354 - val_loss: 0.0387 - val_r2: 0.8163\n",
            "Epoch 387/500\n",
            "165/165 [==============================] - 0s 2ms/step - loss: 0.0389 - r2: 0.8347 - val_loss: 0.0399 - val_r2: 0.8110\n",
            "Epoch 388/500\n",
            "165/165 [==============================] - 0s 2ms/step - loss: 0.0397 - r2: 0.8320 - val_loss: 0.0382 - val_r2: 0.8196\n",
            "Epoch 389/500\n",
            "165/165 [==============================] - 0s 2ms/step - loss: 0.0393 - r2: 0.8345 - val_loss: 0.0393 - val_r2: 0.8137\n",
            "Epoch 390/500\n",
            "165/165 [==============================] - 0s 2ms/step - loss: 0.0391 - r2: 0.8339 - val_loss: 0.0450 - val_r2: 0.7868\n",
            "Epoch 391/500\n",
            "165/165 [==============================] - 0s 2ms/step - loss: 0.0384 - r2: 0.8372 - val_loss: 0.0373 - val_r2: 0.8242\n",
            "Epoch 392/500\n",
            "165/165 [==============================] - 0s 2ms/step - loss: 0.0380 - r2: 0.8397 - val_loss: 0.0382 - val_r2: 0.8198\n",
            "Epoch 393/500\n",
            "165/165 [==============================] - 0s 2ms/step - loss: 0.0398 - r2: 0.8298 - val_loss: 0.0391 - val_r2: 0.8152\n",
            "Epoch 394/500\n",
            "165/165 [==============================] - 0s 2ms/step - loss: 0.0377 - r2: 0.8411 - val_loss: 0.0398 - val_r2: 0.8116\n",
            "Epoch 395/500\n",
            "165/165 [==============================] - 0s 2ms/step - loss: 0.0380 - r2: 0.8387 - val_loss: 0.0399 - val_r2: 0.8119\n",
            "Epoch 396/500\n",
            "165/165 [==============================] - 0s 2ms/step - loss: 0.0394 - r2: 0.8338 - val_loss: 0.0409 - val_r2: 0.8081\n",
            "Epoch 397/500\n",
            "165/165 [==============================] - 0s 2ms/step - loss: 0.0393 - r2: 0.8323 - val_loss: 0.0379 - val_r2: 0.8217\n",
            "Epoch 398/500\n",
            "165/165 [==============================] - 0s 2ms/step - loss: 0.0386 - r2: 0.8365 - val_loss: 0.0493 - val_r2: 0.7703\n",
            "Epoch 399/500\n",
            "165/165 [==============================] - 0s 2ms/step - loss: 0.0392 - r2: 0.8331 - val_loss: 0.0373 - val_r2: 0.8221\n",
            "Epoch 400/500\n",
            "165/165 [==============================] - 0s 2ms/step - loss: 0.0393 - r2: 0.8341 - val_loss: 0.0383 - val_r2: 0.8184\n",
            "Epoch 401/500\n",
            "165/165 [==============================] - 0s 2ms/step - loss: 0.0392 - r2: 0.8345 - val_loss: 0.0394 - val_r2: 0.8136\n",
            "Epoch 402/500\n",
            "165/165 [==============================] - 0s 2ms/step - loss: 0.0384 - r2: 0.8357 - val_loss: 0.0401 - val_r2: 0.8121\n",
            "Epoch 403/500\n",
            "165/165 [==============================] - 0s 2ms/step - loss: 0.0386 - r2: 0.8360 - val_loss: 0.0420 - val_r2: 0.8022\n",
            "Epoch 404/500\n",
            "165/165 [==============================] - 0s 2ms/step - loss: 0.0389 - r2: 0.8356 - val_loss: 0.0378 - val_r2: 0.8216\n",
            "Epoch 405/500\n",
            "165/165 [==============================] - 0s 2ms/step - loss: 0.0391 - r2: 0.8334 - val_loss: 0.0387 - val_r2: 0.8150\n",
            "Epoch 406/500\n",
            "165/165 [==============================] - 0s 2ms/step - loss: 0.0381 - r2: 0.8384 - val_loss: 0.0375 - val_r2: 0.8212\n",
            "Epoch 407/500\n",
            "165/165 [==============================] - 0s 2ms/step - loss: 0.0390 - r2: 0.8344 - val_loss: 0.0389 - val_r2: 0.8153\n",
            "Epoch 408/500\n",
            "165/165 [==============================] - 0s 1ms/step - loss: 0.0392 - r2: 0.8344 - val_loss: 0.0429 - val_r2: 0.8008\n",
            "Epoch 409/500\n",
            "165/165 [==============================] - 0s 2ms/step - loss: 0.0392 - r2: 0.8335 - val_loss: 0.0388 - val_r2: 0.8178\n",
            "Epoch 410/500\n",
            "165/165 [==============================] - 0s 2ms/step - loss: 0.0393 - r2: 0.8314 - val_loss: 0.0371 - val_r2: 0.8246\n",
            "Epoch 411/500\n",
            "165/165 [==============================] - 0s 2ms/step - loss: 0.0386 - r2: 0.8373 - val_loss: 0.0382 - val_r2: 0.8191\n",
            "Epoch 412/500\n",
            "165/165 [==============================] - 0s 2ms/step - loss: 0.0388 - r2: 0.8359 - val_loss: 0.0394 - val_r2: 0.8160\n",
            "Epoch 413/500\n",
            "165/165 [==============================] - 0s 2ms/step - loss: 0.0388 - r2: 0.8346 - val_loss: 0.0380 - val_r2: 0.8199\n",
            "Epoch 414/500\n",
            "165/165 [==============================] - 0s 2ms/step - loss: 0.0379 - r2: 0.8397 - val_loss: 0.0379 - val_r2: 0.8195\n",
            "Epoch 415/500\n",
            "165/165 [==============================] - 0s 2ms/step - loss: 0.0378 - r2: 0.8388 - val_loss: 0.0379 - val_r2: 0.8222\n",
            "Epoch 416/500\n",
            "165/165 [==============================] - 0s 2ms/step - loss: 0.0386 - r2: 0.8353 - val_loss: 0.0390 - val_r2: 0.8162\n",
            "Epoch 417/500\n",
            "165/165 [==============================] - 0s 2ms/step - loss: 0.0378 - r2: 0.8399 - val_loss: 0.0410 - val_r2: 0.8054\n",
            "Epoch 418/500\n",
            "165/165 [==============================] - 0s 2ms/step - loss: 0.0394 - r2: 0.8325 - val_loss: 0.0377 - val_r2: 0.8228\n",
            "Epoch 419/500\n",
            "165/165 [==============================] - 0s 2ms/step - loss: 0.0383 - r2: 0.8372 - val_loss: 0.0401 - val_r2: 0.8106\n",
            "Epoch 420/500\n",
            "165/165 [==============================] - 0s 2ms/step - loss: 0.0386 - r2: 0.8364 - val_loss: 0.0386 - val_r2: 0.8172\n",
            "Epoch 421/500\n",
            "165/165 [==============================] - 0s 2ms/step - loss: 0.0387 - r2: 0.8360 - val_loss: 0.0385 - val_r2: 0.8179\n",
            "Epoch 422/500\n",
            "165/165 [==============================] - 0s 2ms/step - loss: 0.0390 - r2: 0.8335 - val_loss: 0.0381 - val_r2: 0.8184\n",
            "Epoch 423/500\n",
            "165/165 [==============================] - 0s 2ms/step - loss: 0.0383 - r2: 0.8377 - val_loss: 0.0387 - val_r2: 0.8173\n",
            "Epoch 424/500\n",
            "165/165 [==============================] - 0s 2ms/step - loss: 0.0383 - r2: 0.8376 - val_loss: 0.0386 - val_r2: 0.8172\n",
            "Epoch 425/500\n",
            "165/165 [==============================] - 0s 2ms/step - loss: 0.0392 - r2: 0.8340 - val_loss: 0.0379 - val_r2: 0.8200\n",
            "Epoch 426/500\n",
            "165/165 [==============================] - 0s 2ms/step - loss: 0.0390 - r2: 0.8355 - val_loss: 0.0410 - val_r2: 0.8071\n",
            "Epoch 427/500\n",
            "165/165 [==============================] - 0s 2ms/step - loss: 0.0384 - r2: 0.8379 - val_loss: 0.0394 - val_r2: 0.8148\n",
            "Epoch 428/500\n",
            "165/165 [==============================] - 0s 2ms/step - loss: 0.0378 - r2: 0.8394 - val_loss: 0.0388 - val_r2: 0.8154\n",
            "Epoch 429/500\n",
            "165/165 [==============================] - 0s 2ms/step - loss: 0.0389 - r2: 0.8346 - val_loss: 0.0403 - val_r2: 0.8087\n",
            "Epoch 430/500\n",
            "165/165 [==============================] - 0s 2ms/step - loss: 0.0385 - r2: 0.8366 - val_loss: 0.0392 - val_r2: 0.8145\n",
            "Epoch 431/500\n",
            "165/165 [==============================] - 0s 2ms/step - loss: 0.0384 - r2: 0.8369 - val_loss: 0.0404 - val_r2: 0.8100\n",
            "Epoch 432/500\n",
            "165/165 [==============================] - 0s 2ms/step - loss: 0.0379 - r2: 0.8393 - val_loss: 0.0376 - val_r2: 0.8210\n",
            "Epoch 433/500\n",
            "165/165 [==============================] - 0s 2ms/step - loss: 0.0394 - r2: 0.8335 - val_loss: 0.0374 - val_r2: 0.8248\n",
            "Epoch 434/500\n",
            "165/165 [==============================] - 0s 2ms/step - loss: 0.0383 - r2: 0.8366 - val_loss: 0.0378 - val_r2: 0.8218\n",
            "Epoch 435/500\n",
            "165/165 [==============================] - 0s 2ms/step - loss: 0.0378 - r2: 0.8390 - val_loss: 0.0397 - val_r2: 0.8121\n",
            "Epoch 436/500\n",
            "165/165 [==============================] - 0s 2ms/step - loss: 0.0387 - r2: 0.8358 - val_loss: 0.0379 - val_r2: 0.8221\n",
            "Epoch 437/500\n",
            "165/165 [==============================] - 0s 1ms/step - loss: 0.0379 - r2: 0.8388 - val_loss: 0.0391 - val_r2: 0.8148\n",
            "Epoch 438/500\n",
            "165/165 [==============================] - 0s 2ms/step - loss: 0.0389 - r2: 0.8355 - val_loss: 0.0420 - val_r2: 0.8026\n",
            "Epoch 439/500\n",
            "165/165 [==============================] - 0s 2ms/step - loss: 0.0379 - r2: 0.8397 - val_loss: 0.0382 - val_r2: 0.8204\n",
            "Epoch 440/500\n",
            "165/165 [==============================] - 0s 2ms/step - loss: 0.0385 - r2: 0.8369 - val_loss: 0.0381 - val_r2: 0.8190\n",
            "Epoch 441/500\n",
            "165/165 [==============================] - 0s 2ms/step - loss: 0.0389 - r2: 0.8349 - val_loss: 0.0379 - val_r2: 0.8223\n",
            "Epoch 442/500\n",
            "165/165 [==============================] - 0s 2ms/step - loss: 0.0378 - r2: 0.8393 - val_loss: 0.0403 - val_r2: 0.8103\n",
            "Epoch 443/500\n",
            "165/165 [==============================] - 0s 2ms/step - loss: 0.0378 - r2: 0.8403 - val_loss: 0.0392 - val_r2: 0.8160\n",
            "Epoch 444/500\n",
            "165/165 [==============================] - 0s 2ms/step - loss: 0.0379 - r2: 0.8398 - val_loss: 0.0419 - val_r2: 0.8000\n",
            "Epoch 445/500\n",
            "165/165 [==============================] - 0s 1ms/step - loss: 0.0378 - r2: 0.8397 - val_loss: 0.0382 - val_r2: 0.8198\n",
            "Epoch 446/500\n",
            "165/165 [==============================] - 0s 2ms/step - loss: 0.0389 - r2: 0.8344 - val_loss: 0.0366 - val_r2: 0.8264\n",
            "Epoch 447/500\n",
            "165/165 [==============================] - 0s 2ms/step - loss: 0.0378 - r2: 0.8394 - val_loss: 0.0372 - val_r2: 0.8245\n",
            "Epoch 448/500\n",
            "165/165 [==============================] - 0s 2ms/step - loss: 0.0387 - r2: 0.8357 - val_loss: 0.0476 - val_r2: 0.7760\n",
            "Epoch 449/500\n",
            "165/165 [==============================] - 0s 2ms/step - loss: 0.0378 - r2: 0.8397 - val_loss: 0.0407 - val_r2: 0.8077\n",
            "Epoch 450/500\n",
            "165/165 [==============================] - 0s 2ms/step - loss: 0.0381 - r2: 0.8379 - val_loss: 0.0395 - val_r2: 0.8133\n",
            "Epoch 451/500\n",
            "165/165 [==============================] - 0s 2ms/step - loss: 0.0392 - r2: 0.8333 - val_loss: 0.0374 - val_r2: 0.8229\n",
            "Epoch 452/500\n",
            "165/165 [==============================] - 0s 2ms/step - loss: 0.0375 - r2: 0.8419 - val_loss: 0.0366 - val_r2: 0.8276\n",
            "Epoch 453/500\n",
            "165/165 [==============================] - 0s 2ms/step - loss: 0.0372 - r2: 0.8421 - val_loss: 0.0382 - val_r2: 0.8184\n",
            "Epoch 454/500\n",
            "165/165 [==============================] - 0s 2ms/step - loss: 0.0379 - r2: 0.8390 - val_loss: 0.0378 - val_r2: 0.8220\n",
            "Epoch 455/500\n",
            "165/165 [==============================] - 0s 2ms/step - loss: 0.0387 - r2: 0.8364 - val_loss: 0.0368 - val_r2: 0.8259\n",
            "Epoch 456/500\n",
            "165/165 [==============================] - 0s 2ms/step - loss: 0.0378 - r2: 0.8394 - val_loss: 0.0437 - val_r2: 0.7953\n",
            "Epoch 457/500\n",
            "165/165 [==============================] - 0s 2ms/step - loss: 0.0384 - r2: 0.8377 - val_loss: 0.0381 - val_r2: 0.8197\n",
            "Epoch 458/500\n",
            "165/165 [==============================] - 0s 2ms/step - loss: 0.0373 - r2: 0.8416 - val_loss: 0.0468 - val_r2: 0.7789\n",
            "Epoch 459/500\n",
            "165/165 [==============================] - 0s 2ms/step - loss: 0.0373 - r2: 0.8410 - val_loss: 0.0388 - val_r2: 0.8139\n",
            "Epoch 460/500\n",
            "165/165 [==============================] - 0s 2ms/step - loss: 0.0382 - r2: 0.8368 - val_loss: 0.0405 - val_r2: 0.8081\n",
            "Epoch 461/500\n",
            "165/165 [==============================] - 0s 2ms/step - loss: 0.0396 - r2: 0.8320 - val_loss: 0.0401 - val_r2: 0.8096\n",
            "Epoch 462/500\n",
            "165/165 [==============================] - 0s 2ms/step - loss: 0.0375 - r2: 0.8400 - val_loss: 0.0384 - val_r2: 0.8180\n",
            "Epoch 463/500\n",
            "165/165 [==============================] - 0s 2ms/step - loss: 0.0382 - r2: 0.8379 - val_loss: 0.0373 - val_r2: 0.8249\n",
            "Epoch 464/500\n",
            "165/165 [==============================] - 0s 2ms/step - loss: 0.0391 - r2: 0.8334 - val_loss: 0.0382 - val_r2: 0.8206\n",
            "Epoch 465/500\n",
            "165/165 [==============================] - 0s 2ms/step - loss: 0.0380 - r2: 0.8399 - val_loss: 0.0378 - val_r2: 0.8218\n",
            "Epoch 466/500\n",
            "165/165 [==============================] - 0s 2ms/step - loss: 0.0372 - r2: 0.8415 - val_loss: 0.0376 - val_r2: 0.8235\n",
            "Epoch 467/500\n",
            "165/165 [==============================] - 0s 2ms/step - loss: 0.0375 - r2: 0.8410 - val_loss: 0.0399 - val_r2: 0.8126\n",
            "Epoch 468/500\n",
            "165/165 [==============================] - 0s 2ms/step - loss: 0.0379 - r2: 0.8397 - val_loss: 0.0369 - val_r2: 0.8263\n",
            "Epoch 469/500\n",
            "165/165 [==============================] - 0s 2ms/step - loss: 0.0368 - r2: 0.8444 - val_loss: 0.0379 - val_r2: 0.8197\n",
            "Epoch 470/500\n",
            "165/165 [==============================] - 0s 1ms/step - loss: 0.0387 - r2: 0.8361 - val_loss: 0.0370 - val_r2: 0.8252\n",
            "Epoch 471/500\n",
            "165/165 [==============================] - 0s 2ms/step - loss: 0.0384 - r2: 0.8367 - val_loss: 0.0366 - val_r2: 0.8271\n",
            "Epoch 472/500\n",
            "165/165 [==============================] - 0s 2ms/step - loss: 0.0382 - r2: 0.8382 - val_loss: 0.0458 - val_r2: 0.7857\n",
            "Epoch 473/500\n",
            "165/165 [==============================] - 0s 2ms/step - loss: 0.0386 - r2: 0.8364 - val_loss: 0.0384 - val_r2: 0.8174\n",
            "Epoch 474/500\n",
            "165/165 [==============================] - 0s 2ms/step - loss: 0.0377 - r2: 0.8398 - val_loss: 0.0365 - val_r2: 0.8274\n",
            "Epoch 475/500\n",
            "165/165 [==============================] - 0s 2ms/step - loss: 0.0376 - r2: 0.8412 - val_loss: 0.0378 - val_r2: 0.8218\n",
            "Epoch 476/500\n",
            "165/165 [==============================] - 0s 2ms/step - loss: 0.0375 - r2: 0.8413 - val_loss: 0.0371 - val_r2: 0.8243\n",
            "Epoch 477/500\n",
            "165/165 [==============================] - 0s 2ms/step - loss: 0.0375 - r2: 0.8406 - val_loss: 0.0380 - val_r2: 0.8191\n",
            "Epoch 478/500\n",
            "165/165 [==============================] - 0s 2ms/step - loss: 0.0381 - r2: 0.8382 - val_loss: 0.0369 - val_r2: 0.8267\n",
            "Epoch 479/500\n",
            "165/165 [==============================] - 0s 2ms/step - loss: 0.0382 - r2: 0.8380 - val_loss: 0.0393 - val_r2: 0.8155\n",
            "Epoch 480/500\n",
            "165/165 [==============================] - 0s 2ms/step - loss: 0.0381 - r2: 0.8388 - val_loss: 0.0388 - val_r2: 0.8174\n",
            "Epoch 481/500\n",
            "165/165 [==============================] - 0s 2ms/step - loss: 0.0385 - r2: 0.8378 - val_loss: 0.0380 - val_r2: 0.8207\n",
            "Epoch 482/500\n",
            "165/165 [==============================] - 0s 2ms/step - loss: 0.0373 - r2: 0.8411 - val_loss: 0.0383 - val_r2: 0.8202\n",
            "Epoch 483/500\n",
            "165/165 [==============================] - 0s 2ms/step - loss: 0.0375 - r2: 0.8407 - val_loss: 0.0371 - val_r2: 0.8255\n",
            "Epoch 484/500\n",
            "165/165 [==============================] - 0s 2ms/step - loss: 0.0377 - r2: 0.8391 - val_loss: 0.0374 - val_r2: 0.8226\n",
            "Epoch 485/500\n",
            "165/165 [==============================] - 0s 2ms/step - loss: 0.0385 - r2: 0.8359 - val_loss: 0.0376 - val_r2: 0.8239\n",
            "Epoch 486/500\n",
            "165/165 [==============================] - 0s 2ms/step - loss: 0.0380 - r2: 0.8393 - val_loss: 0.0371 - val_r2: 0.8237\n",
            "Epoch 487/500\n",
            "165/165 [==============================] - 0s 2ms/step - loss: 0.0378 - r2: 0.8393 - val_loss: 0.0389 - val_r2: 0.8167\n",
            "Epoch 488/500\n",
            "165/165 [==============================] - 0s 2ms/step - loss: 0.0372 - r2: 0.8416 - val_loss: 0.0379 - val_r2: 0.8202\n",
            "Epoch 489/500\n",
            "165/165 [==============================] - 0s 2ms/step - loss: 0.0373 - r2: 0.8423 - val_loss: 0.0375 - val_r2: 0.8216\n",
            "Epoch 490/500\n",
            "165/165 [==============================] - 0s 2ms/step - loss: 0.0374 - r2: 0.8413 - val_loss: 0.0371 - val_r2: 0.8239\n",
            "Epoch 491/500\n",
            "165/165 [==============================] - 0s 2ms/step - loss: 0.0371 - r2: 0.8416 - val_loss: 0.0371 - val_r2: 0.8246\n",
            "Epoch 492/500\n",
            "165/165 [==============================] - 0s 2ms/step - loss: 0.0375 - r2: 0.8411 - val_loss: 0.0375 - val_r2: 0.8221\n",
            "Epoch 493/500\n",
            "165/165 [==============================] - 0s 2ms/step - loss: 0.0374 - r2: 0.8410 - val_loss: 0.0378 - val_r2: 0.8213\n",
            "Epoch 494/500\n",
            "165/165 [==============================] - 0s 2ms/step - loss: 0.0391 - r2: 0.8341 - val_loss: 0.0394 - val_r2: 0.8156\n",
            "Epoch 495/500\n",
            "165/165 [==============================] - 0s 2ms/step - loss: 0.0373 - r2: 0.8422 - val_loss: 0.0397 - val_r2: 0.8120\n",
            "Epoch 496/500\n",
            "165/165 [==============================] - 0s 2ms/step - loss: 0.0377 - r2: 0.8393 - val_loss: 0.0378 - val_r2: 0.8221\n",
            "Epoch 497/500\n",
            "165/165 [==============================] - 0s 2ms/step - loss: 0.0380 - r2: 0.8401 - val_loss: 0.0375 - val_r2: 0.8244\n",
            "Epoch 498/500\n",
            "165/165 [==============================] - 0s 2ms/step - loss: 0.0375 - r2: 0.8420 - val_loss: 0.0454 - val_r2: 0.7861\n",
            "Epoch 499/500\n",
            "165/165 [==============================] - 0s 2ms/step - loss: 0.0378 - r2: 0.8391 - val_loss: 0.0373 - val_r2: 0.8239\n",
            "Epoch 500/500\n",
            "165/165 [==============================] - 0s 2ms/step - loss: 0.0380 - r2: 0.8389 - val_loss: 0.0388 - val_r2: 0.8153\n",
            "Mean absolute error on train data : 0.010644803264836621\n",
            "Mean absolute error on test data : 0.010979619653596609\n",
            "r2_score on train data : 0.8491340868608886\n",
            "r2_score on test data : 0.8341096479134519\n",
            "Explained variance score : 0.8392415805657765\n"
          ],
          "name": "stdout"
        },
        {
          "output_type": "display_data",
          "data": {
            "image/png": "[encoded data removed]",
            "text/plain": [
              "<Figure size 1080x648 with 1 Axes>"
            ]
          },
          "metadata": {
            "tags": [],
            "needs_background": "light"
          }
        }
      ]
    },
    {
      "cell_type": "code",
      "metadata": {
        "id": "NHb-F11wsNS6",
        "colab": {
          "base_uri": "https://localhost:8080/",
          "height": 391
        },
        "outputId": "245f235d-0b18-4024-8b36-8c1ef2abe9ae"
      },
      "source": [
        "plt.figure(figsize=(10,6))\n",
        "plt.scatter(y_test,y_pred)\n",
        "plt.plot(y_test,y_test,'r')"
      ],
      "execution_count": 240,
      "outputs": [
        {
          "output_type": "execute_result",
          "data": {
            "text/plain": [
              "[<matplotlib.lines.Line2D at 0x7f2af7234128>]"
            ]
          },
          "metadata": {
            "tags": []
          },
          "execution_count": 240
        },
        {
          "output_type": "display_data",
          "data": {
            "image/png": "[encoded data removed]",
            "text/plain": [
              "<Figure size 720x432 with 1 Axes>"
            ]
          },
          "metadata": {
            "tags": [],
            "needs_background": "light"
          }
        }
      ]
    },
    {
      "cell_type": "code",
      "metadata": {
        "id": "CGt0p1-304RP"
      },
      "source": [
        "#Both GB and NN seem to produce decent results...\n",
        "\n",
        "#Now try to use RandomizedSearchCV on GB to improve our results"
      ],
      "execution_count": 241,
      "outputs": []
    },
    {
      "cell_type": "code",
      "metadata": {
        "id": "9o4FdOOyoSXv"
      },
      "source": [
        "X_train_sample, X_test_sample, y_train_sample, y_test_sample = train_test_split(\n",
        "    X_train, y_train, test_size=0.5, random_state=42)"
      ],
      "execution_count": 242,
      "outputs": []
    },
    {
      "cell_type": "code",
      "metadata": {
        "id": "EQxd-n8foZOe"
      },
      "source": [
        "from sklearn.model_selection import RandomizedSearchCV"
      ],
      "execution_count": 243,
      "outputs": []
    },
    {
      "cell_type": "code",
      "metadata": {
        "colab": {
          "base_uri": "https://localhost:8080/"
        },
        "id": "HZJV-rDLoPDM",
        "outputId": "d784c108-f0a7-4be2-d614-efe02771af39"
      },
      "source": [
        "# define our parameter ranges\n",
        "learning_rate=[0.01]\n",
        "alpha=[0.01,0.03,0.05,0.1,0.3, 0.9]\n",
        "n_estimators=[int(x) for x in np.linspace(start = 10, stop = 500, num = 4)]\n",
        "max_depth=[int(x) for x in np.linspace(start = 3, stop = 15, num = 4)]\n",
        "max_depth.append(None)\n",
        "min_samples_split=[int(x) for x in np.linspace(start = 2, stop = 5, num = 4)]\n",
        "min_samples_leaf=[int(x) for x in np.linspace(start = 1, stop = 4, num = 4)]\n",
        "max_features=['auto', 'sqrt']\n",
        "\n",
        "# Create the random grid\n",
        "param_grid = {'learning_rate':learning_rate,\n",
        "              'alpha':alpha,\n",
        "              'n_estimators': n_estimators,\n",
        "              'max_features': max_features,\n",
        "              'max_depth': max_depth,\n",
        "              'min_samples_split': min_samples_split,\n",
        "              'min_samples_leaf': min_samples_leaf,\n",
        "             }\n",
        "\n",
        "print(param_grid)\n",
        "\n",
        "# Initialize and fit the model.\n",
        "model = GradientBoostingRegressor()\n",
        "model = RandomizedSearchCV(model, param_grid, cv=3)\n",
        "model.fit(X_train_sample, y_train_sample)\n",
        "\n",
        "# get the best parameters\n",
        "best_params = model.best_params_\n",
        "print(best_params)\n"
      ],
      "execution_count": 244,
      "outputs": [
        {
          "output_type": "stream",
          "text": [
            "{'learning_rate': [0.01], 'alpha': [0.01, 0.03, 0.05, 0.1, 0.3, 0.9], 'n_estimators': [10, 173, 336, 500], 'max_features': ['auto', 'sqrt'], 'max_depth': [3, 7, 11, 15, None], 'min_samples_split': [2, 3, 4, 5], 'min_samples_leaf': [1, 2, 3, 4]}\n"
          ],
          "name": "stdout"
        },
        {
          "output_type": "stream",
          "text": [
            "/usr/local/lib/python3.6/dist-packages/sklearn/ensemble/_gb.py:1454: DataConversionWarning: A column-vector y was passed when a 1d array was expected. Please change the shape of y to (n_samples, ), for example using ravel().\n",
            "  y = column_or_1d(y, warn=True)\n",
            "/usr/local/lib/python3.6/dist-packages/sklearn/ensemble/_gb.py:1454: DataConversionWarning: A column-vector y was passed when a 1d array was expected. Please change the shape of y to (n_samples, ), for example using ravel().\n",
            "  y = column_or_1d(y, warn=True)\n",
            "/usr/local/lib/python3.6/dist-packages/sklearn/ensemble/_gb.py:1454: DataConversionWarning: A column-vector y was passed when a 1d array was expected. Please change the shape of y to (n_samples, ), for example using ravel().\n",
            "  y = column_or_1d(y, warn=True)\n",
            "/usr/local/lib/python3.6/dist-packages/sklearn/ensemble/_gb.py:1454: DataConversionWarning: A column-vector y was passed when a 1d array was expected. Please change the shape of y to (n_samples, ), for example using ravel().\n",
            "  y = column_or_1d(y, warn=True)\n",
            "/usr/local/lib/python3.6/dist-packages/sklearn/ensemble/_gb.py:1454: DataConversionWarning: A column-vector y was passed when a 1d array was expected. Please change the shape of y to (n_samples, ), for example using ravel().\n",
            "  y = column_or_1d(y, warn=True)\n",
            "/usr/local/lib/python3.6/dist-packages/sklearn/ensemble/_gb.py:1454: DataConversionWarning: A column-vector y was passed when a 1d array was expected. Please change the shape of y to (n_samples, ), for example using ravel().\n",
            "  y = column_or_1d(y, warn=True)\n",
            "/usr/local/lib/python3.6/dist-packages/sklearn/ensemble/_gb.py:1454: DataConversionWarning: A column-vector y was passed when a 1d array was expected. Please change the shape of y to (n_samples, ), for example using ravel().\n",
            "  y = column_or_1d(y, warn=True)\n",
            "/usr/local/lib/python3.6/dist-packages/sklearn/ensemble/_gb.py:1454: DataConversionWarning: A column-vector y was passed when a 1d array was expected. Please change the shape of y to (n_samples, ), for example using ravel().\n",
            "  y = column_or_1d(y, warn=True)\n",
            "/usr/local/lib/python3.6/dist-packages/sklearn/ensemble/_gb.py:1454: DataConversionWarning: A column-vector y was passed when a 1d array was expected. Please change the shape of y to (n_samples, ), for example using ravel().\n",
            "  y = column_or_1d(y, warn=True)\n",
            "/usr/local/lib/python3.6/dist-packages/sklearn/ensemble/_gb.py:1454: DataConversionWarning: A column-vector y was passed when a 1d array was expected. Please change the shape of y to (n_samples, ), for example using ravel().\n",
            "  y = column_or_1d(y, warn=True)\n",
            "/usr/local/lib/python3.6/dist-packages/sklearn/ensemble/_gb.py:1454: DataConversionWarning: A column-vector y was passed when a 1d array was expected. Please change the shape of y to (n_samples, ), for example using ravel().\n",
            "  y = column_or_1d(y, warn=True)\n",
            "/usr/local/lib/python3.6/dist-packages/sklearn/ensemble/_gb.py:1454: DataConversionWarning: A column-vector y was passed when a 1d array was expected. Please change the shape of y to (n_samples, ), for example using ravel().\n",
            "  y = column_or_1d(y, warn=True)\n",
            "/usr/local/lib/python3.6/dist-packages/sklearn/ensemble/_gb.py:1454: DataConversionWarning: A column-vector y was passed when a 1d array was expected. Please change the shape of y to (n_samples, ), for example using ravel().\n",
            "  y = column_or_1d(y, warn=True)\n",
            "/usr/local/lib/python3.6/dist-packages/sklearn/ensemble/_gb.py:1454: DataConversionWarning: A column-vector y was passed when a 1d array was expected. Please change the shape of y to (n_samples, ), for example using ravel().\n",
            "  y = column_or_1d(y, warn=True)\n",
            "/usr/local/lib/python3.6/dist-packages/sklearn/ensemble/_gb.py:1454: DataConversionWarning: A column-vector y was passed when a 1d array was expected. Please change the shape of y to (n_samples, ), for example using ravel().\n",
            "  y = column_or_1d(y, warn=True)\n",
            "/usr/local/lib/python3.6/dist-packages/sklearn/ensemble/_gb.py:1454: DataConversionWarning: A column-vector y was passed when a 1d array was expected. Please change the shape of y to (n_samples, ), for example using ravel().\n",
            "  y = column_or_1d(y, warn=True)\n",
            "/usr/local/lib/python3.6/dist-packages/sklearn/ensemble/_gb.py:1454: DataConversionWarning: A column-vector y was passed when a 1d array was expected. Please change the shape of y to (n_samples, ), for example using ravel().\n",
            "  y = column_or_1d(y, warn=True)\n",
            "/usr/local/lib/python3.6/dist-packages/sklearn/ensemble/_gb.py:1454: DataConversionWarning: A column-vector y was passed when a 1d array was expected. Please change the shape of y to (n_samples, ), for example using ravel().\n",
            "  y = column_or_1d(y, warn=True)\n",
            "/usr/local/lib/python3.6/dist-packages/sklearn/ensemble/_gb.py:1454: DataConversionWarning: A column-vector y was passed when a 1d array was expected. Please change the shape of y to (n_samples, ), for example using ravel().\n",
            "  y = column_or_1d(y, warn=True)\n",
            "/usr/local/lib/python3.6/dist-packages/sklearn/ensemble/_gb.py:1454: DataConversionWarning: A column-vector y was passed when a 1d array was expected. Please change the shape of y to (n_samples, ), for example using ravel().\n",
            "  y = column_or_1d(y, warn=True)\n",
            "/usr/local/lib/python3.6/dist-packages/sklearn/ensemble/_gb.py:1454: DataConversionWarning: A column-vector y was passed when a 1d array was expected. Please change the shape of y to (n_samples, ), for example using ravel().\n",
            "  y = column_or_1d(y, warn=True)\n",
            "/usr/local/lib/python3.6/dist-packages/sklearn/ensemble/_gb.py:1454: DataConversionWarning: A column-vector y was passed when a 1d array was expected. Please change the shape of y to (n_samples, ), for example using ravel().\n",
            "  y = column_or_1d(y, warn=True)\n",
            "/usr/local/lib/python3.6/dist-packages/sklearn/ensemble/_gb.py:1454: DataConversionWarning: A column-vector y was passed when a 1d array was expected. Please change the shape of y to (n_samples, ), for example using ravel().\n",
            "  y = column_or_1d(y, warn=True)\n",
            "/usr/local/lib/python3.6/dist-packages/sklearn/ensemble/_gb.py:1454: DataConversionWarning: A column-vector y was passed when a 1d array was expected. Please change the shape of y to (n_samples, ), for example using ravel().\n",
            "  y = column_or_1d(y, warn=True)\n",
            "/usr/local/lib/python3.6/dist-packages/sklearn/ensemble/_gb.py:1454: DataConversionWarning: A column-vector y was passed when a 1d array was expected. Please change the shape of y to (n_samples, ), for example using ravel().\n",
            "  y = column_or_1d(y, warn=True)\n",
            "/usr/local/lib/python3.6/dist-packages/sklearn/ensemble/_gb.py:1454: DataConversionWarning: A column-vector y was passed when a 1d array was expected. Please change the shape of y to (n_samples, ), for example using ravel().\n",
            "  y = column_or_1d(y, warn=True)\n",
            "/usr/local/lib/python3.6/dist-packages/sklearn/ensemble/_gb.py:1454: DataConversionWarning: A column-vector y was passed when a 1d array was expected. Please change the shape of y to (n_samples, ), for example using ravel().\n",
            "  y = column_or_1d(y, warn=True)\n",
            "/usr/local/lib/python3.6/dist-packages/sklearn/ensemble/_gb.py:1454: DataConversionWarning: A column-vector y was passed when a 1d array was expected. Please change the shape of y to (n_samples, ), for example using ravel().\n",
            "  y = column_or_1d(y, warn=True)\n",
            "/usr/local/lib/python3.6/dist-packages/sklearn/ensemble/_gb.py:1454: DataConversionWarning: A column-vector y was passed when a 1d array was expected. Please change the shape of y to (n_samples, ), for example using ravel().\n",
            "  y = column_or_1d(y, warn=True)\n",
            "/usr/local/lib/python3.6/dist-packages/sklearn/ensemble/_gb.py:1454: DataConversionWarning: A column-vector y was passed when a 1d array was expected. Please change the shape of y to (n_samples, ), for example using ravel().\n",
            "  y = column_or_1d(y, warn=True)\n",
            "/usr/local/lib/python3.6/dist-packages/sklearn/ensemble/_gb.py:1454: DataConversionWarning: A column-vector y was passed when a 1d array was expected. Please change the shape of y to (n_samples, ), for example using ravel().\n",
            "  y = column_or_1d(y, warn=True)\n"
          ],
          "name": "stderr"
        },
        {
          "output_type": "stream",
          "text": [
            "{'n_estimators': 336, 'min_samples_split': 2, 'min_samples_leaf': 4, 'max_features': 'sqrt', 'max_depth': 15, 'learning_rate': 0.01, 'alpha': 0.3}\n"
          ],
          "name": "stdout"
        }
      ]
    },
    {
      "cell_type": "code",
      "metadata": {
        "colab": {
          "base_uri": "https://localhost:8080/"
        },
        "id": "JYAEfBr2oWWw",
        "outputId": "2830a9d8-5ec1-4f72-eaf7-12941cb93cf1"
      },
      "source": [
        "model_best = GradientBoostingRegressor(**best_params)\n",
        "model_best.fit(X_train, y_train)\n",
        "y_pred = model_best.predict(X_test)"
      ],
      "execution_count": 245,
      "outputs": [
        {
          "output_type": "stream",
          "text": [
            "/usr/local/lib/python3.6/dist-packages/sklearn/ensemble/_gb.py:1454: DataConversionWarning: A column-vector y was passed when a 1d array was expected. Please change the shape of y to (n_samples, ), for example using ravel().\n",
            "  y = column_or_1d(y, warn=True)\n"
          ],
          "name": "stderr"
        }
      ]
    },
    {
      "cell_type": "code",
      "metadata": {
        "id": "hYnINMKbo9d5"
      },
      "source": [
        "feature_importance = model_best.feature_importances_\n",
        "\n",
        "# Make importances relative to max importance.\n",
        "feature_importance = 100.0 * (feature_importance / feature_importance.max())\n",
        "sorted_idx = np.argsort(feature_importance)\n",
        "pos = np.arange(sorted_idx.shape[0]) + 0.5\n",
        "\n",
        "top_features = np.where(feature_importance > 20)\n",
        "top_features = df.columns[top_features].ravel()"
      ],
      "execution_count": 246,
      "outputs": []
    },
    {
      "cell_type": "code",
      "metadata": {
        "colab": {
          "base_uri": "https://localhost:8080/"
        },
        "id": "1CTBUNGxpA32",
        "outputId": "78c70789-36ac-4d00-ce53-2397613b5a5a"
      },
      "source": [
        "# Display.\n",
        "print('Optimized Gradient Boosting Regressor')\n",
        "print('\\nR-squared training set:')\n",
        "print(model_best.score(X_train, y_train))\n",
        "print('\\nMean absolute error training set: ')\n",
        "print(mean_absolute_error(y_train, model_best.predict(X_train)))\n",
        "print('\\nMean squared error training set: ')\n",
        "print(mean_squared_error(y_train, model_best.predict(X_train)))\n",
        "\n",
        "print('\\n\\nR-squared test set:')\n",
        "print(model_best.score(X_test, y_test))\n",
        "print('\\nMean absolute error test set: ')\n",
        "print(mean_absolute_error(y_test, y_pred))\n",
        "print('\\nMean squared error test set: ')\n",
        "print(mean_squared_error(y_test, y_pred))\n",
        "\n",
        "# top features\n",
        "print('\\nTop indicators:')\n",
        "print(top_features)"
      ],
      "execution_count": 247,
      "outputs": [
        {
          "output_type": "stream",
          "text": [
            "Optimized Gradient Boosting Regressor\n",
            "\n",
            "R-squared training set:\n",
            "0.9835681180256376\n",
            "\n",
            "Mean absolute error training set: \n",
            "0.04730239646589491\n",
            "\n",
            "Mean squared error training set: \n",
            "0.004008989339591856\n",
            "\n",
            "\n",
            "R-squared test set:\n",
            "0.8844335530252816\n",
            "\n",
            "Mean absolute error test set: \n",
            "0.12455126796710389\n",
            "\n",
            "Mean squared error test set: \n",
            "0.027023776125479147\n",
            "\n",
            "Top indicators:\n",
            "['Rooms' 'Price' 'Distance' 'Bedroom2' 'Car' 'Landsize' 'BuildingArea'\n",
            " 'YearBuilt' 'Lattitude' 't' 'South-Eastern Metropolitan']\n"
          ],
          "name": "stdout"
        }
      ]
    },
    {
      "cell_type": "code",
      "metadata": {
        "id": "9aX3g1KKpZjA"
      },
      "source": [
        "#Good results overall..."
      ],
      "execution_count": 248,
      "outputs": []
    }
  ]
}